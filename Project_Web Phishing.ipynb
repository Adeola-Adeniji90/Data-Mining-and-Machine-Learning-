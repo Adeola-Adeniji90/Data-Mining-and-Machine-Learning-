{
 "cells": [
  {
   "cell_type": "code",
   "execution_count": 1,
   "id": "fd03c44d-532e-4e1b-9906-d0bb0807a5fb",
   "metadata": {},
   "outputs": [
    {
     "name": "stderr",
     "output_type": "stream",
     "text": [
      "Installing package into 'C:/Users/Dee/AppData/Local/R/win-library/4.3'\n",
      "(as 'lib' is unspecified)\n",
      "\n"
     ]
    },
    {
     "name": "stdout",
     "output_type": "stream",
     "text": [
      "package 'randomForest' successfully unpacked and MD5 sums checked\n"
     ]
    },
    {
     "name": "stderr",
     "output_type": "stream",
     "text": [
      "Warning message:\n",
      "\"cannot remove prior installation of package 'randomForest'\"\n",
      "Warning message in file.copy(savedcopy, lib, recursive = TRUE):\n",
      "\"problem copying C:\\Users\\Dee\\AppData\\Local\\R\\win-library\\4.3\\00LOCK\\randomForest\\libs\\x64\\randomForest.dll to C:\\Users\\Dee\\AppData\\Local\\R\\win-library\\4.3\\randomForest\\libs\\x64\\randomForest.dll: Permission denied\"\n",
      "Warning message:\n",
      "\"restored 'randomForest'\"\n"
     ]
    },
    {
     "name": "stdout",
     "output_type": "stream",
     "text": [
      "\n",
      "The downloaded binary packages are in\n",
      "\tC:\\Users\\Dee\\AppData\\Local\\Temp\\Rtmpu8qVHg\\downloaded_packages\n"
     ]
    },
    {
     "name": "stderr",
     "output_type": "stream",
     "text": [
      "Installing package into 'C:/Users/Dee/AppData/Local/R/win-library/4.3'\n",
      "(as 'lib' is unspecified)\n",
      "\n"
     ]
    },
    {
     "name": "stdout",
     "output_type": "stream",
     "text": [
      "package 'ranger' successfully unpacked and MD5 sums checked\n"
     ]
    },
    {
     "name": "stderr",
     "output_type": "stream",
     "text": [
      "Warning message:\n",
      "\"cannot remove prior installation of package 'ranger'\"\n",
      "Warning message in file.copy(savedcopy, lib, recursive = TRUE):\n",
      "\"problem copying C:\\Users\\Dee\\AppData\\Local\\R\\win-library\\4.3\\00LOCK\\ranger\\libs\\x64\\ranger.dll to C:\\Users\\Dee\\AppData\\Local\\R\\win-library\\4.3\\ranger\\libs\\x64\\ranger.dll: Permission denied\"\n",
      "Warning message:\n",
      "\"restored 'ranger'\"\n"
     ]
    },
    {
     "name": "stdout",
     "output_type": "stream",
     "text": [
      "\n",
      "The downloaded binary packages are in\n",
      "\tC:\\Users\\Dee\\AppData\\Local\\Temp\\Rtmpu8qVHg\\downloaded_packages\n"
     ]
    },
    {
     "name": "stderr",
     "output_type": "stream",
     "text": [
      "Installing package into 'C:/Users/Dee/AppData/Local/R/win-library/4.3'\n",
      "(as 'lib' is unspecified)\n",
      "\n"
     ]
    },
    {
     "name": "stdout",
     "output_type": "stream",
     "text": [
      "package 'e1071' successfully unpacked and MD5 sums checked\n"
     ]
    },
    {
     "name": "stderr",
     "output_type": "stream",
     "text": [
      "Warning message:\n",
      "\"cannot remove prior installation of package 'e1071'\"\n",
      "Warning message in file.copy(savedcopy, lib, recursive = TRUE):\n",
      "\"problem copying C:\\Users\\Dee\\AppData\\Local\\R\\win-library\\4.3\\00LOCK\\e1071\\libs\\x64\\e1071.dll to C:\\Users\\Dee\\AppData\\Local\\R\\win-library\\4.3\\e1071\\libs\\x64\\e1071.dll: Permission denied\"\n",
      "Warning message:\n",
      "\"restored 'e1071'\"\n"
     ]
    },
    {
     "name": "stdout",
     "output_type": "stream",
     "text": [
      "\n",
      "The downloaded binary packages are in\n",
      "\tC:\\Users\\Dee\\AppData\\Local\\Temp\\Rtmpu8qVHg\\downloaded_packages\n"
     ]
    },
    {
     "name": "stderr",
     "output_type": "stream",
     "text": [
      "Installing package into 'C:/Users/Dee/AppData/Local/R/win-library/4.3'\n",
      "(as 'lib' is unspecified)\n",
      "\n"
     ]
    },
    {
     "name": "stdout",
     "output_type": "stream",
     "text": [
      "package 'kernlab' successfully unpacked and MD5 sums checked\n"
     ]
    },
    {
     "name": "stderr",
     "output_type": "stream",
     "text": [
      "Warning message:\n",
      "\"cannot remove prior installation of package 'kernlab'\"\n",
      "Warning message in file.copy(savedcopy, lib, recursive = TRUE):\n",
      "\"problem copying C:\\Users\\Dee\\AppData\\Local\\R\\win-library\\4.3\\00LOCK\\kernlab\\libs\\x64\\kernlab.dll to C:\\Users\\Dee\\AppData\\Local\\R\\win-library\\4.3\\kernlab\\libs\\x64\\kernlab.dll: Permission denied\"\n",
      "Warning message:\n",
      "\"restored 'kernlab'\"\n"
     ]
    },
    {
     "name": "stdout",
     "output_type": "stream",
     "text": [
      "\n",
      "The downloaded binary packages are in\n",
      "\tC:\\Users\\Dee\\AppData\\Local\\Temp\\Rtmpu8qVHg\\downloaded_packages\n"
     ]
    },
    {
     "name": "stderr",
     "output_type": "stream",
     "text": [
      "Warning message:\n",
      "\"package 'dplyr' was built under R version 4.3.3\"\n",
      "\n",
      "Attaching package: 'dplyr'\n",
      "\n",
      "\n",
      "The following objects are masked from 'package:stats':\n",
      "\n",
      "    filter, lag\n",
      "\n",
      "\n",
      "The following objects are masked from 'package:base':\n",
      "\n",
      "    intersect, setdiff, setequal, union\n",
      "\n",
      "\n",
      "Warning message:\n",
      "\"package 'ggplot2' was built under R version 4.3.3\"\n",
      "Warning message:\n",
      "\"package 'caret' was built under R version 4.3.3\"\n",
      "Loading required package: lattice\n",
      "\n",
      "Warning message:\n",
      "\"package 'randomForest' was built under R version 4.3.3\"\n",
      "randomForest 4.7-1.1\n",
      "\n",
      "Type rfNews() to see new features/changes/bug fixes.\n",
      "\n",
      "\n",
      "Attaching package: 'randomForest'\n",
      "\n",
      "\n",
      "The following object is masked from 'package:ggplot2':\n",
      "\n",
      "    margin\n",
      "\n",
      "\n",
      "The following object is masked from 'package:dplyr':\n",
      "\n",
      "    combine\n",
      "\n",
      "\n",
      "Warning message:\n",
      "\"package 'ranger' was built under R version 4.3.3\"\n",
      "\n",
      "Attaching package: 'ranger'\n",
      "\n",
      "\n",
      "The following object is masked from 'package:randomForest':\n",
      "\n",
      "    importance\n",
      "\n",
      "\n",
      "Warning message:\n",
      "\"package 'e1071' was built under R version 4.3.3\"\n",
      "\n",
      "Attaching package: 'kernlab'\n",
      "\n",
      "\n",
      "The following object is masked from 'package:ggplot2':\n",
      "\n",
      "    alpha\n",
      "\n",
      "\n"
     ]
    }
   ],
   "source": [
    "# Install and load packages\n",
    "install.packages(\"randomForest\")\n",
    "install.packages(\"ranger\")\n",
    "install.packages(\"e1071\")\n",
    "install.packages(\"kernlab\")\n",
    "\n",
    "# Install and Liberies\n",
    "library(dplyr)\n",
    "library(ggplot2)\n",
    "library(caret)\n",
    "library(randomForest)\n",
    "library(ranger)\n",
    "library(e1071)\n",
    "library(kernlab)"
   ]
  },
  {
   "cell_type": "markdown",
   "id": "07225249-c1c5-40f2-bedd-c943140474c0",
   "metadata": {},
   "source": [
    "# **DATA COLLECTION**"
   ]
  },
  {
   "cell_type": "code",
   "execution_count": 2,
   "id": "225a32dc-3830-4820-9815-635b8259a92a",
   "metadata": {},
   "outputs": [],
   "source": [
    "# SECOND DATASET (WEB PAGE PHISHING DATA) -Data Collection and description \n",
    "\n",
    "web_page_phishing <- read.csv(\"webpagephishing.csv\") # Load the dataset into the environment.\n"
   ]
  },
  {
   "cell_type": "code",
   "execution_count": 3,
   "id": "af8ee907-f1a6-4a9d-b616-fdfdc59f0762",
   "metadata": {},
   "outputs": [
    {
     "data": {
      "text/html": [
       "<table class=\"dataframe\">\n",
       "<caption>A data.frame: 6 × 20</caption>\n",
       "<thead>\n",
       "\t<tr><th></th><th scope=col>url_length</th><th scope=col>n_dots</th><th scope=col>n_hypens</th><th scope=col>n_underline</th><th scope=col>n_slash</th><th scope=col>n_questionmark</th><th scope=col>n_equal</th><th scope=col>n_at</th><th scope=col>n_and</th><th scope=col>n_exclamation</th><th scope=col>n_space</th><th scope=col>n_tilde</th><th scope=col>n_comma</th><th scope=col>n_plus</th><th scope=col>n_asterisk</th><th scope=col>n_hastag</th><th scope=col>n_dollar</th><th scope=col>n_percent</th><th scope=col>n_redirection</th><th scope=col>phishing</th></tr>\n",
       "\t<tr><th></th><th scope=col>&lt;int&gt;</th><th scope=col>&lt;int&gt;</th><th scope=col>&lt;int&gt;</th><th scope=col>&lt;int&gt;</th><th scope=col>&lt;int&gt;</th><th scope=col>&lt;int&gt;</th><th scope=col>&lt;int&gt;</th><th scope=col>&lt;int&gt;</th><th scope=col>&lt;int&gt;</th><th scope=col>&lt;int&gt;</th><th scope=col>&lt;int&gt;</th><th scope=col>&lt;int&gt;</th><th scope=col>&lt;int&gt;</th><th scope=col>&lt;int&gt;</th><th scope=col>&lt;int&gt;</th><th scope=col>&lt;int&gt;</th><th scope=col>&lt;int&gt;</th><th scope=col>&lt;int&gt;</th><th scope=col>&lt;int&gt;</th><th scope=col>&lt;int&gt;</th></tr>\n",
       "</thead>\n",
       "<tbody>\n",
       "\t<tr><th scope=row>1</th><td> 37</td><td>3</td><td>0</td><td>0</td><td>0</td><td>0</td><td>0</td><td>0</td><td>0</td><td>0</td><td>0</td><td>0</td><td>0</td><td>0</td><td>0</td><td>0</td><td>0</td><td>0</td><td>0</td><td>0</td></tr>\n",
       "\t<tr><th scope=row>2</th><td> 77</td><td>1</td><td>0</td><td>0</td><td>0</td><td>0</td><td>0</td><td>0</td><td>0</td><td>0</td><td>0</td><td>0</td><td>0</td><td>0</td><td>0</td><td>0</td><td>0</td><td>0</td><td>1</td><td>1</td></tr>\n",
       "\t<tr><th scope=row>3</th><td>126</td><td>4</td><td>1</td><td>2</td><td>0</td><td>1</td><td>3</td><td>0</td><td>2</td><td>0</td><td>0</td><td>0</td><td>0</td><td>0</td><td>0</td><td>0</td><td>0</td><td>0</td><td>1</td><td>1</td></tr>\n",
       "\t<tr><th scope=row>4</th><td> 18</td><td>2</td><td>0</td><td>0</td><td>0</td><td>0</td><td>0</td><td>0</td><td>0</td><td>0</td><td>0</td><td>0</td><td>0</td><td>0</td><td>0</td><td>0</td><td>0</td><td>0</td><td>1</td><td>0</td></tr>\n",
       "\t<tr><th scope=row>5</th><td> 55</td><td>2</td><td>2</td><td>0</td><td>0</td><td>0</td><td>0</td><td>0</td><td>0</td><td>0</td><td>0</td><td>0</td><td>0</td><td>0</td><td>0</td><td>0</td><td>0</td><td>0</td><td>1</td><td>0</td></tr>\n",
       "\t<tr><th scope=row>6</th><td> 32</td><td>3</td><td>1</td><td>0</td><td>0</td><td>0</td><td>0</td><td>0</td><td>0</td><td>0</td><td>0</td><td>0</td><td>0</td><td>0</td><td>0</td><td>0</td><td>0</td><td>0</td><td>1</td><td>1</td></tr>\n",
       "</tbody>\n",
       "</table>\n"
      ],
      "text/latex": [
       "A data.frame: 6 × 20\n",
       "\\begin{tabular}{r|llllllllllllllllllll}\n",
       "  & url\\_length & n\\_dots & n\\_hypens & n\\_underline & n\\_slash & n\\_questionmark & n\\_equal & n\\_at & n\\_and & n\\_exclamation & n\\_space & n\\_tilde & n\\_comma & n\\_plus & n\\_asterisk & n\\_hastag & n\\_dollar & n\\_percent & n\\_redirection & phishing\\\\\n",
       "  & <int> & <int> & <int> & <int> & <int> & <int> & <int> & <int> & <int> & <int> & <int> & <int> & <int> & <int> & <int> & <int> & <int> & <int> & <int> & <int>\\\\\n",
       "\\hline\n",
       "\t1 &  37 & 3 & 0 & 0 & 0 & 0 & 0 & 0 & 0 & 0 & 0 & 0 & 0 & 0 & 0 & 0 & 0 & 0 & 0 & 0\\\\\n",
       "\t2 &  77 & 1 & 0 & 0 & 0 & 0 & 0 & 0 & 0 & 0 & 0 & 0 & 0 & 0 & 0 & 0 & 0 & 0 & 1 & 1\\\\\n",
       "\t3 & 126 & 4 & 1 & 2 & 0 & 1 & 3 & 0 & 2 & 0 & 0 & 0 & 0 & 0 & 0 & 0 & 0 & 0 & 1 & 1\\\\\n",
       "\t4 &  18 & 2 & 0 & 0 & 0 & 0 & 0 & 0 & 0 & 0 & 0 & 0 & 0 & 0 & 0 & 0 & 0 & 0 & 1 & 0\\\\\n",
       "\t5 &  55 & 2 & 2 & 0 & 0 & 0 & 0 & 0 & 0 & 0 & 0 & 0 & 0 & 0 & 0 & 0 & 0 & 0 & 1 & 0\\\\\n",
       "\t6 &  32 & 3 & 1 & 0 & 0 & 0 & 0 & 0 & 0 & 0 & 0 & 0 & 0 & 0 & 0 & 0 & 0 & 0 & 1 & 1\\\\\n",
       "\\end{tabular}\n"
      ],
      "text/markdown": [
       "\n",
       "A data.frame: 6 × 20\n",
       "\n",
       "| <!--/--> | url_length &lt;int&gt; | n_dots &lt;int&gt; | n_hypens &lt;int&gt; | n_underline &lt;int&gt; | n_slash &lt;int&gt; | n_questionmark &lt;int&gt; | n_equal &lt;int&gt; | n_at &lt;int&gt; | n_and &lt;int&gt; | n_exclamation &lt;int&gt; | n_space &lt;int&gt; | n_tilde &lt;int&gt; | n_comma &lt;int&gt; | n_plus &lt;int&gt; | n_asterisk &lt;int&gt; | n_hastag &lt;int&gt; | n_dollar &lt;int&gt; | n_percent &lt;int&gt; | n_redirection &lt;int&gt; | phishing &lt;int&gt; |\n",
       "|---|---|---|---|---|---|---|---|---|---|---|---|---|---|---|---|---|---|---|---|---|\n",
       "| 1 |  37 | 3 | 0 | 0 | 0 | 0 | 0 | 0 | 0 | 0 | 0 | 0 | 0 | 0 | 0 | 0 | 0 | 0 | 0 | 0 |\n",
       "| 2 |  77 | 1 | 0 | 0 | 0 | 0 | 0 | 0 | 0 | 0 | 0 | 0 | 0 | 0 | 0 | 0 | 0 | 0 | 1 | 1 |\n",
       "| 3 | 126 | 4 | 1 | 2 | 0 | 1 | 3 | 0 | 2 | 0 | 0 | 0 | 0 | 0 | 0 | 0 | 0 | 0 | 1 | 1 |\n",
       "| 4 |  18 | 2 | 0 | 0 | 0 | 0 | 0 | 0 | 0 | 0 | 0 | 0 | 0 | 0 | 0 | 0 | 0 | 0 | 1 | 0 |\n",
       "| 5 |  55 | 2 | 2 | 0 | 0 | 0 | 0 | 0 | 0 | 0 | 0 | 0 | 0 | 0 | 0 | 0 | 0 | 0 | 1 | 0 |\n",
       "| 6 |  32 | 3 | 1 | 0 | 0 | 0 | 0 | 0 | 0 | 0 | 0 | 0 | 0 | 0 | 0 | 0 | 0 | 0 | 1 | 1 |\n",
       "\n"
      ],
      "text/plain": [
       "  url_length n_dots n_hypens n_underline n_slash n_questionmark n_equal n_at\n",
       "1  37        3      0        0           0       0              0       0   \n",
       "2  77        1      0        0           0       0              0       0   \n",
       "3 126        4      1        2           0       1              3       0   \n",
       "4  18        2      0        0           0       0              0       0   \n",
       "5  55        2      2        0           0       0              0       0   \n",
       "6  32        3      1        0           0       0              0       0   \n",
       "  n_and n_exclamation n_space n_tilde n_comma n_plus n_asterisk n_hastag\n",
       "1 0     0             0       0       0       0      0          0       \n",
       "2 0     0             0       0       0       0      0          0       \n",
       "3 2     0             0       0       0       0      0          0       \n",
       "4 0     0             0       0       0       0      0          0       \n",
       "5 0     0             0       0       0       0      0          0       \n",
       "6 0     0             0       0       0       0      0          0       \n",
       "  n_dollar n_percent n_redirection phishing\n",
       "1 0        0         0             0       \n",
       "2 0        0         1             1       \n",
       "3 0        0         1             1       \n",
       "4 0        0         1             0       \n",
       "5 0        0         1             0       \n",
       "6 0        0         1             1       "
      ]
     },
     "metadata": {},
     "output_type": "display_data"
    },
    {
     "data": {
      "text/html": [
       "<table class=\"dataframe\">\n",
       "<caption>A data.frame: 6 × 20</caption>\n",
       "<thead>\n",
       "\t<tr><th></th><th scope=col>url_length</th><th scope=col>n_dots</th><th scope=col>n_hypens</th><th scope=col>n_underline</th><th scope=col>n_slash</th><th scope=col>n_questionmark</th><th scope=col>n_equal</th><th scope=col>n_at</th><th scope=col>n_and</th><th scope=col>n_exclamation</th><th scope=col>n_space</th><th scope=col>n_tilde</th><th scope=col>n_comma</th><th scope=col>n_plus</th><th scope=col>n_asterisk</th><th scope=col>n_hastag</th><th scope=col>n_dollar</th><th scope=col>n_percent</th><th scope=col>n_redirection</th><th scope=col>phishing</th></tr>\n",
       "\t<tr><th></th><th scope=col>&lt;int&gt;</th><th scope=col>&lt;int&gt;</th><th scope=col>&lt;int&gt;</th><th scope=col>&lt;int&gt;</th><th scope=col>&lt;int&gt;</th><th scope=col>&lt;int&gt;</th><th scope=col>&lt;int&gt;</th><th scope=col>&lt;int&gt;</th><th scope=col>&lt;int&gt;</th><th scope=col>&lt;int&gt;</th><th scope=col>&lt;int&gt;</th><th scope=col>&lt;int&gt;</th><th scope=col>&lt;int&gt;</th><th scope=col>&lt;int&gt;</th><th scope=col>&lt;int&gt;</th><th scope=col>&lt;int&gt;</th><th scope=col>&lt;int&gt;</th><th scope=col>&lt;int&gt;</th><th scope=col>&lt;int&gt;</th><th scope=col>&lt;int&gt;</th></tr>\n",
       "</thead>\n",
       "<tbody>\n",
       "\t<tr><th scope=row>100072</th><td>20</td><td>2</td><td>1</td><td>0</td><td>0</td><td>0</td><td>0</td><td>0</td><td>0</td><td>0</td><td>0</td><td>0</td><td>0</td><td>0</td><td>0</td><td>0</td><td>0</td><td>0</td><td>2</td><td>0</td></tr>\n",
       "\t<tr><th scope=row>100073</th><td>23</td><td>3</td><td>1</td><td>0</td><td>0</td><td>0</td><td>0</td><td>0</td><td>0</td><td>0</td><td>0</td><td>0</td><td>0</td><td>0</td><td>0</td><td>0</td><td>0</td><td>0</td><td>0</td><td>0</td></tr>\n",
       "\t<tr><th scope=row>100074</th><td>34</td><td>2</td><td>0</td><td>0</td><td>0</td><td>0</td><td>0</td><td>0</td><td>0</td><td>0</td><td>0</td><td>0</td><td>0</td><td>0</td><td>0</td><td>0</td><td>0</td><td>0</td><td>2</td><td>0</td></tr>\n",
       "\t<tr><th scope=row>100075</th><td>70</td><td>2</td><td>1</td><td>0</td><td>5</td><td>0</td><td>0</td><td>0</td><td>0</td><td>0</td><td>0</td><td>0</td><td>0</td><td>0</td><td>0</td><td>0</td><td>0</td><td>0</td><td>0</td><td>1</td></tr>\n",
       "\t<tr><th scope=row>100076</th><td>28</td><td>2</td><td>0</td><td>0</td><td>1</td><td>0</td><td>0</td><td>0</td><td>0</td><td>0</td><td>0</td><td>0</td><td>0</td><td>0</td><td>0</td><td>0</td><td>0</td><td>0</td><td>0</td><td>1</td></tr>\n",
       "\t<tr><th scope=row>100077</th><td>16</td><td>2</td><td>0</td><td>0</td><td>0</td><td>0</td><td>0</td><td>0</td><td>0</td><td>0</td><td>0</td><td>0</td><td>0</td><td>0</td><td>0</td><td>0</td><td>0</td><td>0</td><td>0</td><td>0</td></tr>\n",
       "</tbody>\n",
       "</table>\n"
      ],
      "text/latex": [
       "A data.frame: 6 × 20\n",
       "\\begin{tabular}{r|llllllllllllllllllll}\n",
       "  & url\\_length & n\\_dots & n\\_hypens & n\\_underline & n\\_slash & n\\_questionmark & n\\_equal & n\\_at & n\\_and & n\\_exclamation & n\\_space & n\\_tilde & n\\_comma & n\\_plus & n\\_asterisk & n\\_hastag & n\\_dollar & n\\_percent & n\\_redirection & phishing\\\\\n",
       "  & <int> & <int> & <int> & <int> & <int> & <int> & <int> & <int> & <int> & <int> & <int> & <int> & <int> & <int> & <int> & <int> & <int> & <int> & <int> & <int>\\\\\n",
       "\\hline\n",
       "\t100072 & 20 & 2 & 1 & 0 & 0 & 0 & 0 & 0 & 0 & 0 & 0 & 0 & 0 & 0 & 0 & 0 & 0 & 0 & 2 & 0\\\\\n",
       "\t100073 & 23 & 3 & 1 & 0 & 0 & 0 & 0 & 0 & 0 & 0 & 0 & 0 & 0 & 0 & 0 & 0 & 0 & 0 & 0 & 0\\\\\n",
       "\t100074 & 34 & 2 & 0 & 0 & 0 & 0 & 0 & 0 & 0 & 0 & 0 & 0 & 0 & 0 & 0 & 0 & 0 & 0 & 2 & 0\\\\\n",
       "\t100075 & 70 & 2 & 1 & 0 & 5 & 0 & 0 & 0 & 0 & 0 & 0 & 0 & 0 & 0 & 0 & 0 & 0 & 0 & 0 & 1\\\\\n",
       "\t100076 & 28 & 2 & 0 & 0 & 1 & 0 & 0 & 0 & 0 & 0 & 0 & 0 & 0 & 0 & 0 & 0 & 0 & 0 & 0 & 1\\\\\n",
       "\t100077 & 16 & 2 & 0 & 0 & 0 & 0 & 0 & 0 & 0 & 0 & 0 & 0 & 0 & 0 & 0 & 0 & 0 & 0 & 0 & 0\\\\\n",
       "\\end{tabular}\n"
      ],
      "text/markdown": [
       "\n",
       "A data.frame: 6 × 20\n",
       "\n",
       "| <!--/--> | url_length &lt;int&gt; | n_dots &lt;int&gt; | n_hypens &lt;int&gt; | n_underline &lt;int&gt; | n_slash &lt;int&gt; | n_questionmark &lt;int&gt; | n_equal &lt;int&gt; | n_at &lt;int&gt; | n_and &lt;int&gt; | n_exclamation &lt;int&gt; | n_space &lt;int&gt; | n_tilde &lt;int&gt; | n_comma &lt;int&gt; | n_plus &lt;int&gt; | n_asterisk &lt;int&gt; | n_hastag &lt;int&gt; | n_dollar &lt;int&gt; | n_percent &lt;int&gt; | n_redirection &lt;int&gt; | phishing &lt;int&gt; |\n",
       "|---|---|---|---|---|---|---|---|---|---|---|---|---|---|---|---|---|---|---|---|---|\n",
       "| 100072 | 20 | 2 | 1 | 0 | 0 | 0 | 0 | 0 | 0 | 0 | 0 | 0 | 0 | 0 | 0 | 0 | 0 | 0 | 2 | 0 |\n",
       "| 100073 | 23 | 3 | 1 | 0 | 0 | 0 | 0 | 0 | 0 | 0 | 0 | 0 | 0 | 0 | 0 | 0 | 0 | 0 | 0 | 0 |\n",
       "| 100074 | 34 | 2 | 0 | 0 | 0 | 0 | 0 | 0 | 0 | 0 | 0 | 0 | 0 | 0 | 0 | 0 | 0 | 0 | 2 | 0 |\n",
       "| 100075 | 70 | 2 | 1 | 0 | 5 | 0 | 0 | 0 | 0 | 0 | 0 | 0 | 0 | 0 | 0 | 0 | 0 | 0 | 0 | 1 |\n",
       "| 100076 | 28 | 2 | 0 | 0 | 1 | 0 | 0 | 0 | 0 | 0 | 0 | 0 | 0 | 0 | 0 | 0 | 0 | 0 | 0 | 1 |\n",
       "| 100077 | 16 | 2 | 0 | 0 | 0 | 0 | 0 | 0 | 0 | 0 | 0 | 0 | 0 | 0 | 0 | 0 | 0 | 0 | 0 | 0 |\n",
       "\n"
      ],
      "text/plain": [
       "       url_length n_dots n_hypens n_underline n_slash n_questionmark n_equal\n",
       "100072 20         2      1        0           0       0              0      \n",
       "100073 23         3      1        0           0       0              0      \n",
       "100074 34         2      0        0           0       0              0      \n",
       "100075 70         2      1        0           5       0              0      \n",
       "100076 28         2      0        0           1       0              0      \n",
       "100077 16         2      0        0           0       0              0      \n",
       "       n_at n_and n_exclamation n_space n_tilde n_comma n_plus n_asterisk\n",
       "100072 0    0     0             0       0       0       0      0         \n",
       "100073 0    0     0             0       0       0       0      0         \n",
       "100074 0    0     0             0       0       0       0      0         \n",
       "100075 0    0     0             0       0       0       0      0         \n",
       "100076 0    0     0             0       0       0       0      0         \n",
       "100077 0    0     0             0       0       0       0      0         \n",
       "       n_hastag n_dollar n_percent n_redirection phishing\n",
       "100072 0        0        0         2             0       \n",
       "100073 0        0        0         0             0       \n",
       "100074 0        0        0         2             0       \n",
       "100075 0        0        0         0             1       \n",
       "100076 0        0        0         0             1       \n",
       "100077 0        0        0         0             0       "
      ]
     },
     "metadata": {},
     "output_type": "display_data"
    }
   ],
   "source": [
    "# DISPLAY THE FIRST AND LAST FEW ROWS OF THE DATASET\n",
    "\n",
    "head(web_page_phishing) # First few rows of web_page_phishing\n",
    "tail(web_page_phishing) # Last few rows of web_page_phishing"
   ]
  },
  {
   "cell_type": "markdown",
   "id": "05fe3e23-8570-495f-97d3-4a9aca927c41",
   "metadata": {},
   "source": [
    "### **DATA CHRACTACTERISTISTS**"
   ]
  },
  {
   "cell_type": "markdown",
   "id": "95b4d2e0-4291-4a42-9de0-d931ff25651f",
   "metadata": {},
   "source": [
    " **I.\tNumber of independent and dependent variables**"
   ]
  },
  {
   "cell_type": "code",
   "execution_count": 4,
   "id": "2d7d783a-6cf4-4c55-a6e0-530d0a02377d",
   "metadata": {},
   "outputs": [
    {
     "name": "stdout",
     "output_type": "stream",
     "text": [
      "[1] \"Number of independent variables: 19\"\n",
      "[1] \"Number of dependent variables: 1\"\n"
     ]
    }
   ],
   "source": [
    "# Display the number of Dependent and Independent variables web_page_phishing\n",
    "\n",
    "independent_variables <- ncol(web_page_phishing) - 1  # Number of independent variables in web_page_phishing\n",
    "dependent_variables <- 1  # Number of dependent variables in web_page_phishing\n",
    "\n",
    "# The results\n",
    "print(paste(\"Number of independent variables:\", independent_variables))\n",
    "print(paste(\"Number of dependent variables:\", dependent_variables))"
   ]
  },
  {
   "cell_type": "markdown",
   "id": "df72abc0-7972-48c8-b627-dbac84b03497",
   "metadata": {},
   "source": [
    "**II.\tNumber of records**"
   ]
  },
  {
   "cell_type": "code",
   "execution_count": 5,
   "id": "cd2c76bf-3f97-4cdc-8fd8-2833d2fb5135",
   "metadata": {},
   "outputs": [
    {
     "name": "stdout",
     "output_type": "stream",
     "text": [
      "[1] \"Number of records: 100077\"\n",
      "[1] \"Number of columns: 20\"\n"
     ]
    },
    {
     "data": {
      "text/html": [
       "<style>\n",
       ".list-inline {list-style: none; margin:0; padding: 0}\n",
       ".list-inline>li {display: inline-block}\n",
       ".list-inline>li:not(:last-child)::after {content: \"\\00b7\"; padding: 0 .5ex}\n",
       "</style>\n",
       "<ol class=list-inline><li>'url_length'</li><li>'n_dots'</li><li>'n_hypens'</li><li>'n_underline'</li><li>'n_slash'</li><li>'n_questionmark'</li><li>'n_equal'</li><li>'n_at'</li><li>'n_and'</li><li>'n_exclamation'</li><li>'n_space'</li><li>'n_tilde'</li><li>'n_comma'</li><li>'n_plus'</li><li>'n_asterisk'</li><li>'n_hastag'</li><li>'n_dollar'</li><li>'n_percent'</li><li>'n_redirection'</li><li>'phishing'</li></ol>\n"
      ],
      "text/latex": [
       "\\begin{enumerate*}\n",
       "\\item 'url\\_length'\n",
       "\\item 'n\\_dots'\n",
       "\\item 'n\\_hypens'\n",
       "\\item 'n\\_underline'\n",
       "\\item 'n\\_slash'\n",
       "\\item 'n\\_questionmark'\n",
       "\\item 'n\\_equal'\n",
       "\\item 'n\\_at'\n",
       "\\item 'n\\_and'\n",
       "\\item 'n\\_exclamation'\n",
       "\\item 'n\\_space'\n",
       "\\item 'n\\_tilde'\n",
       "\\item 'n\\_comma'\n",
       "\\item 'n\\_plus'\n",
       "\\item 'n\\_asterisk'\n",
       "\\item 'n\\_hastag'\n",
       "\\item 'n\\_dollar'\n",
       "\\item 'n\\_percent'\n",
       "\\item 'n\\_redirection'\n",
       "\\item 'phishing'\n",
       "\\end{enumerate*}\n"
      ],
      "text/markdown": [
       "1. 'url_length'\n",
       "2. 'n_dots'\n",
       "3. 'n_hypens'\n",
       "4. 'n_underline'\n",
       "5. 'n_slash'\n",
       "6. 'n_questionmark'\n",
       "7. 'n_equal'\n",
       "8. 'n_at'\n",
       "9. 'n_and'\n",
       "10. 'n_exclamation'\n",
       "11. 'n_space'\n",
       "12. 'n_tilde'\n",
       "13. 'n_comma'\n",
       "14. 'n_plus'\n",
       "15. 'n_asterisk'\n",
       "16. 'n_hastag'\n",
       "17. 'n_dollar'\n",
       "18. 'n_percent'\n",
       "19. 'n_redirection'\n",
       "20. 'phishing'\n",
       "\n",
       "\n"
      ],
      "text/plain": [
       " [1] \"url_length\"     \"n_dots\"         \"n_hypens\"       \"n_underline\"   \n",
       " [5] \"n_slash\"        \"n_questionmark\" \"n_equal\"        \"n_at\"          \n",
       " [9] \"n_and\"          \"n_exclamation\"  \"n_space\"        \"n_tilde\"       \n",
       "[13] \"n_comma\"        \"n_plus\"         \"n_asterisk\"     \"n_hastag\"      \n",
       "[17] \"n_dollar\"       \"n_percent\"      \"n_redirection\"  \"phishing\"      "
      ]
     },
     "metadata": {},
     "output_type": "display_data"
    }
   ],
   "source": [
    "# Display the number of Rows, Columns, and Names in web_page_phishing\n",
    "\n",
    "print(paste(\"Number of records:\", nrow(web_page_phishing))) # the number of Rows in web_page_phishing\n",
    "print(paste(\"Number of columns:\", ncol(web_page_phishing))) # the number of Columns in web_page_phishing\n",
    "names(web_page_phishing) # Get all column names in web_page_phishing"
   ]
  },
  {
   "cell_type": "markdown",
   "id": "9f6135b9-23fb-4962-91b3-0dd03f806a61",
   "metadata": {},
   "source": [
    "**III.\tData types of combination-> Binary, nominal, categorical, textual, numerical**"
   ]
  },
  {
   "cell_type": "code",
   "execution_count": 6,
   "id": "9e820415-fdfd-48a6-9400-4f44a46f3b0f",
   "metadata": {},
   "outputs": [
    {
     "name": "stdout",
     "output_type": "stream",
     "text": [
      "'data.frame':\t100077 obs. of  20 variables:\n",
      " $ url_length    : int  37 77 126 18 55 32 19 81 42 104 ...\n",
      " $ n_dots        : int  3 1 4 2 2 3 2 2 2 1 ...\n",
      " $ n_hypens      : int  0 0 1 0 2 1 0 0 0 10 ...\n",
      " $ n_underline   : int  0 0 2 0 0 0 0 0 0 0 ...\n",
      " $ n_slash       : int  0 0 0 0 0 0 0 0 0 0 ...\n",
      " $ n_questionmark: int  0 0 1 0 0 0 0 0 0 0 ...\n",
      " $ n_equal       : int  0 0 3 0 0 0 0 0 0 0 ...\n",
      " $ n_at          : int  0 0 0 0 0 0 0 0 0 0 ...\n",
      " $ n_and         : int  0 0 2 0 0 0 0 0 0 0 ...\n",
      " $ n_exclamation : int  0 0 0 0 0 0 0 0 0 0 ...\n",
      " $ n_space       : int  0 0 0 0 0 0 0 0 0 0 ...\n",
      " $ n_tilde       : int  0 0 0 0 0 0 0 0 0 0 ...\n",
      " $ n_comma       : int  0 0 0 0 0 0 0 0 0 0 ...\n",
      " $ n_plus        : int  0 0 0 0 0 0 0 0 0 0 ...\n",
      " $ n_asterisk    : int  0 0 0 0 0 0 0 0 0 0 ...\n",
      " $ n_hastag      : int  0 0 0 0 0 0 0 0 0 0 ...\n",
      " $ n_dollar      : int  0 0 0 0 0 0 0 0 0 0 ...\n",
      " $ n_percent     : int  0 0 0 0 0 0 0 0 0 0 ...\n",
      " $ n_redirection : int  0 1 1 1 1 1 1 1 0 0 ...\n",
      " $ phishing      : int  0 1 1 0 0 1 0 1 0 0 ...\n"
     ]
    }
   ],
   "source": [
    "# Get the structure of web_page_phishing\n",
    "\n",
    "str(web_page_phishing) # Get the structure of web_page_phishing"
   ]
  },
  {
   "cell_type": "code",
   "execution_count": 7,
   "id": "94d57425-0fb9-4cde-844f-17ce621a82c1",
   "metadata": {},
   "outputs": [
    {
     "name": "stdout",
     "output_type": "stream",
     "text": [
      "[1] \"Binary Variables in web_page_phishing: \"\n",
      "[1] \"Nominal Variables in web_page_phishing: \"\n",
      "[1] \"Categorical Variables in web_page_phishing: \"\n",
      "[1] \"Numerical Variables in web_page_phishing: url_length, n_dots, n_hypens, n_underline, n_slash, n_questionmark, n_equal, n_at, n_and, n_exclamation, n_space, n_tilde, n_comma, n_plus, n_asterisk, n_hastag, n_dollar, n_percent, n_redirection, phishing\"\n"
     ]
    }
   ],
   "source": [
    "# Display datatype combination of all variables in web_page_phishing\n",
    "\n",
    "# Get variables datatypes in web_page_phishing\n",
    "variable_types <- sapply(web_page_phishing, class )\n",
    "\n",
    "# Variables based on data type combinations\n",
    "Nominal_Variables <- names(variable_types)[variable_types == \"factor\"] # Nominal Variables in web_page_phishing\n",
    "Categorical_Variables <- names(variable_types)[variable_types == \"character\"] # Categorical Variables in web_page_phishing\n",
    "Binary_Variables <- names(variable_types)[variable_types == \"logical\"] # Binary Variables in web_page_phishing\n",
    "Numerical_Variables <- names(variable_types)[variable_types %in% c(\"numeric\", \"integer\")] # Numerical Variables in web_page_phishing\n",
    "\n",
    "# The results\n",
    "print(paste(\"Binary Variables in web_page_phishing:\", paste(Binary_Variables, collapse = \", \")))\n",
    "print(paste(\"Nominal Variables in web_page_phishing:\", paste(Nominal_Variables, collapse = \", \")))\n",
    "print(paste(\"Categorical Variables in web_page_phishing:\", paste(Categorical_Variables, collapse = \", \")))\n",
    "print(paste(\"Numerical Variables in web_page_phishing:\", paste(Numerical_Variables, collapse = \", \")))"
   ]
  },
  {
   "cell_type": "markdown",
   "id": "706d24b7-8ab7-4c31-a088-e93b86935c14",
   "metadata": {},
   "source": [
    "**IV.\tSummary of numerical variables: min, max, mean, median, quartiles, NA**"
   ]
  },
  {
   "cell_type": "code",
   "execution_count": 8,
   "id": "50bc9164-b33c-4af4-805d-37effffe3f03",
   "metadata": {},
   "outputs": [
    {
     "data": {
      "text/plain": [
       "   url_length          n_dots          n_hypens        n_underline     \n",
       " Min.   :   4.00   Min.   : 1.000   Min.   : 0.0000   Min.   : 0.0000  \n",
       " 1st Qu.:  18.00   1st Qu.: 2.000   1st Qu.: 0.0000   1st Qu.: 0.0000  \n",
       " Median :  24.00   Median : 2.000   Median : 0.0000   Median : 0.0000  \n",
       " Mean   :  39.18   Mean   : 2.224   Mean   : 0.4052   Mean   : 0.1377  \n",
       " 3rd Qu.:  44.00   3rd Qu.: 2.000   3rd Qu.: 0.0000   3rd Qu.: 0.0000  \n",
       " Max.   :4165.00   Max.   :24.000   Max.   :43.0000   Max.   :21.0000  \n",
       "    n_slash       n_questionmark       n_equal             n_at         \n",
       " Min.   : 0.000   Min.   :0.00000   Min.   : 0.0000   Min.   : 0.00000  \n",
       " 1st Qu.: 0.000   1st Qu.:0.00000   1st Qu.: 0.0000   1st Qu.: 0.00000  \n",
       " Median : 0.000   Median :0.00000   Median : 0.0000   Median : 0.00000  \n",
       " Mean   : 1.135   Mean   :0.02439   Mean   : 0.2158   Mean   : 0.02214  \n",
       " 3rd Qu.: 2.000   3rd Qu.:0.00000   3rd Qu.: 0.0000   3rd Qu.: 0.00000  \n",
       " Max.   :44.000   Max.   :9.00000   Max.   :23.0000   Max.   :43.00000  \n",
       "     n_and         n_exclamation          n_space             n_tilde        \n",
       " Min.   : 0.0000   Min.   : 0.000000   Min.   : 0.000000   Min.   :0.000000  \n",
       " 1st Qu.: 0.0000   1st Qu.: 0.000000   1st Qu.: 0.000000   1st Qu.:0.000000  \n",
       " Median : 0.0000   Median : 0.000000   Median : 0.000000   Median :0.000000  \n",
       " Mean   : 0.1433   Mean   : 0.002608   Mean   : 0.004876   Mean   :0.003617  \n",
       " 3rd Qu.: 0.0000   3rd Qu.: 0.000000   3rd Qu.: 0.000000   3rd Qu.:0.000000  \n",
       " Max.   :26.0000   Max.   :10.000000   Max.   :18.000000   Max.   :5.000000  \n",
       "    n_comma              n_plus            n_asterisk         n_hastag      \n",
       " Min.   : 0.000000   Min.   : 0.000000   Min.   : 0.0000   Min.   :0.0e+00  \n",
       " 1st Qu.: 0.000000   1st Qu.: 0.000000   1st Qu.: 0.0000   1st Qu.:0.0e+00  \n",
       " Median : 0.000000   Median : 0.000000   Median : 0.0000   Median :0.0e+00  \n",
       " Mean   : 0.002378   Mean   : 0.002468   Mean   : 0.0041   Mean   :4.5e-04  \n",
       " 3rd Qu.: 0.000000   3rd Qu.: 0.000000   3rd Qu.: 0.0000   3rd Qu.:0.0e+00  \n",
       " Max.   :11.000000   Max.   :19.000000   Max.   :60.0000   Max.   :1.3e+01  \n",
       "    n_dollar           n_percent        n_redirection        phishing     \n",
       " Min.   : 0.000000   Min.   :  0.0000   Min.   :-1.0000   Min.   :0.0000  \n",
       " 1st Qu.: 0.000000   1st Qu.:  0.0000   1st Qu.: 0.0000   1st Qu.:0.0000  \n",
       " Median : 0.000000   Median :  0.0000   Median : 0.0000   Median :0.0000  \n",
       " Mean   : 0.001899   Mean   :  0.1093   Mean   : 0.3615   Mean   :0.3633  \n",
       " 3rd Qu.: 0.000000   3rd Qu.:  0.0000   3rd Qu.: 1.0000   3rd Qu.:1.0000  \n",
       " Max.   :10.000000   Max.   :174.0000   Max.   :17.0000   Max.   :1.0000  "
      ]
     },
     "metadata": {},
     "output_type": "display_data"
    }
   ],
   "source": [
    "# Get all Numerical descriptive statistics information about  WAB_PAGE_PHISHING\n",
    "\n",
    "summary(web_page_phishing) # Get all descriptive statistics information in web_page_phishing"
   ]
  },
  {
   "cell_type": "markdown",
   "id": "b06df699-5e7b-4f21-a9aa-cf3bff53a30d",
   "metadata": {},
   "source": [
    "**Class Distribution**"
   ]
  },
  {
   "cell_type": "code",
   "execution_count": 9,
   "id": "4221963b-7c68-4922-9544-11727eb730c0",
   "metadata": {},
   "outputs": [
    {
     "data": {
      "image/png": "[encoded data removed]",
      "text/plain": [
       "plot without title"
      ]
     },
     "metadata": {
      "image/png": {
       "height": 420,
       "width": 420
      }
     },
     "output_type": "display_data"
    }
   ],
   "source": [
    "# Plotting the distribution of the target variable 'web_page_phishing'\n",
    "ggplot(web_page_phishing, aes(x = factor(phishing))) +\n",
    "  geom_bar(fill = \"blue\", alpha = 0.7) +\n",
    "  labs(x = \"Phishing Category\", y = \"Count\", title = \"Distribution of Phishing vs Non-Phishing URLs\") +\n",
    "  theme_minimal()"
   ]
  },
  {
   "cell_type": "markdown",
   "id": "fdda7e4c-b659-4728-ba5c-b54e9d96d444",
   "metadata": {},
   "source": [
    "# **CHARACTERISTICS (DATA CLEANING)**"
   ]
  },
  {
   "cell_type": "markdown",
   "id": "fc6e3370-a8c6-4b39-978c-c87bfdb90b5d",
   "metadata": {},
   "source": [
    " **I.\tNumber of independent and dependent variables**"
   ]
  },
  {
   "cell_type": "code",
   "execution_count": 10,
   "id": "cbde7cf3-f552-40b1-ba87-dd256cc15520",
   "metadata": {},
   "outputs": [
    {
     "name": "stdout",
     "output_type": "stream",
     "text": [
      "[1] \"Number of irrelevant variables: 9\"\n",
      "[1] \"Proportion of irrelevant variables: 0.45\"\n"
     ]
    }
   ],
   "source": [
    "# CHECK THE NUMBER AND PROPORTION OF IRRELEVANT VARIABLES\n",
    "\n",
    "# Check for irrelevant variables in web_page_phishing\n",
    "check_web_page_phishing <- sum(cor(web_page_phishing[-which(names(web_page_phishing) == \"phishing\")], web_page_phishing$phishing) < 0.03)\n",
    "print(paste(\"Number of irrelevant variables:\", check_web_page_phishing))\n",
    "print(paste(\"Proportion of irrelevant variables:\", check_web_page_phishing / ncol(web_page_phishing)))"
   ]
  },
  {
   "cell_type": "markdown",
   "id": "bed134f9-971d-4b44-91e9-ca0564766234",
   "metadata": {},
   "source": [
    "**V) b. CHECK TO REMOVE NUMBER AND PROPORTION OF DUPLICATES VAlUES**"
   ]
  },
  {
   "cell_type": "code",
   "execution_count": 11,
   "id": "d4aa7af2-150a-4bb1-8f55-f3864760a998",
   "metadata": {},
   "outputs": [],
   "source": [
    "# CHECK NUMBER AND PROPORTION OF DUPLICATES VAlUES (No removal because all variables are numeric)\n",
    "\n",
    "# Check for duplicate rows in web_page_phishing\n",
    "#check_duplicates <- sum(duplicated(web_page_phishing) | duplicated(web_page_phishing, fromLast = TRUE))\n",
    "#print(paste(\"Number of duplicate rows:\", check_duplicates))\n",
    "#print(paste(\"Proportion of duplicate rows:\", check_duplicates / nrow(web_page_phishing)))"
   ]
  },
  {
   "cell_type": "markdown",
   "id": "e5506e34-0654-4468-8e60-8dbc2ba3b772",
   "metadata": {},
   "source": [
    "**V) C. CHECK TO REMOVE NUMBER AND PROPORTION OF MISSING VALUES**"
   ]
  },
  {
   "cell_type": "code",
   "execution_count": 12,
   "id": "3662dfd6-225d-426a-bc42-13f0c03472c7",
   "metadata": {},
   "outputs": [
    {
     "name": "stdout",
     "output_type": "stream",
     "text": [
      "[1] \"Number of missing values: 0\"\n",
      "[1] \"Proportion of missing values: 0\"\n"
     ]
    }
   ],
   "source": [
    "# CHECK FOR NUMBER AND PROPORTION OF MISSING VAlUES\n",
    "check_missing_values <- sum(colSums(is.na(web_page_phishing)) > 0)\n",
    "print(paste(\"Number of missing values:\", check_missing_values))\n",
    "print(paste(\"Proportion of missing values:\", check_missing_values / (nrow(web_page_phishing) * ncol(web_page_phishing))))"
   ]
  },
  {
   "cell_type": "code",
   "execution_count": 13,
   "id": "f7a2ed1c-44ca-4d63-81f1-99aebd6ccbeb",
   "metadata": {},
   "outputs": [],
   "source": [
    "# REMOVE NUMBER AND PROPORTION OF MISSING VAlUES\n",
    "\n",
    "# web_page_phishing <- na.omit(web_page_phishing) # Remove missing values by omitting them web_page_phishing"
   ]
  },
  {
   "cell_type": "markdown",
   "id": "5d108ba2-d980-425e-9f9a-57518e8738cd",
   "metadata": {},
   "source": [
    "**V). d. CHECK TO REMOVE NUMBER AND PROPORTION OF OUTLIER**"
   ]
  },
  {
   "cell_type": "code",
   "execution_count": 14,
   "id": "08dd27a1-08ad-4b3e-aba5-1faefe6f4ed2",
   "metadata": {},
   "outputs": [
    {
     "name": "stdout",
     "output_type": "stream",
     "text": [
      "[1] \"Number of outliers: 101099\"\n",
      "[1] \"Proportion of outliers: 0.0505106068327388\"\n"
     ]
    }
   ],
   "source": [
    "# Check for outliers using the IQR method\n",
    "# Identify numeric columns\n",
    "numeric_columns <- sapply(web_page_phishing, is.numeric)\n",
    "\n",
    "# Check for outliers using the IQR method\n",
    "total_outliers <- 0\n",
    "total_values <- 0\n",
    "\n",
    "for (column in web_page_phishing[numeric_columns]) {\n",
    "  q75 <- quantile(column, 0.75, na.rm = TRUE)\n",
    "  q25 <- quantile(column, 0.25, na.rm = TRUE)\n",
    "  iqr <- q75 - q25\n",
    "  outlier_rows <- sum(column < (q25 - 1.5 * iqr) | column > (q75 + 1.5 * iqr))\n",
    "  total_outliers <- total_outliers + outlier_rows\n",
    "  total_values <- total_values + length(column)\n",
    "}\n",
    "\n",
    "proportion_outliers <- total_outliers / total_values\n",
    "\n",
    "print(paste(\"Number of outliers:\", total_outliers))\n",
    "print(paste(\"Proportion of outliers:\", proportion_outliers))"
   ]
  },
  {
   "cell_type": "code",
   "execution_count": 15,
   "id": "9fc7e2f8-abfd-4217-ad84-6183110197cb",
   "metadata": {},
   "outputs": [
    {
     "data": {
      "image/png": "[encoded data removed]",
      "text/plain": [
       "Plot with title \"Boxplot Web Page Phishing\""
      ]
     },
     "metadata": {
      "image/png": {
       "height": 420,
       "width": 420
      }
     },
     "output_type": "display_data"
    }
   ],
   "source": [
    "# CREATING A BOX-PLOT TO DISPLAY OUTLIERS \n",
    "\n",
    "boxtplot_web_page_phishing <- as.data.frame(scale(web_page_phishing))\n",
    "\n",
    "# Boxplot to visualize the distribution of each column in web_page_phishing\n",
    "boxplot(boxtplot_web_page_phishing, outline = TRUE, main = \"Boxplot Web Page Phishing\", las = 2)"
   ]
  },
  {
   "cell_type": "code",
   "execution_count": 16,
   "id": "fca3b11b-5a74-4c2d-9ce5-e82bdcbd59f8",
   "metadata": {},
   "outputs": [],
   "source": [
    "# Remove entire rows where any numeric column is an outlier\n",
    "phishing_data_clean <- web_page_phishing\n",
    "for (col in numeric_columns) {\n",
    "  q75 <- quantile(web_page_phishing[[col]], 0.75, na.rm = TRUE)\n",
    "  q25 <- quantile(web_page_phishing[[col]], 0.25, na.rm = TRUE)\n",
    "  iqr <- q75 - q25\n",
    "  lower_bound <- q25 - 1.5 * iqr\n",
    "  upper_bound <- q75 + 1.5 * iqr\n",
    "  # Keep rows that are within the bounds\n",
    "  phishing_data_clean <- phishing_data_clean[phishing_data_clean[[col]] >= lower_bound & phishing_data_clean[[col]] <= upper_bound, ]\n",
    "}"
   ]
  },
  {
   "cell_type": "code",
   "execution_count": 17,
   "id": "500797fb-b2f5-4eab-a2aa-4eb68f46bec0",
   "metadata": {},
   "outputs": [
    {
     "data": {
      "text/html": [
       "91952"
      ],
      "text/latex": [
       "91952"
      ],
      "text/markdown": [
       "91952"
      ],
      "text/plain": [
       "[1] 91952"
      ]
     },
     "metadata": {},
     "output_type": "display_data"
    }
   ],
   "source": [
    "nrow(phishing_data_clean)"
   ]
  },
  {
   "cell_type": "markdown",
   "id": "832b3d82-2c9b-439d-9431-7d744b919516",
   "metadata": {},
   "source": [
    "**FEATURE ENGINEERING**"
   ]
  },
  {
   "cell_type": "code",
   "execution_count": 18,
   "id": "e6833938-98b1-4265-b76d-58d1f83d330f",
   "metadata": {},
   "outputs": [],
   "source": [
    "# Creating a new feature that sums up all special characters and divides by the URL length\n",
    "phishing_data_clean <- phishing_data_clean %>%\n",
    "  mutate(total_special_chars = n_hypens + n_underline + n_slash + n_questionmark + n_equal +\n",
    "                               n_at + n_and + n_exclamation + n_space + n_tilde + n_comma +\n",
    "                               n_plus + n_asterisk + n_hastag + n_dollar + n_percent,\n",
    "         special_chars_ratio = total_special_chars / url_length)"
   ]
  },
  {
   "cell_type": "code",
   "execution_count": 19,
   "id": "f8863d4c-26c6-44e1-9af0-111268100a04",
   "metadata": {},
   "outputs": [
    {
     "data": {
      "text/html": [
       "<style>\n",
       ".dl-inline {width: auto; margin:0; padding: 0}\n",
       ".dl-inline>dt, .dl-inline>dd {float: none; width: auto; display: inline-block}\n",
       ".dl-inline>dt::after {content: \":\\0020\"; padding-right: .5ex}\n",
       ".dl-inline>dt:not(:first-of-type) {padding-left: .5ex}\n",
       "</style><dl class=dl-inline><dt>phishing</dt><dd>1</dd><dt>n_slash</dt><dd>0.637207836226004</dd><dt>special_chars_ratio</dt><dd>0.57987982395493</dd><dt>total_special_chars</dt><dd>0.573345204971728</dd><dt>url_length</dt><dd>0.572162628146824</dd><dt>n_equal</dt><dd>0.177101864376393</dd><dt>n_hypens</dt><dd>0.158540367992368</dd><dt>n_at</dt><dd>0.133631682563946</dd><dt>n_underline</dt><dd>0.10010644803164</dd><dt>n_questionmark</dt><dd>0.0732749764605756</dd><dt>n_and</dt><dd>0.0599868772556225</dd><dt>n_dots</dt><dd>0.0554818096842132</dd><dt>n_tilde</dt><dd>0.0449805262928973</dd><dt>n_redirection</dt><dd>0.0436182117630555</dd><dt>n_exclamation</dt><dd>0.0290790512485375</dd><dt>n_dollar</dt><dd>0.0190109931439304</dd><dt>n_space</dt><dd>0.0187731962798774</dd><dt>n_asterisk</dt><dd>0.0163287661385542</dd><dt>n_plus</dt><dd>0.0145436595401521</dd><dt>n_percent</dt><dd>0.0117865095323991</dd><dt>n_hastag</dt><dd>0.00963151522471644</dd><dt>n_comma</dt><dd>0.00508688390218402</dd></dl>\n"
      ],
      "text/latex": [
       "\\begin{description*}\n",
       "\\item[phishing] 1\n",
       "\\item[n\\textbackslash{}\\_slash] 0.637207836226004\n",
       "\\item[special\\textbackslash{}\\_chars\\textbackslash{}\\_ratio] 0.57987982395493\n",
       "\\item[total\\textbackslash{}\\_special\\textbackslash{}\\_chars] 0.573345204971728\n",
       "\\item[url\\textbackslash{}\\_length] 0.572162628146824\n",
       "\\item[n\\textbackslash{}\\_equal] 0.177101864376393\n",
       "\\item[n\\textbackslash{}\\_hypens] 0.158540367992368\n",
       "\\item[n\\textbackslash{}\\_at] 0.133631682563946\n",
       "\\item[n\\textbackslash{}\\_underline] 0.10010644803164\n",
       "\\item[n\\textbackslash{}\\_questionmark] 0.0732749764605756\n",
       "\\item[n\\textbackslash{}\\_and] 0.0599868772556225\n",
       "\\item[n\\textbackslash{}\\_dots] 0.0554818096842132\n",
       "\\item[n\\textbackslash{}\\_tilde] 0.0449805262928973\n",
       "\\item[n\\textbackslash{}\\_redirection] 0.0436182117630555\n",
       "\\item[n\\textbackslash{}\\_exclamation] 0.0290790512485375\n",
       "\\item[n\\textbackslash{}\\_dollar] 0.0190109931439304\n",
       "\\item[n\\textbackslash{}\\_space] 0.0187731962798774\n",
       "\\item[n\\textbackslash{}\\_asterisk] 0.0163287661385542\n",
       "\\item[n\\textbackslash{}\\_plus] 0.0145436595401521\n",
       "\\item[n\\textbackslash{}\\_percent] 0.0117865095323991\n",
       "\\item[n\\textbackslash{}\\_hastag] 0.00963151522471644\n",
       "\\item[n\\textbackslash{}\\_comma] 0.00508688390218402\n",
       "\\end{description*}\n"
      ],
      "text/markdown": [
       "phishing\n",
       ":   1n_slash\n",
       ":   0.637207836226004special_chars_ratio\n",
       ":   0.57987982395493total_special_chars\n",
       ":   0.573345204971728url_length\n",
       ":   0.572162628146824n_equal\n",
       ":   0.177101864376393n_hypens\n",
       ":   0.158540367992368n_at\n",
       ":   0.133631682563946n_underline\n",
       ":   0.10010644803164n_questionmark\n",
       ":   0.0732749764605756n_and\n",
       ":   0.0599868772556225n_dots\n",
       ":   0.0554818096842132n_tilde\n",
       ":   0.0449805262928973n_redirection\n",
       ":   0.0436182117630555n_exclamation\n",
       ":   0.0290790512485375n_dollar\n",
       ":   0.0190109931439304n_space\n",
       ":   0.0187731962798774n_asterisk\n",
       ":   0.0163287661385542n_plus\n",
       ":   0.0145436595401521n_percent\n",
       ":   0.0117865095323991n_hastag\n",
       ":   0.00963151522471644n_comma\n",
       ":   0.00508688390218402\n",
       "\n"
      ],
      "text/plain": [
       "           phishing             n_slash special_chars_ratio total_special_chars \n",
       "        1.000000000         0.637207836         0.579879824         0.573345205 \n",
       "         url_length             n_equal            n_hypens                n_at \n",
       "        0.572162628         0.177101864         0.158540368         0.133631683 \n",
       "        n_underline      n_questionmark               n_and              n_dots \n",
       "        0.100106448         0.073274976         0.059986877         0.055481810 \n",
       "            n_tilde       n_redirection       n_exclamation            n_dollar \n",
       "        0.044980526         0.043618212         0.029079051         0.019010993 \n",
       "            n_space          n_asterisk              n_plus           n_percent \n",
       "        0.018773196         0.016328766         0.014543660         0.011786510 \n",
       "           n_hastag             n_comma \n",
       "        0.009631515         0.005086884 "
      ]
     },
     "metadata": {},
     "output_type": "display_data"
    }
   ],
   "source": [
    "# Feature Selection using Correlation with the target variable\n",
    "\n",
    "# Calculate the correlation of all predictors with the target variable\n",
    "correlations <- cor(phishing_data_clean[, sapply(phishing_data_clean, is.numeric)])\n",
    "correlation_with_target <- abs(correlations[,'phishing'])\n",
    "\n",
    "# Sort features by their correlation with 'phishing'\n",
    "sorted_features <- sort(correlation_with_target, decreasing = TRUE)\n",
    "\n",
    "# Display the sorted features\n",
    "sorted_features"
   ]
  },
  {
   "cell_type": "code",
   "execution_count": 20,
   "id": "36e95e81-25dc-49e5-aa94-498d28485127",
   "metadata": {},
   "outputs": [
    {
     "data": {
      "text/html": [
       "<style>\n",
       ".list-inline {list-style: none; margin:0; padding: 0}\n",
       ".list-inline>li {display: inline-block}\n",
       ".list-inline>li:not(:last-child)::after {content: \"\\00b7\"; padding: 0 .5ex}\n",
       "</style>\n",
       "<ol class=list-inline><li>'url_length'</li><li>'n_dots'</li><li>'n_hypens'</li><li>'n_underline'</li><li>'n_slash'</li><li>'n_questionmark'</li><li>'n_equal'</li><li>'n_at'</li><li>'n_and'</li><li>'phishing'</li><li>'total_special_chars'</li><li>'special_chars_ratio'</li></ol>\n"
      ],
      "text/latex": [
       "\\begin{enumerate*}\n",
       "\\item 'url\\_length'\n",
       "\\item 'n\\_dots'\n",
       "\\item 'n\\_hypens'\n",
       "\\item 'n\\_underline'\n",
       "\\item 'n\\_slash'\n",
       "\\item 'n\\_questionmark'\n",
       "\\item 'n\\_equal'\n",
       "\\item 'n\\_at'\n",
       "\\item 'n\\_and'\n",
       "\\item 'phishing'\n",
       "\\item 'total\\_special\\_chars'\n",
       "\\item 'special\\_chars\\_ratio'\n",
       "\\end{enumerate*}\n"
      ],
      "text/markdown": [
       "1. 'url_length'\n",
       "2. 'n_dots'\n",
       "3. 'n_hypens'\n",
       "4. 'n_underline'\n",
       "5. 'n_slash'\n",
       "6. 'n_questionmark'\n",
       "7. 'n_equal'\n",
       "8. 'n_at'\n",
       "9. 'n_and'\n",
       "10. 'phishing'\n",
       "11. 'total_special_chars'\n",
       "12. 'special_chars_ratio'\n",
       "\n",
       "\n"
      ],
      "text/plain": [
       " [1] \"url_length\"          \"n_dots\"              \"n_hypens\"           \n",
       " [4] \"n_underline\"         \"n_slash\"             \"n_questionmark\"     \n",
       " [7] \"n_equal\"             \"n_at\"                \"n_and\"              \n",
       "[10] \"phishing\"            \"total_special_chars\" \"special_chars_ratio\""
      ]
     },
     "metadata": {},
     "output_type": "display_data"
    }
   ],
   "source": [
    "# Define a threshold for low correlation\n",
    "threshold <- 0.05\n",
    "\n",
    "# Identify features that have a correlation higher than the threshold\n",
    "features_to_keep <- names(correlation_with_target[correlation_with_target > threshold])\n",
    "features_to_keep"
   ]
  },
  {
   "cell_type": "code",
   "execution_count": 21,
   "id": "289da5f9-bade-466a-9195-c86602b01d0d",
   "metadata": {},
   "outputs": [],
   "source": [
    "# Subset the data to keep only the features with high enough correlation\n",
    "phishing_data_high_cor <- phishing_data_clean[, features_to_keep]"
   ]
  },
  {
   "cell_type": "markdown",
   "id": "eaf74aa8-e9f8-4f21-9833-336cbc5020e1",
   "metadata": {},
   "source": [
    "## **VI. DATA NORMALIZATION**"
   ]
  },
  {
   "cell_type": "code",
   "execution_count": 22,
   "id": "d1ae762d-5d30-4b3f-aa6c-f093601f7e6b",
   "metadata": {},
   "outputs": [],
   "source": [
    "# NORMALIZE ALL VARIABLES EXCEPT TREGET \"PHISHING\" \n",
    "\n",
    "phishing_data <- subset(phishing_data_high_cor,  select = -c(phishing) )\n",
    "\n",
    "# `preProcess` function can scale and center (standardize) the data\n",
    "preprocessor <- preProcess(phishing_data, method = c(\"center\", \"scale\"))\n",
    "phishing_data_scaled <- predict(preprocessor, phishing_data)\n",
    "phishing_data_scaled$phishing<-phishing_data_clean$phishing"
   ]
  },
  {
   "cell_type": "markdown",
   "id": "00bb6e40-fb0e-4553-91ba-fbc926ad4d29",
   "metadata": {},
   "source": [
    "**LABEL ENCODING**"
   ]
  },
  {
   "cell_type": "code",
   "execution_count": 23,
   "id": "4d198424-d2ba-4d47-aa08-5f2801316f27",
   "metadata": {},
   "outputs": [],
   "source": [
    "# CONVERT TERGET VARIABLE \"PHISHING \"TO FACTOR WITH LEVELS 0 AND 1 FORMART\n",
    "\n",
    "phishing_data_scaled$phishing <- factor(phishing_data_scaled$phishing, levels = c(0, 1))"
   ]
  },
  {
   "cell_type": "markdown",
   "id": "61ccbdaf-d8af-44b3-9e27-2651b96fe613",
   "metadata": {},
   "source": [
    "## **RECHECK PRE-PEROCESSED DATA**"
   ]
  },
  {
   "cell_type": "markdown",
   "id": "fc699b13-63f3-4178-8f2e-d3f3090b7b98",
   "metadata": {},
   "source": [
    "**V) f. FIRST FOUR CHARACTERISTICS AFTER PERFORMING PRE-PROCESSING**"
   ]
  },
  {
   "cell_type": "markdown",
   "id": "0f76eb0d-0fc4-4b98-9698-dd677106e9f5",
   "metadata": {},
   "source": [
    "**I. RECHECK-Number of independent and dependent variables**"
   ]
  },
  {
   "cell_type": "code",
   "execution_count": 24,
   "id": "1677f108-8a1e-481b-bff0-cd267f7f4228",
   "metadata": {},
   "outputs": [
    {
     "name": "stdout",
     "output_type": "stream",
     "text": [
      "[1] \"Number of independent variables: 11\"\n",
      "[1] \"Number of dependent variables: 1\"\n"
     ]
    }
   ],
   "source": [
    "# Redsplay the number of Dependent and Independent variables\n",
    "\n",
    "independent_variables <- ncol(phishing_data_scaled) - 1  # Number of independent variables in phishing_data_scaled\n",
    "dependent_variables <- 1  # Number of dependent variables in phishing_data_scaled\n",
    "\n",
    "# Redisplay the results\n",
    "print(paste(\"Number of independent variables:\", independent_variables))\n",
    "print(paste(\"Number of dependent variables:\", dependent_variables))\n"
   ]
  },
  {
   "cell_type": "markdown",
   "id": "a8849ef2-0c96-442e-b2eb-aa77913aeaa5",
   "metadata": {},
   "source": [
    "**2. RECHECK-Number of records**"
   ]
  },
  {
   "cell_type": "code",
   "execution_count": 25,
   "id": "2f30414e-f013-4e78-a408-5f5963478ed0",
   "metadata": {},
   "outputs": [
    {
     "name": "stdout",
     "output_type": "stream",
     "text": [
      "[1] \"Number of records: 91952\"\n",
      "[1] \"Number of columns: 12\"\n"
     ]
    },
    {
     "data": {
      "text/html": [
       "<style>\n",
       ".list-inline {list-style: none; margin:0; padding: 0}\n",
       ".list-inline>li {display: inline-block}\n",
       ".list-inline>li:not(:last-child)::after {content: \"\\00b7\"; padding: 0 .5ex}\n",
       "</style>\n",
       "<ol class=list-inline><li>'url_length'</li><li>'n_dots'</li><li>'n_hypens'</li><li>'n_underline'</li><li>'n_slash'</li><li>'n_questionmark'</li><li>'n_equal'</li><li>'n_at'</li><li>'n_and'</li><li>'total_special_chars'</li><li>'special_chars_ratio'</li><li>'phishing'</li></ol>\n"
      ],
      "text/latex": [
       "\\begin{enumerate*}\n",
       "\\item 'url\\_length'\n",
       "\\item 'n\\_dots'\n",
       "\\item 'n\\_hypens'\n",
       "\\item 'n\\_underline'\n",
       "\\item 'n\\_slash'\n",
       "\\item 'n\\_questionmark'\n",
       "\\item 'n\\_equal'\n",
       "\\item 'n\\_at'\n",
       "\\item 'n\\_and'\n",
       "\\item 'total\\_special\\_chars'\n",
       "\\item 'special\\_chars\\_ratio'\n",
       "\\item 'phishing'\n",
       "\\end{enumerate*}\n"
      ],
      "text/markdown": [
       "1. 'url_length'\n",
       "2. 'n_dots'\n",
       "3. 'n_hypens'\n",
       "4. 'n_underline'\n",
       "5. 'n_slash'\n",
       "6. 'n_questionmark'\n",
       "7. 'n_equal'\n",
       "8. 'n_at'\n",
       "9. 'n_and'\n",
       "10. 'total_special_chars'\n",
       "11. 'special_chars_ratio'\n",
       "12. 'phishing'\n",
       "\n",
       "\n"
      ],
      "text/plain": [
       " [1] \"url_length\"          \"n_dots\"              \"n_hypens\"           \n",
       " [4] \"n_underline\"         \"n_slash\"             \"n_questionmark\"     \n",
       " [7] \"n_equal\"             \"n_at\"                \"n_and\"              \n",
       "[10] \"total_special_chars\" \"special_chars_ratio\" \"phishing\"           "
      ]
     },
     "metadata": {},
     "output_type": "display_data"
    }
   ],
   "source": [
    "# Redisplay the number of Rows, Columns, and Names in phishing_data_scaled\n",
    "\n",
    "print(paste(\"Number of records:\", nrow(phishing_data_scaled))) # the number of Rows in phishing_data_scaled\n",
    "print(paste(\"Number of columns:\", ncol(phishing_data_scaled))) # the number of Columns in phishing_data_scaled\n",
    "names(phishing_data_scaled) # Get all column names in phishing_data_scaled\n"
   ]
  },
  {
   "cell_type": "markdown",
   "id": "44a27ad2-c423-4973-a2c7-b535722d1cd0",
   "metadata": {},
   "source": [
    "**3. RECHECK-Data types of combination**"
   ]
  },
  {
   "cell_type": "raw",
   "id": "9079e7c0-0edc-4baa-8a52-979487a2e2c2",
   "metadata": {},
   "source": [
    "# Redisplay the structure of phishing_data_scaled\n",
    "\n",
    "str(phishing_data_scaled)"
   ]
  },
  {
   "cell_type": "code",
   "execution_count": 26,
   "id": "09e90979-75f3-43c3-8005-2df407c9fde3",
   "metadata": {},
   "outputs": [
    {
     "name": "stdout",
     "output_type": "stream",
     "text": [
      "[1] \"Nominal Variables in phishing_data_scaled: phishing\"\n",
      "[1] \"Binary Variables in phishing_data_scaled: \"\n",
      "[1] \"Categorical Variables in phishing_data_scaled: \"\n",
      "[1] \"Numerical Variables in phishing_data_scaled: url_length, n_dots, n_hypens, n_underline, n_slash, n_questionmark, n_equal, n_at, n_and, total_special_chars, special_chars_ratio\"\n"
     ]
    }
   ],
   "source": [
    "# Display datatype combination of all variables in phishing_data_scaled\n",
    "\n",
    "# Get variables type\n",
    "variable_types <- sapply(phishing_data_scaled, class)\n",
    "\n",
    "# Variables based on data type combinations\n",
    "Nominal_Variables <- names(variable_types)[variable_types == \"factor\"] # Nominal Variables in phishing_data_scaled\n",
    "Categorical_Variables <- names(variable_types)[variable_types == \"character\"] # Categorical Variables in phishing_data_scaled\n",
    "Binary_Variables <- names(variable_types)[variable_types == \"logical\"] # Binary Variables in phishing_data_scaled\n",
    "Numerical_Variables <- names(variable_types)[variable_types %in% c(\"numeric\", \"integer\")] # Numerical Variables in phishing_data_scaled\n",
    "\n",
    "# Display the results\n",
    "print(paste(\"Nominal Variables in phishing_data_scaled:\", paste(Nominal_Variables, collapse = \", \")))\n",
    "print(paste(\"Binary Variables in phishing_data_scaled:\", paste(Binary_Variables, collapse = \", \")))\n",
    "print(paste(\"Categorical Variables in phishing_data_scaled:\", paste(Categorical_Variables, collapse = \", \")))\n",
    "print(paste(\"Numerical Variables in phishing_data_scaled:\", paste(Numerical_Variables, collapse = \", \")))"
   ]
  },
  {
   "cell_type": "markdown",
   "id": "e429b684-2211-4b4d-879f-5f4abbc8c122",
   "metadata": {},
   "source": [
    "**4. RECHECK-Summary of each variable**"
   ]
  },
  {
   "cell_type": "raw",
   "id": "19aee743-1d31-48b7-b209-6f4913538f0a",
   "metadata": {},
   "source": [
    "# Get all descriptive statistics information in phishing_data_scaled\n",
    "\n",
    "str(phishing_data_scaled) "
   ]
  },
  {
   "cell_type": "markdown",
   "id": "14092642-3f41-4fda-b956-4c2adc8361e7",
   "metadata": {},
   "source": [
    "# **BALANCING AND SPLITTING**"
   ]
  },
  {
   "cell_type": "code",
   "execution_count": 27,
   "id": "f3510251-e6b2-484b-b1fd-b7419a7bcf8c",
   "metadata": {},
   "outputs": [
    {
     "data": {
      "text/plain": [
       "\n",
       "    0     1 \n",
       "62803 29149 "
      ]
     },
     "metadata": {},
     "output_type": "display_data"
    }
   ],
   "source": [
    "# CHECK THE NUMBER OF RECORDS IN EACH WPP CLASS \n",
    "phishing_data_summary <- table(phishing_data_scaled$phishing)\n",
    "phishing_data_summary"
   ]
  },
  {
   "cell_type": "code",
   "execution_count": 28,
   "id": "2e9260e1-4da7-41bb-aeef-cce3f627626c",
   "metadata": {},
   "outputs": [],
   "source": [
    "# SPLIT THE DATA INTO TRAINING AND TESTING SETS (70% Training, 30% Testing)\n",
    "\n",
    "set.seed(123)  # for reproducibility\n",
    "training_indices <- createDataPartition(phishing_data_scaled$phishing, p = 0.7, list = FALSE)\n",
    "training_data <- phishing_data_scaled[training_indices, ]\n",
    "testing_data <- phishing_data_scaled[-training_indices, ]"
   ]
  },
  {
   "cell_type": "code",
   "execution_count": 29,
   "id": "d146adf1-f351-4bee-a19a-1f51137f48ea",
   "metadata": {},
   "outputs": [
    {
     "data": {
      "text/html": [
       "<dl>\n",
       "\t<dt>$data_train</dt>\n",
       "\t\t<dd><style>\n",
       ".list-inline {list-style: none; margin:0; padding: 0}\n",
       ".list-inline>li {display: inline-block}\n",
       ".list-inline>li:not(:last-child)::after {content: \"\\00b7\"; padding: 0 .5ex}\n",
       "</style>\n",
       "<ol class=list-inline><li>64368</li><li>12</li></ol>\n",
       "</dd>\n",
       "\t<dt>$data_test</dt>\n",
       "\t\t<dd><style>\n",
       ".list-inline {list-style: none; margin:0; padding: 0}\n",
       ".list-inline>li {display: inline-block}\n",
       ".list-inline>li:not(:last-child)::after {content: \"\\00b7\"; padding: 0 .5ex}\n",
       "</style>\n",
       "<ol class=list-inline><li>27584</li><li>12</li></ol>\n",
       "</dd>\n",
       "</dl>\n"
      ],
      "text/latex": [
       "\\begin{description}\n",
       "\\item[\\$data\\_train] \\begin{enumerate*}\n",
       "\\item 64368\n",
       "\\item 12\n",
       "\\end{enumerate*}\n",
       "\n",
       "\\item[\\$data\\_test] \\begin{enumerate*}\n",
       "\\item 27584\n",
       "\\item 12\n",
       "\\end{enumerate*}\n",
       "\n",
       "\\end{description}\n"
      ],
      "text/markdown": [
       "$data_train\n",
       ":   1. 64368\n",
       "2. 12\n",
       "\n",
       "\n",
       "\n",
       "$data_test\n",
       ":   1. 27584\n",
       "2. 12\n",
       "\n",
       "\n",
       "\n",
       "\n",
       "\n"
      ],
      "text/plain": [
       "$data_train\n",
       "[1] 64368    12\n",
       "\n",
       "$data_test\n",
       "[1] 27584    12\n"
      ]
     },
     "metadata": {},
     "output_type": "display_data"
    }
   ],
   "source": [
    "#  CHECK NUMBER OF RECORDS IN THE TRAINING AND TEST SETS \n",
    "list(data_train = dim(training_data ), data_test = dim(testing_data))"
   ]
  },
  {
   "cell_type": "code",
   "execution_count": 30,
   "id": "849f7a46-da1e-4e06-96a7-535541b99134",
   "metadata": {},
   "outputs": [
    {
     "data": {
      "text/plain": [
       "\n",
       "    0     1 \n",
       "43963 20405 "
      ]
     },
     "metadata": {},
     "output_type": "display_data"
    }
   ],
   "source": [
    "# CHECK NUMBER OF RECORDS IN THE TRAINING SETS\n",
    "training_data_summary <- table(training_data$phishing)\n",
    "training_data_summary"
   ]
  },
  {
   "cell_type": "code",
   "execution_count": 31,
   "id": "f90ef8c1-9f96-44c8-9a1d-2e84f77befb7",
   "metadata": {},
   "outputs": [],
   "source": [
    "# Convert 'phishing' variable again to a factor with two levels\n",
    "training_data$phishing <- factor(training_data$phishing, levels = c(0, 1))\n"
   ]
  },
  {
   "cell_type": "markdown",
   "id": "c058987f-53fe-4cf4-97d2-e4c793827da5",
   "metadata": {},
   "source": [
    "# **USING RANDOM FOREST TECHNIQUE**"
   ]
  },
  {
   "cell_type": "markdown",
   "id": "7145a9bd-de05-4d1d-8913-ae2898ed5c35",
   "metadata": {},
   "source": [
    "## **RANDOM FOREST TECHNIQUE USING - randomForest library**"
   ]
  },
  {
   "cell_type": "code",
   "execution_count": 32,
   "id": "fd6a59c9-cdea-43c5-9471-3bafbbf3ec92",
   "metadata": {},
   "outputs": [
    {
     "data": {
      "text/plain": [
       "\n",
       "Call:\n",
       " randomForest(formula = phishing ~ ., data = training_data, ntree = 100) \n",
       "               Type of random forest: classification\n",
       "                     Number of trees: 100\n",
       "No. of variables tried at each split: 3\n",
       "\n",
       "        OOB estimate of  error rate: 11.99%\n",
       "Confusion matrix:\n",
       "      0     1 class.error\n",
       "0 40479  3484  0.07924846\n",
       "1  4233 16172  0.20744915"
      ]
     },
     "metadata": {},
     "output_type": "display_data"
    }
   ],
   "source": [
    "# Train the model\n",
    "rf_model <- randomForest(phishing ~ ., data = training_data, ntree = 100)\n",
    "rf_model"
   ]
  },
  {
   "cell_type": "code",
   "execution_count": 33,
   "id": "48489f0a-a0b0-4cd7-a91e-7729ca84b27b",
   "metadata": {},
   "outputs": [
    {
     "data": {
      "text/plain": [
       "Confusion Matrix and Statistics\n",
       "\n",
       "          Reference\n",
       "Prediction     0     1\n",
       "         0 17378  1831\n",
       "         1  1462  6913\n",
       "                                          \n",
       "               Accuracy : 0.8806          \n",
       "                 95% CI : (0.8767, 0.8844)\n",
       "    No Information Rate : 0.683           \n",
       "    P-Value [Acc > NIR] : < 2.2e-16       \n",
       "                                          \n",
       "                  Kappa : 0.7212          \n",
       "                                          \n",
       " Mcnemar's Test P-Value : 1.428e-10       \n",
       "                                          \n",
       "            Sensitivity : 0.9224          \n",
       "            Specificity : 0.7906          \n",
       "         Pos Pred Value : 0.9047          \n",
       "         Neg Pred Value : 0.8254          \n",
       "             Prevalence : 0.6830          \n",
       "         Detection Rate : 0.6300          \n",
       "   Detection Prevalence : 0.6964          \n",
       "      Balanced Accuracy : 0.8565          \n",
       "                                          \n",
       "       'Positive' Class : 0               \n",
       "                                          "
      ]
     },
     "metadata": {},
     "output_type": "display_data"
    }
   ],
   "source": [
    "# Evaluate Random Forest\n",
    "rf_predictions <- predict(rf_model, testing_data)\n",
    "rf_results <- confusionMatrix(rf_predictions, testing_data$phishing)\n",
    "rf_results"
   ]
  },
  {
   "cell_type": "markdown",
   "id": "99f66cbf-b0a3-44b8-ab2f-72dbc2027c9f",
   "metadata": {},
   "source": [
    "## **RANDOM FOREST TECHNIQUE USING -Ranger Library**"
   ]
  },
  {
   "cell_type": "code",
   "execution_count": 34,
   "id": "1ffc824e-c518-45ac-a244-3198431eac2c",
   "metadata": {},
   "outputs": [
    {
     "data": {
      "text/plain": [
       "Ranger result\n",
       "\n",
       "Call:\n",
       " ranger(phishing ~ ., data = training_data, num.trees = 100) \n",
       "\n",
       "Type:                             Classification \n",
       "Number of trees:                  100 \n",
       "Sample size:                      64368 \n",
       "Number of independent variables:  11 \n",
       "Mtry:                             3 \n",
       "Target node size:                 1 \n",
       "Variable importance mode:         none \n",
       "Splitrule:                        gini \n",
       "OOB prediction error:             11.69 % "
      ]
     },
     "metadata": {},
     "output_type": "display_data"
    }
   ],
   "source": [
    "# Train the model with Ranger\n",
    "rf_model_ranger <- ranger(phishing ~ ., data = training_data, num.trees = 100)\n",
    "rf_model_ranger"
   ]
  },
  {
   "cell_type": "code",
   "execution_count": 35,
   "id": "04ed8d84-0792-4a4c-8f93-bbc3304e926e",
   "metadata": {},
   "outputs": [
    {
     "data": {
      "text/plain": [
       "Confusion Matrix and Statistics\n",
       "\n",
       "          Reference\n",
       "Prediction     0     1\n",
       "         0 17319  1677\n",
       "         1  1521  7067\n",
       "                                          \n",
       "               Accuracy : 0.8841          \n",
       "                 95% CI : (0.8802, 0.8878)\n",
       "    No Information Rate : 0.683           \n",
       "    P-Value [Acc > NIR] : < 2.2e-16       \n",
       "                                          \n",
       "                  Kappa : 0.731           \n",
       "                                          \n",
       " Mcnemar's Test P-Value : 0.006127        \n",
       "                                          \n",
       "            Sensitivity : 0.9193          \n",
       "            Specificity : 0.8082          \n",
       "         Pos Pred Value : 0.9117          \n",
       "         Neg Pred Value : 0.8229          \n",
       "             Prevalence : 0.6830          \n",
       "         Detection Rate : 0.6279          \n",
       "   Detection Prevalence : 0.6887          \n",
       "      Balanced Accuracy : 0.8637          \n",
       "                                          \n",
       "       'Positive' Class : 0               \n",
       "                                          "
      ]
     },
     "metadata": {},
     "output_type": "display_data"
    }
   ],
   "source": [
    "# Predict on the testing set\n",
    "rf_predictions_ranger <- predict(rf_model_ranger, data = testing_data)$predictions\n",
    "rf_results_ranger <- confusionMatrix(rf_predictions_ranger, testing_data$phishing)\n",
    "rf_results_ranger"
   ]
  },
  {
   "cell_type": "markdown",
   "id": "815d2776-abe9-44ed-ab72-b3c0418dce00",
   "metadata": {},
   "source": [
    "# **SUPPORT VECTOR MACHING (SVM) TECHNIQUES**"
   ]
  },
  {
   "cell_type": "markdown",
   "id": "1d160510-035f-4d9c-b873-7eacb906eafc",
   "metadata": {},
   "source": [
    "## **USING SVM e1071 LIBRARY**"
   ]
  },
  {
   "cell_type": "code",
   "execution_count": 36,
   "id": "977f7ee2-d19b-4e16-8dc5-332df01cfc97",
   "metadata": {},
   "outputs": [
    {
     "data": {
      "text/plain": [
       "\n",
       "Call:\n",
       "svm(formula = phishing ~ ., data = training_data)\n",
       "\n",
       "\n",
       "Parameters:\n",
       "   SVM-Type:  C-classification \n",
       " SVM-Kernel:  radial \n",
       "       cost:  1 \n",
       "\n",
       "Number of Support Vectors:  18252\n"
      ]
     },
     "metadata": {},
     "output_type": "display_data"
    }
   ],
   "source": [
    "# Train the SVM model\n",
    "svm_model <- svm(phishing ~ ., data = training_data)\n",
    "svm_model"
   ]
  },
  {
   "cell_type": "code",
   "execution_count": 37,
   "id": "ce42b624-bf58-4fc3-9a17-bcd500878e98",
   "metadata": {},
   "outputs": [
    {
     "name": "stdout",
     "output_type": "stream",
     "text": [
      "Confusion Matrix and Statistics\n",
      "\n",
      "          Reference\n",
      "Prediction     0     1\n",
      "         0 17067  1623\n",
      "         1  1773  7121\n",
      "                                          \n",
      "               Accuracy : 0.8769          \n",
      "                 95% CI : (0.8729, 0.8807)\n",
      "    No Information Rate : 0.683           \n",
      "    P-Value [Acc > NIR] : < 2e-16         \n",
      "                                          \n",
      "                  Kappa : 0.717           \n",
      "                                          \n",
      " Mcnemar's Test P-Value : 0.01056         \n",
      "                                          \n",
      "            Sensitivity : 0.9059          \n",
      "            Specificity : 0.8144          \n",
      "         Pos Pred Value : 0.9132          \n",
      "         Neg Pred Value : 0.8007          \n",
      "             Prevalence : 0.6830          \n",
      "         Detection Rate : 0.6187          \n",
      "   Detection Prevalence : 0.6776          \n",
      "      Balanced Accuracy : 0.8601          \n",
      "                                          \n",
      "       'Positive' Class : 0               \n",
      "                                          \n"
     ]
    }
   ],
   "source": [
    "# Predict on the testing set\n",
    "svm_predictions <- predict(svm_model, newdata = testing_data)\n",
    "\n",
    "# Evaluate the model\n",
    "svm_results <- confusionMatrix(svm_predictions, testing_data$phishing)\n",
    "print(svm_results)"
   ]
  },
  {
   "cell_type": "markdown",
   "id": "d42784fb-4e54-4844-86de-52d94cf30466",
   "metadata": {},
   "source": [
    "## **(SVM) USING KERNLAB LIBRARY**"
   ]
  },
  {
   "cell_type": "code",
   "execution_count": 40,
   "id": "6b4d4bfa-2b68-41b4-9f4b-de0d599185fc",
   "metadata": {},
   "outputs": [
    {
     "data": {
      "text/plain": [
       "Support Vector Machine object of class \"ksvm\" \n",
       "\n",
       "SV type: C-svc  (classification) \n",
       " parameter : cost C = 1 \n",
       "\n",
       "Gaussian Radial Basis kernel function. \n",
       " Hyperparameter : sigma =  2.9414803951326 \n",
       "\n",
       "Number of Support Vectors : 19157 \n",
       "\n",
       "Objective Function Value : -15223.94 \n",
       "Training error : 0.109977 "
      ]
     },
     "metadata": {},
     "output_type": "display_data"
    }
   ],
   "source": [
    "# Train the SVM model using kernlab\n",
    "svm_model_kernlab <- ksvm(phishing ~ ., data = training_data)\n",
    "svm_model_kernlab"
   ]
  },
  {
   "cell_type": "code",
   "execution_count": 39,
   "id": "12679837-7f6c-4135-89f3-d2959b9dee5a",
   "metadata": {},
   "outputs": [
    {
     "data": {
      "text/plain": [
       "Confusion Matrix and Statistics\n",
       "\n",
       "          Reference\n",
       "Prediction     0     1\n",
       "         0 17072  1521\n",
       "         1  1768  7223\n",
       "                                          \n",
       "               Accuracy : 0.8808          \n",
       "                 95% CI : (0.8769, 0.8846)\n",
       "    No Information Rate : 0.683           \n",
       "    P-Value [Acc > NIR] : < 2.2e-16       \n",
       "                                          \n",
       "                  Kappa : 0.7267          \n",
       "                                          \n",
       " Mcnemar's Test P-Value : 1.791e-05       \n",
       "                                          \n",
       "            Sensitivity : 0.9062          \n",
       "            Specificity : 0.8261          \n",
       "         Pos Pred Value : 0.9182          \n",
       "         Neg Pred Value : 0.8034          \n",
       "             Prevalence : 0.6830          \n",
       "         Detection Rate : 0.6189          \n",
       "   Detection Prevalence : 0.6741          \n",
       "      Balanced Accuracy : 0.8661          \n",
       "                                          \n",
       "       'Positive' Class : 0               \n",
       "                                          "
      ]
     },
     "metadata": {},
     "output_type": "display_data"
    }
   ],
   "source": [
    "# Predict on the testing set\n",
    "svm_predictions_kernlab <- predict(svm_model_kernlab, newdata = testing_data)\n",
    "\n",
    "# Evaluate the model\n",
    "svm_kernlab_results <- confusionMatrix(svm_predictions_kernlab, testing_data$phishing)\n",
    "svm_kernlab_results"
   ]
  },
  {
   "cell_type": "code",
   "execution_count": null,
   "id": "afaabc71-0b8c-4b82-9f35-75885111ca26",
   "metadata": {},
   "outputs": [],
   "source": []
  }
 ],
 "metadata": {
  "kernelspec": {
   "display_name": "R",
   "language": "R",
   "name": "ir"
  },
  "language_info": {
   "codemirror_mode": "r",
   "file_extension": ".r",
   "mimetype": "text/x-r-source",
   "name": "R",
   "pygments_lexer": "r",
   "version": "4.3.2"
  }
 },
 "nbformat": 4,
 "nbformat_minor": 5
}
