{
 "cells": [
  {
   "cell_type": "code",
   "execution_count": 1,
   "id": "8cd483ef-0661-4400-b3aa-6ef762c615d4",
   "metadata": {},
   "outputs": [
    {
     "name": "stderr",
     "output_type": "stream",
     "text": [
      "Installing package into 'C:/Users/Dee/AppData/Local/R/win-library/4.3'\n",
      "(as 'lib' is unspecified)\n",
      "\n"
     ]
    },
    {
     "name": "stdout",
     "output_type": "stream",
     "text": [
      "package 'randomForest' successfully unpacked and MD5 sums checked\n"
     ]
    },
    {
     "name": "stderr",
     "output_type": "stream",
     "text": [
      "Warning message:\n",
      "\"cannot remove prior installation of package 'randomForest'\"\n",
      "Warning message in file.copy(savedcopy, lib, recursive = TRUE):\n",
      "\"problem copying C:\\Users\\Dee\\AppData\\Local\\R\\win-library\\4.3\\00LOCK\\randomForest\\libs\\x64\\randomForest.dll to C:\\Users\\Dee\\AppData\\Local\\R\\win-library\\4.3\\randomForest\\libs\\x64\\randomForest.dll: Permission denied\"\n",
      "Warning message:\n",
      "\"restored 'randomForest'\"\n"
     ]
    },
    {
     "name": "stdout",
     "output_type": "stream",
     "text": [
      "\n",
      "The downloaded binary packages are in\n",
      "\tC:\\Users\\Dee\\AppData\\Local\\Temp\\Rtmpyg4vB4\\downloaded_packages\n"
     ]
    },
    {
     "name": "stderr",
     "output_type": "stream",
     "text": [
      "Installing package into 'C:/Users/Dee/AppData/Local/R/win-library/4.3'\n",
      "(as 'lib' is unspecified)\n",
      "\n"
     ]
    },
    {
     "name": "stdout",
     "output_type": "stream",
     "text": [
      "package 'ranger' successfully unpacked and MD5 sums checked\n"
     ]
    },
    {
     "name": "stderr",
     "output_type": "stream",
     "text": [
      "Warning message:\n",
      "\"cannot remove prior installation of package 'ranger'\"\n",
      "Warning message in file.copy(savedcopy, lib, recursive = TRUE):\n",
      "\"problem copying C:\\Users\\Dee\\AppData\\Local\\R\\win-library\\4.3\\00LOCK\\ranger\\libs\\x64\\ranger.dll to C:\\Users\\Dee\\AppData\\Local\\R\\win-library\\4.3\\ranger\\libs\\x64\\ranger.dll: Permission denied\"\n",
      "Warning message:\n",
      "\"restored 'ranger'\"\n"
     ]
    },
    {
     "name": "stdout",
     "output_type": "stream",
     "text": [
      "\n",
      "The downloaded binary packages are in\n",
      "\tC:\\Users\\Dee\\AppData\\Local\\Temp\\Rtmpyg4vB4\\downloaded_packages\n"
     ]
    },
    {
     "name": "stderr",
     "output_type": "stream",
     "text": [
      "Installing package into 'C:/Users/Dee/AppData/Local/R/win-library/4.3'\n",
      "(as 'lib' is unspecified)\n",
      "\n"
     ]
    },
    {
     "name": "stdout",
     "output_type": "stream",
     "text": [
      "package 'e1071' successfully unpacked and MD5 sums checked\n"
     ]
    },
    {
     "name": "stderr",
     "output_type": "stream",
     "text": [
      "Warning message:\n",
      "\"cannot remove prior installation of package 'e1071'\"\n",
      "Warning message in file.copy(savedcopy, lib, recursive = TRUE):\n",
      "\"problem copying C:\\Users\\Dee\\AppData\\Local\\R\\win-library\\4.3\\00LOCK\\e1071\\libs\\x64\\e1071.dll to C:\\Users\\Dee\\AppData\\Local\\R\\win-library\\4.3\\e1071\\libs\\x64\\e1071.dll: Permission denied\"\n",
      "Warning message:\n",
      "\"restored 'e1071'\"\n"
     ]
    },
    {
     "name": "stdout",
     "output_type": "stream",
     "text": [
      "\n",
      "The downloaded binary packages are in\n",
      "\tC:\\Users\\Dee\\AppData\\Local\\Temp\\Rtmpyg4vB4\\downloaded_packages\n"
     ]
    },
    {
     "name": "stderr",
     "output_type": "stream",
     "text": [
      "Installing package into 'C:/Users/Dee/AppData/Local/R/win-library/4.3'\n",
      "(as 'lib' is unspecified)\n",
      "\n"
     ]
    },
    {
     "name": "stdout",
     "output_type": "stream",
     "text": [
      "package 'kernlab' successfully unpacked and MD5 sums checked\n"
     ]
    },
    {
     "name": "stderr",
     "output_type": "stream",
     "text": [
      "Warning message:\n",
      "\"cannot remove prior installation of package 'kernlab'\"\n",
      "Warning message in file.copy(savedcopy, lib, recursive = TRUE):\n",
      "\"problem copying C:\\Users\\Dee\\AppData\\Local\\R\\win-library\\4.3\\00LOCK\\kernlab\\libs\\x64\\kernlab.dll to C:\\Users\\Dee\\AppData\\Local\\R\\win-library\\4.3\\kernlab\\libs\\x64\\kernlab.dll: Permission denied\"\n",
      "Warning message:\n",
      "\"restored 'kernlab'\"\n"
     ]
    },
    {
     "name": "stdout",
     "output_type": "stream",
     "text": [
      "\n",
      "The downloaded binary packages are in\n",
      "\tC:\\Users\\Dee\\AppData\\Local\\Temp\\Rtmpyg4vB4\\downloaded_packages\n"
     ]
    },
    {
     "name": "stderr",
     "output_type": "stream",
     "text": [
      "Warning message:\n",
      "\"package 'dplyr' was built under R version 4.3.3\"\n",
      "\n",
      "Attaching package: 'dplyr'\n",
      "\n",
      "\n",
      "The following objects are masked from 'package:stats':\n",
      "\n",
      "    filter, lag\n",
      "\n",
      "\n",
      "The following objects are masked from 'package:base':\n",
      "\n",
      "    intersect, setdiff, setequal, union\n",
      "\n",
      "\n",
      "Warning message:\n",
      "\"package 'caret' was built under R version 4.3.3\"\n",
      "Loading required package: ggplot2\n",
      "\n",
      "Warning message:\n",
      "\"package 'ggplot2' was built under R version 4.3.3\"\n",
      "Loading required package: lattice\n",
      "\n",
      "Warning message:\n",
      "\"package 'randomForest' was built under R version 4.3.3\"\n",
      "randomForest 4.7-1.1\n",
      "\n",
      "Type rfNews() to see new features/changes/bug fixes.\n",
      "\n",
      "\n",
      "Attaching package: 'randomForest'\n",
      "\n",
      "\n",
      "The following object is masked from 'package:ggplot2':\n",
      "\n",
      "    margin\n",
      "\n",
      "\n",
      "The following object is masked from 'package:dplyr':\n",
      "\n",
      "    combine\n",
      "\n",
      "\n",
      "Warning message:\n",
      "\"package 'ranger' was built under R version 4.3.3\"\n",
      "\n",
      "Attaching package: 'ranger'\n",
      "\n",
      "\n",
      "The following object is masked from 'package:randomForest':\n",
      "\n",
      "    importance\n",
      "\n",
      "\n",
      "Warning message:\n",
      "\"package 'e1071' was built under R version 4.3.3\"\n",
      "\n",
      "Attaching package: 'kernlab'\n",
      "\n",
      "\n",
      "The following object is masked from 'package:ggplot2':\n",
      "\n",
      "    alpha\n",
      "\n",
      "\n"
     ]
    }
   ],
   "source": [
    "# Install and load packages\n",
    "install.packages(\"randomForest\")\n",
    "install.packages(\"ranger\")\n",
    "install.packages(\"e1071\")\n",
    "install.packages(\"kernlab\")\n",
    "\n",
    "# Install and Liberies\n",
    "library(dplyr)\n",
    "library(ggplot2)\n",
    "library(caret)\n",
    "library(randomForest)\n",
    "library(ranger)\n",
    "library(e1071)\n",
    "library(kernlab)"
   ]
  },
  {
   "cell_type": "markdown",
   "id": "54c3c289-3d1f-4dea-bad2-c53949eb6a56",
   "metadata": {},
   "source": [
    "**DATA COLLECTION**"
   ]
  },
  {
   "cell_type": "code",
   "execution_count": 2,
   "id": "55291188-cc75-47f9-8075-c96f4756d0a8",
   "metadata": {},
   "outputs": [],
   "source": [
    "  # FIRST DATASET (Adult Data) and description \n",
    "\n",
    "# It consists of two datasets related as Adultbio and Adultinfo.\n",
    "\n",
    "adultbio <- read.csv(\"adultbio.csv\", header = TRUE) # Load the dataset into the environment.\n",
    "\n",
    "adultinfo <- read.csv(\"adultinfo.csv\", header = TRUE) # Load the dataset into the environment.\n",
    "\n",
    " # Assigning column names to Adultbio\n",
    "colnames(adultbio) <- c(\"age\", \"workclass\", \"fnlwgt\", \"education\", \"education_num\", \"marital_status\", \"occupation\", \"relationship\", \"race\" , \"sex\" , \"capital_gain\", \"capital_loss\", \"hours_per_week\", \"native_country\" , \"income\")\n",
    "\n",
    "# Assigning column names to Adultinfo\n",
    "colnames(adultinfo) <- c(\"age\", \"workclass\", \"fnlwgt\", \"education\", \"education_num\", \"marital_status\", \"occupation\", \"relationship\", \"race\" , \"sex\" , \"capital_gain\", \"capital_loss\", \"hours_per_week\", \"native_country\" , \"income\")\n"
   ]
  },
  {
   "cell_type": "code",
   "execution_count": 3,
   "id": "c78b3157-2b9b-4868-ae2a-7eb20e2452f5",
   "metadata": {},
   "outputs": [
    {
     "data": {
      "text/html": [
       "<table class=\"dataframe\">\n",
       "<caption>A data.frame: 6 × 15</caption>\n",
       "<thead>\n",
       "\t<tr><th></th><th scope=col>age</th><th scope=col>workclass</th><th scope=col>fnlwgt</th><th scope=col>education</th><th scope=col>education_num</th><th scope=col>marital_status</th><th scope=col>occupation</th><th scope=col>relationship</th><th scope=col>race</th><th scope=col>sex</th><th scope=col>capital_gain</th><th scope=col>capital_loss</th><th scope=col>hours_per_week</th><th scope=col>native_country</th><th scope=col>income</th></tr>\n",
       "\t<tr><th></th><th scope=col>&lt;int&gt;</th><th scope=col>&lt;chr&gt;</th><th scope=col>&lt;int&gt;</th><th scope=col>&lt;chr&gt;</th><th scope=col>&lt;int&gt;</th><th scope=col>&lt;chr&gt;</th><th scope=col>&lt;chr&gt;</th><th scope=col>&lt;chr&gt;</th><th scope=col>&lt;chr&gt;</th><th scope=col>&lt;chr&gt;</th><th scope=col>&lt;int&gt;</th><th scope=col>&lt;int&gt;</th><th scope=col>&lt;int&gt;</th><th scope=col>&lt;chr&gt;</th><th scope=col>&lt;chr&gt;</th></tr>\n",
       "</thead>\n",
       "<tbody>\n",
       "\t<tr><th scope=row>1</th><td>39</td><td><span style=white-space:pre-wrap> State-gov       </span></td><td> 77516</td><td> Bachelors</td><td>13</td><td><span style=white-space:pre-wrap> Never-married     </span></td><td><span style=white-space:pre-wrap> Adm-clerical     </span></td><td> Not-in-family</td><td> White</td><td><span style=white-space:pre-wrap> Male  </span></td><td>2174</td><td>0</td><td>40</td><td> United-States</td><td> &lt;=50K</td></tr>\n",
       "\t<tr><th scope=row>2</th><td>50</td><td> Self-emp-not-inc</td><td> 83311</td><td> Bachelors</td><td>13</td><td> Married-civ-spouse</td><td><span style=white-space:pre-wrap> Exec-managerial  </span></td><td><span style=white-space:pre-wrap> Husband      </span></td><td> White</td><td><span style=white-space:pre-wrap> Male  </span></td><td><span style=white-space:pre-wrap>   0</span></td><td>0</td><td>13</td><td> United-States</td><td> &lt;=50K</td></tr>\n",
       "\t<tr><th scope=row>3</th><td>38</td><td><span style=white-space:pre-wrap> Private         </span></td><td>215646</td><td><span style=white-space:pre-wrap> HS-grad  </span></td><td> 9</td><td><span style=white-space:pre-wrap> Divorced          </span></td><td> Handlers-cleaners</td><td> Not-in-family</td><td> White</td><td><span style=white-space:pre-wrap> Male  </span></td><td><span style=white-space:pre-wrap>   0</span></td><td>0</td><td>40</td><td> United-States</td><td> &lt;=50K</td></tr>\n",
       "\t<tr><th scope=row>4</th><td>53</td><td><span style=white-space:pre-wrap> Private         </span></td><td>234721</td><td><span style=white-space:pre-wrap> 11th     </span></td><td> 7</td><td> Married-civ-spouse</td><td> Handlers-cleaners</td><td><span style=white-space:pre-wrap> Husband      </span></td><td> Black</td><td><span style=white-space:pre-wrap> Male  </span></td><td><span style=white-space:pre-wrap>   0</span></td><td>0</td><td>40</td><td> United-States</td><td> &lt;=50K</td></tr>\n",
       "\t<tr><th scope=row>5</th><td>28</td><td><span style=white-space:pre-wrap> Private         </span></td><td>338409</td><td> Bachelors</td><td>13</td><td> Married-civ-spouse</td><td><span style=white-space:pre-wrap> Prof-specialty   </span></td><td><span style=white-space:pre-wrap> Wife         </span></td><td> Black</td><td> Female</td><td><span style=white-space:pre-wrap>   0</span></td><td>0</td><td>40</td><td><span style=white-space:pre-wrap> Cuba         </span></td><td> &lt;=50K</td></tr>\n",
       "\t<tr><th scope=row>6</th><td>37</td><td><span style=white-space:pre-wrap> Private         </span></td><td>284582</td><td><span style=white-space:pre-wrap> Masters  </span></td><td>14</td><td> Married-civ-spouse</td><td><span style=white-space:pre-wrap> Exec-managerial  </span></td><td><span style=white-space:pre-wrap> Wife         </span></td><td> White</td><td> Female</td><td><span style=white-space:pre-wrap>   0</span></td><td>0</td><td>40</td><td> United-States</td><td> &lt;=50K</td></tr>\n",
       "</tbody>\n",
       "</table>\n"
      ],
      "text/latex": [
       "A data.frame: 6 × 15\n",
       "\\begin{tabular}{r|lllllllllllllll}\n",
       "  & age & workclass & fnlwgt & education & education\\_num & marital\\_status & occupation & relationship & race & sex & capital\\_gain & capital\\_loss & hours\\_per\\_week & native\\_country & income\\\\\n",
       "  & <int> & <chr> & <int> & <chr> & <int> & <chr> & <chr> & <chr> & <chr> & <chr> & <int> & <int> & <int> & <chr> & <chr>\\\\\n",
       "\\hline\n",
       "\t1 & 39 &  State-gov        &  77516 &  Bachelors & 13 &  Never-married      &  Adm-clerical      &  Not-in-family &  White &  Male   & 2174 & 0 & 40 &  United-States &  <=50K\\\\\n",
       "\t2 & 50 &  Self-emp-not-inc &  83311 &  Bachelors & 13 &  Married-civ-spouse &  Exec-managerial   &  Husband       &  White &  Male   &    0 & 0 & 13 &  United-States &  <=50K\\\\\n",
       "\t3 & 38 &  Private          & 215646 &  HS-grad   &  9 &  Divorced           &  Handlers-cleaners &  Not-in-family &  White &  Male   &    0 & 0 & 40 &  United-States &  <=50K\\\\\n",
       "\t4 & 53 &  Private          & 234721 &  11th      &  7 &  Married-civ-spouse &  Handlers-cleaners &  Husband       &  Black &  Male   &    0 & 0 & 40 &  United-States &  <=50K\\\\\n",
       "\t5 & 28 &  Private          & 338409 &  Bachelors & 13 &  Married-civ-spouse &  Prof-specialty    &  Wife          &  Black &  Female &    0 & 0 & 40 &  Cuba          &  <=50K\\\\\n",
       "\t6 & 37 &  Private          & 284582 &  Masters   & 14 &  Married-civ-spouse &  Exec-managerial   &  Wife          &  White &  Female &    0 & 0 & 40 &  United-States &  <=50K\\\\\n",
       "\\end{tabular}\n"
      ],
      "text/markdown": [
       "\n",
       "A data.frame: 6 × 15\n",
       "\n",
       "| <!--/--> | age &lt;int&gt; | workclass &lt;chr&gt; | fnlwgt &lt;int&gt; | education &lt;chr&gt; | education_num &lt;int&gt; | marital_status &lt;chr&gt; | occupation &lt;chr&gt; | relationship &lt;chr&gt; | race &lt;chr&gt; | sex &lt;chr&gt; | capital_gain &lt;int&gt; | capital_loss &lt;int&gt; | hours_per_week &lt;int&gt; | native_country &lt;chr&gt; | income &lt;chr&gt; |\n",
       "|---|---|---|---|---|---|---|---|---|---|---|---|---|---|---|---|\n",
       "| 1 | 39 |  State-gov        |  77516 |  Bachelors | 13 |  Never-married      |  Adm-clerical      |  Not-in-family |  White |  Male   | 2174 | 0 | 40 |  United-States |  &lt;=50K |\n",
       "| 2 | 50 |  Self-emp-not-inc |  83311 |  Bachelors | 13 |  Married-civ-spouse |  Exec-managerial   |  Husband       |  White |  Male   |    0 | 0 | 13 |  United-States |  &lt;=50K |\n",
       "| 3 | 38 |  Private          | 215646 |  HS-grad   |  9 |  Divorced           |  Handlers-cleaners |  Not-in-family |  White |  Male   |    0 | 0 | 40 |  United-States |  &lt;=50K |\n",
       "| 4 | 53 |  Private          | 234721 |  11th      |  7 |  Married-civ-spouse |  Handlers-cleaners |  Husband       |  Black |  Male   |    0 | 0 | 40 |  United-States |  &lt;=50K |\n",
       "| 5 | 28 |  Private          | 338409 |  Bachelors | 13 |  Married-civ-spouse |  Prof-specialty    |  Wife          |  Black |  Female |    0 | 0 | 40 |  Cuba          |  &lt;=50K |\n",
       "| 6 | 37 |  Private          | 284582 |  Masters   | 14 |  Married-civ-spouse |  Exec-managerial   |  Wife          |  White |  Female |    0 | 0 | 40 |  United-States |  &lt;=50K |\n",
       "\n"
      ],
      "text/plain": [
       "  age workclass         fnlwgt education  education_num marital_status     \n",
       "1 39   State-gov         77516  Bachelors 13             Never-married     \n",
       "2 50   Self-emp-not-inc  83311  Bachelors 13             Married-civ-spouse\n",
       "3 38   Private          215646  HS-grad    9             Divorced          \n",
       "4 53   Private          234721  11th       7             Married-civ-spouse\n",
       "5 28   Private          338409  Bachelors 13             Married-civ-spouse\n",
       "6 37   Private          284582  Masters   14             Married-civ-spouse\n",
       "  occupation         relationship   race   sex     capital_gain capital_loss\n",
       "1  Adm-clerical       Not-in-family  White  Male   2174         0           \n",
       "2  Exec-managerial    Husband        White  Male      0         0           \n",
       "3  Handlers-cleaners  Not-in-family  White  Male      0         0           \n",
       "4  Handlers-cleaners  Husband        Black  Male      0         0           \n",
       "5  Prof-specialty     Wife           Black  Female    0         0           \n",
       "6  Exec-managerial    Wife           White  Female    0         0           \n",
       "  hours_per_week native_country income\n",
       "1 40              United-States  <=50K\n",
       "2 13              United-States  <=50K\n",
       "3 40              United-States  <=50K\n",
       "4 40              United-States  <=50K\n",
       "5 40              Cuba           <=50K\n",
       "6 40              United-States  <=50K"
      ]
     },
     "metadata": {},
     "output_type": "display_data"
    },
    {
     "data": {
      "text/html": [
       "<table class=\"dataframe\">\n",
       "<caption>A data.frame: 6 × 15</caption>\n",
       "<thead>\n",
       "\t<tr><th></th><th scope=col>age</th><th scope=col>workclass</th><th scope=col>fnlwgt</th><th scope=col>education</th><th scope=col>education_num</th><th scope=col>marital_status</th><th scope=col>occupation</th><th scope=col>relationship</th><th scope=col>race</th><th scope=col>sex</th><th scope=col>capital_gain</th><th scope=col>capital_loss</th><th scope=col>hours_per_week</th><th scope=col>native_country</th><th scope=col>income</th></tr>\n",
       "\t<tr><th></th><th scope=col>&lt;int&gt;</th><th scope=col>&lt;chr&gt;</th><th scope=col>&lt;int&gt;</th><th scope=col>&lt;chr&gt;</th><th scope=col>&lt;int&gt;</th><th scope=col>&lt;chr&gt;</th><th scope=col>&lt;chr&gt;</th><th scope=col>&lt;chr&gt;</th><th scope=col>&lt;chr&gt;</th><th scope=col>&lt;chr&gt;</th><th scope=col>&lt;int&gt;</th><th scope=col>&lt;int&gt;</th><th scope=col>&lt;int&gt;</th><th scope=col>&lt;chr&gt;</th><th scope=col>&lt;chr&gt;</th></tr>\n",
       "</thead>\n",
       "<tbody>\n",
       "\t<tr><th scope=row>32557</th><td>27</td><td><span style=white-space:pre-wrap> Private     </span></td><td>257302</td><td> Assoc-acdm</td><td>12</td><td> Married-civ-spouse</td><td><span style=white-space:pre-wrap> Tech-support     </span></td><td><span style=white-space:pre-wrap> Wife     </span></td><td> White</td><td> Female</td><td><span style=white-space:pre-wrap>    0</span></td><td> 0</td><td>38</td><td> United-States</td><td> &lt;=50K</td></tr>\n",
       "\t<tr><th scope=row>32558</th><td>40</td><td><span style=white-space:pre-wrap> Private     </span></td><td>154374</td><td><span style=white-space:pre-wrap> HS-grad   </span></td><td> 9</td><td> Married-civ-spouse</td><td> Machine-op-inspct</td><td><span style=white-space:pre-wrap> Husband  </span></td><td> White</td><td><span style=white-space:pre-wrap> Male  </span></td><td><span style=white-space:pre-wrap>    0</span></td><td> 0</td><td>40</td><td> United-States</td><td> &gt;50K </td></tr>\n",
       "\t<tr><th scope=row>32559</th><td>58</td><td><span style=white-space:pre-wrap> Private     </span></td><td>151910</td><td><span style=white-space:pre-wrap> HS-grad   </span></td><td> 9</td><td><span style=white-space:pre-wrap> Widowed           </span></td><td><span style=white-space:pre-wrap> Adm-clerical     </span></td><td> Unmarried</td><td> White</td><td> Female</td><td><span style=white-space:pre-wrap>    0</span></td><td> 0</td><td>40</td><td> United-States</td><td> &lt;=50K</td></tr>\n",
       "\t<tr><th scope=row>32560</th><td>22</td><td><span style=white-space:pre-wrap> Private     </span></td><td>201490</td><td><span style=white-space:pre-wrap> HS-grad   </span></td><td> 9</td><td><span style=white-space:pre-wrap> Never-married     </span></td><td><span style=white-space:pre-wrap> Adm-clerical     </span></td><td> Own-child</td><td> White</td><td><span style=white-space:pre-wrap> Male  </span></td><td><span style=white-space:pre-wrap>    0</span></td><td> 0</td><td>20</td><td> United-States</td><td> &lt;=50K</td></tr>\n",
       "\t<tr><th scope=row>32561</th><td>52</td><td> Self-emp-inc</td><td>287927</td><td><span style=white-space:pre-wrap> HS-grad   </span></td><td> 9</td><td> Married-civ-spouse</td><td><span style=white-space:pre-wrap> Exec-managerial  </span></td><td><span style=white-space:pre-wrap> Wife     </span></td><td> White</td><td> Female</td><td>15024</td><td> 0</td><td>40</td><td> United-States</td><td> &gt;50K </td></tr>\n",
       "\t<tr><th scope=row>32562</th><td>NA</td><td>             </td><td>    NA</td><td>           </td><td>NA</td><td>                   </td><td>                  </td><td>          </td><td>      </td><td>       </td><td>   NA</td><td>NA</td><td>NA</td><td>              </td><td>      </td></tr>\n",
       "</tbody>\n",
       "</table>\n"
      ],
      "text/latex": [
       "A data.frame: 6 × 15\n",
       "\\begin{tabular}{r|lllllllllllllll}\n",
       "  & age & workclass & fnlwgt & education & education\\_num & marital\\_status & occupation & relationship & race & sex & capital\\_gain & capital\\_loss & hours\\_per\\_week & native\\_country & income\\\\\n",
       "  & <int> & <chr> & <int> & <chr> & <int> & <chr> & <chr> & <chr> & <chr> & <chr> & <int> & <int> & <int> & <chr> & <chr>\\\\\n",
       "\\hline\n",
       "\t32557 & 27 &  Private      & 257302 &  Assoc-acdm & 12 &  Married-civ-spouse &  Tech-support      &  Wife      &  White &  Female &     0 &  0 & 38 &  United-States &  <=50K\\\\\n",
       "\t32558 & 40 &  Private      & 154374 &  HS-grad    &  9 &  Married-civ-spouse &  Machine-op-inspct &  Husband   &  White &  Male   &     0 &  0 & 40 &  United-States &  >50K \\\\\n",
       "\t32559 & 58 &  Private      & 151910 &  HS-grad    &  9 &  Widowed            &  Adm-clerical      &  Unmarried &  White &  Female &     0 &  0 & 40 &  United-States &  <=50K\\\\\n",
       "\t32560 & 22 &  Private      & 201490 &  HS-grad    &  9 &  Never-married      &  Adm-clerical      &  Own-child &  White &  Male   &     0 &  0 & 20 &  United-States &  <=50K\\\\\n",
       "\t32561 & 52 &  Self-emp-inc & 287927 &  HS-grad    &  9 &  Married-civ-spouse &  Exec-managerial   &  Wife      &  White &  Female & 15024 &  0 & 40 &  United-States &  >50K \\\\\n",
       "\t32562 & NA &               &     NA &             & NA &                     &                    &            &        &         &    NA & NA & NA &                &       \\\\\n",
       "\\end{tabular}\n"
      ],
      "text/markdown": [
       "\n",
       "A data.frame: 6 × 15\n",
       "\n",
       "| <!--/--> | age &lt;int&gt; | workclass &lt;chr&gt; | fnlwgt &lt;int&gt; | education &lt;chr&gt; | education_num &lt;int&gt; | marital_status &lt;chr&gt; | occupation &lt;chr&gt; | relationship &lt;chr&gt; | race &lt;chr&gt; | sex &lt;chr&gt; | capital_gain &lt;int&gt; | capital_loss &lt;int&gt; | hours_per_week &lt;int&gt; | native_country &lt;chr&gt; | income &lt;chr&gt; |\n",
       "|---|---|---|---|---|---|---|---|---|---|---|---|---|---|---|---|\n",
       "| 32557 | 27 |  Private      | 257302 |  Assoc-acdm | 12 |  Married-civ-spouse |  Tech-support      |  Wife      |  White |  Female |     0 |  0 | 38 |  United-States |  &lt;=50K |\n",
       "| 32558 | 40 |  Private      | 154374 |  HS-grad    |  9 |  Married-civ-spouse |  Machine-op-inspct |  Husband   |  White |  Male   |     0 |  0 | 40 |  United-States |  &gt;50K  |\n",
       "| 32559 | 58 |  Private      | 151910 |  HS-grad    |  9 |  Widowed            |  Adm-clerical      |  Unmarried |  White |  Female |     0 |  0 | 40 |  United-States |  &lt;=50K |\n",
       "| 32560 | 22 |  Private      | 201490 |  HS-grad    |  9 |  Never-married      |  Adm-clerical      |  Own-child |  White |  Male   |     0 |  0 | 20 |  United-States |  &lt;=50K |\n",
       "| 32561 | 52 |  Self-emp-inc | 287927 |  HS-grad    |  9 |  Married-civ-spouse |  Exec-managerial   |  Wife      |  White |  Female | 15024 |  0 | 40 |  United-States |  &gt;50K  |\n",
       "| 32562 | NA | <!----> |     NA | <!----> | NA | <!----> | <!----> | <!----> | <!----> | <!----> |    NA | NA | NA | <!----> | <!----> |\n",
       "\n"
      ],
      "text/plain": [
       "      age workclass     fnlwgt education   education_num marital_status     \n",
       "32557 27   Private      257302  Assoc-acdm 12             Married-civ-spouse\n",
       "32558 40   Private      154374  HS-grad     9             Married-civ-spouse\n",
       "32559 58   Private      151910  HS-grad     9             Widowed           \n",
       "32560 22   Private      201490  HS-grad     9             Never-married     \n",
       "32561 52   Self-emp-inc 287927  HS-grad     9             Married-civ-spouse\n",
       "32562 NA                    NA             NA                               \n",
       "      occupation         relationship race   sex     capital_gain capital_loss\n",
       "32557  Tech-support       Wife         White  Female     0         0          \n",
       "32558  Machine-op-inspct  Husband      White  Male       0         0          \n",
       "32559  Adm-clerical       Unmarried    White  Female     0         0          \n",
       "32560  Adm-clerical       Own-child    White  Male       0         0          \n",
       "32561  Exec-managerial    Wife         White  Female 15024         0          \n",
       "32562                                                   NA        NA          \n",
       "      hours_per_week native_country income\n",
       "32557 38              United-States  <=50K\n",
       "32558 40              United-States  >50K \n",
       "32559 40              United-States  <=50K\n",
       "32560 20              United-States  <=50K\n",
       "32561 40              United-States  >50K \n",
       "32562 NA                                  "
      ]
     },
     "metadata": {},
     "output_type": "display_data"
    },
    {
     "data": {
      "text/html": [
       "<table class=\"dataframe\">\n",
       "<caption>A data.frame: 6 × 15</caption>\n",
       "<thead>\n",
       "\t<tr><th></th><th scope=col>age</th><th scope=col>workclass</th><th scope=col>fnlwgt</th><th scope=col>education</th><th scope=col>education_num</th><th scope=col>marital_status</th><th scope=col>occupation</th><th scope=col>relationship</th><th scope=col>race</th><th scope=col>sex</th><th scope=col>capital_gain</th><th scope=col>capital_loss</th><th scope=col>hours_per_week</th><th scope=col>native_country</th><th scope=col>income</th></tr>\n",
       "\t<tr><th></th><th scope=col>&lt;int&gt;</th><th scope=col>&lt;chr&gt;</th><th scope=col>&lt;int&gt;</th><th scope=col>&lt;chr&gt;</th><th scope=col>&lt;int&gt;</th><th scope=col>&lt;chr&gt;</th><th scope=col>&lt;chr&gt;</th><th scope=col>&lt;chr&gt;</th><th scope=col>&lt;chr&gt;</th><th scope=col>&lt;chr&gt;</th><th scope=col>&lt;int&gt;</th><th scope=col>&lt;int&gt;</th><th scope=col>&lt;int&gt;</th><th scope=col>&lt;chr&gt;</th><th scope=col>&lt;chr&gt;</th></tr>\n",
       "</thead>\n",
       "<tbody>\n",
       "\t<tr><th scope=row>1</th><td>25</td><td><span style=white-space:pre-wrap> Private  </span></td><td>226802</td><td><span style=white-space:pre-wrap> 11th        </span></td><td> 7</td><td><span style=white-space:pre-wrap> Never-married     </span></td><td> Machine-op-inspct</td><td><span style=white-space:pre-wrap> Own-child    </span></td><td> Black</td><td><span style=white-space:pre-wrap> Male  </span></td><td><span style=white-space:pre-wrap>   0</span></td><td>0</td><td>40</td><td> United-States</td><td> &lt;=50K.</td></tr>\n",
       "\t<tr><th scope=row>2</th><td>38</td><td><span style=white-space:pre-wrap> Private  </span></td><td> 89814</td><td><span style=white-space:pre-wrap> HS-grad     </span></td><td> 9</td><td> Married-civ-spouse</td><td><span style=white-space:pre-wrap> Farming-fishing  </span></td><td><span style=white-space:pre-wrap> Husband      </span></td><td> White</td><td><span style=white-space:pre-wrap> Male  </span></td><td><span style=white-space:pre-wrap>   0</span></td><td>0</td><td>50</td><td> United-States</td><td> &lt;=50K.</td></tr>\n",
       "\t<tr><th scope=row>3</th><td>28</td><td> Local-gov</td><td>336951</td><td><span style=white-space:pre-wrap> Assoc-acdm  </span></td><td>12</td><td> Married-civ-spouse</td><td><span style=white-space:pre-wrap> Protective-serv  </span></td><td><span style=white-space:pre-wrap> Husband      </span></td><td> White</td><td><span style=white-space:pre-wrap> Male  </span></td><td><span style=white-space:pre-wrap>   0</span></td><td>0</td><td>40</td><td> United-States</td><td> &gt;50K. </td></tr>\n",
       "\t<tr><th scope=row>4</th><td>44</td><td><span style=white-space:pre-wrap> Private  </span></td><td>160323</td><td> Some-college</td><td>10</td><td> Married-civ-spouse</td><td> Machine-op-inspct</td><td><span style=white-space:pre-wrap> Husband      </span></td><td> Black</td><td><span style=white-space:pre-wrap> Male  </span></td><td>7688</td><td>0</td><td>40</td><td> United-States</td><td> &gt;50K. </td></tr>\n",
       "\t<tr><th scope=row>5</th><td>18</td><td><span style=white-space:pre-wrap> ?        </span></td><td>103497</td><td> Some-college</td><td>10</td><td><span style=white-space:pre-wrap> Never-married     </span></td><td><span style=white-space:pre-wrap> ?                </span></td><td><span style=white-space:pre-wrap> Own-child    </span></td><td> White</td><td> Female</td><td><span style=white-space:pre-wrap>   0</span></td><td>0</td><td>30</td><td> United-States</td><td> &lt;=50K.</td></tr>\n",
       "\t<tr><th scope=row>6</th><td>34</td><td><span style=white-space:pre-wrap> Private  </span></td><td>198693</td><td><span style=white-space:pre-wrap> 10th        </span></td><td> 6</td><td><span style=white-space:pre-wrap> Never-married     </span></td><td><span style=white-space:pre-wrap> Other-service    </span></td><td> Not-in-family</td><td> White</td><td><span style=white-space:pre-wrap> Male  </span></td><td><span style=white-space:pre-wrap>   0</span></td><td>0</td><td>30</td><td> United-States</td><td> &lt;=50K.</td></tr>\n",
       "</tbody>\n",
       "</table>\n"
      ],
      "text/latex": [
       "A data.frame: 6 × 15\n",
       "\\begin{tabular}{r|lllllllllllllll}\n",
       "  & age & workclass & fnlwgt & education & education\\_num & marital\\_status & occupation & relationship & race & sex & capital\\_gain & capital\\_loss & hours\\_per\\_week & native\\_country & income\\\\\n",
       "  & <int> & <chr> & <int> & <chr> & <int> & <chr> & <chr> & <chr> & <chr> & <chr> & <int> & <int> & <int> & <chr> & <chr>\\\\\n",
       "\\hline\n",
       "\t1 & 25 &  Private   & 226802 &  11th         &  7 &  Never-married      &  Machine-op-inspct &  Own-child     &  Black &  Male   &    0 & 0 & 40 &  United-States &  <=50K.\\\\\n",
       "\t2 & 38 &  Private   &  89814 &  HS-grad      &  9 &  Married-civ-spouse &  Farming-fishing   &  Husband       &  White &  Male   &    0 & 0 & 50 &  United-States &  <=50K.\\\\\n",
       "\t3 & 28 &  Local-gov & 336951 &  Assoc-acdm   & 12 &  Married-civ-spouse &  Protective-serv   &  Husband       &  White &  Male   &    0 & 0 & 40 &  United-States &  >50K. \\\\\n",
       "\t4 & 44 &  Private   & 160323 &  Some-college & 10 &  Married-civ-spouse &  Machine-op-inspct &  Husband       &  Black &  Male   & 7688 & 0 & 40 &  United-States &  >50K. \\\\\n",
       "\t5 & 18 &  ?         & 103497 &  Some-college & 10 &  Never-married      &  ?                 &  Own-child     &  White &  Female &    0 & 0 & 30 &  United-States &  <=50K.\\\\\n",
       "\t6 & 34 &  Private   & 198693 &  10th         &  6 &  Never-married      &  Other-service     &  Not-in-family &  White &  Male   &    0 & 0 & 30 &  United-States &  <=50K.\\\\\n",
       "\\end{tabular}\n"
      ],
      "text/markdown": [
       "\n",
       "A data.frame: 6 × 15\n",
       "\n",
       "| <!--/--> | age &lt;int&gt; | workclass &lt;chr&gt; | fnlwgt &lt;int&gt; | education &lt;chr&gt; | education_num &lt;int&gt; | marital_status &lt;chr&gt; | occupation &lt;chr&gt; | relationship &lt;chr&gt; | race &lt;chr&gt; | sex &lt;chr&gt; | capital_gain &lt;int&gt; | capital_loss &lt;int&gt; | hours_per_week &lt;int&gt; | native_country &lt;chr&gt; | income &lt;chr&gt; |\n",
       "|---|---|---|---|---|---|---|---|---|---|---|---|---|---|---|---|\n",
       "| 1 | 25 |  Private   | 226802 |  11th         |  7 |  Never-married      |  Machine-op-inspct |  Own-child     |  Black |  Male   |    0 | 0 | 40 |  United-States |  &lt;=50K. |\n",
       "| 2 | 38 |  Private   |  89814 |  HS-grad      |  9 |  Married-civ-spouse |  Farming-fishing   |  Husband       |  White |  Male   |    0 | 0 | 50 |  United-States |  &lt;=50K. |\n",
       "| 3 | 28 |  Local-gov | 336951 |  Assoc-acdm   | 12 |  Married-civ-spouse |  Protective-serv   |  Husband       |  White |  Male   |    0 | 0 | 40 |  United-States |  &gt;50K.  |\n",
       "| 4 | 44 |  Private   | 160323 |  Some-college | 10 |  Married-civ-spouse |  Machine-op-inspct |  Husband       |  Black |  Male   | 7688 | 0 | 40 |  United-States |  &gt;50K.  |\n",
       "| 5 | 18 |  ?         | 103497 |  Some-college | 10 |  Never-married      |  ?                 |  Own-child     |  White |  Female |    0 | 0 | 30 |  United-States |  &lt;=50K. |\n",
       "| 6 | 34 |  Private   | 198693 |  10th         |  6 |  Never-married      |  Other-service     |  Not-in-family |  White |  Male   |    0 | 0 | 30 |  United-States |  &lt;=50K. |\n",
       "\n"
      ],
      "text/plain": [
       "  age workclass  fnlwgt education     education_num marital_status     \n",
       "1 25   Private   226802  11th          7             Never-married     \n",
       "2 38   Private    89814  HS-grad       9             Married-civ-spouse\n",
       "3 28   Local-gov 336951  Assoc-acdm   12             Married-civ-spouse\n",
       "4 44   Private   160323  Some-college 10             Married-civ-spouse\n",
       "5 18   ?         103497  Some-college 10             Never-married     \n",
       "6 34   Private   198693  10th          6             Never-married     \n",
       "  occupation         relationship   race   sex     capital_gain capital_loss\n",
       "1  Machine-op-inspct  Own-child      Black  Male      0         0           \n",
       "2  Farming-fishing    Husband        White  Male      0         0           \n",
       "3  Protective-serv    Husband        White  Male      0         0           \n",
       "4  Machine-op-inspct  Husband        Black  Male   7688         0           \n",
       "5  ?                  Own-child      White  Female    0         0           \n",
       "6  Other-service      Not-in-family  White  Male      0         0           \n",
       "  hours_per_week native_country income \n",
       "1 40              United-States  <=50K.\n",
       "2 50              United-States  <=50K.\n",
       "3 40              United-States  >50K. \n",
       "4 40              United-States  >50K. \n",
       "5 30              United-States  <=50K.\n",
       "6 30              United-States  <=50K."
      ]
     },
     "metadata": {},
     "output_type": "display_data"
    },
    {
     "data": {
      "text/html": [
       "<table class=\"dataframe\">\n",
       "<caption>A data.frame: 6 × 15</caption>\n",
       "<thead>\n",
       "\t<tr><th></th><th scope=col>age</th><th scope=col>workclass</th><th scope=col>fnlwgt</th><th scope=col>education</th><th scope=col>education_num</th><th scope=col>marital_status</th><th scope=col>occupation</th><th scope=col>relationship</th><th scope=col>race</th><th scope=col>sex</th><th scope=col>capital_gain</th><th scope=col>capital_loss</th><th scope=col>hours_per_week</th><th scope=col>native_country</th><th scope=col>income</th></tr>\n",
       "\t<tr><th></th><th scope=col>&lt;int&gt;</th><th scope=col>&lt;chr&gt;</th><th scope=col>&lt;int&gt;</th><th scope=col>&lt;chr&gt;</th><th scope=col>&lt;int&gt;</th><th scope=col>&lt;chr&gt;</th><th scope=col>&lt;chr&gt;</th><th scope=col>&lt;chr&gt;</th><th scope=col>&lt;chr&gt;</th><th scope=col>&lt;chr&gt;</th><th scope=col>&lt;int&gt;</th><th scope=col>&lt;int&gt;</th><th scope=col>&lt;int&gt;</th><th scope=col>&lt;chr&gt;</th><th scope=col>&lt;chr&gt;</th></tr>\n",
       "</thead>\n",
       "<tbody>\n",
       "\t<tr><th scope=row>16277</th><td>39</td><td><span style=white-space:pre-wrap> Private     </span></td><td>215419</td><td> Bachelors</td><td>13</td><td><span style=white-space:pre-wrap> Divorced          </span></td><td> Prof-specialty </td><td> Not-in-family </td><td><span style=white-space:pre-wrap> White             </span></td><td> Female</td><td><span style=white-space:pre-wrap>   0</span></td><td> 0</td><td>36</td><td> United-States</td><td> &lt;=50K.</td></tr>\n",
       "\t<tr><th scope=row>16278</th><td>64</td><td><span style=white-space:pre-wrap> ?           </span></td><td>321403</td><td><span style=white-space:pre-wrap> HS-grad  </span></td><td> 9</td><td><span style=white-space:pre-wrap> Widowed           </span></td><td><span style=white-space:pre-wrap> ?              </span></td><td> Other-relative</td><td><span style=white-space:pre-wrap> Black             </span></td><td><span style=white-space:pre-wrap> Male  </span></td><td><span style=white-space:pre-wrap>   0</span></td><td> 0</td><td>40</td><td> United-States</td><td> &lt;=50K.</td></tr>\n",
       "\t<tr><th scope=row>16279</th><td>38</td><td><span style=white-space:pre-wrap> Private     </span></td><td>374983</td><td> Bachelors</td><td>13</td><td> Married-civ-spouse</td><td> Prof-specialty </td><td><span style=white-space:pre-wrap> Husband       </span></td><td><span style=white-space:pre-wrap> White             </span></td><td><span style=white-space:pre-wrap> Male  </span></td><td><span style=white-space:pre-wrap>   0</span></td><td> 0</td><td>50</td><td> United-States</td><td> &lt;=50K.</td></tr>\n",
       "\t<tr><th scope=row>16280</th><td>44</td><td><span style=white-space:pre-wrap> Private     </span></td><td> 83891</td><td> Bachelors</td><td>13</td><td><span style=white-space:pre-wrap> Divorced          </span></td><td><span style=white-space:pre-wrap> Adm-clerical   </span></td><td><span style=white-space:pre-wrap> Own-child     </span></td><td> Asian-Pac-Islander</td><td><span style=white-space:pre-wrap> Male  </span></td><td>5455</td><td> 0</td><td>40</td><td> United-States</td><td> &lt;=50K.</td></tr>\n",
       "\t<tr><th scope=row>16281</th><td>35</td><td> Self-emp-inc</td><td>182148</td><td> Bachelors</td><td>13</td><td> Married-civ-spouse</td><td> Exec-managerial</td><td><span style=white-space:pre-wrap> Husband       </span></td><td><span style=white-space:pre-wrap> White             </span></td><td><span style=white-space:pre-wrap> Male  </span></td><td><span style=white-space:pre-wrap>   0</span></td><td> 0</td><td>60</td><td> United-States</td><td> &gt;50K. </td></tr>\n",
       "\t<tr><th scope=row>16282</th><td>NA</td><td>             </td><td>    NA</td><td>          </td><td>NA</td><td>                   </td><td>                </td><td>               </td><td>                   </td><td>       </td><td>  NA</td><td>NA</td><td>NA</td><td>              </td><td>       </td></tr>\n",
       "</tbody>\n",
       "</table>\n"
      ],
      "text/latex": [
       "A data.frame: 6 × 15\n",
       "\\begin{tabular}{r|lllllllllllllll}\n",
       "  & age & workclass & fnlwgt & education & education\\_num & marital\\_status & occupation & relationship & race & sex & capital\\_gain & capital\\_loss & hours\\_per\\_week & native\\_country & income\\\\\n",
       "  & <int> & <chr> & <int> & <chr> & <int> & <chr> & <chr> & <chr> & <chr> & <chr> & <int> & <int> & <int> & <chr> & <chr>\\\\\n",
       "\\hline\n",
       "\t16277 & 39 &  Private      & 215419 &  Bachelors & 13 &  Divorced           &  Prof-specialty  &  Not-in-family  &  White              &  Female &    0 &  0 & 36 &  United-States &  <=50K.\\\\\n",
       "\t16278 & 64 &  ?            & 321403 &  HS-grad   &  9 &  Widowed            &  ?               &  Other-relative &  Black              &  Male   &    0 &  0 & 40 &  United-States &  <=50K.\\\\\n",
       "\t16279 & 38 &  Private      & 374983 &  Bachelors & 13 &  Married-civ-spouse &  Prof-specialty  &  Husband        &  White              &  Male   &    0 &  0 & 50 &  United-States &  <=50K.\\\\\n",
       "\t16280 & 44 &  Private      &  83891 &  Bachelors & 13 &  Divorced           &  Adm-clerical    &  Own-child      &  Asian-Pac-Islander &  Male   & 5455 &  0 & 40 &  United-States &  <=50K.\\\\\n",
       "\t16281 & 35 &  Self-emp-inc & 182148 &  Bachelors & 13 &  Married-civ-spouse &  Exec-managerial &  Husband        &  White              &  Male   &    0 &  0 & 60 &  United-States &  >50K. \\\\\n",
       "\t16282 & NA &               &     NA &            & NA &                     &                  &                 &                     &         &   NA & NA & NA &                &        \\\\\n",
       "\\end{tabular}\n"
      ],
      "text/markdown": [
       "\n",
       "A data.frame: 6 × 15\n",
       "\n",
       "| <!--/--> | age &lt;int&gt; | workclass &lt;chr&gt; | fnlwgt &lt;int&gt; | education &lt;chr&gt; | education_num &lt;int&gt; | marital_status &lt;chr&gt; | occupation &lt;chr&gt; | relationship &lt;chr&gt; | race &lt;chr&gt; | sex &lt;chr&gt; | capital_gain &lt;int&gt; | capital_loss &lt;int&gt; | hours_per_week &lt;int&gt; | native_country &lt;chr&gt; | income &lt;chr&gt; |\n",
       "|---|---|---|---|---|---|---|---|---|---|---|---|---|---|---|---|\n",
       "| 16277 | 39 |  Private      | 215419 |  Bachelors | 13 |  Divorced           |  Prof-specialty  |  Not-in-family  |  White              |  Female |    0 |  0 | 36 |  United-States |  &lt;=50K. |\n",
       "| 16278 | 64 |  ?            | 321403 |  HS-grad   |  9 |  Widowed            |  ?               |  Other-relative |  Black              |  Male   |    0 |  0 | 40 |  United-States |  &lt;=50K. |\n",
       "| 16279 | 38 |  Private      | 374983 |  Bachelors | 13 |  Married-civ-spouse |  Prof-specialty  |  Husband        |  White              |  Male   |    0 |  0 | 50 |  United-States |  &lt;=50K. |\n",
       "| 16280 | 44 |  Private      |  83891 |  Bachelors | 13 |  Divorced           |  Adm-clerical    |  Own-child      |  Asian-Pac-Islander |  Male   | 5455 |  0 | 40 |  United-States |  &lt;=50K. |\n",
       "| 16281 | 35 |  Self-emp-inc | 182148 |  Bachelors | 13 |  Married-civ-spouse |  Exec-managerial |  Husband        |  White              |  Male   |    0 |  0 | 60 |  United-States |  &gt;50K.  |\n",
       "| 16282 | NA | <!----> |     NA | <!----> | NA | <!----> | <!----> | <!----> | <!----> | <!----> |   NA | NA | NA | <!----> | <!----> |\n",
       "\n"
      ],
      "text/plain": [
       "      age workclass     fnlwgt education  education_num marital_status     \n",
       "16277 39   Private      215419  Bachelors 13             Divorced          \n",
       "16278 64   ?            321403  HS-grad    9             Widowed           \n",
       "16279 38   Private      374983  Bachelors 13             Married-civ-spouse\n",
       "16280 44   Private       83891  Bachelors 13             Divorced          \n",
       "16281 35   Self-emp-inc 182148  Bachelors 13             Married-civ-spouse\n",
       "16282 NA                    NA            NA                               \n",
       "      occupation       relationship    race                sex     capital_gain\n",
       "16277  Prof-specialty   Not-in-family   White               Female    0        \n",
       "16278  ?                Other-relative  Black               Male      0        \n",
       "16279  Prof-specialty   Husband         White               Male      0        \n",
       "16280  Adm-clerical     Own-child       Asian-Pac-Islander  Male   5455        \n",
       "16281  Exec-managerial  Husband         White               Male      0        \n",
       "16282                                                                NA        \n",
       "      capital_loss hours_per_week native_country income \n",
       "16277  0           36              United-States  <=50K.\n",
       "16278  0           40              United-States  <=50K.\n",
       "16279  0           50              United-States  <=50K.\n",
       "16280  0           40              United-States  <=50K.\n",
       "16281  0           60              United-States  >50K. \n",
       "16282 NA           NA                                   "
      ]
     },
     "metadata": {},
     "output_type": "display_data"
    }
   ],
   "source": [
    "# Display the first and last few rows of Adultbio and Adultinfo\n",
    "\n",
    "head(adultbio) # First few row of Adultbio\n",
    "tail(adultbio) # Last few rows of Adultbio\n",
    "head(adultinfo) # First few rows of Adultinfo\n",
    "tail(adultinfo) # Last few rows of Adultinfo"
   ]
  },
  {
   "cell_type": "code",
   "execution_count": 4,
   "id": "480e5016-49c5-40e5-8633-afa693ecd7bc",
   "metadata": {},
   "outputs": [
    {
     "name": "stdout",
     "output_type": "stream",
     "text": [
      "'data.frame':\t32562 obs. of  15 variables:\n",
      " $ age           : int  39 50 38 53 28 37 49 52 31 42 ...\n",
      " $ workclass     : chr  \" State-gov\" \" Self-emp-not-inc\" \" Private\" \" Private\" ...\n",
      " $ fnlwgt        : int  77516 83311 215646 234721 338409 284582 160187 209642 45781 159449 ...\n",
      " $ education     : chr  \" Bachelors\" \" Bachelors\" \" HS-grad\" \" 11th\" ...\n",
      " $ education_num : int  13 13 9 7 13 14 5 9 14 13 ...\n",
      " $ marital_status: chr  \" Never-married\" \" Married-civ-spouse\" \" Divorced\" \" Married-civ-spouse\" ...\n",
      " $ occupation    : chr  \" Adm-clerical\" \" Exec-managerial\" \" Handlers-cleaners\" \" Handlers-cleaners\" ...\n",
      " $ relationship  : chr  \" Not-in-family\" \" Husband\" \" Not-in-family\" \" Husband\" ...\n",
      " $ race          : chr  \" White\" \" White\" \" White\" \" Black\" ...\n",
      " $ sex           : chr  \" Male\" \" Male\" \" Male\" \" Male\" ...\n",
      " $ capital_gain  : int  2174 0 0 0 0 0 0 0 14084 5178 ...\n",
      " $ capital_loss  : int  0 0 0 0 0 0 0 0 0 0 ...\n",
      " $ hours_per_week: int  40 13 40 40 40 40 16 45 50 40 ...\n",
      " $ native_country: chr  \" United-States\" \" United-States\" \" United-States\" \" United-States\" ...\n",
      " $ income        : chr  \" <=50K\" \" <=50K\" \" <=50K\" \" <=50K\" ...\n",
      "'data.frame':\t16282 obs. of  15 variables:\n",
      " $ age           : int  25 38 28 44 18 34 29 63 24 55 ...\n",
      " $ workclass     : chr  \" Private\" \" Private\" \" Local-gov\" \" Private\" ...\n",
      " $ fnlwgt        : int  226802 89814 336951 160323 103497 198693 227026 104626 369667 104996 ...\n",
      " $ education     : chr  \" 11th\" \" HS-grad\" \" Assoc-acdm\" \" Some-college\" ...\n",
      " $ education_num : int  7 9 12 10 10 6 9 15 10 4 ...\n",
      " $ marital_status: chr  \" Never-married\" \" Married-civ-spouse\" \" Married-civ-spouse\" \" Married-civ-spouse\" ...\n",
      " $ occupation    : chr  \" Machine-op-inspct\" \" Farming-fishing\" \" Protective-serv\" \" Machine-op-inspct\" ...\n",
      " $ relationship  : chr  \" Own-child\" \" Husband\" \" Husband\" \" Husband\" ...\n",
      " $ race          : chr  \" Black\" \" White\" \" White\" \" Black\" ...\n",
      " $ sex           : chr  \" Male\" \" Male\" \" Male\" \" Male\" ...\n",
      " $ capital_gain  : int  0 0 0 7688 0 0 0 3103 0 0 ...\n",
      " $ capital_loss  : int  0 0 0 0 0 0 0 0 0 0 ...\n",
      " $ hours_per_week: int  40 50 40 40 30 30 40 32 40 10 ...\n",
      " $ native_country: chr  \" United-States\" \" United-States\" \" United-States\" \" United-States\" ...\n",
      " $ income        : chr  \" <=50K.\" \" <=50K.\" \" >50K.\" \" >50K.\" ...\n"
     ]
    }
   ],
   "source": [
    "# Display the structure in Adultbio and Adultinfo\n",
    "\n",
    "str(adultbio) # Display the structure in Adultbio\n",
    "str(adultinfo) # display the structure in Adultinfo"
   ]
  },
  {
   "cell_type": "code",
   "execution_count": 5,
   "id": "f2a352a8-ac97-47fa-986f-31b8604f6934",
   "metadata": {},
   "outputs": [
    {
     "data": {
      "text/html": [
       "32562"
      ],
      "text/latex": [
       "32562"
      ],
      "text/markdown": [
       "32562"
      ],
      "text/plain": [
       "[1] 32562"
      ]
     },
     "metadata": {},
     "output_type": "display_data"
    },
    {
     "data": {
      "text/html": [
       "16282"
      ],
      "text/latex": [
       "16282"
      ],
      "text/markdown": [
       "16282"
      ],
      "text/plain": [
       "[1] 16282"
      ]
     },
     "metadata": {},
     "output_type": "display_data"
    }
   ],
   "source": [
    "# Display the number of rows in Adultbio and Adultinfo\n",
    "\n",
    "nrow(adultbio) # View the number of Rows in Adultbio\n",
    "nrow(adultinfo) # View the number of Rows in Adultinfo"
   ]
  },
  {
   "cell_type": "code",
   "execution_count": 6,
   "id": "6b4ad889-c444-4be5-b00d-ed739a3c17be",
   "metadata": {},
   "outputs": [
    {
     "data": {
      "text/html": [
       "15"
      ],
      "text/latex": [
       "15"
      ],
      "text/markdown": [
       "15"
      ],
      "text/plain": [
       "[1] 15"
      ]
     },
     "metadata": {},
     "output_type": "display_data"
    },
    {
     "data": {
      "text/html": [
       "15"
      ],
      "text/latex": [
       "15"
      ],
      "text/markdown": [
       "15"
      ],
      "text/plain": [
       "[1] 15"
      ]
     },
     "metadata": {},
     "output_type": "display_data"
    }
   ],
   "source": [
    "# Display the number of coloums in  in Adultbio and Adultinfo\n",
    "\n",
    "ncol(adultbio) # View the number of Columns in Adultbio\n",
    "ncol(adultinfo) # View the number of Columns in Adultinfo\n"
   ]
  },
  {
   "cell_type": "code",
   "execution_count": 7,
   "id": "5e8a2039-c75c-4116-8b31-136193d5c20a",
   "metadata": {},
   "outputs": [
    {
     "data": {
      "text/html": [
       "<style>\n",
       ".list-inline {list-style: none; margin:0; padding: 0}\n",
       ".list-inline>li {display: inline-block}\n",
       ".list-inline>li:not(:last-child)::after {content: \"\\00b7\"; padding: 0 .5ex}\n",
       "</style>\n",
       "<ol class=list-inline><li>'age'</li><li>'workclass'</li><li>'fnlwgt'</li><li>'education'</li><li>'education_num'</li><li>'marital_status'</li><li>'occupation'</li><li>'relationship'</li><li>'race'</li><li>'sex'</li><li>'capital_gain'</li><li>'capital_loss'</li><li>'hours_per_week'</li><li>'native_country'</li><li>'income'</li></ol>\n"
      ],
      "text/latex": [
       "\\begin{enumerate*}\n",
       "\\item 'age'\n",
       "\\item 'workclass'\n",
       "\\item 'fnlwgt'\n",
       "\\item 'education'\n",
       "\\item 'education\\_num'\n",
       "\\item 'marital\\_status'\n",
       "\\item 'occupation'\n",
       "\\item 'relationship'\n",
       "\\item 'race'\n",
       "\\item 'sex'\n",
       "\\item 'capital\\_gain'\n",
       "\\item 'capital\\_loss'\n",
       "\\item 'hours\\_per\\_week'\n",
       "\\item 'native\\_country'\n",
       "\\item 'income'\n",
       "\\end{enumerate*}\n"
      ],
      "text/markdown": [
       "1. 'age'\n",
       "2. 'workclass'\n",
       "3. 'fnlwgt'\n",
       "4. 'education'\n",
       "5. 'education_num'\n",
       "6. 'marital_status'\n",
       "7. 'occupation'\n",
       "8. 'relationship'\n",
       "9. 'race'\n",
       "10. 'sex'\n",
       "11. 'capital_gain'\n",
       "12. 'capital_loss'\n",
       "13. 'hours_per_week'\n",
       "14. 'native_country'\n",
       "15. 'income'\n",
       "\n",
       "\n"
      ],
      "text/plain": [
       " [1] \"age\"            \"workclass\"      \"fnlwgt\"         \"education\"     \n",
       " [5] \"education_num\"  \"marital_status\" \"occupation\"     \"relationship\"  \n",
       " [9] \"race\"           \"sex\"            \"capital_gain\"   \"capital_loss\"  \n",
       "[13] \"hours_per_week\" \"native_country\" \"income\"        "
      ]
     },
     "metadata": {},
     "output_type": "display_data"
    },
    {
     "data": {
      "text/html": [
       "<style>\n",
       ".list-inline {list-style: none; margin:0; padding: 0}\n",
       ".list-inline>li {display: inline-block}\n",
       ".list-inline>li:not(:last-child)::after {content: \"\\00b7\"; padding: 0 .5ex}\n",
       "</style>\n",
       "<ol class=list-inline><li>'age'</li><li>'workclass'</li><li>'fnlwgt'</li><li>'education'</li><li>'education_num'</li><li>'marital_status'</li><li>'occupation'</li><li>'relationship'</li><li>'race'</li><li>'sex'</li><li>'capital_gain'</li><li>'capital_loss'</li><li>'hours_per_week'</li><li>'native_country'</li><li>'income'</li></ol>\n"
      ],
      "text/latex": [
       "\\begin{enumerate*}\n",
       "\\item 'age'\n",
       "\\item 'workclass'\n",
       "\\item 'fnlwgt'\n",
       "\\item 'education'\n",
       "\\item 'education\\_num'\n",
       "\\item 'marital\\_status'\n",
       "\\item 'occupation'\n",
       "\\item 'relationship'\n",
       "\\item 'race'\n",
       "\\item 'sex'\n",
       "\\item 'capital\\_gain'\n",
       "\\item 'capital\\_loss'\n",
       "\\item 'hours\\_per\\_week'\n",
       "\\item 'native\\_country'\n",
       "\\item 'income'\n",
       "\\end{enumerate*}\n"
      ],
      "text/markdown": [
       "1. 'age'\n",
       "2. 'workclass'\n",
       "3. 'fnlwgt'\n",
       "4. 'education'\n",
       "5. 'education_num'\n",
       "6. 'marital_status'\n",
       "7. 'occupation'\n",
       "8. 'relationship'\n",
       "9. 'race'\n",
       "10. 'sex'\n",
       "11. 'capital_gain'\n",
       "12. 'capital_loss'\n",
       "13. 'hours_per_week'\n",
       "14. 'native_country'\n",
       "15. 'income'\n",
       "\n",
       "\n"
      ],
      "text/plain": [
       " [1] \"age\"            \"workclass\"      \"fnlwgt\"         \"education\"     \n",
       " [5] \"education_num\"  \"marital_status\" \"occupation\"     \"relationship\"  \n",
       " [9] \"race\"           \"sex\"            \"capital_gain\"   \"capital_loss\"  \n",
       "[13] \"hours_per_week\" \"native_country\" \"income\"        "
      ]
     },
     "metadata": {},
     "output_type": "display_data"
    }
   ],
   "source": [
    "# Display all coloum names in Adultbio and Adultinfo\n",
    "\n",
    "names(adultbio) # Get all column names in Adultbio\n",
    "names(adultinfo) # Get all column names in Adultinfo"
   ]
  },
  {
   "cell_type": "markdown",
   "id": "cbf94e61-7f98-4d91-9126-4557864162b2",
   "metadata": {},
   "source": [
    "**DATA INTEGRATION**"
   ]
  },
  {
   "cell_type": "code",
   "execution_count": 8,
   "id": "0b47f53d-1594-4e42-a434-54222ea3c405",
   "metadata": {
    "scrolled": true
   },
   "outputs": [
    {
     "data": {
      "text/html": [
       "<table class=\"dataframe\">\n",
       "<caption>A data.frame: 48844 × 15</caption>\n",
       "<thead>\n",
       "\t<tr><th scope=col>age</th><th scope=col>workclass</th><th scope=col>fnlwgt</th><th scope=col>education</th><th scope=col>education_num</th><th scope=col>marital_status</th><th scope=col>occupation</th><th scope=col>relationship</th><th scope=col>race</th><th scope=col>sex</th><th scope=col>capital_gain</th><th scope=col>capital_loss</th><th scope=col>hours_per_week</th><th scope=col>native_country</th><th scope=col>income</th></tr>\n",
       "\t<tr><th scope=col>&lt;int&gt;</th><th scope=col>&lt;chr&gt;</th><th scope=col>&lt;int&gt;</th><th scope=col>&lt;chr&gt;</th><th scope=col>&lt;int&gt;</th><th scope=col>&lt;chr&gt;</th><th scope=col>&lt;chr&gt;</th><th scope=col>&lt;chr&gt;</th><th scope=col>&lt;chr&gt;</th><th scope=col>&lt;chr&gt;</th><th scope=col>&lt;int&gt;</th><th scope=col>&lt;int&gt;</th><th scope=col>&lt;int&gt;</th><th scope=col>&lt;chr&gt;</th><th scope=col>&lt;chr&gt;</th></tr>\n",
       "</thead>\n",
       "<tbody>\n",
       "\t<tr><td>39</td><td><span style=white-space:pre-wrap> State-gov       </span></td><td> 77516</td><td><span style=white-space:pre-wrap> Bachelors   </span></td><td>13</td><td><span style=white-space:pre-wrap> Never-married        </span></td><td><span style=white-space:pre-wrap> Adm-clerical     </span></td><td> Not-in-family</td><td><span style=white-space:pre-wrap> White             </span></td><td><span style=white-space:pre-wrap> Male  </span></td><td> 2174</td><td><span style=white-space:pre-wrap>   0</span></td><td>40</td><td> United-States</td><td> &lt;=50K</td></tr>\n",
       "\t<tr><td>50</td><td> Self-emp-not-inc</td><td> 83311</td><td><span style=white-space:pre-wrap> Bachelors   </span></td><td>13</td><td><span style=white-space:pre-wrap> Married-civ-spouse   </span></td><td><span style=white-space:pre-wrap> Exec-managerial  </span></td><td><span style=white-space:pre-wrap> Husband      </span></td><td><span style=white-space:pre-wrap> White             </span></td><td><span style=white-space:pre-wrap> Male  </span></td><td><span style=white-space:pre-wrap>    0</span></td><td><span style=white-space:pre-wrap>   0</span></td><td>13</td><td> United-States</td><td> &lt;=50K</td></tr>\n",
       "\t<tr><td>38</td><td><span style=white-space:pre-wrap> Private         </span></td><td>215646</td><td><span style=white-space:pre-wrap> HS-grad     </span></td><td> 9</td><td><span style=white-space:pre-wrap> Divorced             </span></td><td> Handlers-cleaners</td><td> Not-in-family</td><td><span style=white-space:pre-wrap> White             </span></td><td><span style=white-space:pre-wrap> Male  </span></td><td><span style=white-space:pre-wrap>    0</span></td><td><span style=white-space:pre-wrap>   0</span></td><td>40</td><td> United-States</td><td> &lt;=50K</td></tr>\n",
       "\t<tr><td>53</td><td><span style=white-space:pre-wrap> Private         </span></td><td>234721</td><td><span style=white-space:pre-wrap> 11th        </span></td><td> 7</td><td><span style=white-space:pre-wrap> Married-civ-spouse   </span></td><td> Handlers-cleaners</td><td><span style=white-space:pre-wrap> Husband      </span></td><td><span style=white-space:pre-wrap> Black             </span></td><td><span style=white-space:pre-wrap> Male  </span></td><td><span style=white-space:pre-wrap>    0</span></td><td><span style=white-space:pre-wrap>   0</span></td><td>40</td><td> United-States</td><td> &lt;=50K</td></tr>\n",
       "\t<tr><td>28</td><td><span style=white-space:pre-wrap> Private         </span></td><td>338409</td><td><span style=white-space:pre-wrap> Bachelors   </span></td><td>13</td><td><span style=white-space:pre-wrap> Married-civ-spouse   </span></td><td><span style=white-space:pre-wrap> Prof-specialty   </span></td><td><span style=white-space:pre-wrap> Wife         </span></td><td><span style=white-space:pre-wrap> Black             </span></td><td> Female</td><td><span style=white-space:pre-wrap>    0</span></td><td><span style=white-space:pre-wrap>   0</span></td><td>40</td><td><span style=white-space:pre-wrap> Cuba         </span></td><td> &lt;=50K</td></tr>\n",
       "\t<tr><td>37</td><td><span style=white-space:pre-wrap> Private         </span></td><td>284582</td><td><span style=white-space:pre-wrap> Masters     </span></td><td>14</td><td><span style=white-space:pre-wrap> Married-civ-spouse   </span></td><td><span style=white-space:pre-wrap> Exec-managerial  </span></td><td><span style=white-space:pre-wrap> Wife         </span></td><td><span style=white-space:pre-wrap> White             </span></td><td> Female</td><td><span style=white-space:pre-wrap>    0</span></td><td><span style=white-space:pre-wrap>   0</span></td><td>40</td><td> United-States</td><td> &lt;=50K</td></tr>\n",
       "\t<tr><td>49</td><td><span style=white-space:pre-wrap> Private         </span></td><td>160187</td><td><span style=white-space:pre-wrap> 9th         </span></td><td> 5</td><td> Married-spouse-absent</td><td><span style=white-space:pre-wrap> Other-service    </span></td><td> Not-in-family</td><td><span style=white-space:pre-wrap> Black             </span></td><td> Female</td><td><span style=white-space:pre-wrap>    0</span></td><td><span style=white-space:pre-wrap>   0</span></td><td>16</td><td><span style=white-space:pre-wrap> Jamaica      </span></td><td> &lt;=50K</td></tr>\n",
       "\t<tr><td>52</td><td> Self-emp-not-inc</td><td>209642</td><td><span style=white-space:pre-wrap> HS-grad     </span></td><td> 9</td><td><span style=white-space:pre-wrap> Married-civ-spouse   </span></td><td><span style=white-space:pre-wrap> Exec-managerial  </span></td><td><span style=white-space:pre-wrap> Husband      </span></td><td><span style=white-space:pre-wrap> White             </span></td><td><span style=white-space:pre-wrap> Male  </span></td><td><span style=white-space:pre-wrap>    0</span></td><td><span style=white-space:pre-wrap>   0</span></td><td>45</td><td> United-States</td><td> &gt;50K </td></tr>\n",
       "\t<tr><td>31</td><td><span style=white-space:pre-wrap> Private         </span></td><td> 45781</td><td><span style=white-space:pre-wrap> Masters     </span></td><td>14</td><td><span style=white-space:pre-wrap> Never-married        </span></td><td><span style=white-space:pre-wrap> Prof-specialty   </span></td><td> Not-in-family</td><td><span style=white-space:pre-wrap> White             </span></td><td> Female</td><td>14084</td><td><span style=white-space:pre-wrap>   0</span></td><td>50</td><td> United-States</td><td> &gt;50K </td></tr>\n",
       "\t<tr><td>42</td><td><span style=white-space:pre-wrap> Private         </span></td><td>159449</td><td><span style=white-space:pre-wrap> Bachelors   </span></td><td>13</td><td><span style=white-space:pre-wrap> Married-civ-spouse   </span></td><td><span style=white-space:pre-wrap> Exec-managerial  </span></td><td><span style=white-space:pre-wrap> Husband      </span></td><td><span style=white-space:pre-wrap> White             </span></td><td><span style=white-space:pre-wrap> Male  </span></td><td> 5178</td><td><span style=white-space:pre-wrap>   0</span></td><td>40</td><td> United-States</td><td> &gt;50K </td></tr>\n",
       "\t<tr><td>37</td><td><span style=white-space:pre-wrap> Private         </span></td><td>280464</td><td> Some-college</td><td>10</td><td><span style=white-space:pre-wrap> Married-civ-spouse   </span></td><td><span style=white-space:pre-wrap> Exec-managerial  </span></td><td><span style=white-space:pre-wrap> Husband      </span></td><td><span style=white-space:pre-wrap> Black             </span></td><td><span style=white-space:pre-wrap> Male  </span></td><td><span style=white-space:pre-wrap>    0</span></td><td><span style=white-space:pre-wrap>   0</span></td><td>80</td><td> United-States</td><td> &gt;50K </td></tr>\n",
       "\t<tr><td>30</td><td><span style=white-space:pre-wrap> State-gov       </span></td><td>141297</td><td><span style=white-space:pre-wrap> Bachelors   </span></td><td>13</td><td><span style=white-space:pre-wrap> Married-civ-spouse   </span></td><td><span style=white-space:pre-wrap> Prof-specialty   </span></td><td><span style=white-space:pre-wrap> Husband      </span></td><td> Asian-Pac-Islander</td><td><span style=white-space:pre-wrap> Male  </span></td><td><span style=white-space:pre-wrap>    0</span></td><td><span style=white-space:pre-wrap>   0</span></td><td>40</td><td><span style=white-space:pre-wrap> India        </span></td><td> &gt;50K </td></tr>\n",
       "\t<tr><td>23</td><td><span style=white-space:pre-wrap> Private         </span></td><td>122272</td><td><span style=white-space:pre-wrap> Bachelors   </span></td><td>13</td><td><span style=white-space:pre-wrap> Never-married        </span></td><td><span style=white-space:pre-wrap> Adm-clerical     </span></td><td><span style=white-space:pre-wrap> Own-child    </span></td><td><span style=white-space:pre-wrap> White             </span></td><td> Female</td><td><span style=white-space:pre-wrap>    0</span></td><td><span style=white-space:pre-wrap>   0</span></td><td>30</td><td> United-States</td><td> &lt;=50K</td></tr>\n",
       "\t<tr><td>32</td><td><span style=white-space:pre-wrap> Private         </span></td><td>205019</td><td><span style=white-space:pre-wrap> Assoc-acdm  </span></td><td>12</td><td><span style=white-space:pre-wrap> Never-married        </span></td><td><span style=white-space:pre-wrap> Sales            </span></td><td> Not-in-family</td><td><span style=white-space:pre-wrap> Black             </span></td><td><span style=white-space:pre-wrap> Male  </span></td><td><span style=white-space:pre-wrap>    0</span></td><td><span style=white-space:pre-wrap>   0</span></td><td>50</td><td> United-States</td><td> &lt;=50K</td></tr>\n",
       "\t<tr><td>40</td><td><span style=white-space:pre-wrap> Private         </span></td><td>121772</td><td><span style=white-space:pre-wrap> Assoc-voc   </span></td><td>11</td><td><span style=white-space:pre-wrap> Married-civ-spouse   </span></td><td><span style=white-space:pre-wrap> Craft-repair     </span></td><td><span style=white-space:pre-wrap> Husband      </span></td><td> Asian-Pac-Islander</td><td><span style=white-space:pre-wrap> Male  </span></td><td><span style=white-space:pre-wrap>    0</span></td><td><span style=white-space:pre-wrap>   0</span></td><td>40</td><td><span style=white-space:pre-wrap> ?            </span></td><td> &gt;50K </td></tr>\n",
       "\t<tr><td>34</td><td><span style=white-space:pre-wrap> Private         </span></td><td>245487</td><td><span style=white-space:pre-wrap> 7th-8th     </span></td><td> 4</td><td><span style=white-space:pre-wrap> Married-civ-spouse   </span></td><td> Transport-moving </td><td><span style=white-space:pre-wrap> Husband      </span></td><td> Amer-Indian-Eskimo</td><td><span style=white-space:pre-wrap> Male  </span></td><td><span style=white-space:pre-wrap>    0</span></td><td><span style=white-space:pre-wrap>   0</span></td><td>45</td><td><span style=white-space:pre-wrap> Mexico       </span></td><td> &lt;=50K</td></tr>\n",
       "\t<tr><td>25</td><td> Self-emp-not-inc</td><td>176756</td><td><span style=white-space:pre-wrap> HS-grad     </span></td><td> 9</td><td><span style=white-space:pre-wrap> Never-married        </span></td><td><span style=white-space:pre-wrap> Farming-fishing  </span></td><td><span style=white-space:pre-wrap> Own-child    </span></td><td><span style=white-space:pre-wrap> White             </span></td><td><span style=white-space:pre-wrap> Male  </span></td><td><span style=white-space:pre-wrap>    0</span></td><td><span style=white-space:pre-wrap>   0</span></td><td>35</td><td> United-States</td><td> &lt;=50K</td></tr>\n",
       "\t<tr><td>32</td><td><span style=white-space:pre-wrap> Private         </span></td><td>186824</td><td><span style=white-space:pre-wrap> HS-grad     </span></td><td> 9</td><td><span style=white-space:pre-wrap> Never-married        </span></td><td> Machine-op-inspct</td><td><span style=white-space:pre-wrap> Unmarried    </span></td><td><span style=white-space:pre-wrap> White             </span></td><td><span style=white-space:pre-wrap> Male  </span></td><td><span style=white-space:pre-wrap>    0</span></td><td><span style=white-space:pre-wrap>   0</span></td><td>40</td><td> United-States</td><td> &lt;=50K</td></tr>\n",
       "\t<tr><td>38</td><td><span style=white-space:pre-wrap> Private         </span></td><td> 28887</td><td><span style=white-space:pre-wrap> 11th        </span></td><td> 7</td><td><span style=white-space:pre-wrap> Married-civ-spouse   </span></td><td><span style=white-space:pre-wrap> Sales            </span></td><td><span style=white-space:pre-wrap> Husband      </span></td><td><span style=white-space:pre-wrap> White             </span></td><td><span style=white-space:pre-wrap> Male  </span></td><td><span style=white-space:pre-wrap>    0</span></td><td><span style=white-space:pre-wrap>   0</span></td><td>50</td><td> United-States</td><td> &lt;=50K</td></tr>\n",
       "\t<tr><td>43</td><td> Self-emp-not-inc</td><td>292175</td><td><span style=white-space:pre-wrap> Masters     </span></td><td>14</td><td><span style=white-space:pre-wrap> Divorced             </span></td><td><span style=white-space:pre-wrap> Exec-managerial  </span></td><td><span style=white-space:pre-wrap> Unmarried    </span></td><td><span style=white-space:pre-wrap> White             </span></td><td> Female</td><td><span style=white-space:pre-wrap>    0</span></td><td><span style=white-space:pre-wrap>   0</span></td><td>45</td><td> United-States</td><td> &gt;50K </td></tr>\n",
       "\t<tr><td>40</td><td><span style=white-space:pre-wrap> Private         </span></td><td>193524</td><td><span style=white-space:pre-wrap> Doctorate   </span></td><td>16</td><td><span style=white-space:pre-wrap> Married-civ-spouse   </span></td><td><span style=white-space:pre-wrap> Prof-specialty   </span></td><td><span style=white-space:pre-wrap> Husband      </span></td><td><span style=white-space:pre-wrap> White             </span></td><td><span style=white-space:pre-wrap> Male  </span></td><td><span style=white-space:pre-wrap>    0</span></td><td><span style=white-space:pre-wrap>   0</span></td><td>60</td><td> United-States</td><td> &gt;50K </td></tr>\n",
       "\t<tr><td>54</td><td><span style=white-space:pre-wrap> Private         </span></td><td>302146</td><td><span style=white-space:pre-wrap> HS-grad     </span></td><td> 9</td><td><span style=white-space:pre-wrap> Separated            </span></td><td><span style=white-space:pre-wrap> Other-service    </span></td><td><span style=white-space:pre-wrap> Unmarried    </span></td><td><span style=white-space:pre-wrap> Black             </span></td><td> Female</td><td><span style=white-space:pre-wrap>    0</span></td><td><span style=white-space:pre-wrap>   0</span></td><td>20</td><td> United-States</td><td> &lt;=50K</td></tr>\n",
       "\t<tr><td>35</td><td><span style=white-space:pre-wrap> Federal-gov     </span></td><td> 76845</td><td><span style=white-space:pre-wrap> 9th         </span></td><td> 5</td><td><span style=white-space:pre-wrap> Married-civ-spouse   </span></td><td><span style=white-space:pre-wrap> Farming-fishing  </span></td><td><span style=white-space:pre-wrap> Husband      </span></td><td><span style=white-space:pre-wrap> Black             </span></td><td><span style=white-space:pre-wrap> Male  </span></td><td><span style=white-space:pre-wrap>    0</span></td><td><span style=white-space:pre-wrap>   0</span></td><td>40</td><td> United-States</td><td> &lt;=50K</td></tr>\n",
       "\t<tr><td>43</td><td><span style=white-space:pre-wrap> Private         </span></td><td>117037</td><td><span style=white-space:pre-wrap> 11th        </span></td><td> 7</td><td><span style=white-space:pre-wrap> Married-civ-spouse   </span></td><td> Transport-moving </td><td><span style=white-space:pre-wrap> Husband      </span></td><td><span style=white-space:pre-wrap> White             </span></td><td><span style=white-space:pre-wrap> Male  </span></td><td><span style=white-space:pre-wrap>    0</span></td><td>2042</td><td>40</td><td> United-States</td><td> &lt;=50K</td></tr>\n",
       "\t<tr><td>59</td><td><span style=white-space:pre-wrap> Private         </span></td><td>109015</td><td><span style=white-space:pre-wrap> HS-grad     </span></td><td> 9</td><td><span style=white-space:pre-wrap> Divorced             </span></td><td><span style=white-space:pre-wrap> Tech-support     </span></td><td><span style=white-space:pre-wrap> Unmarried    </span></td><td><span style=white-space:pre-wrap> White             </span></td><td> Female</td><td><span style=white-space:pre-wrap>    0</span></td><td><span style=white-space:pre-wrap>   0</span></td><td>40</td><td> United-States</td><td> &lt;=50K</td></tr>\n",
       "\t<tr><td>56</td><td><span style=white-space:pre-wrap> Local-gov       </span></td><td>216851</td><td><span style=white-space:pre-wrap> Bachelors   </span></td><td>13</td><td><span style=white-space:pre-wrap> Married-civ-spouse   </span></td><td><span style=white-space:pre-wrap> Tech-support     </span></td><td><span style=white-space:pre-wrap> Husband      </span></td><td><span style=white-space:pre-wrap> White             </span></td><td><span style=white-space:pre-wrap> Male  </span></td><td><span style=white-space:pre-wrap>    0</span></td><td><span style=white-space:pre-wrap>   0</span></td><td>40</td><td> United-States</td><td> &gt;50K </td></tr>\n",
       "\t<tr><td>19</td><td><span style=white-space:pre-wrap> Private         </span></td><td>168294</td><td><span style=white-space:pre-wrap> HS-grad     </span></td><td> 9</td><td><span style=white-space:pre-wrap> Never-married        </span></td><td><span style=white-space:pre-wrap> Craft-repair     </span></td><td><span style=white-space:pre-wrap> Own-child    </span></td><td><span style=white-space:pre-wrap> White             </span></td><td><span style=white-space:pre-wrap> Male  </span></td><td><span style=white-space:pre-wrap>    0</span></td><td><span style=white-space:pre-wrap>   0</span></td><td>40</td><td> United-States</td><td> &lt;=50K</td></tr>\n",
       "\t<tr><td>54</td><td><span style=white-space:pre-wrap> ?               </span></td><td>180211</td><td> Some-college</td><td>10</td><td><span style=white-space:pre-wrap> Married-civ-spouse   </span></td><td><span style=white-space:pre-wrap> ?                </span></td><td><span style=white-space:pre-wrap> Husband      </span></td><td> Asian-Pac-Islander</td><td><span style=white-space:pre-wrap> Male  </span></td><td><span style=white-space:pre-wrap>    0</span></td><td><span style=white-space:pre-wrap>   0</span></td><td>60</td><td><span style=white-space:pre-wrap> South        </span></td><td> &gt;50K </td></tr>\n",
       "\t<tr><td>39</td><td><span style=white-space:pre-wrap> Private         </span></td><td>367260</td><td><span style=white-space:pre-wrap> HS-grad     </span></td><td> 9</td><td><span style=white-space:pre-wrap> Divorced             </span></td><td><span style=white-space:pre-wrap> Exec-managerial  </span></td><td> Not-in-family</td><td><span style=white-space:pre-wrap> White             </span></td><td><span style=white-space:pre-wrap> Male  </span></td><td><span style=white-space:pre-wrap>    0</span></td><td><span style=white-space:pre-wrap>   0</span></td><td>80</td><td> United-States</td><td> &lt;=50K</td></tr>\n",
       "\t<tr><td>49</td><td><span style=white-space:pre-wrap> Private         </span></td><td>193366</td><td><span style=white-space:pre-wrap> HS-grad     </span></td><td> 9</td><td><span style=white-space:pre-wrap> Married-civ-spouse   </span></td><td><span style=white-space:pre-wrap> Craft-repair     </span></td><td><span style=white-space:pre-wrap> Husband      </span></td><td><span style=white-space:pre-wrap> White             </span></td><td><span style=white-space:pre-wrap> Male  </span></td><td><span style=white-space:pre-wrap>    0</span></td><td><span style=white-space:pre-wrap>   0</span></td><td>40</td><td> United-States</td><td> &lt;=50K</td></tr>\n",
       "\t<tr><td>⋮</td><td>⋮</td><td>⋮</td><td>⋮</td><td>⋮</td><td>⋮</td><td>⋮</td><td>⋮</td><td>⋮</td><td>⋮</td><td>⋮</td><td>⋮</td><td>⋮</td><td>⋮</td><td>⋮</td></tr>\n",
       "\t<tr><td>60</td><td><span style=white-space:pre-wrap> Private         </span></td><td>117909</td><td><span style=white-space:pre-wrap> Assoc-voc   </span></td><td>11</td><td> Married-civ-spouse</td><td><span style=white-space:pre-wrap> Prof-specialty   </span></td><td><span style=white-space:pre-wrap> Husband       </span></td><td><span style=white-space:pre-wrap> White             </span></td><td><span style=white-space:pre-wrap> Male  </span></td><td> 7688</td><td><span style=white-space:pre-wrap>   0</span></td><td>40</td><td> United-States</td><td> &gt;50K. </td></tr>\n",
       "\t<tr><td>39</td><td><span style=white-space:pre-wrap> Private         </span></td><td>229647</td><td><span style=white-space:pre-wrap> Bachelors   </span></td><td>13</td><td><span style=white-space:pre-wrap> Never-married     </span></td><td><span style=white-space:pre-wrap> Tech-support     </span></td><td> Not-in-family </td><td><span style=white-space:pre-wrap> White             </span></td><td> Female</td><td><span style=white-space:pre-wrap>    0</span></td><td>1669</td><td>40</td><td> United-States</td><td> &lt;=50K.</td></tr>\n",
       "\t<tr><td>38</td><td><span style=white-space:pre-wrap> Private         </span></td><td>149347</td><td><span style=white-space:pre-wrap> Masters     </span></td><td>14</td><td> Married-civ-spouse</td><td><span style=white-space:pre-wrap> Prof-specialty   </span></td><td><span style=white-space:pre-wrap> Husband       </span></td><td><span style=white-space:pre-wrap> White             </span></td><td><span style=white-space:pre-wrap> Male  </span></td><td><span style=white-space:pre-wrap>    0</span></td><td><span style=white-space:pre-wrap>   0</span></td><td>50</td><td> United-States</td><td> &gt;50K. </td></tr>\n",
       "\t<tr><td>43</td><td><span style=white-space:pre-wrap> Local-gov       </span></td><td> 23157</td><td><span style=white-space:pre-wrap> Masters     </span></td><td>14</td><td> Married-civ-spouse</td><td><span style=white-space:pre-wrap> Exec-managerial  </span></td><td><span style=white-space:pre-wrap> Husband       </span></td><td><span style=white-space:pre-wrap> White             </span></td><td><span style=white-space:pre-wrap> Male  </span></td><td><span style=white-space:pre-wrap>    0</span></td><td>1902</td><td>50</td><td> United-States</td><td> &gt;50K. </td></tr>\n",
       "\t<tr><td>23</td><td><span style=white-space:pre-wrap> Private         </span></td><td> 93977</td><td><span style=white-space:pre-wrap> HS-grad     </span></td><td> 9</td><td><span style=white-space:pre-wrap> Never-married     </span></td><td> Machine-op-inspct</td><td><span style=white-space:pre-wrap> Own-child     </span></td><td><span style=white-space:pre-wrap> White             </span></td><td><span style=white-space:pre-wrap> Male  </span></td><td><span style=white-space:pre-wrap>    0</span></td><td><span style=white-space:pre-wrap>   0</span></td><td>40</td><td> United-States</td><td> &lt;=50K.</td></tr>\n",
       "\t<tr><td>73</td><td><span style=white-space:pre-wrap> Self-emp-inc    </span></td><td>159691</td><td> Some-college</td><td>10</td><td><span style=white-space:pre-wrap> Divorced          </span></td><td><span style=white-space:pre-wrap> Exec-managerial  </span></td><td> Not-in-family </td><td><span style=white-space:pre-wrap> White             </span></td><td> Female</td><td><span style=white-space:pre-wrap>    0</span></td><td><span style=white-space:pre-wrap>   0</span></td><td>40</td><td> United-States</td><td> &lt;=50K.</td></tr>\n",
       "\t<tr><td>35</td><td><span style=white-space:pre-wrap> Private         </span></td><td>176967</td><td> Some-college</td><td>10</td><td> Married-civ-spouse</td><td><span style=white-space:pre-wrap> Protective-serv  </span></td><td><span style=white-space:pre-wrap> Husband       </span></td><td><span style=white-space:pre-wrap> White             </span></td><td><span style=white-space:pre-wrap> Male  </span></td><td><span style=white-space:pre-wrap>    0</span></td><td><span style=white-space:pre-wrap>   0</span></td><td>40</td><td> United-States</td><td> &lt;=50K.</td></tr>\n",
       "\t<tr><td>66</td><td><span style=white-space:pre-wrap> Private         </span></td><td>344436</td><td><span style=white-space:pre-wrap> HS-grad     </span></td><td> 9</td><td><span style=white-space:pre-wrap> Widowed           </span></td><td><span style=white-space:pre-wrap> Sales            </span></td><td> Other-relative</td><td><span style=white-space:pre-wrap> White             </span></td><td> Female</td><td><span style=white-space:pre-wrap>    0</span></td><td><span style=white-space:pre-wrap>   0</span></td><td> 8</td><td> United-States</td><td> &lt;=50K.</td></tr>\n",
       "\t<tr><td>27</td><td><span style=white-space:pre-wrap> Private         </span></td><td>430340</td><td> Some-college</td><td>10</td><td><span style=white-space:pre-wrap> Never-married     </span></td><td><span style=white-space:pre-wrap> Sales            </span></td><td> Not-in-family </td><td><span style=white-space:pre-wrap> White             </span></td><td> Female</td><td><span style=white-space:pre-wrap>    0</span></td><td><span style=white-space:pre-wrap>   0</span></td><td>45</td><td> United-States</td><td> &lt;=50K.</td></tr>\n",
       "\t<tr><td>40</td><td><span style=white-space:pre-wrap> Private         </span></td><td>202168</td><td> Prof-school </td><td>15</td><td> Married-civ-spouse</td><td><span style=white-space:pre-wrap> Prof-specialty   </span></td><td><span style=white-space:pre-wrap> Husband       </span></td><td><span style=white-space:pre-wrap> White             </span></td><td><span style=white-space:pre-wrap> Male  </span></td><td>15024</td><td><span style=white-space:pre-wrap>   0</span></td><td>55</td><td> United-States</td><td> &gt;50K. </td></tr>\n",
       "\t<tr><td>51</td><td><span style=white-space:pre-wrap> Private         </span></td><td> 82720</td><td><span style=white-space:pre-wrap> HS-grad     </span></td><td> 9</td><td> Married-civ-spouse</td><td><span style=white-space:pre-wrap> Craft-repair     </span></td><td><span style=white-space:pre-wrap> Husband       </span></td><td><span style=white-space:pre-wrap> White             </span></td><td><span style=white-space:pre-wrap> Male  </span></td><td><span style=white-space:pre-wrap>    0</span></td><td><span style=white-space:pre-wrap>   0</span></td><td>40</td><td> United-States</td><td> &lt;=50K.</td></tr>\n",
       "\t<tr><td>22</td><td><span style=white-space:pre-wrap> Private         </span></td><td>269623</td><td> Some-college</td><td>10</td><td><span style=white-space:pre-wrap> Never-married     </span></td><td><span style=white-space:pre-wrap> Craft-repair     </span></td><td><span style=white-space:pre-wrap> Own-child     </span></td><td><span style=white-space:pre-wrap> White             </span></td><td><span style=white-space:pre-wrap> Male  </span></td><td><span style=white-space:pre-wrap>    0</span></td><td><span style=white-space:pre-wrap>   0</span></td><td>40</td><td> United-States</td><td> &lt;=50K.</td></tr>\n",
       "\t<tr><td>64</td><td> Self-emp-not-inc</td><td>136405</td><td><span style=white-space:pre-wrap> HS-grad     </span></td><td> 9</td><td><span style=white-space:pre-wrap> Widowed           </span></td><td><span style=white-space:pre-wrap> Farming-fishing  </span></td><td> Not-in-family </td><td><span style=white-space:pre-wrap> White             </span></td><td><span style=white-space:pre-wrap> Male  </span></td><td><span style=white-space:pre-wrap>    0</span></td><td><span style=white-space:pre-wrap>   0</span></td><td>32</td><td> United-States</td><td> &lt;=50K.</td></tr>\n",
       "\t<tr><td>50</td><td><span style=white-space:pre-wrap> Local-gov       </span></td><td>139347</td><td><span style=white-space:pre-wrap> Masters     </span></td><td>14</td><td> Married-civ-spouse</td><td><span style=white-space:pre-wrap> Prof-specialty   </span></td><td><span style=white-space:pre-wrap> Wife          </span></td><td><span style=white-space:pre-wrap> White             </span></td><td> Female</td><td><span style=white-space:pre-wrap>    0</span></td><td><span style=white-space:pre-wrap>   0</span></td><td>40</td><td><span style=white-space:pre-wrap> ?            </span></td><td> &gt;50K. </td></tr>\n",
       "\t<tr><td>55</td><td><span style=white-space:pre-wrap> Private         </span></td><td>224655</td><td><span style=white-space:pre-wrap> HS-grad     </span></td><td> 9</td><td><span style=white-space:pre-wrap> Separated         </span></td><td><span style=white-space:pre-wrap> Priv-house-serv  </span></td><td> Not-in-family </td><td><span style=white-space:pre-wrap> White             </span></td><td> Female</td><td><span style=white-space:pre-wrap>    0</span></td><td><span style=white-space:pre-wrap>   0</span></td><td>32</td><td> United-States</td><td> &lt;=50K.</td></tr>\n",
       "\t<tr><td>38</td><td><span style=white-space:pre-wrap> Private         </span></td><td>247547</td><td><span style=white-space:pre-wrap> Assoc-voc   </span></td><td>11</td><td><span style=white-space:pre-wrap> Never-married     </span></td><td><span style=white-space:pre-wrap> Adm-clerical     </span></td><td><span style=white-space:pre-wrap> Unmarried     </span></td><td><span style=white-space:pre-wrap> Black             </span></td><td> Female</td><td><span style=white-space:pre-wrap>    0</span></td><td><span style=white-space:pre-wrap>   0</span></td><td>40</td><td> United-States</td><td> &lt;=50K.</td></tr>\n",
       "\t<tr><td>58</td><td><span style=white-space:pre-wrap> Private         </span></td><td>292710</td><td><span style=white-space:pre-wrap> Assoc-acdm  </span></td><td>12</td><td><span style=white-space:pre-wrap> Divorced          </span></td><td><span style=white-space:pre-wrap> Prof-specialty   </span></td><td> Not-in-family </td><td><span style=white-space:pre-wrap> White             </span></td><td><span style=white-space:pre-wrap> Male  </span></td><td><span style=white-space:pre-wrap>    0</span></td><td><span style=white-space:pre-wrap>   0</span></td><td>36</td><td> United-States</td><td> &lt;=50K.</td></tr>\n",
       "\t<tr><td>32</td><td><span style=white-space:pre-wrap> Private         </span></td><td>173449</td><td><span style=white-space:pre-wrap> HS-grad     </span></td><td> 9</td><td> Married-civ-spouse</td><td> Handlers-cleaners</td><td><span style=white-space:pre-wrap> Husband       </span></td><td><span style=white-space:pre-wrap> White             </span></td><td><span style=white-space:pre-wrap> Male  </span></td><td><span style=white-space:pre-wrap>    0</span></td><td><span style=white-space:pre-wrap>   0</span></td><td>40</td><td> United-States</td><td> &lt;=50K.</td></tr>\n",
       "\t<tr><td>48</td><td><span style=white-space:pre-wrap> Private         </span></td><td>285570</td><td><span style=white-space:pre-wrap> HS-grad     </span></td><td> 9</td><td> Married-civ-spouse</td><td><span style=white-space:pre-wrap> Adm-clerical     </span></td><td><span style=white-space:pre-wrap> Husband       </span></td><td><span style=white-space:pre-wrap> White             </span></td><td><span style=white-space:pre-wrap> Male  </span></td><td><span style=white-space:pre-wrap>    0</span></td><td><span style=white-space:pre-wrap>   0</span></td><td>40</td><td> United-States</td><td> &lt;=50K.</td></tr>\n",
       "\t<tr><td>61</td><td><span style=white-space:pre-wrap> Private         </span></td><td> 89686</td><td><span style=white-space:pre-wrap> HS-grad     </span></td><td> 9</td><td> Married-civ-spouse</td><td><span style=white-space:pre-wrap> Sales            </span></td><td><span style=white-space:pre-wrap> Husband       </span></td><td><span style=white-space:pre-wrap> White             </span></td><td><span style=white-space:pre-wrap> Male  </span></td><td><span style=white-space:pre-wrap>    0</span></td><td><span style=white-space:pre-wrap>   0</span></td><td>48</td><td> United-States</td><td> &lt;=50K.</td></tr>\n",
       "\t<tr><td>31</td><td><span style=white-space:pre-wrap> Private         </span></td><td>440129</td><td><span style=white-space:pre-wrap> HS-grad     </span></td><td> 9</td><td> Married-civ-spouse</td><td><span style=white-space:pre-wrap> Craft-repair     </span></td><td><span style=white-space:pre-wrap> Husband       </span></td><td><span style=white-space:pre-wrap> White             </span></td><td><span style=white-space:pre-wrap> Male  </span></td><td><span style=white-space:pre-wrap>    0</span></td><td><span style=white-space:pre-wrap>   0</span></td><td>40</td><td> United-States</td><td> &lt;=50K.</td></tr>\n",
       "\t<tr><td>25</td><td><span style=white-space:pre-wrap> Private         </span></td><td>350977</td><td><span style=white-space:pre-wrap> HS-grad     </span></td><td> 9</td><td><span style=white-space:pre-wrap> Never-married     </span></td><td><span style=white-space:pre-wrap> Other-service    </span></td><td><span style=white-space:pre-wrap> Own-child     </span></td><td><span style=white-space:pre-wrap> White             </span></td><td> Female</td><td><span style=white-space:pre-wrap>    0</span></td><td><span style=white-space:pre-wrap>   0</span></td><td>40</td><td> United-States</td><td> &lt;=50K.</td></tr>\n",
       "\t<tr><td>48</td><td><span style=white-space:pre-wrap> Local-gov       </span></td><td>349230</td><td><span style=white-space:pre-wrap> Masters     </span></td><td>14</td><td><span style=white-space:pre-wrap> Divorced          </span></td><td><span style=white-space:pre-wrap> Other-service    </span></td><td> Not-in-family </td><td><span style=white-space:pre-wrap> White             </span></td><td><span style=white-space:pre-wrap> Male  </span></td><td><span style=white-space:pre-wrap>    0</span></td><td><span style=white-space:pre-wrap>   0</span></td><td>40</td><td> United-States</td><td> &lt;=50K.</td></tr>\n",
       "\t<tr><td>33</td><td><span style=white-space:pre-wrap> Private         </span></td><td>245211</td><td><span style=white-space:pre-wrap> Bachelors   </span></td><td>13</td><td><span style=white-space:pre-wrap> Never-married     </span></td><td><span style=white-space:pre-wrap> Prof-specialty   </span></td><td><span style=white-space:pre-wrap> Own-child     </span></td><td><span style=white-space:pre-wrap> White             </span></td><td><span style=white-space:pre-wrap> Male  </span></td><td><span style=white-space:pre-wrap>    0</span></td><td><span style=white-space:pre-wrap>   0</span></td><td>40</td><td> United-States</td><td> &lt;=50K.</td></tr>\n",
       "\t<tr><td>39</td><td><span style=white-space:pre-wrap> Private         </span></td><td>215419</td><td><span style=white-space:pre-wrap> Bachelors   </span></td><td>13</td><td><span style=white-space:pre-wrap> Divorced          </span></td><td><span style=white-space:pre-wrap> Prof-specialty   </span></td><td> Not-in-family </td><td><span style=white-space:pre-wrap> White             </span></td><td> Female</td><td><span style=white-space:pre-wrap>    0</span></td><td><span style=white-space:pre-wrap>   0</span></td><td>36</td><td> United-States</td><td> &lt;=50K.</td></tr>\n",
       "\t<tr><td>64</td><td><span style=white-space:pre-wrap> ?               </span></td><td>321403</td><td><span style=white-space:pre-wrap> HS-grad     </span></td><td> 9</td><td><span style=white-space:pre-wrap> Widowed           </span></td><td><span style=white-space:pre-wrap> ?                </span></td><td> Other-relative</td><td><span style=white-space:pre-wrap> Black             </span></td><td><span style=white-space:pre-wrap> Male  </span></td><td><span style=white-space:pre-wrap>    0</span></td><td><span style=white-space:pre-wrap>   0</span></td><td>40</td><td> United-States</td><td> &lt;=50K.</td></tr>\n",
       "\t<tr><td>38</td><td><span style=white-space:pre-wrap> Private         </span></td><td>374983</td><td><span style=white-space:pre-wrap> Bachelors   </span></td><td>13</td><td> Married-civ-spouse</td><td><span style=white-space:pre-wrap> Prof-specialty   </span></td><td><span style=white-space:pre-wrap> Husband       </span></td><td><span style=white-space:pre-wrap> White             </span></td><td><span style=white-space:pre-wrap> Male  </span></td><td><span style=white-space:pre-wrap>    0</span></td><td><span style=white-space:pre-wrap>   0</span></td><td>50</td><td> United-States</td><td> &lt;=50K.</td></tr>\n",
       "\t<tr><td>44</td><td><span style=white-space:pre-wrap> Private         </span></td><td> 83891</td><td><span style=white-space:pre-wrap> Bachelors   </span></td><td>13</td><td><span style=white-space:pre-wrap> Divorced          </span></td><td><span style=white-space:pre-wrap> Adm-clerical     </span></td><td><span style=white-space:pre-wrap> Own-child     </span></td><td> Asian-Pac-Islander</td><td><span style=white-space:pre-wrap> Male  </span></td><td> 5455</td><td><span style=white-space:pre-wrap>   0</span></td><td>40</td><td> United-States</td><td> &lt;=50K.</td></tr>\n",
       "\t<tr><td>35</td><td><span style=white-space:pre-wrap> Self-emp-inc    </span></td><td>182148</td><td><span style=white-space:pre-wrap> Bachelors   </span></td><td>13</td><td> Married-civ-spouse</td><td><span style=white-space:pre-wrap> Exec-managerial  </span></td><td><span style=white-space:pre-wrap> Husband       </span></td><td><span style=white-space:pre-wrap> White             </span></td><td><span style=white-space:pre-wrap> Male  </span></td><td><span style=white-space:pre-wrap>    0</span></td><td><span style=white-space:pre-wrap>   0</span></td><td>60</td><td> United-States</td><td> &gt;50K. </td></tr>\n",
       "\t<tr><td>NA</td><td>                 </td><td>    NA</td><td>             </td><td>NA</td><td>                   </td><td>                  </td><td>               </td><td>                   </td><td>       </td><td>   NA</td><td>  NA</td><td>NA</td><td>              </td><td>       </td></tr>\n",
       "</tbody>\n",
       "</table>\n"
      ],
      "text/latex": [
       "A data.frame: 48844 × 15\n",
       "\\begin{tabular}{lllllllllllllll}\n",
       " age & workclass & fnlwgt & education & education\\_num & marital\\_status & occupation & relationship & race & sex & capital\\_gain & capital\\_loss & hours\\_per\\_week & native\\_country & income\\\\\n",
       " <int> & <chr> & <int> & <chr> & <int> & <chr> & <chr> & <chr> & <chr> & <chr> & <int> & <int> & <int> & <chr> & <chr>\\\\\n",
       "\\hline\n",
       "\t 39 &  State-gov        &  77516 &  Bachelors    & 13 &  Never-married         &  Adm-clerical      &  Not-in-family &  White              &  Male   &  2174 &    0 & 40 &  United-States &  <=50K\\\\\n",
       "\t 50 &  Self-emp-not-inc &  83311 &  Bachelors    & 13 &  Married-civ-spouse    &  Exec-managerial   &  Husband       &  White              &  Male   &     0 &    0 & 13 &  United-States &  <=50K\\\\\n",
       "\t 38 &  Private          & 215646 &  HS-grad      &  9 &  Divorced              &  Handlers-cleaners &  Not-in-family &  White              &  Male   &     0 &    0 & 40 &  United-States &  <=50K\\\\\n",
       "\t 53 &  Private          & 234721 &  11th         &  7 &  Married-civ-spouse    &  Handlers-cleaners &  Husband       &  Black              &  Male   &     0 &    0 & 40 &  United-States &  <=50K\\\\\n",
       "\t 28 &  Private          & 338409 &  Bachelors    & 13 &  Married-civ-spouse    &  Prof-specialty    &  Wife          &  Black              &  Female &     0 &    0 & 40 &  Cuba          &  <=50K\\\\\n",
       "\t 37 &  Private          & 284582 &  Masters      & 14 &  Married-civ-spouse    &  Exec-managerial   &  Wife          &  White              &  Female &     0 &    0 & 40 &  United-States &  <=50K\\\\\n",
       "\t 49 &  Private          & 160187 &  9th          &  5 &  Married-spouse-absent &  Other-service     &  Not-in-family &  Black              &  Female &     0 &    0 & 16 &  Jamaica       &  <=50K\\\\\n",
       "\t 52 &  Self-emp-not-inc & 209642 &  HS-grad      &  9 &  Married-civ-spouse    &  Exec-managerial   &  Husband       &  White              &  Male   &     0 &    0 & 45 &  United-States &  >50K \\\\\n",
       "\t 31 &  Private          &  45781 &  Masters      & 14 &  Never-married         &  Prof-specialty    &  Not-in-family &  White              &  Female & 14084 &    0 & 50 &  United-States &  >50K \\\\\n",
       "\t 42 &  Private          & 159449 &  Bachelors    & 13 &  Married-civ-spouse    &  Exec-managerial   &  Husband       &  White              &  Male   &  5178 &    0 & 40 &  United-States &  >50K \\\\\n",
       "\t 37 &  Private          & 280464 &  Some-college & 10 &  Married-civ-spouse    &  Exec-managerial   &  Husband       &  Black              &  Male   &     0 &    0 & 80 &  United-States &  >50K \\\\\n",
       "\t 30 &  State-gov        & 141297 &  Bachelors    & 13 &  Married-civ-spouse    &  Prof-specialty    &  Husband       &  Asian-Pac-Islander &  Male   &     0 &    0 & 40 &  India         &  >50K \\\\\n",
       "\t 23 &  Private          & 122272 &  Bachelors    & 13 &  Never-married         &  Adm-clerical      &  Own-child     &  White              &  Female &     0 &    0 & 30 &  United-States &  <=50K\\\\\n",
       "\t 32 &  Private          & 205019 &  Assoc-acdm   & 12 &  Never-married         &  Sales             &  Not-in-family &  Black              &  Male   &     0 &    0 & 50 &  United-States &  <=50K\\\\\n",
       "\t 40 &  Private          & 121772 &  Assoc-voc    & 11 &  Married-civ-spouse    &  Craft-repair      &  Husband       &  Asian-Pac-Islander &  Male   &     0 &    0 & 40 &  ?             &  >50K \\\\\n",
       "\t 34 &  Private          & 245487 &  7th-8th      &  4 &  Married-civ-spouse    &  Transport-moving  &  Husband       &  Amer-Indian-Eskimo &  Male   &     0 &    0 & 45 &  Mexico        &  <=50K\\\\\n",
       "\t 25 &  Self-emp-not-inc & 176756 &  HS-grad      &  9 &  Never-married         &  Farming-fishing   &  Own-child     &  White              &  Male   &     0 &    0 & 35 &  United-States &  <=50K\\\\\n",
       "\t 32 &  Private          & 186824 &  HS-grad      &  9 &  Never-married         &  Machine-op-inspct &  Unmarried     &  White              &  Male   &     0 &    0 & 40 &  United-States &  <=50K\\\\\n",
       "\t 38 &  Private          &  28887 &  11th         &  7 &  Married-civ-spouse    &  Sales             &  Husband       &  White              &  Male   &     0 &    0 & 50 &  United-States &  <=50K\\\\\n",
       "\t 43 &  Self-emp-not-inc & 292175 &  Masters      & 14 &  Divorced              &  Exec-managerial   &  Unmarried     &  White              &  Female &     0 &    0 & 45 &  United-States &  >50K \\\\\n",
       "\t 40 &  Private          & 193524 &  Doctorate    & 16 &  Married-civ-spouse    &  Prof-specialty    &  Husband       &  White              &  Male   &     0 &    0 & 60 &  United-States &  >50K \\\\\n",
       "\t 54 &  Private          & 302146 &  HS-grad      &  9 &  Separated             &  Other-service     &  Unmarried     &  Black              &  Female &     0 &    0 & 20 &  United-States &  <=50K\\\\\n",
       "\t 35 &  Federal-gov      &  76845 &  9th          &  5 &  Married-civ-spouse    &  Farming-fishing   &  Husband       &  Black              &  Male   &     0 &    0 & 40 &  United-States &  <=50K\\\\\n",
       "\t 43 &  Private          & 117037 &  11th         &  7 &  Married-civ-spouse    &  Transport-moving  &  Husband       &  White              &  Male   &     0 & 2042 & 40 &  United-States &  <=50K\\\\\n",
       "\t 59 &  Private          & 109015 &  HS-grad      &  9 &  Divorced              &  Tech-support      &  Unmarried     &  White              &  Female &     0 &    0 & 40 &  United-States &  <=50K\\\\\n",
       "\t 56 &  Local-gov        & 216851 &  Bachelors    & 13 &  Married-civ-spouse    &  Tech-support      &  Husband       &  White              &  Male   &     0 &    0 & 40 &  United-States &  >50K \\\\\n",
       "\t 19 &  Private          & 168294 &  HS-grad      &  9 &  Never-married         &  Craft-repair      &  Own-child     &  White              &  Male   &     0 &    0 & 40 &  United-States &  <=50K\\\\\n",
       "\t 54 &  ?                & 180211 &  Some-college & 10 &  Married-civ-spouse    &  ?                 &  Husband       &  Asian-Pac-Islander &  Male   &     0 &    0 & 60 &  South         &  >50K \\\\\n",
       "\t 39 &  Private          & 367260 &  HS-grad      &  9 &  Divorced              &  Exec-managerial   &  Not-in-family &  White              &  Male   &     0 &    0 & 80 &  United-States &  <=50K\\\\\n",
       "\t 49 &  Private          & 193366 &  HS-grad      &  9 &  Married-civ-spouse    &  Craft-repair      &  Husband       &  White              &  Male   &     0 &    0 & 40 &  United-States &  <=50K\\\\\n",
       "\t ⋮ & ⋮ & ⋮ & ⋮ & ⋮ & ⋮ & ⋮ & ⋮ & ⋮ & ⋮ & ⋮ & ⋮ & ⋮ & ⋮ & ⋮\\\\\n",
       "\t 60 &  Private          & 117909 &  Assoc-voc    & 11 &  Married-civ-spouse &  Prof-specialty    &  Husband        &  White              &  Male   &  7688 &    0 & 40 &  United-States &  >50K. \\\\\n",
       "\t 39 &  Private          & 229647 &  Bachelors    & 13 &  Never-married      &  Tech-support      &  Not-in-family  &  White              &  Female &     0 & 1669 & 40 &  United-States &  <=50K.\\\\\n",
       "\t 38 &  Private          & 149347 &  Masters      & 14 &  Married-civ-spouse &  Prof-specialty    &  Husband        &  White              &  Male   &     0 &    0 & 50 &  United-States &  >50K. \\\\\n",
       "\t 43 &  Local-gov        &  23157 &  Masters      & 14 &  Married-civ-spouse &  Exec-managerial   &  Husband        &  White              &  Male   &     0 & 1902 & 50 &  United-States &  >50K. \\\\\n",
       "\t 23 &  Private          &  93977 &  HS-grad      &  9 &  Never-married      &  Machine-op-inspct &  Own-child      &  White              &  Male   &     0 &    0 & 40 &  United-States &  <=50K.\\\\\n",
       "\t 73 &  Self-emp-inc     & 159691 &  Some-college & 10 &  Divorced           &  Exec-managerial   &  Not-in-family  &  White              &  Female &     0 &    0 & 40 &  United-States &  <=50K.\\\\\n",
       "\t 35 &  Private          & 176967 &  Some-college & 10 &  Married-civ-spouse &  Protective-serv   &  Husband        &  White              &  Male   &     0 &    0 & 40 &  United-States &  <=50K.\\\\\n",
       "\t 66 &  Private          & 344436 &  HS-grad      &  9 &  Widowed            &  Sales             &  Other-relative &  White              &  Female &     0 &    0 &  8 &  United-States &  <=50K.\\\\\n",
       "\t 27 &  Private          & 430340 &  Some-college & 10 &  Never-married      &  Sales             &  Not-in-family  &  White              &  Female &     0 &    0 & 45 &  United-States &  <=50K.\\\\\n",
       "\t 40 &  Private          & 202168 &  Prof-school  & 15 &  Married-civ-spouse &  Prof-specialty    &  Husband        &  White              &  Male   & 15024 &    0 & 55 &  United-States &  >50K. \\\\\n",
       "\t 51 &  Private          &  82720 &  HS-grad      &  9 &  Married-civ-spouse &  Craft-repair      &  Husband        &  White              &  Male   &     0 &    0 & 40 &  United-States &  <=50K.\\\\\n",
       "\t 22 &  Private          & 269623 &  Some-college & 10 &  Never-married      &  Craft-repair      &  Own-child      &  White              &  Male   &     0 &    0 & 40 &  United-States &  <=50K.\\\\\n",
       "\t 64 &  Self-emp-not-inc & 136405 &  HS-grad      &  9 &  Widowed            &  Farming-fishing   &  Not-in-family  &  White              &  Male   &     0 &    0 & 32 &  United-States &  <=50K.\\\\\n",
       "\t 50 &  Local-gov        & 139347 &  Masters      & 14 &  Married-civ-spouse &  Prof-specialty    &  Wife           &  White              &  Female &     0 &    0 & 40 &  ?             &  >50K. \\\\\n",
       "\t 55 &  Private          & 224655 &  HS-grad      &  9 &  Separated          &  Priv-house-serv   &  Not-in-family  &  White              &  Female &     0 &    0 & 32 &  United-States &  <=50K.\\\\\n",
       "\t 38 &  Private          & 247547 &  Assoc-voc    & 11 &  Never-married      &  Adm-clerical      &  Unmarried      &  Black              &  Female &     0 &    0 & 40 &  United-States &  <=50K.\\\\\n",
       "\t 58 &  Private          & 292710 &  Assoc-acdm   & 12 &  Divorced           &  Prof-specialty    &  Not-in-family  &  White              &  Male   &     0 &    0 & 36 &  United-States &  <=50K.\\\\\n",
       "\t 32 &  Private          & 173449 &  HS-grad      &  9 &  Married-civ-spouse &  Handlers-cleaners &  Husband        &  White              &  Male   &     0 &    0 & 40 &  United-States &  <=50K.\\\\\n",
       "\t 48 &  Private          & 285570 &  HS-grad      &  9 &  Married-civ-spouse &  Adm-clerical      &  Husband        &  White              &  Male   &     0 &    0 & 40 &  United-States &  <=50K.\\\\\n",
       "\t 61 &  Private          &  89686 &  HS-grad      &  9 &  Married-civ-spouse &  Sales             &  Husband        &  White              &  Male   &     0 &    0 & 48 &  United-States &  <=50K.\\\\\n",
       "\t 31 &  Private          & 440129 &  HS-grad      &  9 &  Married-civ-spouse &  Craft-repair      &  Husband        &  White              &  Male   &     0 &    0 & 40 &  United-States &  <=50K.\\\\\n",
       "\t 25 &  Private          & 350977 &  HS-grad      &  9 &  Never-married      &  Other-service     &  Own-child      &  White              &  Female &     0 &    0 & 40 &  United-States &  <=50K.\\\\\n",
       "\t 48 &  Local-gov        & 349230 &  Masters      & 14 &  Divorced           &  Other-service     &  Not-in-family  &  White              &  Male   &     0 &    0 & 40 &  United-States &  <=50K.\\\\\n",
       "\t 33 &  Private          & 245211 &  Bachelors    & 13 &  Never-married      &  Prof-specialty    &  Own-child      &  White              &  Male   &     0 &    0 & 40 &  United-States &  <=50K.\\\\\n",
       "\t 39 &  Private          & 215419 &  Bachelors    & 13 &  Divorced           &  Prof-specialty    &  Not-in-family  &  White              &  Female &     0 &    0 & 36 &  United-States &  <=50K.\\\\\n",
       "\t 64 &  ?                & 321403 &  HS-grad      &  9 &  Widowed            &  ?                 &  Other-relative &  Black              &  Male   &     0 &    0 & 40 &  United-States &  <=50K.\\\\\n",
       "\t 38 &  Private          & 374983 &  Bachelors    & 13 &  Married-civ-spouse &  Prof-specialty    &  Husband        &  White              &  Male   &     0 &    0 & 50 &  United-States &  <=50K.\\\\\n",
       "\t 44 &  Private          &  83891 &  Bachelors    & 13 &  Divorced           &  Adm-clerical      &  Own-child      &  Asian-Pac-Islander &  Male   &  5455 &    0 & 40 &  United-States &  <=50K.\\\\\n",
       "\t 35 &  Self-emp-inc     & 182148 &  Bachelors    & 13 &  Married-civ-spouse &  Exec-managerial   &  Husband        &  White              &  Male   &     0 &    0 & 60 &  United-States &  >50K. \\\\\n",
       "\t NA &                   &     NA &               & NA &                     &                    &                 &                     &         &    NA &   NA & NA &                &        \\\\\n",
       "\\end{tabular}\n"
      ],
      "text/markdown": [
       "\n",
       "A data.frame: 48844 × 15\n",
       "\n",
       "| age &lt;int&gt; | workclass &lt;chr&gt; | fnlwgt &lt;int&gt; | education &lt;chr&gt; | education_num &lt;int&gt; | marital_status &lt;chr&gt; | occupation &lt;chr&gt; | relationship &lt;chr&gt; | race &lt;chr&gt; | sex &lt;chr&gt; | capital_gain &lt;int&gt; | capital_loss &lt;int&gt; | hours_per_week &lt;int&gt; | native_country &lt;chr&gt; | income &lt;chr&gt; |\n",
       "|---|---|---|---|---|---|---|---|---|---|---|---|---|---|---|\n",
       "| 39 |  State-gov        |  77516 |  Bachelors    | 13 |  Never-married         |  Adm-clerical      |  Not-in-family |  White              |  Male   |  2174 |    0 | 40 |  United-States |  &lt;=50K |\n",
       "| 50 |  Self-emp-not-inc |  83311 |  Bachelors    | 13 |  Married-civ-spouse    |  Exec-managerial   |  Husband       |  White              |  Male   |     0 |    0 | 13 |  United-States |  &lt;=50K |\n",
       "| 38 |  Private          | 215646 |  HS-grad      |  9 |  Divorced              |  Handlers-cleaners |  Not-in-family |  White              |  Male   |     0 |    0 | 40 |  United-States |  &lt;=50K |\n",
       "| 53 |  Private          | 234721 |  11th         |  7 |  Married-civ-spouse    |  Handlers-cleaners |  Husband       |  Black              |  Male   |     0 |    0 | 40 |  United-States |  &lt;=50K |\n",
       "| 28 |  Private          | 338409 |  Bachelors    | 13 |  Married-civ-spouse    |  Prof-specialty    |  Wife          |  Black              |  Female |     0 |    0 | 40 |  Cuba          |  &lt;=50K |\n",
       "| 37 |  Private          | 284582 |  Masters      | 14 |  Married-civ-spouse    |  Exec-managerial   |  Wife          |  White              |  Female |     0 |    0 | 40 |  United-States |  &lt;=50K |\n",
       "| 49 |  Private          | 160187 |  9th          |  5 |  Married-spouse-absent |  Other-service     |  Not-in-family |  Black              |  Female |     0 |    0 | 16 |  Jamaica       |  &lt;=50K |\n",
       "| 52 |  Self-emp-not-inc | 209642 |  HS-grad      |  9 |  Married-civ-spouse    |  Exec-managerial   |  Husband       |  White              |  Male   |     0 |    0 | 45 |  United-States |  &gt;50K  |\n",
       "| 31 |  Private          |  45781 |  Masters      | 14 |  Never-married         |  Prof-specialty    |  Not-in-family |  White              |  Female | 14084 |    0 | 50 |  United-States |  &gt;50K  |\n",
       "| 42 |  Private          | 159449 |  Bachelors    | 13 |  Married-civ-spouse    |  Exec-managerial   |  Husband       |  White              |  Male   |  5178 |    0 | 40 |  United-States |  &gt;50K  |\n",
       "| 37 |  Private          | 280464 |  Some-college | 10 |  Married-civ-spouse    |  Exec-managerial   |  Husband       |  Black              |  Male   |     0 |    0 | 80 |  United-States |  &gt;50K  |\n",
       "| 30 |  State-gov        | 141297 |  Bachelors    | 13 |  Married-civ-spouse    |  Prof-specialty    |  Husband       |  Asian-Pac-Islander |  Male   |     0 |    0 | 40 |  India         |  &gt;50K  |\n",
       "| 23 |  Private          | 122272 |  Bachelors    | 13 |  Never-married         |  Adm-clerical      |  Own-child     |  White              |  Female |     0 |    0 | 30 |  United-States |  &lt;=50K |\n",
       "| 32 |  Private          | 205019 |  Assoc-acdm   | 12 |  Never-married         |  Sales             |  Not-in-family |  Black              |  Male   |     0 |    0 | 50 |  United-States |  &lt;=50K |\n",
       "| 40 |  Private          | 121772 |  Assoc-voc    | 11 |  Married-civ-spouse    |  Craft-repair      |  Husband       |  Asian-Pac-Islander |  Male   |     0 |    0 | 40 |  ?             |  &gt;50K  |\n",
       "| 34 |  Private          | 245487 |  7th-8th      |  4 |  Married-civ-spouse    |  Transport-moving  |  Husband       |  Amer-Indian-Eskimo |  Male   |     0 |    0 | 45 |  Mexico        |  &lt;=50K |\n",
       "| 25 |  Self-emp-not-inc | 176756 |  HS-grad      |  9 |  Never-married         |  Farming-fishing   |  Own-child     |  White              |  Male   |     0 |    0 | 35 |  United-States |  &lt;=50K |\n",
       "| 32 |  Private          | 186824 |  HS-grad      |  9 |  Never-married         |  Machine-op-inspct |  Unmarried     |  White              |  Male   |     0 |    0 | 40 |  United-States |  &lt;=50K |\n",
       "| 38 |  Private          |  28887 |  11th         |  7 |  Married-civ-spouse    |  Sales             |  Husband       |  White              |  Male   |     0 |    0 | 50 |  United-States |  &lt;=50K |\n",
       "| 43 |  Self-emp-not-inc | 292175 |  Masters      | 14 |  Divorced              |  Exec-managerial   |  Unmarried     |  White              |  Female |     0 |    0 | 45 |  United-States |  &gt;50K  |\n",
       "| 40 |  Private          | 193524 |  Doctorate    | 16 |  Married-civ-spouse    |  Prof-specialty    |  Husband       |  White              |  Male   |     0 |    0 | 60 |  United-States |  &gt;50K  |\n",
       "| 54 |  Private          | 302146 |  HS-grad      |  9 |  Separated             |  Other-service     |  Unmarried     |  Black              |  Female |     0 |    0 | 20 |  United-States |  &lt;=50K |\n",
       "| 35 |  Federal-gov      |  76845 |  9th          |  5 |  Married-civ-spouse    |  Farming-fishing   |  Husband       |  Black              |  Male   |     0 |    0 | 40 |  United-States |  &lt;=50K |\n",
       "| 43 |  Private          | 117037 |  11th         |  7 |  Married-civ-spouse    |  Transport-moving  |  Husband       |  White              |  Male   |     0 | 2042 | 40 |  United-States |  &lt;=50K |\n",
       "| 59 |  Private          | 109015 |  HS-grad      |  9 |  Divorced              |  Tech-support      |  Unmarried     |  White              |  Female |     0 |    0 | 40 |  United-States |  &lt;=50K |\n",
       "| 56 |  Local-gov        | 216851 |  Bachelors    | 13 |  Married-civ-spouse    |  Tech-support      |  Husband       |  White              |  Male   |     0 |    0 | 40 |  United-States |  &gt;50K  |\n",
       "| 19 |  Private          | 168294 |  HS-grad      |  9 |  Never-married         |  Craft-repair      |  Own-child     |  White              |  Male   |     0 |    0 | 40 |  United-States |  &lt;=50K |\n",
       "| 54 |  ?                | 180211 |  Some-college | 10 |  Married-civ-spouse    |  ?                 |  Husband       |  Asian-Pac-Islander |  Male   |     0 |    0 | 60 |  South         |  &gt;50K  |\n",
       "| 39 |  Private          | 367260 |  HS-grad      |  9 |  Divorced              |  Exec-managerial   |  Not-in-family |  White              |  Male   |     0 |    0 | 80 |  United-States |  &lt;=50K |\n",
       "| 49 |  Private          | 193366 |  HS-grad      |  9 |  Married-civ-spouse    |  Craft-repair      |  Husband       |  White              |  Male   |     0 |    0 | 40 |  United-States |  &lt;=50K |\n",
       "| ⋮ | ⋮ | ⋮ | ⋮ | ⋮ | ⋮ | ⋮ | ⋮ | ⋮ | ⋮ | ⋮ | ⋮ | ⋮ | ⋮ | ⋮ |\n",
       "| 60 |  Private          | 117909 |  Assoc-voc    | 11 |  Married-civ-spouse |  Prof-specialty    |  Husband        |  White              |  Male   |  7688 |    0 | 40 |  United-States |  &gt;50K.  |\n",
       "| 39 |  Private          | 229647 |  Bachelors    | 13 |  Never-married      |  Tech-support      |  Not-in-family  |  White              |  Female |     0 | 1669 | 40 |  United-States |  &lt;=50K. |\n",
       "| 38 |  Private          | 149347 |  Masters      | 14 |  Married-civ-spouse |  Prof-specialty    |  Husband        |  White              |  Male   |     0 |    0 | 50 |  United-States |  &gt;50K.  |\n",
       "| 43 |  Local-gov        |  23157 |  Masters      | 14 |  Married-civ-spouse |  Exec-managerial   |  Husband        |  White              |  Male   |     0 | 1902 | 50 |  United-States |  &gt;50K.  |\n",
       "| 23 |  Private          |  93977 |  HS-grad      |  9 |  Never-married      |  Machine-op-inspct |  Own-child      |  White              |  Male   |     0 |    0 | 40 |  United-States |  &lt;=50K. |\n",
       "| 73 |  Self-emp-inc     | 159691 |  Some-college | 10 |  Divorced           |  Exec-managerial   |  Not-in-family  |  White              |  Female |     0 |    0 | 40 |  United-States |  &lt;=50K. |\n",
       "| 35 |  Private          | 176967 |  Some-college | 10 |  Married-civ-spouse |  Protective-serv   |  Husband        |  White              |  Male   |     0 |    0 | 40 |  United-States |  &lt;=50K. |\n",
       "| 66 |  Private          | 344436 |  HS-grad      |  9 |  Widowed            |  Sales             |  Other-relative |  White              |  Female |     0 |    0 |  8 |  United-States |  &lt;=50K. |\n",
       "| 27 |  Private          | 430340 |  Some-college | 10 |  Never-married      |  Sales             |  Not-in-family  |  White              |  Female |     0 |    0 | 45 |  United-States |  &lt;=50K. |\n",
       "| 40 |  Private          | 202168 |  Prof-school  | 15 |  Married-civ-spouse |  Prof-specialty    |  Husband        |  White              |  Male   | 15024 |    0 | 55 |  United-States |  &gt;50K.  |\n",
       "| 51 |  Private          |  82720 |  HS-grad      |  9 |  Married-civ-spouse |  Craft-repair      |  Husband        |  White              |  Male   |     0 |    0 | 40 |  United-States |  &lt;=50K. |\n",
       "| 22 |  Private          | 269623 |  Some-college | 10 |  Never-married      |  Craft-repair      |  Own-child      |  White              |  Male   |     0 |    0 | 40 |  United-States |  &lt;=50K. |\n",
       "| 64 |  Self-emp-not-inc | 136405 |  HS-grad      |  9 |  Widowed            |  Farming-fishing   |  Not-in-family  |  White              |  Male   |     0 |    0 | 32 |  United-States |  &lt;=50K. |\n",
       "| 50 |  Local-gov        | 139347 |  Masters      | 14 |  Married-civ-spouse |  Prof-specialty    |  Wife           |  White              |  Female |     0 |    0 | 40 |  ?             |  &gt;50K.  |\n",
       "| 55 |  Private          | 224655 |  HS-grad      |  9 |  Separated          |  Priv-house-serv   |  Not-in-family  |  White              |  Female |     0 |    0 | 32 |  United-States |  &lt;=50K. |\n",
       "| 38 |  Private          | 247547 |  Assoc-voc    | 11 |  Never-married      |  Adm-clerical      |  Unmarried      |  Black              |  Female |     0 |    0 | 40 |  United-States |  &lt;=50K. |\n",
       "| 58 |  Private          | 292710 |  Assoc-acdm   | 12 |  Divorced           |  Prof-specialty    |  Not-in-family  |  White              |  Male   |     0 |    0 | 36 |  United-States |  &lt;=50K. |\n",
       "| 32 |  Private          | 173449 |  HS-grad      |  9 |  Married-civ-spouse |  Handlers-cleaners |  Husband        |  White              |  Male   |     0 |    0 | 40 |  United-States |  &lt;=50K. |\n",
       "| 48 |  Private          | 285570 |  HS-grad      |  9 |  Married-civ-spouse |  Adm-clerical      |  Husband        |  White              |  Male   |     0 |    0 | 40 |  United-States |  &lt;=50K. |\n",
       "| 61 |  Private          |  89686 |  HS-grad      |  9 |  Married-civ-spouse |  Sales             |  Husband        |  White              |  Male   |     0 |    0 | 48 |  United-States |  &lt;=50K. |\n",
       "| 31 |  Private          | 440129 |  HS-grad      |  9 |  Married-civ-spouse |  Craft-repair      |  Husband        |  White              |  Male   |     0 |    0 | 40 |  United-States |  &lt;=50K. |\n",
       "| 25 |  Private          | 350977 |  HS-grad      |  9 |  Never-married      |  Other-service     |  Own-child      |  White              |  Female |     0 |    0 | 40 |  United-States |  &lt;=50K. |\n",
       "| 48 |  Local-gov        | 349230 |  Masters      | 14 |  Divorced           |  Other-service     |  Not-in-family  |  White              |  Male   |     0 |    0 | 40 |  United-States |  &lt;=50K. |\n",
       "| 33 |  Private          | 245211 |  Bachelors    | 13 |  Never-married      |  Prof-specialty    |  Own-child      |  White              |  Male   |     0 |    0 | 40 |  United-States |  &lt;=50K. |\n",
       "| 39 |  Private          | 215419 |  Bachelors    | 13 |  Divorced           |  Prof-specialty    |  Not-in-family  |  White              |  Female |     0 |    0 | 36 |  United-States |  &lt;=50K. |\n",
       "| 64 |  ?                | 321403 |  HS-grad      |  9 |  Widowed            |  ?                 |  Other-relative |  Black              |  Male   |     0 |    0 | 40 |  United-States |  &lt;=50K. |\n",
       "| 38 |  Private          | 374983 |  Bachelors    | 13 |  Married-civ-spouse |  Prof-specialty    |  Husband        |  White              |  Male   |     0 |    0 | 50 |  United-States |  &lt;=50K. |\n",
       "| 44 |  Private          |  83891 |  Bachelors    | 13 |  Divorced           |  Adm-clerical      |  Own-child      |  Asian-Pac-Islander |  Male   |  5455 |    0 | 40 |  United-States |  &lt;=50K. |\n",
       "| 35 |  Self-emp-inc     | 182148 |  Bachelors    | 13 |  Married-civ-spouse |  Exec-managerial   |  Husband        |  White              |  Male   |     0 |    0 | 60 |  United-States |  &gt;50K.  |\n",
       "| NA | <!----> |     NA | <!----> | NA | <!----> | <!----> | <!----> | <!----> | <!----> |    NA |   NA | NA | <!----> | <!----> |\n",
       "\n"
      ],
      "text/plain": [
       "      age workclass         fnlwgt education     education_num\n",
       "1     39   State-gov         77516  Bachelors    13           \n",
       "2     50   Self-emp-not-inc  83311  Bachelors    13           \n",
       "3     38   Private          215646  HS-grad       9           \n",
       "4     53   Private          234721  11th          7           \n",
       "5     28   Private          338409  Bachelors    13           \n",
       "6     37   Private          284582  Masters      14           \n",
       "7     49   Private          160187  9th           5           \n",
       "8     52   Self-emp-not-inc 209642  HS-grad       9           \n",
       "9     31   Private           45781  Masters      14           \n",
       "10    42   Private          159449  Bachelors    13           \n",
       "11    37   Private          280464  Some-college 10           \n",
       "12    30   State-gov        141297  Bachelors    13           \n",
       "13    23   Private          122272  Bachelors    13           \n",
       "14    32   Private          205019  Assoc-acdm   12           \n",
       "15    40   Private          121772  Assoc-voc    11           \n",
       "16    34   Private          245487  7th-8th       4           \n",
       "17    25   Self-emp-not-inc 176756  HS-grad       9           \n",
       "18    32   Private          186824  HS-grad       9           \n",
       "19    38   Private           28887  11th          7           \n",
       "20    43   Self-emp-not-inc 292175  Masters      14           \n",
       "21    40   Private          193524  Doctorate    16           \n",
       "22    54   Private          302146  HS-grad       9           \n",
       "23    35   Federal-gov       76845  9th           5           \n",
       "24    43   Private          117037  11th          7           \n",
       "25    59   Private          109015  HS-grad       9           \n",
       "26    56   Local-gov        216851  Bachelors    13           \n",
       "27    19   Private          168294  HS-grad       9           \n",
       "28    54   ?                180211  Some-college 10           \n",
       "29    39   Private          367260  HS-grad       9           \n",
       "30    49   Private          193366  HS-grad       9           \n",
       "⋮     ⋮   ⋮                 ⋮      ⋮             ⋮            \n",
       "48815 60   Private          117909  Assoc-voc    11           \n",
       "48816 39   Private          229647  Bachelors    13           \n",
       "48817 38   Private          149347  Masters      14           \n",
       "48818 43   Local-gov         23157  Masters      14           \n",
       "48819 23   Private           93977  HS-grad       9           \n",
       "48820 73   Self-emp-inc     159691  Some-college 10           \n",
       "48821 35   Private          176967  Some-college 10           \n",
       "48822 66   Private          344436  HS-grad       9           \n",
       "48823 27   Private          430340  Some-college 10           \n",
       "48824 40   Private          202168  Prof-school  15           \n",
       "48825 51   Private           82720  HS-grad       9           \n",
       "48826 22   Private          269623  Some-college 10           \n",
       "48827 64   Self-emp-not-inc 136405  HS-grad       9           \n",
       "48828 50   Local-gov        139347  Masters      14           \n",
       "48829 55   Private          224655  HS-grad       9           \n",
       "48830 38   Private          247547  Assoc-voc    11           \n",
       "48831 58   Private          292710  Assoc-acdm   12           \n",
       "48832 32   Private          173449  HS-grad       9           \n",
       "48833 48   Private          285570  HS-grad       9           \n",
       "48834 61   Private           89686  HS-grad       9           \n",
       "48835 31   Private          440129  HS-grad       9           \n",
       "48836 25   Private          350977  HS-grad       9           \n",
       "48837 48   Local-gov        349230  Masters      14           \n",
       "48838 33   Private          245211  Bachelors    13           \n",
       "48839 39   Private          215419  Bachelors    13           \n",
       "48840 64   ?                321403  HS-grad       9           \n",
       "48841 38   Private          374983  Bachelors    13           \n",
       "48842 44   Private           83891  Bachelors    13           \n",
       "48843 35   Self-emp-inc     182148  Bachelors    13           \n",
       "48844 NA                        NA               NA           \n",
       "      marital_status         occupation         relationship   \n",
       "1      Never-married          Adm-clerical       Not-in-family \n",
       "2      Married-civ-spouse     Exec-managerial    Husband       \n",
       "3      Divorced               Handlers-cleaners  Not-in-family \n",
       "4      Married-civ-spouse     Handlers-cleaners  Husband       \n",
       "5      Married-civ-spouse     Prof-specialty     Wife          \n",
       "6      Married-civ-spouse     Exec-managerial    Wife          \n",
       "7      Married-spouse-absent  Other-service      Not-in-family \n",
       "8      Married-civ-spouse     Exec-managerial    Husband       \n",
       "9      Never-married          Prof-specialty     Not-in-family \n",
       "10     Married-civ-spouse     Exec-managerial    Husband       \n",
       "11     Married-civ-spouse     Exec-managerial    Husband       \n",
       "12     Married-civ-spouse     Prof-specialty     Husband       \n",
       "13     Never-married          Adm-clerical       Own-child     \n",
       "14     Never-married          Sales              Not-in-family \n",
       "15     Married-civ-spouse     Craft-repair       Husband       \n",
       "16     Married-civ-spouse     Transport-moving   Husband       \n",
       "17     Never-married          Farming-fishing    Own-child     \n",
       "18     Never-married          Machine-op-inspct  Unmarried     \n",
       "19     Married-civ-spouse     Sales              Husband       \n",
       "20     Divorced               Exec-managerial    Unmarried     \n",
       "21     Married-civ-spouse     Prof-specialty     Husband       \n",
       "22     Separated              Other-service      Unmarried     \n",
       "23     Married-civ-spouse     Farming-fishing    Husband       \n",
       "24     Married-civ-spouse     Transport-moving   Husband       \n",
       "25     Divorced               Tech-support       Unmarried     \n",
       "26     Married-civ-spouse     Tech-support       Husband       \n",
       "27     Never-married          Craft-repair       Own-child     \n",
       "28     Married-civ-spouse     ?                  Husband       \n",
       "29     Divorced               Exec-managerial    Not-in-family \n",
       "30     Married-civ-spouse     Craft-repair       Husband       \n",
       "⋮     ⋮                      ⋮                  ⋮              \n",
       "48815  Married-civ-spouse     Prof-specialty     Husband       \n",
       "48816  Never-married          Tech-support       Not-in-family \n",
       "48817  Married-civ-spouse     Prof-specialty     Husband       \n",
       "48818  Married-civ-spouse     Exec-managerial    Husband       \n",
       "48819  Never-married          Machine-op-inspct  Own-child     \n",
       "48820  Divorced               Exec-managerial    Not-in-family \n",
       "48821  Married-civ-spouse     Protective-serv    Husband       \n",
       "48822  Widowed                Sales              Other-relative\n",
       "48823  Never-married          Sales              Not-in-family \n",
       "48824  Married-civ-spouse     Prof-specialty     Husband       \n",
       "48825  Married-civ-spouse     Craft-repair       Husband       \n",
       "48826  Never-married          Craft-repair       Own-child     \n",
       "48827  Widowed                Farming-fishing    Not-in-family \n",
       "48828  Married-civ-spouse     Prof-specialty     Wife          \n",
       "48829  Separated              Priv-house-serv    Not-in-family \n",
       "48830  Never-married          Adm-clerical       Unmarried     \n",
       "48831  Divorced               Prof-specialty     Not-in-family \n",
       "48832  Married-civ-spouse     Handlers-cleaners  Husband       \n",
       "48833  Married-civ-spouse     Adm-clerical       Husband       \n",
       "48834  Married-civ-spouse     Sales              Husband       \n",
       "48835  Married-civ-spouse     Craft-repair       Husband       \n",
       "48836  Never-married          Other-service      Own-child     \n",
       "48837  Divorced               Other-service      Not-in-family \n",
       "48838  Never-married          Prof-specialty     Own-child     \n",
       "48839  Divorced               Prof-specialty     Not-in-family \n",
       "48840  Widowed                ?                  Other-relative\n",
       "48841  Married-civ-spouse     Prof-specialty     Husband       \n",
       "48842  Divorced               Adm-clerical       Own-child     \n",
       "48843  Married-civ-spouse     Exec-managerial    Husband       \n",
       "48844                                                          \n",
       "      race                sex     capital_gain capital_loss hours_per_week\n",
       "1      White               Male    2174           0         40            \n",
       "2      White               Male       0           0         13            \n",
       "3      White               Male       0           0         40            \n",
       "4      Black               Male       0           0         40            \n",
       "5      Black               Female     0           0         40            \n",
       "6      White               Female     0           0         40            \n",
       "7      Black               Female     0           0         16            \n",
       "8      White               Male       0           0         45            \n",
       "9      White               Female 14084           0         50            \n",
       "10     White               Male    5178           0         40            \n",
       "11     Black               Male       0           0         80            \n",
       "12     Asian-Pac-Islander  Male       0           0         40            \n",
       "13     White               Female     0           0         30            \n",
       "14     Black               Male       0           0         50            \n",
       "15     Asian-Pac-Islander  Male       0           0         40            \n",
       "16     Amer-Indian-Eskimo  Male       0           0         45            \n",
       "17     White               Male       0           0         35            \n",
       "18     White               Male       0           0         40            \n",
       "19     White               Male       0           0         50            \n",
       "20     White               Female     0           0         45            \n",
       "21     White               Male       0           0         60            \n",
       "22     Black               Female     0           0         20            \n",
       "23     Black               Male       0           0         40            \n",
       "24     White               Male       0        2042         40            \n",
       "25     White               Female     0           0         40            \n",
       "26     White               Male       0           0         40            \n",
       "27     White               Male       0           0         40            \n",
       "28     Asian-Pac-Islander  Male       0           0         60            \n",
       "29     White               Male       0           0         80            \n",
       "30     White               Male       0           0         40            \n",
       "⋮     ⋮                   ⋮       ⋮            ⋮            ⋮             \n",
       "48815  White               Male    7688           0         40            \n",
       "48816  White               Female     0        1669         40            \n",
       "48817  White               Male       0           0         50            \n",
       "48818  White               Male       0        1902         50            \n",
       "48819  White               Male       0           0         40            \n",
       "48820  White               Female     0           0         40            \n",
       "48821  White               Male       0           0         40            \n",
       "48822  White               Female     0           0          8            \n",
       "48823  White               Female     0           0         45            \n",
       "48824  White               Male   15024           0         55            \n",
       "48825  White               Male       0           0         40            \n",
       "48826  White               Male       0           0         40            \n",
       "48827  White               Male       0           0         32            \n",
       "48828  White               Female     0           0         40            \n",
       "48829  White               Female     0           0         32            \n",
       "48830  Black               Female     0           0         40            \n",
       "48831  White               Male       0           0         36            \n",
       "48832  White               Male       0           0         40            \n",
       "48833  White               Male       0           0         40            \n",
       "48834  White               Male       0           0         48            \n",
       "48835  White               Male       0           0         40            \n",
       "48836  White               Female     0           0         40            \n",
       "48837  White               Male       0           0         40            \n",
       "48838  White               Male       0           0         40            \n",
       "48839  White               Female     0           0         36            \n",
       "48840  Black               Male       0           0         40            \n",
       "48841  White               Male       0           0         50            \n",
       "48842  Asian-Pac-Islander  Male    5455           0         40            \n",
       "48843  White               Male       0           0         60            \n",
       "48844                                NA          NA         NA            \n",
       "      native_country income \n",
       "1      United-States  <=50K \n",
       "2      United-States  <=50K \n",
       "3      United-States  <=50K \n",
       "4      United-States  <=50K \n",
       "5      Cuba           <=50K \n",
       "6      United-States  <=50K \n",
       "7      Jamaica        <=50K \n",
       "8      United-States  >50K  \n",
       "9      United-States  >50K  \n",
       "10     United-States  >50K  \n",
       "11     United-States  >50K  \n",
       "12     India          >50K  \n",
       "13     United-States  <=50K \n",
       "14     United-States  <=50K \n",
       "15     ?              >50K  \n",
       "16     Mexico         <=50K \n",
       "17     United-States  <=50K \n",
       "18     United-States  <=50K \n",
       "19     United-States  <=50K \n",
       "20     United-States  >50K  \n",
       "21     United-States  >50K  \n",
       "22     United-States  <=50K \n",
       "23     United-States  <=50K \n",
       "24     United-States  <=50K \n",
       "25     United-States  <=50K \n",
       "26     United-States  >50K  \n",
       "27     United-States  <=50K \n",
       "28     South          >50K  \n",
       "29     United-States  <=50K \n",
       "30     United-States  <=50K \n",
       "⋮     ⋮              ⋮      \n",
       "48815  United-States  >50K. \n",
       "48816  United-States  <=50K.\n",
       "48817  United-States  >50K. \n",
       "48818  United-States  >50K. \n",
       "48819  United-States  <=50K.\n",
       "48820  United-States  <=50K.\n",
       "48821  United-States  <=50K.\n",
       "48822  United-States  <=50K.\n",
       "48823  United-States  <=50K.\n",
       "48824  United-States  >50K. \n",
       "48825  United-States  <=50K.\n",
       "48826  United-States  <=50K.\n",
       "48827  United-States  <=50K.\n",
       "48828  ?              >50K. \n",
       "48829  United-States  <=50K.\n",
       "48830  United-States  <=50K.\n",
       "48831  United-States  <=50K.\n",
       "48832  United-States  <=50K.\n",
       "48833  United-States  <=50K.\n",
       "48834  United-States  <=50K.\n",
       "48835  United-States  <=50K.\n",
       "48836  United-States  <=50K.\n",
       "48837  United-States  <=50K.\n",
       "48838  United-States  <=50K.\n",
       "48839  United-States  <=50K.\n",
       "48840  United-States  <=50K.\n",
       "48841  United-States  <=50K.\n",
       "48842  United-States  <=50K.\n",
       "48843  United-States  >50K. \n",
       "48844                       "
      ]
     },
     "metadata": {},
     "output_type": "display_data"
    }
   ],
   "source": [
    "# Concatenate and reindex Adultbio and Adultinfo into Adult\n",
    "\n",
    "adult <- rbind(adultbio, adultinfo) # Add Adultbio and Adultinfo to Adult as a single dataset\n",
    "\n",
    "# Reset row names/index of the combined Aadult\n",
    "rownames(adult) <- NULL\n",
    "adult # Viw the new data.frame Adult\n"
   ]
  },
  {
   "cell_type": "markdown",
   "id": "9fb898a6-e78d-4d4e-afc5-3fa563385740",
   "metadata": {},
   "source": [
    "# **CHARACTERISTICS (DATA ATTRIBUTES)**"
   ]
  },
  {
   "cell_type": "markdown",
   "id": "74a91ded-07b2-459f-b432-511693e45892",
   "metadata": {},
   "source": [
    " **I.\tNumber of independent and dependent variables**"
   ]
  },
  {
   "cell_type": "code",
   "execution_count": 9,
   "id": "9e4d40c4-f0d8-4d8c-8434-3ba90d2297f5",
   "metadata": {},
   "outputs": [
    {
     "name": "stdout",
     "output_type": "stream",
     "text": [
      "[1] \"Number of independent variables: 14\"\n",
      "[1] \"Number of dependent variables: 1\"\n"
     ]
    }
   ],
   "source": [
    "# Display the number of Dependent and Independent variables\n",
    "\n",
    "independent_variables <- ncol(adult) - 1  # Number of independent variables in adult\n",
    "dependent_variables <- 1  # Number of dependent variables in adult\n",
    "\n",
    "# The results\n",
    "print(paste(\"Number of independent variables:\", independent_variables))\n",
    "print(paste(\"Number of dependent variables:\", dependent_variables))"
   ]
  },
  {
   "cell_type": "markdown",
   "id": "ec53c788-0f3a-4c69-89da-f30e43c00ba3",
   "metadata": {},
   "source": [
    "**II.\tNumber of records**"
   ]
  },
  {
   "cell_type": "code",
   "execution_count": 10,
   "id": "045c0db8-4db3-4a0d-a517-b441bd4e2cf7",
   "metadata": {},
   "outputs": [
    {
     "name": "stdout",
     "output_type": "stream",
     "text": [
      "[1] \"Number of records: 48844\"\n",
      "[1] \"Number of columns: 15\"\n"
     ]
    },
    {
     "data": {
      "text/html": [
       "<style>\n",
       ".list-inline {list-style: none; margin:0; padding: 0}\n",
       ".list-inline>li {display: inline-block}\n",
       ".list-inline>li:not(:last-child)::after {content: \"\\00b7\"; padding: 0 .5ex}\n",
       "</style>\n",
       "<ol class=list-inline><li>'age'</li><li>'workclass'</li><li>'fnlwgt'</li><li>'education'</li><li>'education_num'</li><li>'marital_status'</li><li>'occupation'</li><li>'relationship'</li><li>'race'</li><li>'sex'</li><li>'capital_gain'</li><li>'capital_loss'</li><li>'hours_per_week'</li><li>'native_country'</li><li>'income'</li></ol>\n"
      ],
      "text/latex": [
       "\\begin{enumerate*}\n",
       "\\item 'age'\n",
       "\\item 'workclass'\n",
       "\\item 'fnlwgt'\n",
       "\\item 'education'\n",
       "\\item 'education\\_num'\n",
       "\\item 'marital\\_status'\n",
       "\\item 'occupation'\n",
       "\\item 'relationship'\n",
       "\\item 'race'\n",
       "\\item 'sex'\n",
       "\\item 'capital\\_gain'\n",
       "\\item 'capital\\_loss'\n",
       "\\item 'hours\\_per\\_week'\n",
       "\\item 'native\\_country'\n",
       "\\item 'income'\n",
       "\\end{enumerate*}\n"
      ],
      "text/markdown": [
       "1. 'age'\n",
       "2. 'workclass'\n",
       "3. 'fnlwgt'\n",
       "4. 'education'\n",
       "5. 'education_num'\n",
       "6. 'marital_status'\n",
       "7. 'occupation'\n",
       "8. 'relationship'\n",
       "9. 'race'\n",
       "10. 'sex'\n",
       "11. 'capital_gain'\n",
       "12. 'capital_loss'\n",
       "13. 'hours_per_week'\n",
       "14. 'native_country'\n",
       "15. 'income'\n",
       "\n",
       "\n"
      ],
      "text/plain": [
       " [1] \"age\"            \"workclass\"      \"fnlwgt\"         \"education\"     \n",
       " [5] \"education_num\"  \"marital_status\" \"occupation\"     \"relationship\"  \n",
       " [9] \"race\"           \"sex\"            \"capital_gain\"   \"capital_loss\"  \n",
       "[13] \"hours_per_week\" \"native_country\" \"income\"        "
      ]
     },
     "metadata": {},
     "output_type": "display_data"
    }
   ],
   "source": [
    "# Get the number of Rows, Columns, and Names in Adult\n",
    "\n",
    "print(paste(\"Number of records:\", nrow(adult))) # the number of Rows in Adult\n",
    "print(paste(\"Number of columns:\", ncol(adult))) # the number of Columns in Adult\n",
    "names(adult) # Get all column names in Adult"
   ]
  },
  {
   "cell_type": "markdown",
   "id": "f551f60f-05d7-4db5-ad8d-8139ab4cffc7",
   "metadata": {},
   "source": [
    "**III.\tData types of combination-> Binary, nominal, categorical, textual, numerical**"
   ]
  },
  {
   "cell_type": "code",
   "execution_count": 11,
   "id": "f0371f61-18d7-4354-a973-f80b28f7472e",
   "metadata": {},
   "outputs": [
    {
     "name": "stdout",
     "output_type": "stream",
     "text": [
      "'data.frame':\t48844 obs. of  15 variables:\n",
      " $ age           : int  39 50 38 53 28 37 49 52 31 42 ...\n",
      " $ workclass     : chr  \" State-gov\" \" Self-emp-not-inc\" \" Private\" \" Private\" ...\n",
      " $ fnlwgt        : int  77516 83311 215646 234721 338409 284582 160187 209642 45781 159449 ...\n",
      " $ education     : chr  \" Bachelors\" \" Bachelors\" \" HS-grad\" \" 11th\" ...\n",
      " $ education_num : int  13 13 9 7 13 14 5 9 14 13 ...\n",
      " $ marital_status: chr  \" Never-married\" \" Married-civ-spouse\" \" Divorced\" \" Married-civ-spouse\" ...\n",
      " $ occupation    : chr  \" Adm-clerical\" \" Exec-managerial\" \" Handlers-cleaners\" \" Handlers-cleaners\" ...\n",
      " $ relationship  : chr  \" Not-in-family\" \" Husband\" \" Not-in-family\" \" Husband\" ...\n",
      " $ race          : chr  \" White\" \" White\" \" White\" \" Black\" ...\n",
      " $ sex           : chr  \" Male\" \" Male\" \" Male\" \" Male\" ...\n",
      " $ capital_gain  : int  2174 0 0 0 0 0 0 0 14084 5178 ...\n",
      " $ capital_loss  : int  0 0 0 0 0 0 0 0 0 0 ...\n",
      " $ hours_per_week: int  40 13 40 40 40 40 16 45 50 40 ...\n",
      " $ native_country: chr  \" United-States\" \" United-States\" \" United-States\" \" United-States\" ...\n",
      " $ income        : chr  \" <=50K\" \" <=50K\" \" <=50K\" \" <=50K\" ...\n"
     ]
    }
   ],
   "source": [
    "# Get the structure of Adult\n",
    "\n",
    "str(adult) # Get the structure of Adult"
   ]
  },
  {
   "cell_type": "code",
   "execution_count": 12,
   "id": "ed9f0722-b132-4e4e-b308-c4339373d142",
   "metadata": {},
   "outputs": [
    {
     "name": "stdout",
     "output_type": "stream",
     "text": [
      "[1] \"Binary Variables in Adult: \"\n",
      "[1] \"Nominal Variables in Adult: \"\n",
      "[1] \"Numerical Variables in Adult: age, fnlwgt, education_num, capital_gain, capital_loss, hours_per_week\"\n",
      "[1] \"Categorical Variables in Adult: workclass, education, marital_status, occupation, relationship, race, sex, native_country, income\"\n"
     ]
    }
   ],
   "source": [
    "# Get all  datatype combination of all variables in Adult\n",
    "\n",
    "# Get variables datatypes in Adult\n",
    "variable_types <- sapply(adult, class)\n",
    "\n",
    "# Variables based on data type combinations\n",
    "Nominal_Variables <- names(variable_types)[variable_types == \"factor\"] # Nominal Variables in Adult\n",
    "Categorical_Variables <- names(variable_types)[variable_types == \"character\"] # Categorical Variables in Adult\n",
    "Binary_Variables <- names(variable_types)[variable_types == \"logical\"] # Binary Variables in Adult\n",
    "Numerical_Variables <- names(variable_types)[variable_types %in% c(\"numeric\", \"integer\")] # Numerical Variables in Adult\n",
    "\n",
    "# The results\n",
    "print(paste(\"Binary Variables in Adult:\", paste(Binary_Variables, collapse = \", \")))\n",
    "print(paste(\"Nominal Variables in Adult:\", paste(Nominal_Variables, collapse = \", \")))\n",
    "print(paste(\"Numerical Variables in Adult:\", paste(Numerical_Variables, collapse = \", \")))\n",
    "print(paste(\"Categorical Variables in Adult:\", paste(Categorical_Variables, collapse = \", \")))"
   ]
  },
  {
   "cell_type": "markdown",
   "id": "a803a1bb-2ba1-4027-99bc-e79ef6f48498",
   "metadata": {},
   "source": [
    "**IV.\tSummary of numerical variables: min, max, mean, median, quartiles, NA'S**"
   ]
  },
  {
   "cell_type": "code",
   "execution_count": 13,
   "id": "a26cef72-7d01-4bb0-bfee-56a6f88f5e36",
   "metadata": {},
   "outputs": [
    {
     "data": {
      "text/plain": [
       "   Min. 1st Qu.  Median    Mean 3rd Qu.    Max.    NA's \n",
       "  17.00   28.00   37.00   38.64   48.00   90.00       2 "
      ]
     },
     "metadata": {},
     "output_type": "display_data"
    },
    {
     "data": {
      "text/plain": [
       "   Min. 1st Qu.  Median    Mean 3rd Qu.    Max.    NA's \n",
       "  12285  117551  178145  189664  237642 1490400       2 "
      ]
     },
     "metadata": {},
     "output_type": "display_data"
    },
    {
     "data": {
      "text/plain": [
       "   Min. 1st Qu.  Median    Mean 3rd Qu.    Max.    NA's \n",
       "   1.00    9.00   10.00   10.08   12.00   16.00       2 "
      ]
     },
     "metadata": {},
     "output_type": "display_data"
    },
    {
     "data": {
      "text/plain": [
       "   Min. 1st Qu.  Median    Mean 3rd Qu.    Max.    NA's \n",
       "      0       0       0    1079       0   99999       2 "
      ]
     },
     "metadata": {},
     "output_type": "display_data"
    },
    {
     "data": {
      "text/plain": [
       "   Min. 1st Qu.  Median    Mean 3rd Qu.    Max.    NA's \n",
       "    0.0     0.0     0.0    87.5     0.0  4356.0       2 "
      ]
     },
     "metadata": {},
     "output_type": "display_data"
    },
    {
     "data": {
      "text/plain": [
       "   Min. 1st Qu.  Median    Mean 3rd Qu.    Max.    NA's \n",
       "   1.00   40.00   40.00   40.42   45.00   99.00       2 "
      ]
     },
     "metadata": {},
     "output_type": "display_data"
    }
   ],
   "source": [
    "# Get only Numerical descriptive statistics information about Adult\n",
    "\n",
    "summary(adult$age) # Summary statistics for 'age'\n",
    "summary(adult$fnlwgt) # Summary statistics for 'fnlwgt'\n",
    "summary(adult$education_num) # Summary statistics for 'education_num'\n",
    "summary(adult$capital_gain) # Summary statistics for 'capital_gain'\n",
    "summary(adult$capital_loss) # Summary statistics for 'capital_loss'\n",
    "summary(adult$hours_per_week) # Summary statistics for 'hours_per_week'"
   ]
  },
  {
   "cell_type": "markdown",
   "id": "2c9c7662-1da5-418f-8579-440c372d6787",
   "metadata": {},
   "source": [
    "# **CHARACTERISTICS (DATA CLEANING)**"
   ]
  },
  {
   "cell_type": "markdown",
   "id": "0d5744fa-a98b-4596-a5d2-0fb66e955fdc",
   "metadata": {},
   "source": [
    "**V) ai. CHECK TO NUMBER AND PROPORTION OF IRRELEVANT VARIABLES**"
   ]
  },
  {
   "cell_type": "code",
   "execution_count": 14,
   "id": "05a2a2d3-434a-4c09-9b2e-959323c1c1a4",
   "metadata": {},
   "outputs": [
    {
     "name": "stdout",
     "output_type": "stream",
     "text": [
      "[1] \"Number of irrelevant variables: 0\"\n",
      "[1] \"Proportion of irrelevant variables: 0\"\n"
     ]
    }
   ],
   "source": [
    "# CHECK TO REMOVE NUMBER AND PROPORTION OF IRRELEVANT VARIABLES\n",
    "\n",
    "# Check for irrelevant variables in adult\n",
    "check_adult <- sum(cor(adult[-which(names(adult) == \"Class\")], adult$Class) < 0.5)\n",
    "print(paste(\"Number of irrelevant variables:\", check_adult))\n",
    "print(paste(\"Proportion of irrelevant variables:\", check_adult / ncol(adult)))"
   ]
  },
  {
   "cell_type": "markdown",
   "id": "392f1fe2-2c7c-4c8c-82df-16f698193089",
   "metadata": {},
   "source": [
    "**V) b. CHECK TO REMOVE NUMBER AND PROPORTION OF DUPLICATES VAlUES**"
   ]
  },
  {
   "cell_type": "code",
   "execution_count": 15,
   "id": "f78fcbfd-5e2f-4fd9-b009-2ae555f1c978",
   "metadata": {},
   "outputs": [
    {
     "name": "stdout",
     "output_type": "stream",
     "text": [
      "[1] \"Number of duplicate rows: 59\"\n",
      "[1] \"Proportion of duplicate rows: 0.00120792727868315\"\n"
     ]
    }
   ],
   "source": [
    "# CHECK NUMBER AND PROPORTION OF DUPLICATES VAlUES\n",
    "\n",
    "# Check for duplicate rows in adult\n",
    "check_duplicates <- sum(duplicated(adult) | duplicated(adult, fromLast = TRUE))\n",
    "print(paste(\"Number of duplicate rows:\", check_duplicates))\n",
    "print(paste(\"Proportion of duplicate rows:\", check_duplicates / nrow(adult)))"
   ]
  },
  {
   "cell_type": "code",
   "execution_count": 16,
   "id": "8dad081b-c1ca-4805-a326-87bbbe3bbcf4",
   "metadata": {},
   "outputs": [],
   "source": [
    "# REMOVE NUMBER AND PROPORTION OF DUPLICATES VAlUES\n",
    "\n",
    "clean_adult<- adult[!duplicated(adult) & !duplicated(adult, fromLast = TRUE), ] # Remove duplicate values in Adult"
   ]
  },
  {
   "cell_type": "code",
   "execution_count": 17,
   "id": "ce4cb009-fed6-4cf5-8cdc-5dbcfc76571d",
   "metadata": {},
   "outputs": [
    {
     "name": "stdout",
     "output_type": "stream",
     "text": [
      "[1] \"Number of duplicate rows: 0\"\n",
      "[1] \"Proportion of duplicate rows: 0\"\n"
     ]
    }
   ],
   "source": [
    "# RECHECK FOR NUMBER AND PROPORTION OF DUPLICATES VAlUES\n",
    "\n",
    "recheck_duplicates <- sum(duplicated(clean_adult) | duplicated(clean_adult, fromLast = TRUE))\n",
    "print(paste(\"Number of duplicate rows:\", recheck_duplicates))\n",
    "print(paste(\"Proportion of duplicate rows:\", recheck_duplicates / nrow(clean_adult)))"
   ]
  },
  {
   "cell_type": "markdown",
   "id": "93e68640-26f3-47ad-a571-d7ad14b93b09",
   "metadata": {},
   "source": [
    "**V) C. CHECK TO REMOVE NUMBER AND PROPORTION OF MISSING VALUES**"
   ]
  },
  {
   "cell_type": "code",
   "execution_count": 18,
   "id": "3c245fe1-a4d8-4f93-b343-d58aedc8fcd9",
   "metadata": {},
   "outputs": [
    {
     "name": "stdout",
     "output_type": "stream",
     "text": [
      "[1] \"Number of missing values: 6\"\n",
      "[1] \"Proportion of missing values: 8.19924157015476e-06\"\n"
     ]
    }
   ],
   "source": [
    "# CHECK FOR NUMBER AND PROPORTION OF MISSING VAlUES\n",
    "check_missing_values <- sum(colSums(is.na(adult)) > 0)\n",
    "print(paste(\"Number of missing values:\", check_missing_values))\n",
    "print(paste(\"Proportion of missing values:\", check_missing_values / (nrow(clean_adult) * ncol(clean_adult))))"
   ]
  },
  {
   "cell_type": "code",
   "execution_count": 19,
   "id": "3e35c122-cece-4b0c-af3e-33d0db98585c",
   "metadata": {},
   "outputs": [],
   "source": [
    "# CONVERT ANY ? TO NAs\n",
    "\n",
    "clean_adult[clean_adult == \"?\"] <- NA"
   ]
  },
  {
   "cell_type": "code",
   "execution_count": 20,
   "id": "ff868894-4902-4369-9707-acb9ed4f9196",
   "metadata": {},
   "outputs": [],
   "source": [
    "# REMOVE NUMBER AND PROPORTION OF MISSING VAlUES\n",
    "\n",
    " clean_adult <- na.omit(clean_adult)  # Remove missing values by omitting them clean_adult"
   ]
  },
  {
   "cell_type": "code",
   "execution_count": 21,
   "id": "a3161dab-e6fa-47f3-bc2f-45bf88b65408",
   "metadata": {},
   "outputs": [
    {
     "name": "stdout",
     "output_type": "stream",
     "text": [
      "[1] \"Number of missing values: 0\"\n",
      "[1] \"Proportion of missing values: 0\"\n"
     ]
    }
   ],
   "source": [
    "# RECHECK FOR NUMBER AND PROPORTION OF MISSING VAlUES\n",
    "\n",
    "recheck_missing_values <- sum(colSums(is.na(clean_adult))) # Recheck for Missing values\n",
    "print(paste(\"Number of missing values:\", recheck_missing_values))\n",
    "print(paste(\"Proportion of missing values:\", recheck_missing_values / nrow(clean_adult)))"
   ]
  },
  {
   "cell_type": "markdown",
   "id": "ada69efd-0733-4c76-9ad8-0d1f93035987",
   "metadata": {},
   "source": [
    "**V). d. CHECK TO REMOVE NUMBER AND PROPORTION OF OUTLIER**"
   ]
  },
  {
   "cell_type": "code",
   "execution_count": 22,
   "id": "99f59f4f-bd2a-4d52-8e6d-f7fdb2fc7498",
   "metadata": {},
   "outputs": [
    {
     "data": {
      "image/png": "[encoded data removed]",
      "text/plain": [
       "Plot with title \"Boxplot Adult\""
      ]
     },
     "metadata": {
      "image/png": {
       "height": 420,
       "width": 420
      }
     },
     "output_type": "display_data"
    }
   ],
   "source": [
    "# CREATING A BOX-PLOT TO DISPLAY OUTLIERS \n",
    "\n",
    "# Select numeric columns from adult_clean\n",
    "Box_plot_clean_adult <- clean_adult[sapply(clean_adult, is.numeric)]\n",
    "\n",
    "# Scale the numeric columns\n",
    "scaled_adult <- as.data.frame(scale(Box_plot_clean_adult))\n",
    "\n",
    "# Create boxplot in Clean_Adult\n",
    "boxplot(scaled_adult, outline = TRUE, main = \"Boxplot Adult\", las = 2)\n"
   ]
  },
  {
   "cell_type": "code",
   "execution_count": 23,
   "id": "5a773508-80d1-4ef0-a76e-9e4060106442",
   "metadata": {},
   "outputs": [
    {
     "name": "stdout",
     "output_type": "stream",
     "text": [
      "[1] \"Number of outliers: 23256\"\n",
      "[1] \"Proportion of outliers: 0.0794506508147996\"\n"
     ]
    }
   ],
   "source": [
    "# Identify numeric columns\n",
    "numeric_columns <- sapply(clean_adult, is.numeric)\n",
    "\n",
    "# Check for outliers using the IQR method\n",
    "total_outliers <- 0\n",
    "total_values <- 0\n",
    "\n",
    "for (col in names(clean_adult)[numeric_columns]) {\n",
    "  q75 <- quantile(clean_adult[[col]], 0.75, na.rm = TRUE)\n",
    "  q25 <- quantile(clean_adult[[col]], 0.25, na.rm = TRUE)\n",
    "  iqr <- q75 - q25\n",
    "  outlier_rows <- sum(clean_adult[[col]] < (q25 - 1.5 * iqr) | clean_adult[[col]] > (q75 + 1.5 * iqr))\n",
    "  total_outliers <- total_outliers + outlier_rows\n",
    "  total_values <- total_values + length(clean_adult[[col]])\n",
    "}\n",
    "\n",
    "proportion_outliers <- total_outliers / total_values\n",
    "\n",
    "print(paste(\"Number of outliers:\", total_outliers))\n",
    "print(paste(\"Proportion of outliers:\", proportion_outliers))\n"
   ]
  },
  {
   "cell_type": "code",
   "execution_count": 24,
   "id": "e20fa796-22d0-4bce-bca2-938138c27854",
   "metadata": {},
   "outputs": [],
   "source": [
    "# Remove entire rows where any numeric column is an outlier\n",
    "adult_cleaned <- clean_adult\n",
    "for (col in names(clean_adult)[numeric_columns]) {\n",
    "  q75 <- quantile(clean_adult[[col]], 0.75, na.rm = TRUE)\n",
    "  q25 <- quantile(clean_adult[[col]], 0.25, na.rm = TRUE)\n",
    "  iqr <- q75 - q25\n",
    "  lower_bound <- q25 - 1.5 * iqr\n",
    "  upper_bound <- q75 + 1.5 * iqr\n",
    "  # Keep rows that are within the bounds\n",
    "  adult_cleaned <- adult_cleaned[adult_cleaned[[col]] >= lower_bound & adult_cleaned[[col]] <= upper_bound, ]\n",
    "}\n"
   ]
  },
  {
   "cell_type": "code",
   "execution_count": 25,
   "id": "c9b5b9a9-2ba3-4dc3-9a91-15f07cb2c257",
   "metadata": {},
   "outputs": [
    {
     "name": "stdout",
     "output_type": "stream",
     "text": [
      "'data.frame':\t28522 obs. of  15 variables:\n",
      " $ age           : int  38 53 28 37 52 30 32 40 25 32 ...\n",
      " $ workclass     : chr  \" Private\" \" Private\" \" Private\" \" Private\" ...\n",
      " $ fnlwgt        : int  215646 234721 338409 284582 209642 141297 205019 121772 176756 186824 ...\n",
      " $ education     : chr  \" HS-grad\" \" 11th\" \" Bachelors\" \" Masters\" ...\n",
      " $ education_num : int  9 7 13 14 9 13 12 11 9 9 ...\n",
      " $ marital_status: chr  \" Divorced\" \" Married-civ-spouse\" \" Married-civ-spouse\" \" Married-civ-spouse\" ...\n",
      " $ occupation    : chr  \" Handlers-cleaners\" \" Handlers-cleaners\" \" Prof-specialty\" \" Exec-managerial\" ...\n",
      " $ relationship  : chr  \" Not-in-family\" \" Husband\" \" Wife\" \" Wife\" ...\n",
      " $ race          : chr  \" White\" \" Black\" \" Black\" \" White\" ...\n",
      " $ sex           : chr  \" Male\" \" Male\" \" Female\" \" Female\" ...\n",
      " $ capital_gain  : int  0 0 0 0 0 0 0 0 0 0 ...\n",
      " $ capital_loss  : int  0 0 0 0 0 0 0 0 0 0 ...\n",
      " $ hours_per_week: int  40 40 40 40 45 40 50 40 35 40 ...\n",
      " $ native_country: chr  \" United-States\" \" United-States\" \" Cuba\" \" United-States\" ...\n",
      " $ income        : chr  \" <=50K\" \" <=50K\" \" <=50K\" \" <=50K\" ...\n"
     ]
    }
   ],
   "source": [
    "str(adult_cleaned) "
   ]
  },
  {
   "cell_type": "markdown",
   "id": "516ff891-54bd-4716-8fe1-13cd4df7b534",
   "metadata": {},
   "source": [
    "**LABEL ENCODING**"
   ]
  },
  {
   "cell_type": "code",
   "execution_count": 26,
   "id": "f83962ff-c05e-4fe0-a0b3-e700b8e5c60b",
   "metadata": {},
   "outputs": [
    {
     "data": {
      "text/html": [
       "<style>\n",
       ".list-inline {list-style: none; margin:0; padding: 0}\n",
       ".list-inline>li {display: inline-block}\n",
       ".list-inline>li:not(:last-child)::after {content: \"\\00b7\"; padding: 0 .5ex}\n",
       "</style>\n",
       "<ol class=list-inline><li>'0'</li><li>'1'</li></ol>\n"
      ],
      "text/latex": [
       "\\begin{enumerate*}\n",
       "\\item '0'\n",
       "\\item '1'\n",
       "\\end{enumerate*}\n"
      ],
      "text/markdown": [
       "1. '0'\n",
       "2. '1'\n",
       "\n",
       "\n"
      ],
      "text/plain": [
       "[1] \"0\" \"1\""
      ]
     },
     "metadata": {},
     "output_type": "display_data"
    }
   ],
   "source": [
    "# Convert 'income' variable to factor based on income threshold\n",
    "adult_cleaned$income <- factor(ifelse(adult_cleaned$income == \" <=50K\", 0, 1),\n",
    "                               levels = c(0, 1),\n",
    "                               labels = c(\"0\", \"1\"))\n",
    "\n",
    "# Check the levels of the 'income' variable\n",
    "levels(adult_cleaned$income)\n"
   ]
  },
  {
   "cell_type": "code",
   "execution_count": 27,
   "id": "0b64d8f8-13ad-4d13-9cf7-79f11c883301",
   "metadata": {},
   "outputs": [
    {
     "data": {
      "text/html": [
       "<style>\n",
       ".list-inline {list-style: none; margin:0; padding: 0}\n",
       ".list-inline>li {display: inline-block}\n",
       ".list-inline>li:not(:last-child)::after {content: \"\\00b7\"; padding: 0 .5ex}\n",
       "</style>\n",
       "<ol class=list-inline><li>0</li><li>1</li></ol>\n",
       "\n",
       "<details>\n",
       "\t<summary style=display:list-item;cursor:pointer>\n",
       "\t\t<strong>Levels</strong>:\n",
       "\t</summary>\n",
       "\t<style>\n",
       "\t.list-inline {list-style: none; margin:0; padding: 0}\n",
       "\t.list-inline>li {display: inline-block}\n",
       "\t.list-inline>li:not(:last-child)::after {content: \"\\00b7\"; padding: 0 .5ex}\n",
       "\t</style>\n",
       "\t<ol class=list-inline><li>'0'</li><li>'1'</li></ol>\n",
       "</details>"
      ],
      "text/latex": [
       "\\begin{enumerate*}\n",
       "\\item 0\n",
       "\\item 1\n",
       "\\end{enumerate*}\n",
       "\n",
       "\\emph{Levels}: \\begin{enumerate*}\n",
       "\\item '0'\n",
       "\\item '1'\n",
       "\\end{enumerate*}\n"
      ],
      "text/markdown": [
       "1. 0\n",
       "2. 1\n",
       "\n",
       "\n",
       "\n",
       "**Levels**: 1. '0'\n",
       "2. '1'\n",
       "\n",
       "\n"
      ],
      "text/plain": [
       "[1] 0 1\n",
       "Levels: 0 1"
      ]
     },
     "metadata": {},
     "output_type": "display_data"
    }
   ],
   "source": [
    "# Check unique values of income column after conversion\n",
    "\n",
    "unique(adult_cleaned$income)"
   ]
  },
  {
   "cell_type": "code",
   "execution_count": 28,
   "id": "c50998bf-0c53-4bd9-b575-a5036eaf8cea",
   "metadata": {},
   "outputs": [
    {
     "data": {
      "image/png": "[encoded data removed]",
      "text/plain": [
       "plot without title"
      ]
     },
     "metadata": {
      "image/png": {
       "height": 420,
       "width": 420
      }
     },
     "output_type": "display_data"
    }
   ],
   "source": [
    "# Plotting the distribution of the target variable 'Income'\n",
    "ggplot(adult_cleaned, aes(x = factor(income))) +\n",
    "  geom_bar(fill = \"blue\", alpha = 0.7) +\n",
    "  labs(x = \"Income Category\", y = \"Count\", title = \"Distribution of Capital Gained VS. Lost Gained\") +\n",
    "  theme_minimal()"
   ]
  },
  {
   "cell_type": "code",
   "execution_count": 29,
   "id": "71172978-0b57-4898-beb0-2cdf10c1bf48",
   "metadata": {
    "scrolled": true
   },
   "outputs": [],
   "source": [
    "# Replace \"?\" with NA in specific columns (\"workclass\", \"occupation\" and \"native_country\")\n",
    "\n",
    "adult_cleaned <- adult_cleaned %>%\n",
    "  mutate(workclass = ifelse(workclass == \" ?\", NA, workclass),\n",
    "         native_country = ifelse(native_country == \" ?\", NA, native_country),\n",
    "        occupation = ifelse(occupation == \" ?\", NA, occupation ))\n"
   ]
  },
  {
   "cell_type": "code",
   "execution_count": 30,
   "id": "e15f5b78-064f-4a5f-890f-06c643632ef7",
   "metadata": {},
   "outputs": [
    {
     "name": "stdout",
     "output_type": "stream",
     "text": [
      "[1] \"Number of NA values: 2791\"\n",
      "[1] \"Proportion of NA values: 0.0978542879180983\"\n"
     ]
    }
   ],
   "source": [
    "# Print number and proportion of NA values\n",
    "\n",
    "Recheck_missing_NAs <- sum(is.na(adult_cleaned))\n",
    "Recheck_proportion <- Recheck_missing_NAs / nrow(adult_cleaned)\n",
    "print(paste(\"Number of NA values:\", Recheck_missing_NAs))\n",
    "print(paste(\"Proportion of NA values:\", Recheck_proportion))"
   ]
  },
  {
   "cell_type": "code",
   "execution_count": 31,
   "id": "9048bea3-a526-466d-9859-4ce2c8f312fa",
   "metadata": {
    "scrolled": true
   },
   "outputs": [
    {
     "name": "stdout",
     "output_type": "stream",
     "text": [
      "'data.frame':\t28522 obs. of  15 variables:\n",
      " $ age           : int  38 53 28 37 52 30 32 40 25 32 ...\n",
      " $ workclass     : Factor w/ 8 levels \" Federal-gov\",..: 4 4 4 4 6 7 4 4 6 4 ...\n",
      " $ fnlwgt        : int  215646 234721 338409 284582 209642 141297 205019 121772 176756 186824 ...\n",
      " $ education     : Factor w/ 12 levels \" 10th\",\" 11th\",..: 9 2 7 10 9 7 5 6 9 9 ...\n",
      " $ education_num : int  9 7 13 14 9 13 12 11 9 9 ...\n",
      " $ marital_status: Factor w/ 7 levels \" Divorced\",\" Married-AF-spouse\",..: 1 3 3 3 3 3 5 3 5 5 ...\n",
      " $ occupation    : Factor w/ 14 levels \" Adm-clerical\",..: 6 6 10 4 4 10 12 3 5 7 ...\n",
      " $ relationship  : Factor w/ 6 levels \" Husband\",\" Not-in-family\",..: 2 1 6 6 1 1 2 1 4 5 ...\n",
      " $ race          : Factor w/ 5 levels \" Amer-Indian-Eskimo\",..: 5 3 3 5 5 2 3 2 5 5 ...\n",
      " $ sex           : Factor w/ 2 levels \" Female\",\" Male\": 2 2 1 1 2 2 2 2 2 2 ...\n",
      " $ capital_gain  : int  0 0 0 0 0 0 0 0 0 0 ...\n",
      " $ capital_loss  : int  0 0 0 0 0 0 0 0 0 0 ...\n",
      " $ hours_per_week: int  40 40 40 40 45 40 50 40 35 40 ...\n",
      " $ native_country: Factor w/ 40 levels \" Cambodia\",\" Canada\",..: 38 38 5 38 38 18 38 NA 38 38 ...\n",
      " $ income        : Factor w/ 2 levels \"0\",\"1\": 1 1 1 1 2 2 1 2 1 1 ...\n"
     ]
    }
   ],
   "source": [
    "# CONVERT SPECIFIC INDEPENDENT CATEGORICAL VARIABLES TO FACTOR \n",
    "\n",
    "selected_columns <- c(\"workclass\", \"education\", \"marital_status\", \"occupation\", \"relationship\", \"race\", \"native_country\", \"sex\")\n",
    "\n",
    "\n",
    "adult_cleaned[selected_columns] <- lapply(adult_cleaned[selected_columns], as.factor)\n",
    "\n",
    "# Recheck the structure again\n",
    "str(adult_cleaned)"
   ]
  },
  {
   "cell_type": "code",
   "execution_count": 32,
   "id": "0a22fd0d-abd7-4043-988d-1c5a462cb788",
   "metadata": {},
   "outputs": [],
   "source": [
    "# Convert \"sex\" column to factor\n",
    "\n",
    "adult_cleaned$sex <- trimws(adult_cleaned$sex)\n",
    "adult_cleaned$sex <- as.factor(adult_cleaned$sex)"
   ]
  },
  {
   "cell_type": "code",
   "execution_count": 33,
   "id": "09393c13-2d2e-40ce-8352-21ff613d9192",
   "metadata": {},
   "outputs": [
    {
     "data": {
      "text/html": [
       "<style>\n",
       ".dl-inline {width: auto; margin:0; padding: 0}\n",
       ".dl-inline>dt, .dl-inline>dd {float: none; width: auto; display: inline-block}\n",
       ".dl-inline>dt::after {content: \":\\0020\"; padding-right: .5ex}\n",
       ".dl-inline>dt:not(:first-of-type) {padding-left: .5ex}\n",
       "</style><dl class=dl-inline><dt>Female</dt><dd>9413</dd><dt>Male</dt><dd>19109</dd></dl>\n"
      ],
      "text/latex": [
       "\\begin{description*}\n",
       "\\item[Female] 9413\n",
       "\\item[Male] 19109\n",
       "\\end{description*}\n"
      ],
      "text/markdown": [
       "Female\n",
       ":   9413Male\n",
       ":   19109\n",
       "\n"
      ],
      "text/plain": [
       "Female   Male \n",
       "  9413  19109 "
      ]
     },
     "metadata": {},
     "output_type": "display_data"
    }
   ],
   "source": [
    "summary(adult_cleaned$sex) "
   ]
  },
  {
   "cell_type": "code",
   "execution_count": 34,
   "id": "9683f1f6-0621-4f20-be48-7d0e7bd0860d",
   "metadata": {},
   "outputs": [],
   "source": [
    "# Remove rows with NA values\n",
    "adult_cleaned <- na.omit(adult_cleaned)"
   ]
  },
  {
   "cell_type": "markdown",
   "id": "1c4864e7-11f4-4d4a-86f0-09f38935503d",
   "metadata": {},
   "source": [
    "**V) f. FIRST FOUR CHARACTERISTICS AFTER PERFORMING PRE-PROCESSING**"
   ]
  },
  {
   "cell_type": "markdown",
   "id": "99974d3a-04f4-4810-af84-e71aa81f1a98",
   "metadata": {},
   "source": [
    "**I. RECHECK-Number of independent and dependent variables**"
   ]
  },
  {
   "cell_type": "code",
   "execution_count": 35,
   "id": "e64d7b03-0683-43fb-8caf-7d7631e2fa5f",
   "metadata": {},
   "outputs": [
    {
     "name": "stdout",
     "output_type": "stream",
     "text": [
      "[1] \"Number of independent variables: 14\"\n",
      "[1] \"Number of dependent variables: 1\"\n"
     ]
    }
   ],
   "source": [
    "# Redsplay the number of Dependent and Independent variables\n",
    "\n",
    "independent_variables <- ncol(adult_cleaned) - 1  # Number of independent variables in Adult_cleaned\n",
    "dependent_variables <- 1  # Number of dependent variables in Adult_cleaned\n",
    "\n",
    "# Redisplay the results\n",
    "print(paste(\"Number of independent variables:\", independent_variables))\n",
    "print(paste(\"Number of dependent variables:\", dependent_variables))\n"
   ]
  },
  {
   "cell_type": "markdown",
   "id": "93bf51f3-8612-40ed-becc-41e856eed756",
   "metadata": {},
   "source": [
    "**2. RECHECK-Number of records**"
   ]
  },
  {
   "cell_type": "code",
   "execution_count": 36,
   "id": "9117457b-d1c7-4fae-98f6-a145e15d48a3",
   "metadata": {},
   "outputs": [
    {
     "name": "stdout",
     "output_type": "stream",
     "text": [
      "[1] \"Number of records: 26899\"\n",
      "[1] \"Number of columns: 15\"\n"
     ]
    },
    {
     "data": {
      "text/html": [
       "<style>\n",
       ".list-inline {list-style: none; margin:0; padding: 0}\n",
       ".list-inline>li {display: inline-block}\n",
       ".list-inline>li:not(:last-child)::after {content: \"\\00b7\"; padding: 0 .5ex}\n",
       "</style>\n",
       "<ol class=list-inline><li>'age'</li><li>'workclass'</li><li>'fnlwgt'</li><li>'education'</li><li>'education_num'</li><li>'marital_status'</li><li>'occupation'</li><li>'relationship'</li><li>'race'</li><li>'sex'</li><li>'capital_gain'</li><li>'capital_loss'</li><li>'hours_per_week'</li><li>'native_country'</li><li>'income'</li></ol>\n"
      ],
      "text/latex": [
       "\\begin{enumerate*}\n",
       "\\item 'age'\n",
       "\\item 'workclass'\n",
       "\\item 'fnlwgt'\n",
       "\\item 'education'\n",
       "\\item 'education\\_num'\n",
       "\\item 'marital\\_status'\n",
       "\\item 'occupation'\n",
       "\\item 'relationship'\n",
       "\\item 'race'\n",
       "\\item 'sex'\n",
       "\\item 'capital\\_gain'\n",
       "\\item 'capital\\_loss'\n",
       "\\item 'hours\\_per\\_week'\n",
       "\\item 'native\\_country'\n",
       "\\item 'income'\n",
       "\\end{enumerate*}\n"
      ],
      "text/markdown": [
       "1. 'age'\n",
       "2. 'workclass'\n",
       "3. 'fnlwgt'\n",
       "4. 'education'\n",
       "5. 'education_num'\n",
       "6. 'marital_status'\n",
       "7. 'occupation'\n",
       "8. 'relationship'\n",
       "9. 'race'\n",
       "10. 'sex'\n",
       "11. 'capital_gain'\n",
       "12. 'capital_loss'\n",
       "13. 'hours_per_week'\n",
       "14. 'native_country'\n",
       "15. 'income'\n",
       "\n",
       "\n"
      ],
      "text/plain": [
       " [1] \"age\"            \"workclass\"      \"fnlwgt\"         \"education\"     \n",
       " [5] \"education_num\"  \"marital_status\" \"occupation\"     \"relationship\"  \n",
       " [9] \"race\"           \"sex\"            \"capital_gain\"   \"capital_loss\"  \n",
       "[13] \"hours_per_week\" \"native_country\" \"income\"        "
      ]
     },
     "metadata": {},
     "output_type": "display_data"
    }
   ],
   "source": [
    "# Redisplay the number of Rows, Columns, and Names in Adult_cleaned\n",
    "\n",
    "print(paste(\"Number of records:\", nrow(adult_cleaned))) # the number of Rows in Adult_cleaned\n",
    "print(paste(\"Number of columns:\", ncol(adult_cleaned))) # the number of Columns in Adult_cleaned\n",
    "names(adult_cleaned) # Get all column names in Adult_cleaned\n"
   ]
  },
  {
   "cell_type": "markdown",
   "id": "3fa77583-0365-4091-b724-be588974dd40",
   "metadata": {},
   "source": [
    "**3. RECHECK-Data types of combination**"
   ]
  },
  {
   "cell_type": "code",
   "execution_count": 37,
   "id": "114fb8b8-78cb-452b-b616-103d85105d86",
   "metadata": {},
   "outputs": [
    {
     "name": "stdout",
     "output_type": "stream",
     "text": [
      "'data.frame':\t26899 obs. of  15 variables:\n",
      " $ age           : int  38 53 28 37 52 30 32 25 32 38 ...\n",
      " $ workclass     : Factor w/ 8 levels \" Federal-gov\",..: 4 4 4 4 6 7 4 6 4 4 ...\n",
      " $ fnlwgt        : int  215646 234721 338409 284582 209642 141297 205019 176756 186824 28887 ...\n",
      " $ education     : Factor w/ 12 levels \" 10th\",\" 11th\",..: 9 2 7 10 9 7 5 9 9 2 ...\n",
      " $ education_num : int  9 7 13 14 9 13 12 9 9 7 ...\n",
      " $ marital_status: Factor w/ 7 levels \" Divorced\",\" Married-AF-spouse\",..: 1 3 3 3 3 3 5 5 5 3 ...\n",
      " $ occupation    : Factor w/ 14 levels \" Adm-clerical\",..: 6 6 10 4 4 10 12 5 7 12 ...\n",
      " $ relationship  : Factor w/ 6 levels \" Husband\",\" Not-in-family\",..: 2 1 6 6 1 1 2 4 5 1 ...\n",
      " $ race          : Factor w/ 5 levels \" Amer-Indian-Eskimo\",..: 5 3 3 5 5 2 3 5 5 5 ...\n",
      " $ sex           : Factor w/ 2 levels \"Female\",\"Male\": 2 2 1 1 2 2 2 2 2 2 ...\n",
      " $ capital_gain  : int  0 0 0 0 0 0 0 0 0 0 ...\n",
      " $ capital_loss  : int  0 0 0 0 0 0 0 0 0 0 ...\n",
      " $ hours_per_week: int  40 40 40 40 45 40 50 35 40 50 ...\n",
      " $ native_country: Factor w/ 40 levels \" Cambodia\",\" Canada\",..: 38 38 5 38 38 18 38 38 38 38 ...\n",
      " $ income        : Factor w/ 2 levels \"0\",\"1\": 1 1 1 1 2 2 1 1 1 1 ...\n",
      " - attr(*, \"na.action\")= 'omit' Named int [1:1623] 8 23 44 83 93 98 117 123 146 149 ...\n",
      "  ..- attr(*, \"names\")= chr [1:1623] \"15\" \"39\" \"70\" \"129\" ...\n"
     ]
    }
   ],
   "source": [
    "# Redisplay the structure of Adult_cleaned\n",
    "\n",
    "str(adult_cleaned)"
   ]
  },
  {
   "cell_type": "code",
   "execution_count": 38,
   "id": "540e04a9-655b-42f9-bef3-dce75bdb1b18",
   "metadata": {},
   "outputs": [
    {
     "name": "stdout",
     "output_type": "stream",
     "text": [
      "[1] \"Nominal Variables in Adult_cleaned: workclass, education, marital_status, occupation, relationship, race, sex, native_country, income\"\n",
      "[1] \"Binary Variables in Adult_cleaned: \"\n",
      "[1] \"Numerical Variables in Adult_cleaned: age, fnlwgt, education_num, capital_gain, capital_loss, hours_per_week\"\n",
      "[1] \"Categorical Variables in Adult_cleaned: \"\n"
     ]
    }
   ],
   "source": [
    "# Display datatype combination of all variables in Adult_cleaned\n",
    "\n",
    "# Get variables type\n",
    "variable_types <- sapply(adult_cleaned, class)\n",
    "\n",
    "# Variables based on data type combinations\n",
    "Nominal_Variables <- names(variable_types)[variable_types == \"factor\"] # Nominal Variables in adult_cleaned\n",
    "Categorical_Variables <- names(variable_types)[variable_types == \"character\"] # Categorical Variables in adult_cleaned\n",
    "Binary_Variables <- names(variable_types)[variable_types == \"logical\"] # Binary Variables in adult_cleaned\n",
    "Numerical_Variables <- names(variable_types)[variable_types %in% c(\"numeric\", \"integer\")] # Numerical Variables in adult_cleaned\n",
    "\n",
    "# Display the results\n",
    "print(paste(\"Nominal Variables in Adult_cleaned:\", paste(Nominal_Variables, collapse = \", \")))\n",
    "print(paste(\"Binary Variables in Adult_cleaned:\", paste(Binary_Variables, collapse = \", \")))\n",
    "print(paste(\"Numerical Variables in Adult_cleaned:\", paste(Numerical_Variables, collapse = \", \")))\n",
    "print(paste(\"Categorical Variables in Adult_cleaned:\", paste(Categorical_Variables, collapse = \", \")))"
   ]
  },
  {
   "cell_type": "markdown",
   "id": "85341585-5d0f-4284-82cc-4af66e50d728",
   "metadata": {},
   "source": [
    "**4. RECHECK-Summary of each variable**"
   ]
  },
  {
   "cell_type": "code",
   "execution_count": 39,
   "id": "776555c8-437d-4d6d-a8aa-f30a506ce99e",
   "metadata": {},
   "outputs": [
    {
     "data": {
      "text/plain": [
       "      age                    workclass         fnlwgt      \n",
       " Min.   :17.00    Private         :20328   Min.   : 13769  \n",
       " 1st Qu.:29.00    Local-gov       : 1994   1st Qu.:116620  \n",
       " Median :37.00    Self-emp-not-inc: 1651   Median :176683  \n",
       " Mean   :38.12    State-gov       : 1255   Mean   :180389  \n",
       " 3rd Qu.:46.00    Federal-gov     :  964   3rd Qu.:229732  \n",
       " Max.   :78.00    Self-emp-inc    :  702   Max.   :417136  \n",
       "                 (Other)          :    5                   \n",
       "         education    education_num                  marital_status \n",
       "  HS-grad     :9941   Min.   : 5.00    Divorced             : 4244  \n",
       "  Some-college:5868   1st Qu.: 9.00    Married-AF-spouse    :   16  \n",
       "  Bachelors   :4585   Median :10.00    Married-civ-spouse   :12292  \n",
       "  Masters     :1387   Mean   :10.27    Married-spouse-absent:  319  \n",
       "  Assoc-voc   :1328   3rd Qu.:12.00    Never-married        : 8490  \n",
       "  Assoc-acdm  : 960   Max.   :16.00    Separated            :  925  \n",
       " (Other)      :2830                    Widowed              :  613  \n",
       "            occupation            relationship                    race      \n",
       "  Craft-repair   :4149    Husband       :10955    Amer-Indian-Eskimo:  292  \n",
       "  Adm-clerical   :3783    Not-in-family : 7419    Asian-Pac-Islander:  807  \n",
       "  Exec-managerial:3490    Other-relative:  774    Black             : 2674  \n",
       "  Prof-specialty :3403    Own-child     : 3427    Other             :  197  \n",
       "  Sales          :2808    Unmarried     : 3161    White             :22929  \n",
       "  Other-service  :2339    Wife          : 1163                              \n",
       " (Other)         :6927                                                      \n",
       "     sex         capital_gain  capital_loss hours_per_week \n",
       " Female: 8781   Min.   :0     Min.   :0     Min.   :33.00  \n",
       " Male  :18118   1st Qu.:0     1st Qu.:0     1st Qu.:40.00  \n",
       "                Median :0     Median :0     Median :40.00  \n",
       "                Mean   :0     Mean   :0     Mean   :41.52  \n",
       "                3rd Qu.:0     3rd Qu.:0     3rd Qu.:42.00  \n",
       "                Max.   :0     Max.   :0     Max.   :52.00  \n",
       "                                                           \n",
       "        native_country  income   \n",
       "  United-States:24825   0:14033  \n",
       "  Mexico       :  322   1:12866  \n",
       "  Philippines  :  189            \n",
       "  Germany      :  121            \n",
       "  Puerto-Rico  :  108            \n",
       "  India        :   89            \n",
       " (Other)       : 1245            "
      ]
     },
     "metadata": {},
     "output_type": "display_data"
    }
   ],
   "source": [
    "# Get all descriptive statistics information in Adult_cleaned\n",
    "\n",
    "summary(adult_cleaned) "
   ]
  },
  {
   "cell_type": "code",
   "execution_count": 40,
   "id": "1048b24f-c52d-4325-b506-a1d4672c223e",
   "metadata": {},
   "outputs": [
    {
     "name": "stderr",
     "output_type": "stream",
     "text": [
      "Warning message in preProcess.default(subset(adult_cleaned, select = -c(income)), :\n",
      "\"These variables have zero variances: capital_gain, capital_loss\"\n"
     ]
    },
    {
     "name": "stdout",
     "output_type": "stream",
     "text": [
      "[1] \"Number normalized: 26899\"\n",
      "[1] \"Proportion normalized: 1\"\n"
     ]
    }
   ],
   "source": [
    "# NORMALIZE ALL VARIABLES EXCEPT TREGET \"INCOME\" \n",
    "\n",
    "adult_scaled <- predict(preProcess(subset(adult_cleaned, select = -c(income)), method = c(\"center\", \"scale\")), \n",
    "                        newdata = subset(adult_cleaned, select = -c(income)))\n",
    "\n",
    "# Add the income variable back to the scaled adult\n",
    "Pre_Processed_Adult <- cbind(adult_scaled, income = adult_cleaned$income)\n",
    "\n",
    "# The results\n",
    "print(paste(\"Number normalized:\", nrow(Pre_Processed_Adult)))\n",
    "print(paste(\"Proportion normalized:\", nrow(Pre_Processed_Adult) / nrow(Pre_Processed_Adult)))"
   ]
  },
  {
   "cell_type": "code",
   "execution_count": 41,
   "id": "26ad9109-d8d2-4d33-a9a6-230478deedcd",
   "metadata": {},
   "outputs": [
    {
     "data": {
      "text/plain": [
       "      age                      workclass         fnlwgt        \n",
       " Min.   :-1.7876    Private         :20328   Min.   :-1.91597  \n",
       " 1st Qu.:-0.7719    Local-gov       : 1994   1st Qu.:-0.73329  \n",
       " Median :-0.0948    Self-emp-not-inc: 1651   Median :-0.04261  \n",
       " Mean   : 0.0000    State-gov       : 1255   Mean   : 0.00000  \n",
       " 3rd Qu.: 0.6669    Federal-gov     :  964   3rd Qu.: 0.56739  \n",
       " Max.   : 3.3754    Self-emp-inc    :  702   Max.   : 2.72237  \n",
       "                   (Other)          :    5                     \n",
       "         education    education_num                    marital_status \n",
       "  HS-grad     :9941   Min.   :-2.4573    Divorced             : 4244  \n",
       "  Some-college:5868   1st Qu.:-0.5907    Married-AF-spouse    :   16  \n",
       "  Bachelors   :4585   Median :-0.1241    Married-civ-spouse   :12292  \n",
       "  Masters     :1387   Mean   : 0.0000    Married-spouse-absent:  319  \n",
       "  Assoc-voc   :1328   3rd Qu.: 0.8092    Never-married        : 8490  \n",
       "  Assoc-acdm  : 960   Max.   : 2.6758    Separated            :  925  \n",
       " (Other)      :2830                      Widowed              :  613  \n",
       "            occupation            relationship                    race      \n",
       "  Craft-repair   :4149    Husband       :10955    Amer-Indian-Eskimo:  292  \n",
       "  Adm-clerical   :3783    Not-in-family : 7419    Asian-Pac-Islander:  807  \n",
       "  Exec-managerial:3490    Other-relative:  774    Black             : 2674  \n",
       "  Prof-specialty :3403    Own-child     : 3427    Other             :  197  \n",
       "  Sales          :2808    Unmarried     : 3161    White             :22929  \n",
       "  Other-service  :2339    Wife          : 1163                              \n",
       " (Other)         :6927                                                      \n",
       "     sex         capital_gain  capital_loss hours_per_week   \n",
       " Female: 8781   Min.   :0     Min.   :0     Min.   :-2.1392  \n",
       " Male  :18118   1st Qu.:0     1st Qu.:0     1st Qu.:-0.3809  \n",
       "                Median :0     Median :0     Median :-0.3809  \n",
       "                Mean   :0     Mean   :0     Mean   : 0.0000  \n",
       "                3rd Qu.:0     3rd Qu.:0     3rd Qu.: 0.1215  \n",
       "                Max.   :0     Max.   :0     Max.   : 2.6333  \n",
       "                                                             \n",
       "        native_country  income   \n",
       "  United-States:24825   0:14033  \n",
       "  Mexico       :  322   1:12866  \n",
       "  Philippines  :  189            \n",
       "  Germany      :  121            \n",
       "  Puerto-Rico  :  108            \n",
       "  India        :   89            \n",
       " (Other)       : 1245            "
      ]
     },
     "metadata": {},
     "output_type": "display_data"
    }
   ],
   "source": [
    "summary(Pre_Processed_Adult)"
   ]
  },
  {
   "cell_type": "code",
   "execution_count": 42,
   "id": "b3c40ccd-cd0e-4880-8878-0ae148709cab",
   "metadata": {},
   "outputs": [],
   "source": [
    "# Set the file name\n",
    "#file_name <- \"Pre_Processed_Adult.csv\"\n",
    "\n",
    "# Write the cleaned data to a CSV file \n",
    "#write.csv(Pre_Processed_Adult, file = file_name, row.names = FALSE)\n",
    "\n",
    "# Confirm message\n",
    "#print(paste(\"Data has been saved to:\", file_name))\n"
   ]
  },
  {
   "cell_type": "code",
   "execution_count": 43,
   "id": "00c48a56-903b-493e-a3a1-e82558164059",
   "metadata": {},
   "outputs": [
    {
     "name": "stdout",
     "output_type": "stream",
     "text": [
      "'data.frame':\t26899 obs. of  15 variables:\n",
      " $ age           : num  -0.0102 1.2594 -0.8565 -0.0948 1.1748 ...\n",
      " $ workclass     : Factor w/ 8 levels \" Federal-gov\",..: 4 4 4 4 6 7 4 6 4 4 ...\n",
      " $ fnlwgt        : num  0.405 0.625 1.817 1.198 0.336 ...\n",
      " $ education     : Factor w/ 12 levels \" 10th\",\" 11th\",..: 9 2 7 10 9 7 5 9 9 2 ...\n",
      " $ education_num : num  -0.591 -1.524 1.276 1.743 -0.591 ...\n",
      " $ marital_status: Factor w/ 7 levels \" Divorced\",\" Married-AF-spouse\",..: 1 3 3 3 3 3 5 5 5 3 ...\n",
      " $ occupation    : Factor w/ 14 levels \" Adm-clerical\",..: 6 6 10 4 4 10 12 5 7 12 ...\n",
      " $ relationship  : Factor w/ 6 levels \" Husband\",\" Not-in-family\",..: 2 1 6 6 1 1 2 4 5 1 ...\n",
      " $ race          : Factor w/ 5 levels \" Amer-Indian-Eskimo\",..: 5 3 3 5 5 2 3 5 5 5 ...\n",
      " $ sex           : Factor w/ 2 levels \"Female\",\"Male\": 2 2 1 1 2 2 2 2 2 2 ...\n",
      " $ capital_gain  : num  0 0 0 0 0 0 0 0 0 0 ...\n",
      " $ capital_loss  : num  0 0 0 0 0 0 0 0 0 0 ...\n",
      " $ hours_per_week: num  -0.381 -0.381 -0.381 -0.381 0.875 ...\n",
      " $ native_country: Factor w/ 40 levels \" Cambodia\",\" Canada\",..: 38 38 5 38 38 18 38 38 38 38 ...\n",
      " $ income        : Factor w/ 2 levels \"0\",\"1\": 1 1 1 1 2 2 1 1 1 1 ...\n"
     ]
    }
   ],
   "source": [
    "str(Pre_Processed_Adult)"
   ]
  },
  {
   "cell_type": "markdown",
   "id": "a1eb53f3-4084-4072-95b2-8f139795b4be",
   "metadata": {},
   "source": [
    "# **BALANCING AND SPLITTING**"
   ]
  },
  {
   "cell_type": "code",
   "execution_count": 44,
   "id": "898e9cfe-4983-4af8-9598-143dc6d32df2",
   "metadata": {},
   "outputs": [
    {
     "data": {
      "text/html": [
       "<table class=\"dataframe\">\n",
       "<caption>A tibble: 2 × 2</caption>\n",
       "<thead>\n",
       "\t<tr><th scope=col>income</th><th scope=col>Adult_Records</th></tr>\n",
       "\t<tr><th scope=col>&lt;fct&gt;</th><th scope=col>&lt;int&gt;</th></tr>\n",
       "</thead>\n",
       "<tbody>\n",
       "\t<tr><td>0</td><td>14033</td></tr>\n",
       "\t<tr><td>1</td><td>12866</td></tr>\n",
       "</tbody>\n",
       "</table>\n"
      ],
      "text/latex": [
       "A tibble: 2 × 2\n",
       "\\begin{tabular}{ll}\n",
       " income & Adult\\_Records\\\\\n",
       " <fct> & <int>\\\\\n",
       "\\hline\n",
       "\t 0 & 14033\\\\\n",
       "\t 1 & 12866\\\\\n",
       "\\end{tabular}\n"
      ],
      "text/markdown": [
       "\n",
       "A tibble: 2 × 2\n",
       "\n",
       "| income &lt;fct&gt; | Adult_Records &lt;int&gt; |\n",
       "|---|---|\n",
       "| 0 | 14033 |\n",
       "| 1 | 12866 |\n",
       "\n"
      ],
      "text/plain": [
       "  income Adult_Records\n",
       "1 0      14033        \n",
       "2 1      12866        "
      ]
     },
     "metadata": {},
     "output_type": "display_data"
    }
   ],
   "source": [
    "# CHECK THE NUMBER OF RECORDS IN EACH INCOME CLASS \n",
    "adult_counts <- Pre_Processed_Adult %>%\n",
    "  group_by(income) %>%\n",
    "  summarise(Adult_Records = n())\n",
    "adult_counts"
   ]
  },
  {
   "cell_type": "code",
   "execution_count": 45,
   "id": "e0c46ce5-7e77-412f-b3d5-84412b833ebb",
   "metadata": {},
   "outputs": [],
   "source": [
    "# SPLIT THE DATA INTO TRAINING AND TESTING SETS (70% Training, 30% Testing)\n",
    "\n",
    "set.seed(123) # Set seed for reproducibility\n",
    "\n",
    "# Generate random indices for training and testing sets\n",
    "train_indices <- sample(1:nrow(Pre_Processed_Adult), 0.7 * nrow(Pre_Processed_Adult))\n",
    "\n",
    "# Create training and testing sets\n",
    "train_adult <- Pre_Processed_Adult[train_indices, ]\n",
    "test_adult <- Pre_Processed_Adult[-train_indices, ]"
   ]
  },
  {
   "cell_type": "code",
   "execution_count": 46,
   "id": "9e7824c9-50f0-4d05-bb7c-9aaeb3ecc596",
   "metadata": {},
   "outputs": [
    {
     "data": {
      "text/html": [
       "<table class=\"dataframe\">\n",
       "<caption>A tibble: 2 × 2</caption>\n",
       "<thead>\n",
       "\t<tr><th scope=col>income</th><th scope=col>Train_Records</th></tr>\n",
       "\t<tr><th scope=col>&lt;fct&gt;</th><th scope=col>&lt;int&gt;</th></tr>\n",
       "</thead>\n",
       "<tbody>\n",
       "\t<tr><td>0</td><td>9838</td></tr>\n",
       "\t<tr><td>1</td><td>8991</td></tr>\n",
       "</tbody>\n",
       "</table>\n"
      ],
      "text/latex": [
       "A tibble: 2 × 2\n",
       "\\begin{tabular}{ll}\n",
       " income & Train\\_Records\\\\\n",
       " <fct> & <int>\\\\\n",
       "\\hline\n",
       "\t 0 & 9838\\\\\n",
       "\t 1 & 8991\\\\\n",
       "\\end{tabular}\n"
      ],
      "text/markdown": [
       "\n",
       "A tibble: 2 × 2\n",
       "\n",
       "| income &lt;fct&gt; | Train_Records &lt;int&gt; |\n",
       "|---|---|\n",
       "| 0 | 9838 |\n",
       "| 1 | 8991 |\n",
       "\n"
      ],
      "text/plain": [
       "  income Train_Records\n",
       "1 0      9838         \n",
       "2 1      8991         "
      ]
     },
     "metadata": {},
     "output_type": "display_data"
    }
   ],
   "source": [
    "# CHECK NUMBER OF RECORDS IN THE TRAINING SETS \n",
    "\n",
    "train_adult_counts <- train_adult %>%\n",
    "  group_by(income) %>%\n",
    "  summarise(Train_Records = n())\n",
    "train_adult_counts"
   ]
  },
  {
   "cell_type": "code",
   "execution_count": 47,
   "id": "3747e0f3-a4c7-4775-b050-bed8a6a8c1c3",
   "metadata": {},
   "outputs": [
    {
     "data": {
      "text/html": [
       "<table class=\"dataframe\">\n",
       "<caption>A tibble: 2 × 2</caption>\n",
       "<thead>\n",
       "\t<tr><th scope=col>income</th><th scope=col>Test_Records</th></tr>\n",
       "\t<tr><th scope=col>&lt;fct&gt;</th><th scope=col>&lt;int&gt;</th></tr>\n",
       "</thead>\n",
       "<tbody>\n",
       "\t<tr><td>0</td><td>4195</td></tr>\n",
       "\t<tr><td>1</td><td>3875</td></tr>\n",
       "</tbody>\n",
       "</table>\n"
      ],
      "text/latex": [
       "A tibble: 2 × 2\n",
       "\\begin{tabular}{ll}\n",
       " income & Test\\_Records\\\\\n",
       " <fct> & <int>\\\\\n",
       "\\hline\n",
       "\t 0 & 4195\\\\\n",
       "\t 1 & 3875\\\\\n",
       "\\end{tabular}\n"
      ],
      "text/markdown": [
       "\n",
       "A tibble: 2 × 2\n",
       "\n",
       "| income &lt;fct&gt; | Test_Records &lt;int&gt; |\n",
       "|---|---|\n",
       "| 0 | 4195 |\n",
       "| 1 | 3875 |\n",
       "\n"
      ],
      "text/plain": [
       "  income Test_Records\n",
       "1 0      4195        \n",
       "2 1      3875        "
      ]
     },
     "metadata": {},
     "output_type": "display_data"
    }
   ],
   "source": [
    "# CHECK NUMBER OF RECORDS IN THE TESTING SETS \n",
    "test_adult_counts <- test_adult %>%\n",
    "  group_by(income) %>%\n",
    "  summarise(Test_Records = n())\n",
    "test_adult_counts\n"
   ]
  },
  {
   "cell_type": "markdown",
   "id": "71118ac4-c60d-47f8-bad5-e66bf42b9793",
   "metadata": {},
   "source": [
    "# **MODELLING**"
   ]
  },
  {
   "cell_type": "markdown",
   "id": "f9bd883b-327b-4512-b156-4bc0671e20a3",
   "metadata": {},
   "source": [
    "# **USEING RANDOM FOREST TECHNIQUE**"
   ]
  },
  {
   "cell_type": "markdown",
   "id": "a2f94561-07cc-492b-9d76-5c00c99e6108",
   "metadata": {},
   "source": [
    "### **RANDOM FOREST TECHNIQUE USING - randomForest library**"
   ]
  },
  {
   "cell_type": "code",
   "execution_count": 48,
   "id": "65d83f03-e743-4734-8515-e8dab675f9cd",
   "metadata": {},
   "outputs": [
    {
     "data": {
      "text/plain": [
       "\n",
       "Call:\n",
       " randomForest(formula = income ~ ., data = train_adult, ntree = 100) \n",
       "               Type of random forest: classification\n",
       "                     Number of trees: 100\n",
       "No. of variables tried at each split: 3\n",
       "\n",
       "        OOB estimate of  error rate: 38.01%\n",
       "Confusion matrix:\n",
       "     0    1 class.error\n",
       "0 6693 3145   0.3196788\n",
       "1 4012 4979   0.4462240"
      ]
     },
     "metadata": {},
     "output_type": "display_data"
    }
   ],
   "source": [
    "# Train the model\n",
    "rf_model <- randomForest(income ~ ., data = train_adult, ntree = 100)\n",
    "rf_model"
   ]
  },
  {
   "cell_type": "code",
   "execution_count": 49,
   "id": "94f6ac57-9809-4b92-a14f-931b9263537f",
   "metadata": {},
   "outputs": [
    {
     "data": {
      "text/plain": [
       "Confusion Matrix and Statistics\n",
       "\n",
       "          Reference\n",
       "Prediction    0    1\n",
       "         0 2920 1768\n",
       "         1 1275 2107\n",
       "                                          \n",
       "               Accuracy : 0.6229          \n",
       "                 95% CI : (0.6122, 0.6335)\n",
       "    No Information Rate : 0.5198          \n",
       "    P-Value [Acc > NIR] : < 2.2e-16       \n",
       "                                          \n",
       "                  Kappa : 0.241           \n",
       "                                          \n",
       " Mcnemar's Test P-Value : < 2.2e-16       \n",
       "                                          \n",
       "            Sensitivity : 0.6961          \n",
       "            Specificity : 0.5437          \n",
       "         Pos Pred Value : 0.6229          \n",
       "         Neg Pred Value : 0.6230          \n",
       "             Prevalence : 0.5198          \n",
       "         Detection Rate : 0.3618          \n",
       "   Detection Prevalence : 0.5809          \n",
       "      Balanced Accuracy : 0.6199          \n",
       "                                          \n",
       "       'Positive' Class : 0               \n",
       "                                          "
      ]
     },
     "metadata": {},
     "output_type": "display_data"
    }
   ],
   "source": [
    "# Predict and evaluate the model\n",
    "rf_predictions <- predict(rf_model, test_adult)\n",
    "rf_results <- confusionMatrix(rf_predictions, test_adult$income)\n",
    "rf_results"
   ]
  },
  {
   "cell_type": "markdown",
   "id": "2152b173-686f-49ec-909b-4414da9970d6",
   "metadata": {},
   "source": [
    "## **RANDOM FOREST TECHNIQUE USING -Ranger Library**"
   ]
  },
  {
   "cell_type": "code",
   "execution_count": 50,
   "id": "00913fe2-c683-4eda-b604-1c974c2c85ce",
   "metadata": {},
   "outputs": [
    {
     "data": {
      "text/plain": [
       "Ranger result\n",
       "\n",
       "Call:\n",
       " ranger(income ~ ., data = train_adult) \n",
       "\n",
       "Type:                             Classification \n",
       "Number of trees:                  500 \n",
       "Sample size:                      18829 \n",
       "Number of independent variables:  14 \n",
       "Mtry:                             3 \n",
       "Target node size:                 1 \n",
       "Variable importance mode:         none \n",
       "Splitrule:                        gini \n",
       "OOB prediction error:             37.26 % "
      ]
     },
     "metadata": {},
     "output_type": "display_data"
    }
   ],
   "source": [
    "# Fit the ranger random forest model\n",
    "rf_model_ranger <- ranger(income ~ ., data = train_adult)\n",
    "rf_model_ranger"
   ]
  },
  {
   "cell_type": "code",
   "execution_count": 51,
   "id": "e4f2fd6c-fcc0-4e97-9273-4515950d8e26",
   "metadata": {},
   "outputs": [
    {
     "data": {
      "text/plain": [
       "Confusion Matrix and Statistics\n",
       "\n",
       "          Reference\n",
       "Prediction    0    1\n",
       "         0 3043 1825\n",
       "         1 1152 2050\n",
       "                                          \n",
       "               Accuracy : 0.6311          \n",
       "                 95% CI : (0.6205, 0.6416)\n",
       "    No Information Rate : 0.5198          \n",
       "    P-Value [Acc > NIR] : < 2.2e-16       \n",
       "                                          \n",
       "                  Kappa : 0.2561          \n",
       "                                          \n",
       " Mcnemar's Test P-Value : < 2.2e-16       \n",
       "                                          \n",
       "            Sensitivity : 0.7254          \n",
       "            Specificity : 0.5290          \n",
       "         Pos Pred Value : 0.6251          \n",
       "         Neg Pred Value : 0.6402          \n",
       "             Prevalence : 0.5198          \n",
       "         Detection Rate : 0.3771          \n",
       "   Detection Prevalence : 0.6032          \n",
       "      Balanced Accuracy : 0.6272          \n",
       "                                          \n",
       "       'Positive' Class : 0               \n",
       "                                          "
      ]
     },
     "metadata": {},
     "output_type": "display_data"
    }
   ],
   "source": [
    "# Predict on the testing set\n",
    "rf_predictions_ranger <- predict(rf_model_ranger, data = test_adult)$predictions\n",
    "rf_results_ranger <- confusionMatrix(rf_predictions_ranger, test_adult$income)\n",
    "rf_results_ranger"
   ]
  },
  {
   "cell_type": "markdown",
   "id": "a4c3640f-8aae-4510-b6ed-95ad8a707261",
   "metadata": {},
   "source": [
    "# **SUPPORT VECTOR MACHINE (SVM) TECHNIQUES**"
   ]
  },
  {
   "cell_type": "markdown",
   "id": "57ffa091-eaad-4a99-9c6e-ff99ffc03474",
   "metadata": {},
   "source": [
    "## **USING SVM e1071 LIBRARY**"
   ]
  },
  {
   "cell_type": "code",
   "execution_count": 52,
   "id": "9972566b-de9e-4359-aa01-b5678bef7a6e",
   "metadata": {},
   "outputs": [
    {
     "name": "stderr",
     "output_type": "stream",
     "text": [
      "Warning message in svm.default(x, y, scale = scale, ..., na.action = na.action):\n",
      "\"Variable(s) 'capital_gain' and 'capital_loss' constant. Cannot scale data.\"\n"
     ]
    },
    {
     "data": {
      "text/plain": [
       "\n",
       "Call:\n",
       "svm(formula = income ~ ., data = train_adult)\n",
       "\n",
       "\n",
       "Parameters:\n",
       "   SVM-Type:  C-classification \n",
       " SVM-Kernel:  radial \n",
       "       cost:  1 \n",
       "\n",
       "Number of Support Vectors:  14723\n"
      ]
     },
     "metadata": {},
     "output_type": "display_data"
    }
   ],
   "source": [
    "# Train the SVM model\n",
    "svm_model <- svm(income ~ ., data = train_adult)\n",
    "svm_model"
   ]
  },
  {
   "cell_type": "code",
   "execution_count": 53,
   "id": "e9b6055d-dc75-4c5c-b989-d43c69985607",
   "metadata": {},
   "outputs": [
    {
     "data": {
      "text/plain": [
       "Confusion Matrix and Statistics\n",
       "\n",
       "          Reference\n",
       "Prediction    0    1\n",
       "         0 2755 1617\n",
       "         1 1440 2258\n",
       "                                          \n",
       "               Accuracy : 0.6212          \n",
       "                 95% CI : (0.6105, 0.6318)\n",
       "    No Information Rate : 0.5198          \n",
       "    P-Value [Acc > NIR] : < 2.2e-16       \n",
       "                                          \n",
       "                  Kappa : 0.2399          \n",
       "                                          \n",
       " Mcnemar's Test P-Value : 0.001457        \n",
       "                                          \n",
       "            Sensitivity : 0.6567          \n",
       "            Specificity : 0.5827          \n",
       "         Pos Pred Value : 0.6301          \n",
       "         Neg Pred Value : 0.6106          \n",
       "             Prevalence : 0.5198          \n",
       "         Detection Rate : 0.3414          \n",
       "   Detection Prevalence : 0.5418          \n",
       "      Balanced Accuracy : 0.6197          \n",
       "                                          \n",
       "       'Positive' Class : 0               \n",
       "                                          "
      ]
     },
     "metadata": {},
     "output_type": "display_data"
    }
   ],
   "source": [
    "# Predict on the testing set\n",
    "svm_predictions <- predict(svm_model, newdata = test_adult)\n",
    "\n",
    "# Evaluate the model\n",
    "svm_results <- confusionMatrix(svm_predictions, test_adult$income)\n",
    "svm_results"
   ]
  },
  {
   "cell_type": "markdown",
   "id": "dbccd175-9e05-44a1-a3ae-1b7a39d4e4fb",
   "metadata": {},
   "source": [
    "## **(SVM) USING KERNLAB LIBRARY**"
   ]
  },
  {
   "cell_type": "code",
   "execution_count": 54,
   "id": "d6fd7288-e72e-4433-ac9f-d221e855b011",
   "metadata": {},
   "outputs": [
    {
     "name": "stderr",
     "output_type": "stream",
     "text": [
      "Warning message in .local(x, ...):\n",
      "\"Variable(s) `' constant. Cannot scale data.\"\n"
     ]
    },
    {
     "data": {
      "text/plain": [
       "Support Vector Machine object of class \"ksvm\" \n",
       "\n",
       "SV type: C-svc  (classification) \n",
       " parameter : cost C = 1 \n",
       "\n",
       "Gaussian Radial Basis kernel function. \n",
       " Hyperparameter : sigma =  0.0851784202237724 \n",
       "\n",
       "Number of Support Vectors : 14762 \n",
       "\n",
       "Objective Function Value : -13588 \n",
       "Training error : 0.346593 "
      ]
     },
     "metadata": {},
     "output_type": "display_data"
    }
   ],
   "source": [
    "# Train the SVM model using kernlab\n",
    "svm_model_kernlab <- ksvm(income ~ ., data = train_adult)\n",
    "svm_model_kernlab"
   ]
  },
  {
   "cell_type": "code",
   "execution_count": 55,
   "id": "0cbbec43-3e22-41f7-ae39-acff1aa7f3f2",
   "metadata": {},
   "outputs": [
    {
     "data": {
      "text/plain": [
       "Confusion Matrix and Statistics\n",
       "\n",
       "          Reference\n",
       "Prediction    0    1\n",
       "         0 3226 1931\n",
       "         1  969 1944\n",
       "                                          \n",
       "               Accuracy : 0.6406          \n",
       "                 95% CI : (0.6301, 0.6511)\n",
       "    No Information Rate : 0.5198          \n",
       "    P-Value [Acc > NIR] : < 2.2e-16       \n",
       "                                          \n",
       "                  Kappa : 0.2733          \n",
       "                                          \n",
       " Mcnemar's Test P-Value : < 2.2e-16       \n",
       "                                          \n",
       "            Sensitivity : 0.7690          \n",
       "            Specificity : 0.5017          \n",
       "         Pos Pred Value : 0.6256          \n",
       "         Neg Pred Value : 0.6674          \n",
       "             Prevalence : 0.5198          \n",
       "         Detection Rate : 0.3998          \n",
       "   Detection Prevalence : 0.6390          \n",
       "      Balanced Accuracy : 0.6353          \n",
       "                                          \n",
       "       'Positive' Class : 0               \n",
       "                                          "
      ]
     },
     "metadata": {},
     "output_type": "display_data"
    }
   ],
   "source": [
    "# Predict on the testing set\n",
    "svm_predictions_kernlab <- predict(svm_model_kernlab, newdata = test_adult)\n",
    "\n",
    "# Evaluate the model\n",
    "svm_kernlab_results <- confusionMatrix(svm_predictions_kernlab, test_adult$income)\n",
    "svm_kernlab_results"
   ]
  },
  {
   "cell_type": "code",
   "execution_count": null,
   "id": "86b60273-eda2-4c51-b66f-d8444b3a3a2c",
   "metadata": {},
   "outputs": [],
   "source": []
  }
 ],
 "metadata": {
  "kernelspec": {
   "display_name": "R",
   "language": "R",
   "name": "ir"
  },
  "language_info": {
   "codemirror_mode": "r",
   "file_extension": ".r",
   "mimetype": "text/x-r-source",
   "name": "R",
   "pygments_lexer": "r",
   "version": "4.3.2"
  }
 },
 "nbformat": 4,
 "nbformat_minor": 5
}
