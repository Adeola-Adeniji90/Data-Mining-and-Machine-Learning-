{
 "cells": [
  {
   "cell_type": "code",
   "execution_count": 1,
   "id": "2211211a-d825-472b-b758-ad327b365173",
   "metadata": {},
   "outputs": [
    {
     "name": "stderr",
     "output_type": "stream",
     "text": [
      "Installing package into 'C:/Users/Dee/AppData/Local/R/win-library/4.3'\n",
      "(as 'lib' is unspecified)\n",
      "\n"
     ]
    },
    {
     "name": "stdout",
     "output_type": "stream",
     "text": [
      "package 'randomForest' successfully unpacked and MD5 sums checked\n"
     ]
    },
    {
     "name": "stderr",
     "output_type": "stream",
     "text": [
      "Warning message:\n",
      "\"cannot remove prior installation of package 'randomForest'\"\n",
      "Warning message in file.copy(savedcopy, lib, recursive = TRUE):\n",
      "\"problem copying C:\\Users\\Dee\\AppData\\Local\\R\\win-library\\4.3\\00LOCK\\randomForest\\libs\\x64\\randomForest.dll to C:\\Users\\Dee\\AppData\\Local\\R\\win-library\\4.3\\randomForest\\libs\\x64\\randomForest.dll: Permission denied\"\n",
      "Warning message:\n",
      "\"restored 'randomForest'\"\n"
     ]
    },
    {
     "name": "stdout",
     "output_type": "stream",
     "text": [
      "\n",
      "The downloaded binary packages are in\n",
      "\tC:\\Users\\Dee\\AppData\\Local\\Temp\\RtmpCG4UvO\\downloaded_packages\n"
     ]
    },
    {
     "name": "stderr",
     "output_type": "stream",
     "text": [
      "Installing package into 'C:/Users/Dee/AppData/Local/R/win-library/4.3'\n",
      "(as 'lib' is unspecified)\n",
      "\n"
     ]
    },
    {
     "name": "stdout",
     "output_type": "stream",
     "text": [
      "package 'ranger' successfully unpacked and MD5 sums checked\n"
     ]
    },
    {
     "name": "stderr",
     "output_type": "stream",
     "text": [
      "Warning message:\n",
      "\"cannot remove prior installation of package 'ranger'\"\n",
      "Warning message in file.copy(savedcopy, lib, recursive = TRUE):\n",
      "\"problem copying C:\\Users\\Dee\\AppData\\Local\\R\\win-library\\4.3\\00LOCK\\ranger\\libs\\x64\\ranger.dll to C:\\Users\\Dee\\AppData\\Local\\R\\win-library\\4.3\\ranger\\libs\\x64\\ranger.dll: Permission denied\"\n",
      "Warning message:\n",
      "\"restored 'ranger'\"\n"
     ]
    },
    {
     "name": "stdout",
     "output_type": "stream",
     "text": [
      "\n",
      "The downloaded binary packages are in\n",
      "\tC:\\Users\\Dee\\AppData\\Local\\Temp\\RtmpCG4UvO\\downloaded_packages\n"
     ]
    },
    {
     "name": "stderr",
     "output_type": "stream",
     "text": [
      "Installing package into 'C:/Users/Dee/AppData/Local/R/win-library/4.3'\n",
      "(as 'lib' is unspecified)\n",
      "\n"
     ]
    },
    {
     "name": "stdout",
     "output_type": "stream",
     "text": [
      "package 'e1071' successfully unpacked and MD5 sums checked\n"
     ]
    },
    {
     "name": "stderr",
     "output_type": "stream",
     "text": [
      "Warning message:\n",
      "\"cannot remove prior installation of package 'e1071'\"\n",
      "Warning message in file.copy(savedcopy, lib, recursive = TRUE):\n",
      "\"problem copying C:\\Users\\Dee\\AppData\\Local\\R\\win-library\\4.3\\00LOCK\\e1071\\libs\\x64\\e1071.dll to C:\\Users\\Dee\\AppData\\Local\\R\\win-library\\4.3\\e1071\\libs\\x64\\e1071.dll: Permission denied\"\n",
      "Warning message:\n",
      "\"restored 'e1071'\"\n"
     ]
    },
    {
     "name": "stdout",
     "output_type": "stream",
     "text": [
      "\n",
      "The downloaded binary packages are in\n",
      "\tC:\\Users\\Dee\\AppData\\Local\\Temp\\RtmpCG4UvO\\downloaded_packages\n"
     ]
    },
    {
     "name": "stderr",
     "output_type": "stream",
     "text": [
      "Installing package into 'C:/Users/Dee/AppData/Local/R/win-library/4.3'\n",
      "(as 'lib' is unspecified)\n",
      "\n"
     ]
    },
    {
     "name": "stdout",
     "output_type": "stream",
     "text": [
      "package 'kernlab' successfully unpacked and MD5 sums checked\n"
     ]
    },
    {
     "name": "stderr",
     "output_type": "stream",
     "text": [
      "Warning message:\n",
      "\"cannot remove prior installation of package 'kernlab'\"\n",
      "Warning message in file.copy(savedcopy, lib, recursive = TRUE):\n",
      "\"problem copying C:\\Users\\Dee\\AppData\\Local\\R\\win-library\\4.3\\00LOCK\\kernlab\\libs\\x64\\kernlab.dll to C:\\Users\\Dee\\AppData\\Local\\R\\win-library\\4.3\\kernlab\\libs\\x64\\kernlab.dll: Permission denied\"\n",
      "Warning message:\n",
      "\"restored 'kernlab'\"\n"
     ]
    },
    {
     "name": "stdout",
     "output_type": "stream",
     "text": [
      "\n",
      "The downloaded binary packages are in\n",
      "\tC:\\Users\\Dee\\AppData\\Local\\Temp\\RtmpCG4UvO\\downloaded_packages\n"
     ]
    },
    {
     "name": "stderr",
     "output_type": "stream",
     "text": [
      "Warning message:\n",
      "\"package 'dplyr' was built under R version 4.3.3\"\n",
      "\n",
      "Attaching package: 'dplyr'\n",
      "\n",
      "\n",
      "The following objects are masked from 'package:stats':\n",
      "\n",
      "    filter, lag\n",
      "\n",
      "\n",
      "The following objects are masked from 'package:base':\n",
      "\n",
      "    intersect, setdiff, setequal, union\n",
      "\n",
      "\n",
      "Warning message:\n",
      "\"package 'ggplot2' was built under R version 4.3.3\"\n",
      "Warning message:\n",
      "\"package 'caret' was built under R version 4.3.3\"\n",
      "Loading required package: lattice\n",
      "\n",
      "Warning message:\n",
      "\"package 'randomForest' was built under R version 4.3.3\"\n",
      "randomForest 4.7-1.1\n",
      "\n",
      "Type rfNews() to see new features/changes/bug fixes.\n",
      "\n",
      "\n",
      "Attaching package: 'randomForest'\n",
      "\n",
      "\n",
      "The following object is masked from 'package:ggplot2':\n",
      "\n",
      "    margin\n",
      "\n",
      "\n",
      "The following object is masked from 'package:dplyr':\n",
      "\n",
      "    combine\n",
      "\n",
      "\n",
      "Warning message:\n",
      "\"package 'ranger' was built under R version 4.3.3\"\n",
      "\n",
      "Attaching package: 'ranger'\n",
      "\n",
      "\n",
      "The following object is masked from 'package:randomForest':\n",
      "\n",
      "    importance\n",
      "\n",
      "\n",
      "Warning message:\n",
      "\"package 'e1071' was built under R version 4.3.3\"\n",
      "\n",
      "Attaching package: 'kernlab'\n",
      "\n",
      "\n",
      "The following object is masked from 'package:ggplot2':\n",
      "\n",
      "    alpha\n",
      "\n",
      "\n"
     ]
    }
   ],
   "source": [
    "# Install and load packages\n",
    "install.packages(\"randomForest\")\n",
    "install.packages(\"ranger\")\n",
    "install.packages(\"e1071\")\n",
    "install.packages(\"kernlab\")\n",
    "\n",
    "# Install and Liberies\n",
    "library(dplyr)\n",
    "library(ggplot2)\n",
    "library(caret)\n",
    "library(randomForest)\n",
    "library(ranger)\n",
    "library(e1071)\n",
    "library(kernlab)"
   ]
  },
  {
   "cell_type": "markdown",
   "id": "dffc7f89",
   "metadata": {},
   "source": [
    "**DATA COLLECTION**"
   ]
  },
  {
   "cell_type": "code",
   "execution_count": 2,
   "id": "b63526f5",
   "metadata": {},
   "outputs": [],
   "source": [
    "  # THIRD DATASET (STALOG DATA) -Data Collection and description \n",
    "\n",
    "# It consists of two datasets related as staloga and stalogb\n",
    "\n",
    "staloga <- read.csv(\"staloga.csv\", header = TRUE) # Load the dataset into the environment.\n",
    "\n",
    "stalogb <- read.csv(\"stalogb.csv\", header = TRUE) # Load the dataset into the environment.\n",
    "\n",
    "# Assigning column names to staloga\n",
    "colnames(staloga) <- c(\"Rad_Flow\", \"Fpv_Close\", \"Fpv_Open\", \"High\", \"Bypass\", \"Bpv_Close\", \"Bpv_Open\", \"Class\", \"Unknown 1\",\"Unknown 2\" )\n",
    "\n",
    "# Assigning column names to stalogb\n",
    "colnames(stalogb) <- c(\"Rad_Flow\", \"Fpv_Close\", \"Fpv_Open\", \"High\", \"Bypass\", \"Bpv_Close\", \"Bpv_Open\", \"Class\", \"Unknown 1\",\"Unknown 2\" )\n"
   ]
  },
  {
   "cell_type": "code",
   "execution_count": 3,
   "id": "e326c3d4",
   "metadata": {},
   "outputs": [
    {
     "data": {
      "text/html": [
       "<table class=\"dataframe\">\n",
       "<caption>A data.frame: 6 × 10</caption>\n",
       "<thead>\n",
       "\t<tr><th></th><th scope=col>Rad_Flow</th><th scope=col>Fpv_Close</th><th scope=col>Fpv_Open</th><th scope=col>High</th><th scope=col>Bypass</th><th scope=col>Bpv_Close</th><th scope=col>Bpv_Open</th><th scope=col>Class</th><th scope=col>Unknown 1</th><th scope=col>Unknown 2</th></tr>\n",
       "\t<tr><th></th><th scope=col>&lt;int&gt;</th><th scope=col>&lt;int&gt;</th><th scope=col>&lt;int&gt;</th><th scope=col>&lt;int&gt;</th><th scope=col>&lt;int&gt;</th><th scope=col>&lt;int&gt;</th><th scope=col>&lt;int&gt;</th><th scope=col>&lt;int&gt;</th><th scope=col>&lt;int&gt;</th><th scope=col>&lt;int&gt;</th></tr>\n",
       "</thead>\n",
       "<tbody>\n",
       "\t<tr><th scope=row>1</th><td>55</td><td> 0</td><td>81</td><td> 0</td><td>-6</td><td>11</td><td>25</td><td>88</td><td>64</td><td>4</td></tr>\n",
       "\t<tr><th scope=row>2</th><td>56</td><td> 0</td><td>96</td><td> 0</td><td>52</td><td>-4</td><td>40</td><td>44</td><td> 4</td><td>4</td></tr>\n",
       "\t<tr><th scope=row>3</th><td>50</td><td>-1</td><td>89</td><td>-7</td><td>50</td><td> 0</td><td>39</td><td>40</td><td> 2</td><td>1</td></tr>\n",
       "\t<tr><th scope=row>4</th><td>53</td><td> 9</td><td>79</td><td> 0</td><td>42</td><td>-2</td><td>25</td><td>37</td><td>12</td><td>4</td></tr>\n",
       "\t<tr><th scope=row>5</th><td>55</td><td> 2</td><td>82</td><td> 0</td><td>54</td><td>-6</td><td>26</td><td>28</td><td> 2</td><td>1</td></tr>\n",
       "\t<tr><th scope=row>6</th><td>41</td><td> 0</td><td>84</td><td> 3</td><td>38</td><td>-4</td><td>43</td><td>45</td><td> 2</td><td>1</td></tr>\n",
       "</tbody>\n",
       "</table>\n"
      ],
      "text/latex": [
       "A data.frame: 6 × 10\n",
       "\\begin{tabular}{r|llllllllll}\n",
       "  & Rad\\_Flow & Fpv\\_Close & Fpv\\_Open & High & Bypass & Bpv\\_Close & Bpv\\_Open & Class & Unknown 1 & Unknown 2\\\\\n",
       "  & <int> & <int> & <int> & <int> & <int> & <int> & <int> & <int> & <int> & <int>\\\\\n",
       "\\hline\n",
       "\t1 & 55 &  0 & 81 &  0 & -6 & 11 & 25 & 88 & 64 & 4\\\\\n",
       "\t2 & 56 &  0 & 96 &  0 & 52 & -4 & 40 & 44 &  4 & 4\\\\\n",
       "\t3 & 50 & -1 & 89 & -7 & 50 &  0 & 39 & 40 &  2 & 1\\\\\n",
       "\t4 & 53 &  9 & 79 &  0 & 42 & -2 & 25 & 37 & 12 & 4\\\\\n",
       "\t5 & 55 &  2 & 82 &  0 & 54 & -6 & 26 & 28 &  2 & 1\\\\\n",
       "\t6 & 41 &  0 & 84 &  3 & 38 & -4 & 43 & 45 &  2 & 1\\\\\n",
       "\\end{tabular}\n"
      ],
      "text/markdown": [
       "\n",
       "A data.frame: 6 × 10\n",
       "\n",
       "| <!--/--> | Rad_Flow &lt;int&gt; | Fpv_Close &lt;int&gt; | Fpv_Open &lt;int&gt; | High &lt;int&gt; | Bypass &lt;int&gt; | Bpv_Close &lt;int&gt; | Bpv_Open &lt;int&gt; | Class &lt;int&gt; | Unknown 1 &lt;int&gt; | Unknown 2 &lt;int&gt; |\n",
       "|---|---|---|---|---|---|---|---|---|---|---|\n",
       "| 1 | 55 |  0 | 81 |  0 | -6 | 11 | 25 | 88 | 64 | 4 |\n",
       "| 2 | 56 |  0 | 96 |  0 | 52 | -4 | 40 | 44 |  4 | 4 |\n",
       "| 3 | 50 | -1 | 89 | -7 | 50 |  0 | 39 | 40 |  2 | 1 |\n",
       "| 4 | 53 |  9 | 79 |  0 | 42 | -2 | 25 | 37 | 12 | 4 |\n",
       "| 5 | 55 |  2 | 82 |  0 | 54 | -6 | 26 | 28 |  2 | 1 |\n",
       "| 6 | 41 |  0 | 84 |  3 | 38 | -4 | 43 | 45 |  2 | 1 |\n",
       "\n"
      ],
      "text/plain": [
       "  Rad_Flow Fpv_Close Fpv_Open High Bypass Bpv_Close Bpv_Open Class Unknown 1\n",
       "1 55        0        81        0   -6     11        25       88    64       \n",
       "2 56        0        96        0   52     -4        40       44     4       \n",
       "3 50       -1        89       -7   50      0        39       40     2       \n",
       "4 53        9        79        0   42     -2        25       37    12       \n",
       "5 55        2        82        0   54     -6        26       28     2       \n",
       "6 41        0        84        3   38     -4        43       45     2       \n",
       "  Unknown 2\n",
       "1 4        \n",
       "2 4        \n",
       "3 1        \n",
       "4 4        \n",
       "5 1        \n",
       "6 1        "
      ]
     },
     "metadata": {},
     "output_type": "display_data"
    },
    {
     "data": {
      "text/html": [
       "<table class=\"dataframe\">\n",
       "<caption>A data.frame: 6 × 10</caption>\n",
       "<thead>\n",
       "\t<tr><th></th><th scope=col>Rad_Flow</th><th scope=col>Fpv_Close</th><th scope=col>Fpv_Open</th><th scope=col>High</th><th scope=col>Bypass</th><th scope=col>Bpv_Close</th><th scope=col>Bpv_Open</th><th scope=col>Class</th><th scope=col>Unknown 1</th><th scope=col>Unknown 2</th></tr>\n",
       "\t<tr><th></th><th scope=col>&lt;int&gt;</th><th scope=col>&lt;int&gt;</th><th scope=col>&lt;int&gt;</th><th scope=col>&lt;int&gt;</th><th scope=col>&lt;int&gt;</th><th scope=col>&lt;int&gt;</th><th scope=col>&lt;int&gt;</th><th scope=col>&lt;int&gt;</th><th scope=col>&lt;int&gt;</th><th scope=col>&lt;int&gt;</th></tr>\n",
       "</thead>\n",
       "<tbody>\n",
       "\t<tr><th scope=row>14495</th><td>49</td><td>0</td><td> 87</td><td>0</td><td> 46</td><td>-12</td><td>38</td><td> 41</td><td>  2</td><td>1</td></tr>\n",
       "\t<tr><th scope=row>14496</th><td>80</td><td>0</td><td> 84</td><td>0</td><td>-36</td><td>-29</td><td> 4</td><td>120</td><td>116</td><td>5</td></tr>\n",
       "\t<tr><th scope=row>14497</th><td>55</td><td>0</td><td> 81</td><td>0</td><td>-20</td><td> 25</td><td>26</td><td>102</td><td> 76</td><td>4</td></tr>\n",
       "\t<tr><th scope=row>14498</th><td>55</td><td>0</td><td> 77</td><td>0</td><td> 12</td><td>-22</td><td>22</td><td> 65</td><td> 42</td><td>4</td></tr>\n",
       "\t<tr><th scope=row>14499</th><td>37</td><td>0</td><td>103</td><td>0</td><td> 18</td><td>-16</td><td>66</td><td> 85</td><td> 20</td><td>1</td></tr>\n",
       "\t<tr><th scope=row>14500</th><td>56</td><td>2</td><td> 98</td><td>0</td><td> 52</td><td>  1</td><td>42</td><td> 46</td><td>  4</td><td>4</td></tr>\n",
       "</tbody>\n",
       "</table>\n"
      ],
      "text/latex": [
       "A data.frame: 6 × 10\n",
       "\\begin{tabular}{r|llllllllll}\n",
       "  & Rad\\_Flow & Fpv\\_Close & Fpv\\_Open & High & Bypass & Bpv\\_Close & Bpv\\_Open & Class & Unknown 1 & Unknown 2\\\\\n",
       "  & <int> & <int> & <int> & <int> & <int> & <int> & <int> & <int> & <int> & <int>\\\\\n",
       "\\hline\n",
       "\t14495 & 49 & 0 &  87 & 0 &  46 & -12 & 38 &  41 &   2 & 1\\\\\n",
       "\t14496 & 80 & 0 &  84 & 0 & -36 & -29 &  4 & 120 & 116 & 5\\\\\n",
       "\t14497 & 55 & 0 &  81 & 0 & -20 &  25 & 26 & 102 &  76 & 4\\\\\n",
       "\t14498 & 55 & 0 &  77 & 0 &  12 & -22 & 22 &  65 &  42 & 4\\\\\n",
       "\t14499 & 37 & 0 & 103 & 0 &  18 & -16 & 66 &  85 &  20 & 1\\\\\n",
       "\t14500 & 56 & 2 &  98 & 0 &  52 &   1 & 42 &  46 &   4 & 4\\\\\n",
       "\\end{tabular}\n"
      ],
      "text/markdown": [
       "\n",
       "A data.frame: 6 × 10\n",
       "\n",
       "| <!--/--> | Rad_Flow &lt;int&gt; | Fpv_Close &lt;int&gt; | Fpv_Open &lt;int&gt; | High &lt;int&gt; | Bypass &lt;int&gt; | Bpv_Close &lt;int&gt; | Bpv_Open &lt;int&gt; | Class &lt;int&gt; | Unknown 1 &lt;int&gt; | Unknown 2 &lt;int&gt; |\n",
       "|---|---|---|---|---|---|---|---|---|---|---|\n",
       "| 14495 | 49 | 0 |  87 | 0 |  46 | -12 | 38 |  41 |   2 | 1 |\n",
       "| 14496 | 80 | 0 |  84 | 0 | -36 | -29 |  4 | 120 | 116 | 5 |\n",
       "| 14497 | 55 | 0 |  81 | 0 | -20 |  25 | 26 | 102 |  76 | 4 |\n",
       "| 14498 | 55 | 0 |  77 | 0 |  12 | -22 | 22 |  65 |  42 | 4 |\n",
       "| 14499 | 37 | 0 | 103 | 0 |  18 | -16 | 66 |  85 |  20 | 1 |\n",
       "| 14500 | 56 | 2 |  98 | 0 |  52 |   1 | 42 |  46 |   4 | 4 |\n",
       "\n"
      ],
      "text/plain": [
       "      Rad_Flow Fpv_Close Fpv_Open High Bypass Bpv_Close Bpv_Open Class\n",
       "14495 49       0          87      0     46    -12       38        41  \n",
       "14496 80       0          84      0    -36    -29        4       120  \n",
       "14497 55       0          81      0    -20     25       26       102  \n",
       "14498 55       0          77      0     12    -22       22        65  \n",
       "14499 37       0         103      0     18    -16       66        85  \n",
       "14500 56       2          98      0     52      1       42        46  \n",
       "      Unknown 1 Unknown 2\n",
       "14495   2       1        \n",
       "14496 116       5        \n",
       "14497  76       4        \n",
       "14498  42       4        \n",
       "14499  20       1        \n",
       "14500   4       4        "
      ]
     },
     "metadata": {},
     "output_type": "display_data"
    },
    {
     "data": {
      "text/html": [
       "<table class=\"dataframe\">\n",
       "<caption>A data.frame: 6 × 10</caption>\n",
       "<thead>\n",
       "\t<tr><th></th><th scope=col>Rad_Flow</th><th scope=col>Fpv_Close</th><th scope=col>Fpv_Open</th><th scope=col>High</th><th scope=col>Bypass</th><th scope=col>Bpv_Close</th><th scope=col>Bpv_Open</th><th scope=col>Class</th><th scope=col>Unknown 1</th><th scope=col>Unknown 2</th></tr>\n",
       "\t<tr><th></th><th scope=col>&lt;int&gt;</th><th scope=col>&lt;int&gt;</th><th scope=col>&lt;int&gt;</th><th scope=col>&lt;int&gt;</th><th scope=col>&lt;int&gt;</th><th scope=col>&lt;int&gt;</th><th scope=col>&lt;int&gt;</th><th scope=col>&lt;int&gt;</th><th scope=col>&lt;int&gt;</th><th scope=col>&lt;int&gt;</th></tr>\n",
       "</thead>\n",
       "<tbody>\n",
       "\t<tr><th scope=row>1</th><td>50</td><td>21</td><td>77</td><td> 0</td><td>28</td><td>  0</td><td>27</td><td>48</td><td>22</td><td>2</td></tr>\n",
       "\t<tr><th scope=row>2</th><td>55</td><td> 0</td><td>92</td><td> 0</td><td> 0</td><td> 26</td><td>36</td><td>92</td><td>56</td><td>4</td></tr>\n",
       "\t<tr><th scope=row>3</th><td>53</td><td> 0</td><td>82</td><td> 0</td><td>52</td><td> -5</td><td>29</td><td>30</td><td> 2</td><td>1</td></tr>\n",
       "\t<tr><th scope=row>4</th><td>37</td><td> 0</td><td>76</td><td> 0</td><td>28</td><td> 18</td><td>40</td><td>48</td><td> 8</td><td>1</td></tr>\n",
       "\t<tr><th scope=row>5</th><td>37</td><td> 0</td><td>79</td><td> 0</td><td>34</td><td>-26</td><td>43</td><td>46</td><td> 2</td><td>1</td></tr>\n",
       "\t<tr><th scope=row>6</th><td>85</td><td> 0</td><td>88</td><td>-4</td><td> 6</td><td>  1</td><td> 3</td><td>83</td><td>80</td><td>5</td></tr>\n",
       "</tbody>\n",
       "</table>\n"
      ],
      "text/latex": [
       "A data.frame: 6 × 10\n",
       "\\begin{tabular}{r|llllllllll}\n",
       "  & Rad\\_Flow & Fpv\\_Close & Fpv\\_Open & High & Bypass & Bpv\\_Close & Bpv\\_Open & Class & Unknown 1 & Unknown 2\\\\\n",
       "  & <int> & <int> & <int> & <int> & <int> & <int> & <int> & <int> & <int> & <int>\\\\\n",
       "\\hline\n",
       "\t1 & 50 & 21 & 77 &  0 & 28 &   0 & 27 & 48 & 22 & 2\\\\\n",
       "\t2 & 55 &  0 & 92 &  0 &  0 &  26 & 36 & 92 & 56 & 4\\\\\n",
       "\t3 & 53 &  0 & 82 &  0 & 52 &  -5 & 29 & 30 &  2 & 1\\\\\n",
       "\t4 & 37 &  0 & 76 &  0 & 28 &  18 & 40 & 48 &  8 & 1\\\\\n",
       "\t5 & 37 &  0 & 79 &  0 & 34 & -26 & 43 & 46 &  2 & 1\\\\\n",
       "\t6 & 85 &  0 & 88 & -4 &  6 &   1 &  3 & 83 & 80 & 5\\\\\n",
       "\\end{tabular}\n"
      ],
      "text/markdown": [
       "\n",
       "A data.frame: 6 × 10\n",
       "\n",
       "| <!--/--> | Rad_Flow &lt;int&gt; | Fpv_Close &lt;int&gt; | Fpv_Open &lt;int&gt; | High &lt;int&gt; | Bypass &lt;int&gt; | Bpv_Close &lt;int&gt; | Bpv_Open &lt;int&gt; | Class &lt;int&gt; | Unknown 1 &lt;int&gt; | Unknown 2 &lt;int&gt; |\n",
       "|---|---|---|---|---|---|---|---|---|---|---|\n",
       "| 1 | 50 | 21 | 77 |  0 | 28 |   0 | 27 | 48 | 22 | 2 |\n",
       "| 2 | 55 |  0 | 92 |  0 |  0 |  26 | 36 | 92 | 56 | 4 |\n",
       "| 3 | 53 |  0 | 82 |  0 | 52 |  -5 | 29 | 30 |  2 | 1 |\n",
       "| 4 | 37 |  0 | 76 |  0 | 28 |  18 | 40 | 48 |  8 | 1 |\n",
       "| 5 | 37 |  0 | 79 |  0 | 34 | -26 | 43 | 46 |  2 | 1 |\n",
       "| 6 | 85 |  0 | 88 | -4 |  6 |   1 |  3 | 83 | 80 | 5 |\n",
       "\n"
      ],
      "text/plain": [
       "  Rad_Flow Fpv_Close Fpv_Open High Bypass Bpv_Close Bpv_Open Class Unknown 1\n",
       "1 50       21        77        0   28       0       27       48    22       \n",
       "2 55        0        92        0    0      26       36       92    56       \n",
       "3 53        0        82        0   52      -5       29       30     2       \n",
       "4 37        0        76        0   28      18       40       48     8       \n",
       "5 37        0        79        0   34     -26       43       46     2       \n",
       "6 85        0        88       -4    6       1        3       83    80       \n",
       "  Unknown 2\n",
       "1 2        \n",
       "2 4        \n",
       "3 1        \n",
       "4 1        \n",
       "5 1        \n",
       "6 5        "
      ]
     },
     "metadata": {},
     "output_type": "display_data"
    },
    {
     "data": {
      "text/html": [
       "<table class=\"dataframe\">\n",
       "<caption>A data.frame: 6 × 10</caption>\n",
       "<thead>\n",
       "\t<tr><th></th><th scope=col>Rad_Flow</th><th scope=col>Fpv_Close</th><th scope=col>Fpv_Open</th><th scope=col>High</th><th scope=col>Bypass</th><th scope=col>Bpv_Close</th><th scope=col>Bpv_Open</th><th scope=col>Class</th><th scope=col>Unknown 1</th><th scope=col>Unknown 2</th></tr>\n",
       "\t<tr><th></th><th scope=col>&lt;int&gt;</th><th scope=col>&lt;int&gt;</th><th scope=col>&lt;int&gt;</th><th scope=col>&lt;int&gt;</th><th scope=col>&lt;int&gt;</th><th scope=col>&lt;int&gt;</th><th scope=col>&lt;int&gt;</th><th scope=col>&lt;int&gt;</th><th scope=col>&lt;int&gt;</th><th scope=col>&lt;int&gt;</th></tr>\n",
       "</thead>\n",
       "<tbody>\n",
       "\t<tr><th scope=row>43495</th><td>45</td><td>-5</td><td> 90</td><td> 0</td><td>44</td><td>-26</td><td>45</td><td>46</td><td> 2</td><td>1</td></tr>\n",
       "\t<tr><th scope=row>43496</th><td>46</td><td> 5</td><td> 78</td><td> 0</td><td>46</td><td>  5</td><td>32</td><td>32</td><td> 0</td><td>1</td></tr>\n",
       "\t<tr><th scope=row>43497</th><td>37</td><td> 0</td><td> 79</td><td>-1</td><td>10</td><td>  3</td><td>43</td><td>69</td><td>26</td><td>1</td></tr>\n",
       "\t<tr><th scope=row>43498</th><td>48</td><td> 0</td><td> 78</td><td> 3</td><td>46</td><td>  0</td><td>30</td><td>32</td><td> 2</td><td>1</td></tr>\n",
       "\t<tr><th scope=row>43499</th><td>41</td><td> 0</td><td> 79</td><td> 0</td><td>38</td><td>-25</td><td>38</td><td>40</td><td> 2</td><td>1</td></tr>\n",
       "\t<tr><th scope=row>43500</th><td>40</td><td>-3</td><td>100</td><td> 0</td><td>38</td><td>  0</td><td>61</td><td>62</td><td> 2</td><td>1</td></tr>\n",
       "</tbody>\n",
       "</table>\n"
      ],
      "text/latex": [
       "A data.frame: 6 × 10\n",
       "\\begin{tabular}{r|llllllllll}\n",
       "  & Rad\\_Flow & Fpv\\_Close & Fpv\\_Open & High & Bypass & Bpv\\_Close & Bpv\\_Open & Class & Unknown 1 & Unknown 2\\\\\n",
       "  & <int> & <int> & <int> & <int> & <int> & <int> & <int> & <int> & <int> & <int>\\\\\n",
       "\\hline\n",
       "\t43495 & 45 & -5 &  90 &  0 & 44 & -26 & 45 & 46 &  2 & 1\\\\\n",
       "\t43496 & 46 &  5 &  78 &  0 & 46 &   5 & 32 & 32 &  0 & 1\\\\\n",
       "\t43497 & 37 &  0 &  79 & -1 & 10 &   3 & 43 & 69 & 26 & 1\\\\\n",
       "\t43498 & 48 &  0 &  78 &  3 & 46 &   0 & 30 & 32 &  2 & 1\\\\\n",
       "\t43499 & 41 &  0 &  79 &  0 & 38 & -25 & 38 & 40 &  2 & 1\\\\\n",
       "\t43500 & 40 & -3 & 100 &  0 & 38 &   0 & 61 & 62 &  2 & 1\\\\\n",
       "\\end{tabular}\n"
      ],
      "text/markdown": [
       "\n",
       "A data.frame: 6 × 10\n",
       "\n",
       "| <!--/--> | Rad_Flow &lt;int&gt; | Fpv_Close &lt;int&gt; | Fpv_Open &lt;int&gt; | High &lt;int&gt; | Bypass &lt;int&gt; | Bpv_Close &lt;int&gt; | Bpv_Open &lt;int&gt; | Class &lt;int&gt; | Unknown 1 &lt;int&gt; | Unknown 2 &lt;int&gt; |\n",
       "|---|---|---|---|---|---|---|---|---|---|---|\n",
       "| 43495 | 45 | -5 |  90 |  0 | 44 | -26 | 45 | 46 |  2 | 1 |\n",
       "| 43496 | 46 |  5 |  78 |  0 | 46 |   5 | 32 | 32 |  0 | 1 |\n",
       "| 43497 | 37 |  0 |  79 | -1 | 10 |   3 | 43 | 69 | 26 | 1 |\n",
       "| 43498 | 48 |  0 |  78 |  3 | 46 |   0 | 30 | 32 |  2 | 1 |\n",
       "| 43499 | 41 |  0 |  79 |  0 | 38 | -25 | 38 | 40 |  2 | 1 |\n",
       "| 43500 | 40 | -3 | 100 |  0 | 38 |   0 | 61 | 62 |  2 | 1 |\n",
       "\n"
      ],
      "text/plain": [
       "      Rad_Flow Fpv_Close Fpv_Open High Bypass Bpv_Close Bpv_Open Class\n",
       "43495 45       -5         90       0   44     -26       45       46   \n",
       "43496 46        5         78       0   46       5       32       32   \n",
       "43497 37        0         79      -1   10       3       43       69   \n",
       "43498 48        0         78       3   46       0       30       32   \n",
       "43499 41        0         79       0   38     -25       38       40   \n",
       "43500 40       -3        100       0   38       0       61       62   \n",
       "      Unknown 1 Unknown 2\n",
       "43495  2        1        \n",
       "43496  0        1        \n",
       "43497 26        1        \n",
       "43498  2        1        \n",
       "43499  2        1        \n",
       "43500  2        1        "
      ]
     },
     "metadata": {},
     "output_type": "display_data"
    }
   ],
   "source": [
    "# Display the first and last few rows of Staloga and Stalogb\n",
    "\n",
    "head(staloga) # First few row of Staloga\n",
    "tail(staloga) # Last few rows of Staloga\n",
    "head(stalogb) # First few rows of Stalogb\n",
    "tail(stalogb) # Last few rows of Stalogb"
   ]
  },
  {
   "cell_type": "code",
   "execution_count": 4,
   "id": "9b423d8a",
   "metadata": {},
   "outputs": [
    {
     "name": "stdout",
     "output_type": "stream",
     "text": [
      "'data.frame':\t14500 obs. of  10 variables:\n",
      " $ Rad_Flow : int  55 56 50 53 55 41 37 46 44 44 ...\n",
      " $ Fpv_Close: int  0 0 -1 9 2 0 0 0 0 -1 ...\n",
      " $ Fpv_Open : int  81 96 89 79 82 84 100 83 79 78 ...\n",
      " $ High     : int  0 0 -7 0 0 3 0 0 0 0 ...\n",
      " $ Bypass   : int  -6 52 50 42 54 38 36 46 42 44 ...\n",
      " $ Bpv_Close: int  11 -4 0 -2 -6 -4 -8 0 -17 0 ...\n",
      " $ Bpv_Open : int  25 40 39 25 26 43 63 37 35 34 ...\n",
      " $ Class    : int  88 44 40 37 28 45 64 36 37 34 ...\n",
      " $ Unknown 1: int  64 4 2 12 2 2 2 0 2 0 ...\n",
      " $ Unknown 2: int  4 4 1 4 1 1 1 1 1 1 ...\n",
      "'data.frame':\t43500 obs. of  10 variables:\n",
      " $ Rad_Flow : int  50 55 53 37 37 85 56 55 53 37 ...\n",
      " $ Fpv_Close: int  21 0 0 0 0 0 0 -1 8 0 ...\n",
      " $ Fpv_Open : int  77 92 82 76 79 88 81 95 77 101 ...\n",
      " $ High     : int  0 0 0 0 0 -4 0 -3 0 -7 ...\n",
      " $ Bypass   : int  28 0 52 28 34 6 -4 54 28 28 ...\n",
      " $ Bpv_Close: int  0 26 -5 18 -26 1 11 -4 0 0 ...\n",
      " $ Bpv_Open : int  27 36 29 40 43 3 25 40 23 64 ...\n",
      " $ Class    : int  48 92 30 48 46 83 86 41 48 73 ...\n",
      " $ Unknown 1: int  22 56 2 8 2 80 62 2 24 8 ...\n",
      " $ Unknown 2: int  2 4 1 1 1 5 4 1 4 1 ...\n"
     ]
    }
   ],
   "source": [
    "# Display the structure of datasets Staloga and Stalogb \n",
    "\n",
    "str(staloga) # Display the structure of Staloga\n",
    "str(stalogb) # display the structure of Stalogb"
   ]
  },
  {
   "cell_type": "code",
   "execution_count": 5,
   "id": "8c419eee",
   "metadata": {},
   "outputs": [
    {
     "data": {
      "text/html": [
       "14500"
      ],
      "text/latex": [
       "14500"
      ],
      "text/markdown": [
       "14500"
      ],
      "text/plain": [
       "[1] 14500"
      ]
     },
     "metadata": {},
     "output_type": "display_data"
    },
    {
     "data": {
      "text/html": [
       "43500"
      ],
      "text/latex": [
       "43500"
      ],
      "text/markdown": [
       "43500"
      ],
      "text/plain": [
       "[1] 43500"
      ]
     },
     "metadata": {},
     "output_type": "display_data"
    }
   ],
   "source": [
    "# Display the number of rows in Staloga and Stalogb\n",
    "\n",
    "nrow(staloga) # View the number of Rows in Staloga\n",
    "nrow(stalogb) # View the number of Rows in Stalogb"
   ]
  },
  {
   "cell_type": "code",
   "execution_count": 6,
   "id": "62d5a217",
   "metadata": {},
   "outputs": [
    {
     "data": {
      "text/html": [
       "10"
      ],
      "text/latex": [
       "10"
      ],
      "text/markdown": [
       "10"
      ],
      "text/plain": [
       "[1] 10"
      ]
     },
     "metadata": {},
     "output_type": "display_data"
    },
    {
     "data": {
      "text/html": [
       "10"
      ],
      "text/latex": [
       "10"
      ],
      "text/markdown": [
       "10"
      ],
      "text/plain": [
       "[1] 10"
      ]
     },
     "metadata": {},
     "output_type": "display_data"
    }
   ],
   "source": [
    "# Display the number of columns in Staloga and Stalogb\n",
    "\n",
    "ncol(staloga) # View the number of colunms in Staloga\n",
    "ncol(stalogb) # View the number of columns in Stalogb\n"
   ]
  },
  {
   "cell_type": "code",
   "execution_count": 7,
   "id": "b86083b8",
   "metadata": {},
   "outputs": [
    {
     "data": {
      "text/html": [
       "<style>\n",
       ".list-inline {list-style: none; margin:0; padding: 0}\n",
       ".list-inline>li {display: inline-block}\n",
       ".list-inline>li:not(:last-child)::after {content: \"\\00b7\"; padding: 0 .5ex}\n",
       "</style>\n",
       "<ol class=list-inline><li>'Rad_Flow'</li><li>'Fpv_Close'</li><li>'Fpv_Open'</li><li>'High'</li><li>'Bypass'</li><li>'Bpv_Close'</li><li>'Bpv_Open'</li><li>'Class'</li><li>'Unknown 1'</li><li>'Unknown 2'</li></ol>\n"
      ],
      "text/latex": [
       "\\begin{enumerate*}\n",
       "\\item 'Rad\\_Flow'\n",
       "\\item 'Fpv\\_Close'\n",
       "\\item 'Fpv\\_Open'\n",
       "\\item 'High'\n",
       "\\item 'Bypass'\n",
       "\\item 'Bpv\\_Close'\n",
       "\\item 'Bpv\\_Open'\n",
       "\\item 'Class'\n",
       "\\item 'Unknown 1'\n",
       "\\item 'Unknown 2'\n",
       "\\end{enumerate*}\n"
      ],
      "text/markdown": [
       "1. 'Rad_Flow'\n",
       "2. 'Fpv_Close'\n",
       "3. 'Fpv_Open'\n",
       "4. 'High'\n",
       "5. 'Bypass'\n",
       "6. 'Bpv_Close'\n",
       "7. 'Bpv_Open'\n",
       "8. 'Class'\n",
       "9. 'Unknown 1'\n",
       "10. 'Unknown 2'\n",
       "\n",
       "\n"
      ],
      "text/plain": [
       " [1] \"Rad_Flow\"  \"Fpv_Close\" \"Fpv_Open\"  \"High\"      \"Bypass\"    \"Bpv_Close\"\n",
       " [7] \"Bpv_Open\"  \"Class\"     \"Unknown 1\" \"Unknown 2\""
      ]
     },
     "metadata": {},
     "output_type": "display_data"
    },
    {
     "data": {
      "text/html": [
       "<style>\n",
       ".list-inline {list-style: none; margin:0; padding: 0}\n",
       ".list-inline>li {display: inline-block}\n",
       ".list-inline>li:not(:last-child)::after {content: \"\\00b7\"; padding: 0 .5ex}\n",
       "</style>\n",
       "<ol class=list-inline><li>'Rad_Flow'</li><li>'Fpv_Close'</li><li>'Fpv_Open'</li><li>'High'</li><li>'Bypass'</li><li>'Bpv_Close'</li><li>'Bpv_Open'</li><li>'Class'</li><li>'Unknown 1'</li><li>'Unknown 2'</li></ol>\n"
      ],
      "text/latex": [
       "\\begin{enumerate*}\n",
       "\\item 'Rad\\_Flow'\n",
       "\\item 'Fpv\\_Close'\n",
       "\\item 'Fpv\\_Open'\n",
       "\\item 'High'\n",
       "\\item 'Bypass'\n",
       "\\item 'Bpv\\_Close'\n",
       "\\item 'Bpv\\_Open'\n",
       "\\item 'Class'\n",
       "\\item 'Unknown 1'\n",
       "\\item 'Unknown 2'\n",
       "\\end{enumerate*}\n"
      ],
      "text/markdown": [
       "1. 'Rad_Flow'\n",
       "2. 'Fpv_Close'\n",
       "3. 'Fpv_Open'\n",
       "4. 'High'\n",
       "5. 'Bypass'\n",
       "6. 'Bpv_Close'\n",
       "7. 'Bpv_Open'\n",
       "8. 'Class'\n",
       "9. 'Unknown 1'\n",
       "10. 'Unknown 2'\n",
       "\n",
       "\n"
      ],
      "text/plain": [
       " [1] \"Rad_Flow\"  \"Fpv_Close\" \"Fpv_Open\"  \"High\"      \"Bypass\"    \"Bpv_Close\"\n",
       " [7] \"Bpv_Open\"  \"Class\"     \"Unknown 1\" \"Unknown 2\""
      ]
     },
     "metadata": {},
     "output_type": "display_data"
    }
   ],
   "source": [
    "# Display all colunm names in Staloga and Stalogb\n",
    "\n",
    "names(staloga) # Get all column names in Staloga\n",
    "names(stalogb) # Get all column names in Staloga"
   ]
  },
  {
   "cell_type": "markdown",
   "id": "28442799",
   "metadata": {},
   "source": [
    "**DATA INTEGRATION**"
   ]
  },
  {
   "cell_type": "code",
   "execution_count": 8,
   "id": "75b99fbf",
   "metadata": {},
   "outputs": [
    {
     "data": {
      "text/html": [
       "<table class=\"dataframe\">\n",
       "<caption>A data.frame: 58000 × 10</caption>\n",
       "<thead>\n",
       "\t<tr><th scope=col>Rad_Flow</th><th scope=col>Fpv_Close</th><th scope=col>Fpv_Open</th><th scope=col>High</th><th scope=col>Bypass</th><th scope=col>Bpv_Close</th><th scope=col>Bpv_Open</th><th scope=col>Class</th><th scope=col>Unknown 1</th><th scope=col>Unknown 2</th></tr>\n",
       "\t<tr><th scope=col>&lt;int&gt;</th><th scope=col>&lt;int&gt;</th><th scope=col>&lt;int&gt;</th><th scope=col>&lt;int&gt;</th><th scope=col>&lt;int&gt;</th><th scope=col>&lt;int&gt;</th><th scope=col>&lt;int&gt;</th><th scope=col>&lt;int&gt;</th><th scope=col>&lt;int&gt;</th><th scope=col>&lt;int&gt;</th></tr>\n",
       "</thead>\n",
       "<tbody>\n",
       "\t<tr><td>55</td><td> 0</td><td> 81</td><td> 0</td><td> -6</td><td> 11</td><td>25</td><td>88</td><td>64</td><td>4</td></tr>\n",
       "\t<tr><td>56</td><td> 0</td><td> 96</td><td> 0</td><td> 52</td><td> -4</td><td>40</td><td>44</td><td> 4</td><td>4</td></tr>\n",
       "\t<tr><td>50</td><td>-1</td><td> 89</td><td>-7</td><td> 50</td><td>  0</td><td>39</td><td>40</td><td> 2</td><td>1</td></tr>\n",
       "\t<tr><td>53</td><td> 9</td><td> 79</td><td> 0</td><td> 42</td><td> -2</td><td>25</td><td>37</td><td>12</td><td>4</td></tr>\n",
       "\t<tr><td>55</td><td> 2</td><td> 82</td><td> 0</td><td> 54</td><td> -6</td><td>26</td><td>28</td><td> 2</td><td>1</td></tr>\n",
       "\t<tr><td>41</td><td> 0</td><td> 84</td><td> 3</td><td> 38</td><td> -4</td><td>43</td><td>45</td><td> 2</td><td>1</td></tr>\n",
       "\t<tr><td>37</td><td> 0</td><td>100</td><td> 0</td><td> 36</td><td> -8</td><td>63</td><td>64</td><td> 2</td><td>1</td></tr>\n",
       "\t<tr><td>46</td><td> 0</td><td> 83</td><td> 0</td><td> 46</td><td>  0</td><td>37</td><td>36</td><td> 0</td><td>1</td></tr>\n",
       "\t<tr><td>44</td><td> 0</td><td> 79</td><td> 0</td><td> 42</td><td>-17</td><td>35</td><td>37</td><td> 2</td><td>1</td></tr>\n",
       "\t<tr><td>44</td><td>-1</td><td> 78</td><td> 0</td><td> 44</td><td>  0</td><td>34</td><td>34</td><td> 0</td><td>1</td></tr>\n",
       "\t<tr><td>55</td><td> 0</td><td> 81</td><td> 0</td><td> 54</td><td>-10</td><td>25</td><td>26</td><td> 2</td><td>1</td></tr>\n",
       "\t<tr><td>56</td><td> 0</td><td> 95</td><td> 0</td><td> 52</td><td> -3</td><td>40</td><td>44</td><td> 4</td><td>4</td></tr>\n",
       "\t<tr><td>37</td><td> 0</td><td>100</td><td> 0</td><td> 34</td><td>  6</td><td>64</td><td>67</td><td> 4</td><td>1</td></tr>\n",
       "\t<tr><td>43</td><td>-3</td><td> 86</td><td> 2</td><td> 44</td><td> 14</td><td>43</td><td>42</td><td> 0</td><td>1</td></tr>\n",
       "\t<tr><td>46</td><td>-5</td><td> 84</td><td> 0</td><td> 46</td><td>  0</td><td>38</td><td>37</td><td> 0</td><td>1</td></tr>\n",
       "\t<tr><td>45</td><td> 0</td><td> 81</td><td> 0</td><td> 44</td><td>  0</td><td>36</td><td>37</td><td> 0</td><td>1</td></tr>\n",
       "\t<tr><td>48</td><td> 0</td><td> 86</td><td> 0</td><td> 50</td><td> 30</td><td>38</td><td>37</td><td> 0</td><td>1</td></tr>\n",
       "\t<tr><td>56</td><td> 0</td><td> 78</td><td> 0</td><td> 42</td><td> -2</td><td>22</td><td>37</td><td>14</td><td>4</td></tr>\n",
       "\t<tr><td>56</td><td> 0</td><td> 77</td><td> 0</td><td> 18</td><td>-18</td><td>22</td><td>59</td><td>38</td><td>4</td></tr>\n",
       "\t<tr><td>45</td><td> 5</td><td> 90</td><td> 0</td><td> 44</td><td>  0</td><td>44</td><td>46</td><td> 2</td><td>1</td></tr>\n",
       "\t<tr><td>37</td><td> 0</td><td> 77</td><td> 0</td><td>-20</td><td> 27</td><td>41</td><td>98</td><td>58</td><td>1</td></tr>\n",
       "\t<tr><td>37</td><td> 0</td><td> 90</td><td>-6</td><td> 18</td><td>  0</td><td>53</td><td>72</td><td>20</td><td>1</td></tr>\n",
       "\t<tr><td>37</td><td>-8</td><td> 77</td><td> 0</td><td> 20</td><td>  0</td><td>40</td><td>57</td><td>16</td><td>1</td></tr>\n",
       "\t<tr><td>50</td><td> 5</td><td> 95</td><td>-3</td><td> 50</td><td>  0</td><td>45</td><td>46</td><td> 2</td><td>1</td></tr>\n",
       "\t<tr><td>43</td><td>-2</td><td> 76</td><td> 0</td><td> 44</td><td> 15</td><td>32</td><td>32</td><td> 0</td><td>1</td></tr>\n",
       "\t<tr><td>42</td><td>-1</td><td> 85</td><td>-5</td><td> 42</td><td>  0</td><td>44</td><td>44</td><td> 0</td><td>1</td></tr>\n",
       "\t<tr><td>55</td><td> 0</td><td> 97</td><td> 0</td><td> 46</td><td> -2</td><td>42</td><td>51</td><td> 8</td><td>4</td></tr>\n",
       "\t<tr><td>37</td><td> 0</td><td> 76</td><td> 0</td><td> 26</td><td> 20</td><td>39</td><td>50</td><td>12</td><td>1</td></tr>\n",
       "\t<tr><td>37</td><td> 0</td><td> 76</td><td> 8</td><td> 30</td><td>  0</td><td>40</td><td>45</td><td> 6</td><td>1</td></tr>\n",
       "\t<tr><td>45</td><td> 0</td><td>106</td><td> 0</td><td> 46</td><td>  9</td><td>61</td><td>60</td><td> 0</td><td>1</td></tr>\n",
       "\t<tr><td>⋮</td><td>⋮</td><td>⋮</td><td>⋮</td><td>⋮</td><td>⋮</td><td>⋮</td><td>⋮</td><td>⋮</td><td>⋮</td></tr>\n",
       "\t<tr><td> 50</td><td> 4</td><td> 88</td><td> 0</td><td> 50</td><td>  0</td><td>38</td><td> 39</td><td> 2</td><td>1</td></tr>\n",
       "\t<tr><td> 43</td><td>-4</td><td>106</td><td> 0</td><td> 42</td><td> -7</td><td>62</td><td> 64</td><td> 2</td><td>1</td></tr>\n",
       "\t<tr><td> 45</td><td>-2</td><td> 76</td><td> 0</td><td> 44</td><td>-11</td><td>31</td><td> 32</td><td> 2</td><td>1</td></tr>\n",
       "\t<tr><td> 37</td><td> 0</td><td> 79</td><td> 0</td><td> 10</td><td>374</td><td>42</td><td> 69</td><td>26</td><td>1</td></tr>\n",
       "\t<tr><td> 37</td><td> 5</td><td> 79</td><td> 0</td><td> 34</td><td>  0</td><td>42</td><td> 46</td><td> 4</td><td>1</td></tr>\n",
       "\t<tr><td> 46</td><td> 0</td><td> 81</td><td> 0</td><td> 44</td><td>-14</td><td>35</td><td> 37</td><td> 2</td><td>1</td></tr>\n",
       "\t<tr><td>102</td><td> 0</td><td>102</td><td>-7</td><td> 72</td><td> 24</td><td> 1</td><td> 30</td><td>30</td><td>5</td></tr>\n",
       "\t<tr><td> 44</td><td> 0</td><td> 86</td><td> 0</td><td> 44</td><td>  9</td><td>42</td><td> 42</td><td> 0</td><td>1</td></tr>\n",
       "\t<tr><td> 37</td><td> 0</td><td> 77</td><td> 2</td><td> 36</td><td> -1</td><td>39</td><td> 41</td><td> 2</td><td>1</td></tr>\n",
       "\t<tr><td> 37</td><td> 0</td><td> 78</td><td> 0</td><td> 36</td><td> -4</td><td>41</td><td> 42</td><td> 2</td><td>1</td></tr>\n",
       "\t<tr><td> 44</td><td> 0</td><td> 79</td><td> 0</td><td> 42</td><td>-14</td><td>35</td><td> 37</td><td> 2</td><td>1</td></tr>\n",
       "\t<tr><td> 55</td><td> 0</td><td> 82</td><td> 0</td><td>-18</td><td>  9</td><td>26</td><td>100</td><td>74</td><td>4</td></tr>\n",
       "\t<tr><td> 46</td><td> 4</td><td> 79</td><td> 0</td><td> 46</td><td> 19</td><td>33</td><td> 32</td><td> 0</td><td>1</td></tr>\n",
       "\t<tr><td> 42</td><td>-5</td><td> 99</td><td> 0</td><td> 42</td><td>  0</td><td>58</td><td> 58</td><td> 0</td><td>1</td></tr>\n",
       "\t<tr><td> 56</td><td> 0</td><td> 82</td><td> 0</td><td>-12</td><td>  1</td><td>26</td><td> 95</td><td>68</td><td>4</td></tr>\n",
       "\t<tr><td> 55</td><td> 0</td><td> 79</td><td> 0</td><td>  6</td><td>  8</td><td>23</td><td> 74</td><td>50</td><td>4</td></tr>\n",
       "\t<tr><td> 49</td><td> 4</td><td> 87</td><td> 0</td><td> 50</td><td> 27</td><td>38</td><td> 38</td><td> 0</td><td>1</td></tr>\n",
       "\t<tr><td>105</td><td> 5</td><td>106</td><td> 1</td><td> 70</td><td>  0</td><td> 1</td><td> 36</td><td>36</td><td>5</td></tr>\n",
       "\t<tr><td> 37</td><td> 0</td><td> 77</td><td> 0</td><td> 20</td><td>  2</td><td>40</td><td> 56</td><td>16</td><td>1</td></tr>\n",
       "\t<tr><td> 56</td><td> 0</td><td> 95</td><td> 0</td><td> 56</td><td>  1</td><td>40</td><td> 39</td><td> 0</td><td>1</td></tr>\n",
       "\t<tr><td> 45</td><td>-5</td><td> 82</td><td> 0</td><td> 44</td><td>  0</td><td>37</td><td> 38</td><td> 0</td><td>1</td></tr>\n",
       "\t<tr><td> 51</td><td> 0</td><td> 83</td><td> 0</td><td> 50</td><td> -7</td><td>32</td><td> 34</td><td> 2</td><td>1</td></tr>\n",
       "\t<tr><td>105</td><td>-1</td><td>107</td><td> 0</td><td> 70</td><td>  0</td><td> 1</td><td> 37</td><td>36</td><td>5</td></tr>\n",
       "\t<tr><td> 37</td><td>-1</td><td> 76</td><td> 0</td><td> 38</td><td>  6</td><td>39</td><td> 37</td><td> 0</td><td>1</td></tr>\n",
       "\t<tr><td> 45</td><td>-5</td><td> 90</td><td> 0</td><td> 44</td><td>-26</td><td>45</td><td> 46</td><td> 2</td><td>1</td></tr>\n",
       "\t<tr><td> 46</td><td> 5</td><td> 78</td><td> 0</td><td> 46</td><td>  5</td><td>32</td><td> 32</td><td> 0</td><td>1</td></tr>\n",
       "\t<tr><td> 37</td><td> 0</td><td> 79</td><td>-1</td><td> 10</td><td>  3</td><td>43</td><td> 69</td><td>26</td><td>1</td></tr>\n",
       "\t<tr><td> 48</td><td> 0</td><td> 78</td><td> 3</td><td> 46</td><td>  0</td><td>30</td><td> 32</td><td> 2</td><td>1</td></tr>\n",
       "\t<tr><td> 41</td><td> 0</td><td> 79</td><td> 0</td><td> 38</td><td>-25</td><td>38</td><td> 40</td><td> 2</td><td>1</td></tr>\n",
       "\t<tr><td> 40</td><td>-3</td><td>100</td><td> 0</td><td> 38</td><td>  0</td><td>61</td><td> 62</td><td> 2</td><td>1</td></tr>\n",
       "</tbody>\n",
       "</table>\n"
      ],
      "text/latex": [
       "A data.frame: 58000 × 10\n",
       "\\begin{tabular}{llllllllll}\n",
       " Rad\\_Flow & Fpv\\_Close & Fpv\\_Open & High & Bypass & Bpv\\_Close & Bpv\\_Open & Class & Unknown 1 & Unknown 2\\\\\n",
       " <int> & <int> & <int> & <int> & <int> & <int> & <int> & <int> & <int> & <int>\\\\\n",
       "\\hline\n",
       "\t 55 &  0 &  81 &  0 &  -6 &  11 & 25 & 88 & 64 & 4\\\\\n",
       "\t 56 &  0 &  96 &  0 &  52 &  -4 & 40 & 44 &  4 & 4\\\\\n",
       "\t 50 & -1 &  89 & -7 &  50 &   0 & 39 & 40 &  2 & 1\\\\\n",
       "\t 53 &  9 &  79 &  0 &  42 &  -2 & 25 & 37 & 12 & 4\\\\\n",
       "\t 55 &  2 &  82 &  0 &  54 &  -6 & 26 & 28 &  2 & 1\\\\\n",
       "\t 41 &  0 &  84 &  3 &  38 &  -4 & 43 & 45 &  2 & 1\\\\\n",
       "\t 37 &  0 & 100 &  0 &  36 &  -8 & 63 & 64 &  2 & 1\\\\\n",
       "\t 46 &  0 &  83 &  0 &  46 &   0 & 37 & 36 &  0 & 1\\\\\n",
       "\t 44 &  0 &  79 &  0 &  42 & -17 & 35 & 37 &  2 & 1\\\\\n",
       "\t 44 & -1 &  78 &  0 &  44 &   0 & 34 & 34 &  0 & 1\\\\\n",
       "\t 55 &  0 &  81 &  0 &  54 & -10 & 25 & 26 &  2 & 1\\\\\n",
       "\t 56 &  0 &  95 &  0 &  52 &  -3 & 40 & 44 &  4 & 4\\\\\n",
       "\t 37 &  0 & 100 &  0 &  34 &   6 & 64 & 67 &  4 & 1\\\\\n",
       "\t 43 & -3 &  86 &  2 &  44 &  14 & 43 & 42 &  0 & 1\\\\\n",
       "\t 46 & -5 &  84 &  0 &  46 &   0 & 38 & 37 &  0 & 1\\\\\n",
       "\t 45 &  0 &  81 &  0 &  44 &   0 & 36 & 37 &  0 & 1\\\\\n",
       "\t 48 &  0 &  86 &  0 &  50 &  30 & 38 & 37 &  0 & 1\\\\\n",
       "\t 56 &  0 &  78 &  0 &  42 &  -2 & 22 & 37 & 14 & 4\\\\\n",
       "\t 56 &  0 &  77 &  0 &  18 & -18 & 22 & 59 & 38 & 4\\\\\n",
       "\t 45 &  5 &  90 &  0 &  44 &   0 & 44 & 46 &  2 & 1\\\\\n",
       "\t 37 &  0 &  77 &  0 & -20 &  27 & 41 & 98 & 58 & 1\\\\\n",
       "\t 37 &  0 &  90 & -6 &  18 &   0 & 53 & 72 & 20 & 1\\\\\n",
       "\t 37 & -8 &  77 &  0 &  20 &   0 & 40 & 57 & 16 & 1\\\\\n",
       "\t 50 &  5 &  95 & -3 &  50 &   0 & 45 & 46 &  2 & 1\\\\\n",
       "\t 43 & -2 &  76 &  0 &  44 &  15 & 32 & 32 &  0 & 1\\\\\n",
       "\t 42 & -1 &  85 & -5 &  42 &   0 & 44 & 44 &  0 & 1\\\\\n",
       "\t 55 &  0 &  97 &  0 &  46 &  -2 & 42 & 51 &  8 & 4\\\\\n",
       "\t 37 &  0 &  76 &  0 &  26 &  20 & 39 & 50 & 12 & 1\\\\\n",
       "\t 37 &  0 &  76 &  8 &  30 &   0 & 40 & 45 &  6 & 1\\\\\n",
       "\t 45 &  0 & 106 &  0 &  46 &   9 & 61 & 60 &  0 & 1\\\\\n",
       "\t ⋮ & ⋮ & ⋮ & ⋮ & ⋮ & ⋮ & ⋮ & ⋮ & ⋮ & ⋮\\\\\n",
       "\t  50 &  4 &  88 &  0 &  50 &   0 & 38 &  39 &  2 & 1\\\\\n",
       "\t  43 & -4 & 106 &  0 &  42 &  -7 & 62 &  64 &  2 & 1\\\\\n",
       "\t  45 & -2 &  76 &  0 &  44 & -11 & 31 &  32 &  2 & 1\\\\\n",
       "\t  37 &  0 &  79 &  0 &  10 & 374 & 42 &  69 & 26 & 1\\\\\n",
       "\t  37 &  5 &  79 &  0 &  34 &   0 & 42 &  46 &  4 & 1\\\\\n",
       "\t  46 &  0 &  81 &  0 &  44 & -14 & 35 &  37 &  2 & 1\\\\\n",
       "\t 102 &  0 & 102 & -7 &  72 &  24 &  1 &  30 & 30 & 5\\\\\n",
       "\t  44 &  0 &  86 &  0 &  44 &   9 & 42 &  42 &  0 & 1\\\\\n",
       "\t  37 &  0 &  77 &  2 &  36 &  -1 & 39 &  41 &  2 & 1\\\\\n",
       "\t  37 &  0 &  78 &  0 &  36 &  -4 & 41 &  42 &  2 & 1\\\\\n",
       "\t  44 &  0 &  79 &  0 &  42 & -14 & 35 &  37 &  2 & 1\\\\\n",
       "\t  55 &  0 &  82 &  0 & -18 &   9 & 26 & 100 & 74 & 4\\\\\n",
       "\t  46 &  4 &  79 &  0 &  46 &  19 & 33 &  32 &  0 & 1\\\\\n",
       "\t  42 & -5 &  99 &  0 &  42 &   0 & 58 &  58 &  0 & 1\\\\\n",
       "\t  56 &  0 &  82 &  0 & -12 &   1 & 26 &  95 & 68 & 4\\\\\n",
       "\t  55 &  0 &  79 &  0 &   6 &   8 & 23 &  74 & 50 & 4\\\\\n",
       "\t  49 &  4 &  87 &  0 &  50 &  27 & 38 &  38 &  0 & 1\\\\\n",
       "\t 105 &  5 & 106 &  1 &  70 &   0 &  1 &  36 & 36 & 5\\\\\n",
       "\t  37 &  0 &  77 &  0 &  20 &   2 & 40 &  56 & 16 & 1\\\\\n",
       "\t  56 &  0 &  95 &  0 &  56 &   1 & 40 &  39 &  0 & 1\\\\\n",
       "\t  45 & -5 &  82 &  0 &  44 &   0 & 37 &  38 &  0 & 1\\\\\n",
       "\t  51 &  0 &  83 &  0 &  50 &  -7 & 32 &  34 &  2 & 1\\\\\n",
       "\t 105 & -1 & 107 &  0 &  70 &   0 &  1 &  37 & 36 & 5\\\\\n",
       "\t  37 & -1 &  76 &  0 &  38 &   6 & 39 &  37 &  0 & 1\\\\\n",
       "\t  45 & -5 &  90 &  0 &  44 & -26 & 45 &  46 &  2 & 1\\\\\n",
       "\t  46 &  5 &  78 &  0 &  46 &   5 & 32 &  32 &  0 & 1\\\\\n",
       "\t  37 &  0 &  79 & -1 &  10 &   3 & 43 &  69 & 26 & 1\\\\\n",
       "\t  48 &  0 &  78 &  3 &  46 &   0 & 30 &  32 &  2 & 1\\\\\n",
       "\t  41 &  0 &  79 &  0 &  38 & -25 & 38 &  40 &  2 & 1\\\\\n",
       "\t  40 & -3 & 100 &  0 &  38 &   0 & 61 &  62 &  2 & 1\\\\\n",
       "\\end{tabular}\n"
      ],
      "text/markdown": [
       "\n",
       "A data.frame: 58000 × 10\n",
       "\n",
       "| Rad_Flow &lt;int&gt; | Fpv_Close &lt;int&gt; | Fpv_Open &lt;int&gt; | High &lt;int&gt; | Bypass &lt;int&gt; | Bpv_Close &lt;int&gt; | Bpv_Open &lt;int&gt; | Class &lt;int&gt; | Unknown 1 &lt;int&gt; | Unknown 2 &lt;int&gt; |\n",
       "|---|---|---|---|---|---|---|---|---|---|\n",
       "| 55 |  0 |  81 |  0 |  -6 |  11 | 25 | 88 | 64 | 4 |\n",
       "| 56 |  0 |  96 |  0 |  52 |  -4 | 40 | 44 |  4 | 4 |\n",
       "| 50 | -1 |  89 | -7 |  50 |   0 | 39 | 40 |  2 | 1 |\n",
       "| 53 |  9 |  79 |  0 |  42 |  -2 | 25 | 37 | 12 | 4 |\n",
       "| 55 |  2 |  82 |  0 |  54 |  -6 | 26 | 28 |  2 | 1 |\n",
       "| 41 |  0 |  84 |  3 |  38 |  -4 | 43 | 45 |  2 | 1 |\n",
       "| 37 |  0 | 100 |  0 |  36 |  -8 | 63 | 64 |  2 | 1 |\n",
       "| 46 |  0 |  83 |  0 |  46 |   0 | 37 | 36 |  0 | 1 |\n",
       "| 44 |  0 |  79 |  0 |  42 | -17 | 35 | 37 |  2 | 1 |\n",
       "| 44 | -1 |  78 |  0 |  44 |   0 | 34 | 34 |  0 | 1 |\n",
       "| 55 |  0 |  81 |  0 |  54 | -10 | 25 | 26 |  2 | 1 |\n",
       "| 56 |  0 |  95 |  0 |  52 |  -3 | 40 | 44 |  4 | 4 |\n",
       "| 37 |  0 | 100 |  0 |  34 |   6 | 64 | 67 |  4 | 1 |\n",
       "| 43 | -3 |  86 |  2 |  44 |  14 | 43 | 42 |  0 | 1 |\n",
       "| 46 | -5 |  84 |  0 |  46 |   0 | 38 | 37 |  0 | 1 |\n",
       "| 45 |  0 |  81 |  0 |  44 |   0 | 36 | 37 |  0 | 1 |\n",
       "| 48 |  0 |  86 |  0 |  50 |  30 | 38 | 37 |  0 | 1 |\n",
       "| 56 |  0 |  78 |  0 |  42 |  -2 | 22 | 37 | 14 | 4 |\n",
       "| 56 |  0 |  77 |  0 |  18 | -18 | 22 | 59 | 38 | 4 |\n",
       "| 45 |  5 |  90 |  0 |  44 |   0 | 44 | 46 |  2 | 1 |\n",
       "| 37 |  0 |  77 |  0 | -20 |  27 | 41 | 98 | 58 | 1 |\n",
       "| 37 |  0 |  90 | -6 |  18 |   0 | 53 | 72 | 20 | 1 |\n",
       "| 37 | -8 |  77 |  0 |  20 |   0 | 40 | 57 | 16 | 1 |\n",
       "| 50 |  5 |  95 | -3 |  50 |   0 | 45 | 46 |  2 | 1 |\n",
       "| 43 | -2 |  76 |  0 |  44 |  15 | 32 | 32 |  0 | 1 |\n",
       "| 42 | -1 |  85 | -5 |  42 |   0 | 44 | 44 |  0 | 1 |\n",
       "| 55 |  0 |  97 |  0 |  46 |  -2 | 42 | 51 |  8 | 4 |\n",
       "| 37 |  0 |  76 |  0 |  26 |  20 | 39 | 50 | 12 | 1 |\n",
       "| 37 |  0 |  76 |  8 |  30 |   0 | 40 | 45 |  6 | 1 |\n",
       "| 45 |  0 | 106 |  0 |  46 |   9 | 61 | 60 |  0 | 1 |\n",
       "| ⋮ | ⋮ | ⋮ | ⋮ | ⋮ | ⋮ | ⋮ | ⋮ | ⋮ | ⋮ |\n",
       "|  50 |  4 |  88 |  0 |  50 |   0 | 38 |  39 |  2 | 1 |\n",
       "|  43 | -4 | 106 |  0 |  42 |  -7 | 62 |  64 |  2 | 1 |\n",
       "|  45 | -2 |  76 |  0 |  44 | -11 | 31 |  32 |  2 | 1 |\n",
       "|  37 |  0 |  79 |  0 |  10 | 374 | 42 |  69 | 26 | 1 |\n",
       "|  37 |  5 |  79 |  0 |  34 |   0 | 42 |  46 |  4 | 1 |\n",
       "|  46 |  0 |  81 |  0 |  44 | -14 | 35 |  37 |  2 | 1 |\n",
       "| 102 |  0 | 102 | -7 |  72 |  24 |  1 |  30 | 30 | 5 |\n",
       "|  44 |  0 |  86 |  0 |  44 |   9 | 42 |  42 |  0 | 1 |\n",
       "|  37 |  0 |  77 |  2 |  36 |  -1 | 39 |  41 |  2 | 1 |\n",
       "|  37 |  0 |  78 |  0 |  36 |  -4 | 41 |  42 |  2 | 1 |\n",
       "|  44 |  0 |  79 |  0 |  42 | -14 | 35 |  37 |  2 | 1 |\n",
       "|  55 |  0 |  82 |  0 | -18 |   9 | 26 | 100 | 74 | 4 |\n",
       "|  46 |  4 |  79 |  0 |  46 |  19 | 33 |  32 |  0 | 1 |\n",
       "|  42 | -5 |  99 |  0 |  42 |   0 | 58 |  58 |  0 | 1 |\n",
       "|  56 |  0 |  82 |  0 | -12 |   1 | 26 |  95 | 68 | 4 |\n",
       "|  55 |  0 |  79 |  0 |   6 |   8 | 23 |  74 | 50 | 4 |\n",
       "|  49 |  4 |  87 |  0 |  50 |  27 | 38 |  38 |  0 | 1 |\n",
       "| 105 |  5 | 106 |  1 |  70 |   0 |  1 |  36 | 36 | 5 |\n",
       "|  37 |  0 |  77 |  0 |  20 |   2 | 40 |  56 | 16 | 1 |\n",
       "|  56 |  0 |  95 |  0 |  56 |   1 | 40 |  39 |  0 | 1 |\n",
       "|  45 | -5 |  82 |  0 |  44 |   0 | 37 |  38 |  0 | 1 |\n",
       "|  51 |  0 |  83 |  0 |  50 |  -7 | 32 |  34 |  2 | 1 |\n",
       "| 105 | -1 | 107 |  0 |  70 |   0 |  1 |  37 | 36 | 5 |\n",
       "|  37 | -1 |  76 |  0 |  38 |   6 | 39 |  37 |  0 | 1 |\n",
       "|  45 | -5 |  90 |  0 |  44 | -26 | 45 |  46 |  2 | 1 |\n",
       "|  46 |  5 |  78 |  0 |  46 |   5 | 32 |  32 |  0 | 1 |\n",
       "|  37 |  0 |  79 | -1 |  10 |   3 | 43 |  69 | 26 | 1 |\n",
       "|  48 |  0 |  78 |  3 |  46 |   0 | 30 |  32 |  2 | 1 |\n",
       "|  41 |  0 |  79 |  0 |  38 | -25 | 38 |  40 |  2 | 1 |\n",
       "|  40 | -3 | 100 |  0 |  38 |   0 | 61 |  62 |  2 | 1 |\n",
       "\n"
      ],
      "text/plain": [
       "      Rad_Flow Fpv_Close Fpv_Open High Bypass Bpv_Close Bpv_Open Class\n",
       "1     55        0         81       0    -6     11       25       88   \n",
       "2     56        0         96       0    52     -4       40       44   \n",
       "3     50       -1         89      -7    50      0       39       40   \n",
       "4     53        9         79       0    42     -2       25       37   \n",
       "5     55        2         82       0    54     -6       26       28   \n",
       "6     41        0         84       3    38     -4       43       45   \n",
       "7     37        0        100       0    36     -8       63       64   \n",
       "8     46        0         83       0    46      0       37       36   \n",
       "9     44        0         79       0    42    -17       35       37   \n",
       "10    44       -1         78       0    44      0       34       34   \n",
       "11    55        0         81       0    54    -10       25       26   \n",
       "12    56        0         95       0    52     -3       40       44   \n",
       "13    37        0        100       0    34      6       64       67   \n",
       "14    43       -3         86       2    44     14       43       42   \n",
       "15    46       -5         84       0    46      0       38       37   \n",
       "16    45        0         81       0    44      0       36       37   \n",
       "17    48        0         86       0    50     30       38       37   \n",
       "18    56        0         78       0    42     -2       22       37   \n",
       "19    56        0         77       0    18    -18       22       59   \n",
       "20    45        5         90       0    44      0       44       46   \n",
       "21    37        0         77       0   -20     27       41       98   \n",
       "22    37        0         90      -6    18      0       53       72   \n",
       "23    37       -8         77       0    20      0       40       57   \n",
       "24    50        5         95      -3    50      0       45       46   \n",
       "25    43       -2         76       0    44     15       32       32   \n",
       "26    42       -1         85      -5    42      0       44       44   \n",
       "27    55        0         97       0    46     -2       42       51   \n",
       "28    37        0         76       0    26     20       39       50   \n",
       "29    37        0         76       8    30      0       40       45   \n",
       "30    45        0        106       0    46      9       61       60   \n",
       "⋮     ⋮        ⋮         ⋮        ⋮    ⋮      ⋮         ⋮        ⋮    \n",
       "57971  50       4         88       0    50      0       38        39  \n",
       "57972  43      -4        106       0    42     -7       62        64  \n",
       "57973  45      -2         76       0    44    -11       31        32  \n",
       "57974  37       0         79       0    10    374       42        69  \n",
       "57975  37       5         79       0    34      0       42        46  \n",
       "57976  46       0         81       0    44    -14       35        37  \n",
       "57977 102       0        102      -7    72     24        1        30  \n",
       "57978  44       0         86       0    44      9       42        42  \n",
       "57979  37       0         77       2    36     -1       39        41  \n",
       "57980  37       0         78       0    36     -4       41        42  \n",
       "57981  44       0         79       0    42    -14       35        37  \n",
       "57982  55       0         82       0   -18      9       26       100  \n",
       "57983  46       4         79       0    46     19       33        32  \n",
       "57984  42      -5         99       0    42      0       58        58  \n",
       "57985  56       0         82       0   -12      1       26        95  \n",
       "57986  55       0         79       0     6      8       23        74  \n",
       "57987  49       4         87       0    50     27       38        38  \n",
       "57988 105       5        106       1    70      0        1        36  \n",
       "57989  37       0         77       0    20      2       40        56  \n",
       "57990  56       0         95       0    56      1       40        39  \n",
       "57991  45      -5         82       0    44      0       37        38  \n",
       "57992  51       0         83       0    50     -7       32        34  \n",
       "57993 105      -1        107       0    70      0        1        37  \n",
       "57994  37      -1         76       0    38      6       39        37  \n",
       "57995  45      -5         90       0    44    -26       45        46  \n",
       "57996  46       5         78       0    46      5       32        32  \n",
       "57997  37       0         79      -1    10      3       43        69  \n",
       "57998  48       0         78       3    46      0       30        32  \n",
       "57999  41       0         79       0    38    -25       38        40  \n",
       "58000  40      -3        100       0    38      0       61        62  \n",
       "      Unknown 1 Unknown 2\n",
       "1     64        4        \n",
       "2      4        4        \n",
       "3      2        1        \n",
       "4     12        4        \n",
       "5      2        1        \n",
       "6      2        1        \n",
       "7      2        1        \n",
       "8      0        1        \n",
       "9      2        1        \n",
       "10     0        1        \n",
       "11     2        1        \n",
       "12     4        4        \n",
       "13     4        1        \n",
       "14     0        1        \n",
       "15     0        1        \n",
       "16     0        1        \n",
       "17     0        1        \n",
       "18    14        4        \n",
       "19    38        4        \n",
       "20     2        1        \n",
       "21    58        1        \n",
       "22    20        1        \n",
       "23    16        1        \n",
       "24     2        1        \n",
       "25     0        1        \n",
       "26     0        1        \n",
       "27     8        4        \n",
       "28    12        1        \n",
       "29     6        1        \n",
       "30     0        1        \n",
       "⋮     ⋮         ⋮        \n",
       "57971  2        1        \n",
       "57972  2        1        \n",
       "57973  2        1        \n",
       "57974 26        1        \n",
       "57975  4        1        \n",
       "57976  2        1        \n",
       "57977 30        5        \n",
       "57978  0        1        \n",
       "57979  2        1        \n",
       "57980  2        1        \n",
       "57981  2        1        \n",
       "57982 74        4        \n",
       "57983  0        1        \n",
       "57984  0        1        \n",
       "57985 68        4        \n",
       "57986 50        4        \n",
       "57987  0        1        \n",
       "57988 36        5        \n",
       "57989 16        1        \n",
       "57990  0        1        \n",
       "57991  0        1        \n",
       "57992  2        1        \n",
       "57993 36        5        \n",
       "57994  0        1        \n",
       "57995  2        1        \n",
       "57996  0        1        \n",
       "57997 26        1        \n",
       "57998  2        1        \n",
       "57999  2        1        \n",
       "58000  2        1        "
      ]
     },
     "metadata": {},
     "output_type": "display_data"
    }
   ],
   "source": [
    "# Concatenate and reindex Staloga and Stalogb in Stalog\n",
    "\n",
    "stalog <- rbind(staloga, stalogb) # Add Staloga and Stalogb to Stalog as a single dataset\n",
    "\n",
    "# Reset row names/index of the combined stalog\n",
    "rownames(stalog) <- NULL\n",
    "stalog # View the new data.frame Stalog\n"
   ]
  },
  {
   "cell_type": "markdown",
   "id": "a31ce7ad",
   "metadata": {},
   "source": [
    "# **CHARACTERISTICS (DATA ATTRIBUTES)**"
   ]
  },
  {
   "cell_type": "markdown",
   "id": "d307b178",
   "metadata": {},
   "source": [
    " **I.\tNumber of independent and dependent variables**"
   ]
  },
  {
   "cell_type": "code",
   "execution_count": 9,
   "id": "154e3309",
   "metadata": {},
   "outputs": [
    {
     "name": "stdout",
     "output_type": "stream",
     "text": [
      "[1] \"Number of independent variables: 9\"\n",
      "[1] \"Number of dependent variables: 1\"\n"
     ]
    }
   ],
   "source": [
    "# Display the number of Dependent and Independent variables\n",
    "\n",
    "independent_variables <- ncol(stalog) - 1  # Number of independent variables in stalog\n",
    "dependent_variables <- 1  # Number of dependent variables in stalog\n",
    "\n",
    "# The results\n",
    "print(paste(\"Number of independent variables:\", independent_variables))\n",
    "print(paste(\"Number of dependent variables:\", dependent_variables))\n"
   ]
  },
  {
   "cell_type": "markdown",
   "id": "e65c9658",
   "metadata": {},
   "source": [
    "**II. Number of records**"
   ]
  },
  {
   "cell_type": "code",
   "execution_count": 10,
   "id": "e7ac9fdd",
   "metadata": {},
   "outputs": [
    {
     "name": "stdout",
     "output_type": "stream",
     "text": [
      "[1] \"Number of records: 58000\"\n",
      "[1] \"Number of columns: 10\"\n"
     ]
    },
    {
     "data": {
      "text/html": [
       "<style>\n",
       ".list-inline {list-style: none; margin:0; padding: 0}\n",
       ".list-inline>li {display: inline-block}\n",
       ".list-inline>li:not(:last-child)::after {content: \"\\00b7\"; padding: 0 .5ex}\n",
       "</style>\n",
       "<ol class=list-inline><li>'Rad_Flow'</li><li>'Fpv_Close'</li><li>'Fpv_Open'</li><li>'High'</li><li>'Bypass'</li><li>'Bpv_Close'</li><li>'Bpv_Open'</li><li>'Class'</li><li>'Unknown 1'</li><li>'Unknown 2'</li></ol>\n"
      ],
      "text/latex": [
       "\\begin{enumerate*}\n",
       "\\item 'Rad\\_Flow'\n",
       "\\item 'Fpv\\_Close'\n",
       "\\item 'Fpv\\_Open'\n",
       "\\item 'High'\n",
       "\\item 'Bypass'\n",
       "\\item 'Bpv\\_Close'\n",
       "\\item 'Bpv\\_Open'\n",
       "\\item 'Class'\n",
       "\\item 'Unknown 1'\n",
       "\\item 'Unknown 2'\n",
       "\\end{enumerate*}\n"
      ],
      "text/markdown": [
       "1. 'Rad_Flow'\n",
       "2. 'Fpv_Close'\n",
       "3. 'Fpv_Open'\n",
       "4. 'High'\n",
       "5. 'Bypass'\n",
       "6. 'Bpv_Close'\n",
       "7. 'Bpv_Open'\n",
       "8. 'Class'\n",
       "9. 'Unknown 1'\n",
       "10. 'Unknown 2'\n",
       "\n",
       "\n"
      ],
      "text/plain": [
       " [1] \"Rad_Flow\"  \"Fpv_Close\" \"Fpv_Open\"  \"High\"      \"Bypass\"    \"Bpv_Close\"\n",
       " [7] \"Bpv_Open\"  \"Class\"     \"Unknown 1\" \"Unknown 2\""
      ]
     },
     "metadata": {},
     "output_type": "display_data"
    }
   ],
   "source": [
    "# Get the number of Rows, Columns, and Names in Stalog\n",
    "\n",
    "print(paste(\"Number of records:\", nrow(stalog))) # the number of Rows in Stalog\n",
    "print(paste(\"Number of columns:\", ncol(stalog))) # the number of Columns in Stalog\n",
    "names(stalog) # Get all column names in Stalog"
   ]
  },
  {
   "cell_type": "markdown",
   "id": "d6dc5cb3",
   "metadata": {},
   "source": [
    "**III.\tData types of combination-> Binary, nominal, categorical, textual, numerical**"
   ]
  },
  {
   "cell_type": "code",
   "execution_count": 11,
   "id": "fd5d4963-269f-494e-b3d8-b8d8f485b90a",
   "metadata": {},
   "outputs": [
    {
     "name": "stdout",
     "output_type": "stream",
     "text": [
      "'data.frame':\t58000 obs. of  10 variables:\n",
      " $ Rad_Flow : int  55 56 50 53 55 41 37 46 44 44 ...\n",
      " $ Fpv_Close: int  0 0 -1 9 2 0 0 0 0 -1 ...\n",
      " $ Fpv_Open : int  81 96 89 79 82 84 100 83 79 78 ...\n",
      " $ High     : int  0 0 -7 0 0 3 0 0 0 0 ...\n",
      " $ Bypass   : int  -6 52 50 42 54 38 36 46 42 44 ...\n",
      " $ Bpv_Close: int  11 -4 0 -2 -6 -4 -8 0 -17 0 ...\n",
      " $ Bpv_Open : int  25 40 39 25 26 43 63 37 35 34 ...\n",
      " $ Class    : int  88 44 40 37 28 45 64 36 37 34 ...\n",
      " $ Unknown 1: int  64 4 2 12 2 2 2 0 2 0 ...\n",
      " $ Unknown 2: int  4 4 1 4 1 1 1 1 1 1 ...\n"
     ]
    }
   ],
   "source": [
    "# Get the structure of Stalog\n",
    "\n",
    "str(stalog) # Get the structure of Stalog"
   ]
  },
  {
   "cell_type": "code",
   "execution_count": 12,
   "id": "e6c6a76f",
   "metadata": {},
   "outputs": [
    {
     "name": "stdout",
     "output_type": "stream",
     "text": [
      "[1] \"Binary Variables in Stalog: \"\n",
      "[1] \"Nominal Variables in Stalog: \"\n",
      "[1] \"Numerical Variables in Stalog: Rad_Flow, Fpv_Close, Fpv_Open, High, Bypass, Bpv_Close, Bpv_Open, Class, Unknown 1, Unknown 2\"\n",
      "[1] \"Categorical Variables in Stalog: \"\n"
     ]
    }
   ],
   "source": [
    "# Get all datatype combination of all variables in Stalog\n",
    "\n",
    "# Get variables type in Stalog\n",
    "variable_types <- sapply(stalog, class)\n",
    "\n",
    "# Variables based on data type combinations\n",
    "Nominal_Variables <- names(variable_types)[variable_types == \"factor\"] # Nominal Variables in Stalog\n",
    "Categorical_Variables <- names(variable_types)[variable_types == \"character\"] # Categorical Variables in Stalog\n",
    "Binary_Variables <- names(variable_types)[variable_types == \"logical\"] # Binary Variables in Stalog\n",
    "Numerical_Variables <- names(variable_types)[variable_types %in% c(\"numeric\", \"integer\")] # Numerical Variables in Stalog\n",
    "\n",
    "# The results\n",
    "print(paste(\"Binary Variables in Stalog:\", paste(Binary_Variables, collapse = \", \")))\n",
    "print(paste(\"Nominal Variables in Stalog:\", paste(Nominal_Variables, collapse = \", \")))\n",
    "print(paste(\"Numerical Variables in Stalog:\", paste(Numerical_Variables, collapse = \", \")))\n",
    "print(paste(\"Categorical Variables in Stalog:\", paste(Categorical_Variables, collapse = \", \")))"
   ]
  },
  {
   "cell_type": "markdown",
   "id": "a908c342",
   "metadata": {},
   "source": [
    "**IV.\tSummary of numerical variables: min, max, mean, median, quartiles, NA'S**"
   ]
  },
  {
   "cell_type": "code",
   "execution_count": 13,
   "id": "d10daec4",
   "metadata": {},
   "outputs": [
    {
     "data": {
      "text/plain": [
       "    Rad_Flow        Fpv_Close            Fpv_Open           High         \n",
       " Min.   : 27.00   Min.   :-4821.000   Min.   : 21.00   Min.   :-3939.00  \n",
       " 1st Qu.: 38.00   1st Qu.:    0.000   1st Qu.: 79.00   1st Qu.:    0.00  \n",
       " Median : 45.00   Median :    0.000   Median : 83.00   Median :    0.00  \n",
       " Mean   : 48.24   Mean   :   -0.019   Mean   : 85.35   Mean   :    0.26  \n",
       " 3rd Qu.: 55.00   3rd Qu.:    0.000   3rd Qu.: 89.00   3rd Qu.:    0.00  \n",
       " Max.   :126.00   Max.   : 5075.000   Max.   :149.00   Max.   : 3830.00  \n",
       "     Bypass          Bpv_Close             Bpv_Open          Class        \n",
       " Min.   :-188.00   Min.   :-26739.000   Min.   :-48.00   Min.   :-353.00  \n",
       " 1st Qu.:  26.00   1st Qu.:    -5.000   1st Qu.: 32.00   1st Qu.:  37.00  \n",
       " Median :  42.00   Median :     0.000   Median : 39.00   Median :  44.00  \n",
       " Mean   :  34.55   Mean   :     1.608   Mean   : 37.09   Mean   :  50.88  \n",
       " 3rd Qu.:  46.00   3rd Qu.:     5.000   3rd Qu.: 42.00   3rd Qu.:  60.00  \n",
       " Max.   : 436.00   Max.   : 15164.000   Max.   :105.00   Max.   : 270.00  \n",
       "   Unknown 1         Unknown 2    \n",
       " Min.   :-356.00   Min.   :1.000  \n",
       " 1st Qu.:   0.00   1st Qu.:1.000  \n",
       " Median :   2.00   Median :1.000  \n",
       " Mean   :  13.93   Mean   :1.695  \n",
       " 3rd Qu.:  14.00   3rd Qu.:1.000  \n",
       " Max.   : 266.00   Max.   :7.000  "
      ]
     },
     "metadata": {},
     "output_type": "display_data"
    }
   ],
   "source": [
    "# Get all Numerical descriptive statistics information about Stalog\n",
    "\n",
    "summary(stalog) # Get all descriptive statistics information in Stalog"
   ]
  },
  {
   "cell_type": "markdown",
   "id": "49a485a5-bc88-4d8b-a65f-4aec03825913",
   "metadata": {},
   "source": [
    "# **CHARACTERISTICS (DATA CLEANING)**"
   ]
  },
  {
   "cell_type": "markdown",
   "id": "7f349d57",
   "metadata": {},
   "source": [
    "**Remove Inrelevant Variables**"
   ]
  },
  {
   "cell_type": "code",
   "execution_count": 14,
   "id": "606f6e65",
   "metadata": {},
   "outputs": [],
   "source": [
    "# Drop the colums \"Unknown 1\" and \"Unknown 2\" in Stalog \n",
    "\n",
    "clean_stalog <- stalog[, -c(ncol(stalog) - 1, ncol(stalog))]  # Remove the last two columns"
   ]
  },
  {
   "cell_type": "markdown",
   "id": "a0538fc0",
   "metadata": {},
   "source": [
    "**V) ai. CHECK NUMBER AND PROPORTION OF IRRELEVANT VARIABLES REMOVED**"
   ]
  },
  {
   "cell_type": "code",
   "execution_count": 15,
   "id": "57c72fbb",
   "metadata": {},
   "outputs": [
    {
     "name": "stdout",
     "output_type": "stream",
     "text": [
      "[1] \"Number of irrelevant variables removed: 2\"\n",
      "[1] \"Proportion of irrelevant variables removed: 0.2\"\n"
     ]
    }
   ],
   "source": [
    "# Number of variables before and after removal\n",
    "\n",
    "check_variables_before <- ncol(stalog)\n",
    "check_variables_after <- length(clean_stalog)\n",
    "\n",
    "# Number and proportion of irrelevant variables removed\n",
    "recheck_irrelevant_variables_removed <- check_variables_before - check_variables_after\n",
    "proportion_irrelevant_variables_removed <- recheck_irrelevant_variables_removed / check_variables_before\n",
    "\n",
    "# Print number and proportion of irrelevant variables removed\n",
    "print(paste(\"Number of irrelevant variables removed:\", recheck_irrelevant_variables_removed))\n",
    "print(paste(\"Proportion of irrelevant variables removed:\", proportion_irrelevant_variables_removed))\n"
   ]
  },
  {
   "cell_type": "markdown",
   "id": "f32ec4ed-d4d6-4037-a66e-44a7ac655a9a",
   "metadata": {},
   "source": [
    "**V) b. CHECK TO REMOVE NUMBER AND PROPORTION OF DUPLICATES VAlUES**"
   ]
  },
  {
   "cell_type": "code",
   "execution_count": 16,
   "id": "aae93172",
   "metadata": {},
   "outputs": [
    {
     "name": "stdout",
     "output_type": "stream",
     "text": [
      "[1] \"Number of duplicate rows: 1610\"\n",
      "[1] \"Proportion of duplicate rows: 0.0277586206896552\"\n"
     ]
    }
   ],
   "source": [
    "# CHECK NUMBER AND PROPORTION OF DUPLICATES VAlUES \n",
    "\n",
    "# Check for duplicate rows in clean_stalog\n",
    "check_duplicates <- sum(duplicated(clean_stalog) | duplicated(clean_stalog, fromLast = TRUE))\n",
    "print(paste(\"Number of duplicate rows:\", check_duplicates))\n",
    "print(paste(\"Proportion of duplicate rows:\", check_duplicates / nrow(clean_stalog)))"
   ]
  },
  {
   "cell_type": "code",
   "execution_count": 17,
   "id": "4e564d47-06cc-4f64-850b-dd2ff747ee68",
   "metadata": {},
   "outputs": [],
   "source": [
    "# REMOVE NUMBER AND PROPORTION OF DUPLICATES VAlUES\n",
    "\n",
    "clean_stalog<- clean_stalog[!duplicated(clean_stalog) & !duplicated(clean_stalog, fromLast = TRUE), ] # Remove duplicate values in Slean_stalog"
   ]
  },
  {
   "cell_type": "code",
   "execution_count": 18,
   "id": "87643699-0346-4a0d-8890-82e1923ad8f9",
   "metadata": {},
   "outputs": [
    {
     "name": "stdout",
     "output_type": "stream",
     "text": [
      "[1] \"Number of duplicate rows: 0\"\n",
      "[1] \"Proportion of duplicate rows: 0\"\n"
     ]
    }
   ],
   "source": [
    "# RECHECK FOR NUMBER AND PROPORTION OF DUPLICATES VAlUES\n",
    "\n",
    "recheck_duplicates <- sum(duplicated(clean_stalog) | duplicated(clean_stalog, fromLast = TRUE))\n",
    "print(paste(\"Number of duplicate rows:\", recheck_duplicates))\n",
    "print(paste(\"Proportion of duplicate rows:\", recheck_duplicates / nrow(clean_stalog)))"
   ]
  },
  {
   "cell_type": "markdown",
   "id": "ef854faa-22ab-45c0-b5cd-5cb1d76b1d56",
   "metadata": {},
   "source": [
    "**V) C. CHECK TO REMOVE NUMBER AND PROPORTION OF MISSING VALUES**"
   ]
  },
  {
   "cell_type": "code",
   "execution_count": 19,
   "id": "7256f009-3374-4114-bcab-e6312815b003",
   "metadata": {},
   "outputs": [
    {
     "name": "stdout",
     "output_type": "stream",
     "text": [
      "[1] \"Number of missing values: 0\"\n",
      "[1] \"Proportion of missing values: 0\"\n"
     ]
    }
   ],
   "source": [
    "# CHECK FOR NUMBER AND PROPORTION OF MISSING VAlUES\n",
    "\n",
    "check_missing_values <- sum(colSums(is.na(clean_stalog)) > 0)\n",
    "print(paste(\"Number of missing values:\", check_missing_values))\n",
    "print(paste(\"Proportion of missing values:\", check_missing_values / (nrow(clean_stalog) * ncol(clean_stalog))))"
   ]
  },
  {
   "cell_type": "code",
   "execution_count": 20,
   "id": "1f3fbe10-8751-49b7-b7a2-624131deb812",
   "metadata": {},
   "outputs": [],
   "source": [
    "# REMOVE NUMBER AND PROPORTION OF MISSING VAlUES\n",
    "\n",
    "# stalog <- na.omit(clean_stalog) # Remove missing values by omitting them Stalog\n"
   ]
  },
  {
   "cell_type": "markdown",
   "id": "b27e2bd0-06c8-41df-80b5-26a9364d554d",
   "metadata": {},
   "source": [
    "**V). d. CHECK TO REMOVE NUMBER AND PROPORTION OF OUTLIER**"
   ]
  },
  {
   "cell_type": "code",
   "execution_count": 21,
   "id": "cb1968b9-4cfa-4f2c-97ca-aa205348c58b",
   "metadata": {},
   "outputs": [
    {
     "data": {
      "image/png": "[encoded data removed]",
      "text/plain": [
       "Plot with title \"Boxplot clean_Stalog\""
      ]
     },
     "metadata": {
      "image/png": {
       "height": 420,
       "width": 420
      }
     },
     "output_type": "display_data"
    }
   ],
   "source": [
    "# CREATING A BOX-PLOT TO DISPLAY OUTLIERS \n",
    "\n",
    "boxtplot_clean_stalog<- as.data.frame(scale(clean_stalog))\n",
    "\n",
    "# Boxplot to visualize the distribution of each column\n",
    "boxplot(boxtplot_clean_stalog, outline = TRUE, main = \"Boxplot clean_Stalog\", las = 2)"
   ]
  },
  {
   "cell_type": "code",
   "execution_count": 22,
   "id": "d218d2bd-4da2-404b-a5f8-7478c0b4a11b",
   "metadata": {},
   "outputs": [
    {
     "name": "stdout",
     "output_type": "stream",
     "text": [
      "[1] \"Number of outliers: 66382\"\n",
      "[1] \"Proportion of outliers: 0.147149317254832\"\n"
     ]
    }
   ],
   "source": [
    "# Check for outliers using the IQR method\n",
    "# Identify numeric columns\n",
    "numeric_columns <- sapply(clean_stalog, is.numeric)\n",
    "\n",
    "# Check for outliers using the IQR method\n",
    "total_outliers <- 0\n",
    "total_values <- 0\n",
    "\n",
    "for (column in clean_stalog[numeric_columns]) {\n",
    "  q75 <- quantile(column, 0.75, na.rm = TRUE)\n",
    "  q25 <- quantile(column, 0.25, na.rm = TRUE)\n",
    "  iqr <- q75 - q25\n",
    "  outlier_rows <- sum(column < (q25 - 1.5 * iqr) | column > (q75 + 1.5 * iqr))\n",
    "  total_outliers <- total_outliers + outlier_rows\n",
    "  total_values <- total_values + length(column)\n",
    "}\n",
    "\n",
    "proportion_outliers <- total_outliers / total_values\n",
    "\n",
    "print(paste(\"Number of outliers:\", total_outliers))\n",
    "print(paste(\"Proportion of outliers:\", proportion_outliers))"
   ]
  },
  {
   "cell_type": "code",
   "execution_count": 23,
   "id": "5cadde52-f3f7-4c79-aca7-ff179684ad94",
   "metadata": {},
   "outputs": [],
   "source": [
    "# Remove entire rows where any numeric column is an outlier\n",
    "stalog_cleaned <- clean_stalog\n",
    "for (col in numeric_columns) {\n",
    "  q75 <- quantile(clean_stalog[[col]], 0.75, na.rm = TRUE)\n",
    "  q25 <- quantile(clean_stalog[[col]], 0.25, na.rm = TRUE)\n",
    "  iqr <- q75 - q25\n",
    "  lower_bound <- q25 - 1.5 * iqr\n",
    "  upper_bound <- q75 + 1.5 * iqr\n",
    "  # Keep rows that are within the bounds\n",
    "  stalog_cleaned <- stalog_cleaned[stalog_cleaned[[col]] >= lower_bound & stalog_cleaned[[col]] <= upper_bound, ]\n",
    "}"
   ]
  },
  {
   "cell_type": "code",
   "execution_count": 24,
   "id": "be22312d-4097-4d37-b4c9-0f06646f43a9",
   "metadata": {},
   "outputs": [
    {
     "name": "stdout",
     "output_type": "stream",
     "text": [
      "'data.frame':\t53847 obs. of  8 variables:\n",
      " $ Rad_Flow : int  55 56 50 53 55 41 37 46 44 44 ...\n",
      " $ Fpv_Close: int  0 0 -1 9 2 0 0 0 0 -1 ...\n",
      " $ Fpv_Open : int  81 96 89 79 82 84 100 83 79 78 ...\n",
      " $ High     : int  0 0 -7 0 0 3 0 0 0 0 ...\n",
      " $ Bypass   : int  -6 52 50 42 54 38 36 46 42 44 ...\n",
      " $ Bpv_Close: int  11 -4 0 -2 -6 -4 -8 0 -17 0 ...\n",
      " $ Bpv_Open : int  25 40 39 25 26 43 63 37 35 34 ...\n",
      " $ Class    : int  88 44 40 37 28 45 64 36 37 34 ...\n"
     ]
    }
   ],
   "source": [
    "str(stalog_cleaned)"
   ]
  },
  {
   "cell_type": "markdown",
   "id": "1dd9cebc-ea6e-43ef-b966-485c33b3048d",
   "metadata": {},
   "source": [
    "**FEATURE ENGINEERING**"
   ]
  },
  {
   "cell_type": "code",
   "execution_count": 25,
   "id": "8e002f55-88d2-47be-9c17-2c3bd181f4c3",
   "metadata": {},
   "outputs": [],
   "source": [
    "# Set the threshold value \n",
    "\n",
    "threshold <- quantile(stalog_cleaned$Class, probs = 0.2) # for the minority class (to be approximately 20% )\n",
    "\n",
    "# Assign categories to the \" a new Class\" variable\n",
    "stalog_cleaned$class <- ifelse(stalog_cleaned$Class < threshold, 0, 1)"
   ]
  },
  {
   "cell_type": "code",
   "execution_count": 26,
   "id": "8fea1a72-a467-4dd6-8d0d-8ed499f819f2",
   "metadata": {},
   "outputs": [
    {
     "name": "stdout",
     "output_type": "stream",
     "text": [
      "[1] \"Proportion of class 1: 0.814957193529816\"\n"
     ]
    }
   ],
   "source": [
    "# Recheck distribution of the new categories \"class\" variable\n",
    "\n",
    "count_class <- table(stalog_cleaned$class)\n",
    "proportion_class_1 <- count_class[2] / sum(count_class)\n",
    "# Print result\n",
    "print(paste(\"Proportion of class 1:\", proportion_class_1))"
   ]
  },
  {
   "cell_type": "code",
   "execution_count": 27,
   "id": "386d312e-0f61-4b6c-83b9-09a8a1a8b0bb",
   "metadata": {},
   "outputs": [
    {
     "data": {
      "text/html": [
       "<style>\n",
       ".list-inline {list-style: none; margin:0; padding: 0}\n",
       ".list-inline>li {display: inline-block}\n",
       ".list-inline>li:not(:last-child)::after {content: \"\\00b7\"; padding: 0 .5ex}\n",
       "</style>\n",
       "<ol class=list-inline><li>'Rad_Flow'</li><li>'Fpv_Close'</li><li>'Fpv_Open'</li><li>'High'</li><li>'Bypass'</li><li>'Bpv_Close'</li><li>'Bpv_Open'</li><li>'Class'</li><li>'class'</li></ol>\n"
      ],
      "text/latex": [
       "\\begin{enumerate*}\n",
       "\\item 'Rad\\_Flow'\n",
       "\\item 'Fpv\\_Close'\n",
       "\\item 'Fpv\\_Open'\n",
       "\\item 'High'\n",
       "\\item 'Bypass'\n",
       "\\item 'Bpv\\_Close'\n",
       "\\item 'Bpv\\_Open'\n",
       "\\item 'Class'\n",
       "\\item 'class'\n",
       "\\end{enumerate*}\n"
      ],
      "text/markdown": [
       "1. 'Rad_Flow'\n",
       "2. 'Fpv_Close'\n",
       "3. 'Fpv_Open'\n",
       "4. 'High'\n",
       "5. 'Bypass'\n",
       "6. 'Bpv_Close'\n",
       "7. 'Bpv_Open'\n",
       "8. 'Class'\n",
       "9. 'class'\n",
       "\n",
       "\n"
      ],
      "text/plain": [
       "[1] \"Rad_Flow\"  \"Fpv_Close\" \"Fpv_Open\"  \"High\"      \"Bypass\"    \"Bpv_Close\"\n",
       "[7] \"Bpv_Open\"  \"Class\"     \"class\"    "
      ]
     },
     "metadata": {},
     "output_type": "display_data"
    }
   ],
   "source": [
    "names(stalog_cleaned)"
   ]
  },
  {
   "cell_type": "code",
   "execution_count": 28,
   "id": "bb3350ee-bec6-4fd7-b1a5-ecbf62279937",
   "metadata": {},
   "outputs": [],
   "source": [
    "# Drop the colums \"Class in stalog_cleaned \n",
    "stalog_cleaned <- subset(stalog_cleaned, select = -c(Class))\n"
   ]
  },
  {
   "cell_type": "markdown",
   "id": "4b9d0a84-c2e4-485b-bfbd-44d6c25c7889",
   "metadata": {},
   "source": [
    "**LABEL ENCODING**"
   ]
  },
  {
   "cell_type": "code",
   "execution_count": 29,
   "id": "655a7ef1-0744-4890-b07c-6e986a4aec69",
   "metadata": {},
   "outputs": [],
   "source": [
    "# CONVERT TERGET VARIABLE \"class \"TO FACTOR WITH LEVELS 0 AND 1 FORMART\n",
    "\n",
    "stalog_cleaned$class <- factor(stalog_cleaned$class, levels = c(0, 1))"
   ]
  },
  {
   "cell_type": "markdown",
   "id": "f9eb5700-547c-4510-a0ec-1857ba11bfa5",
   "metadata": {},
   "source": [
    "**Class Distribution**"
   ]
  },
  {
   "cell_type": "code",
   "execution_count": 30,
   "id": "016a52ce-ea28-42e9-943e-d92aa1004443",
   "metadata": {},
   "outputs": [
    {
     "data": {
      "image/png": "[encoded data removed]",
      "text/plain": [
       "plot without title"
      ]
     },
     "metadata": {
      "image/png": {
       "height": 420,
       "width": 420
      }
     },
     "output_type": "display_data"
    }
   ],
   "source": [
    "# Plotting the distribution of the target variable 'web_page_phishing'\n",
    "ggplot(stalog_cleaned, aes(x = factor(class))) +\n",
    "  geom_bar(fill = \"blue\", alpha = 0.7) +\n",
    "  labs(x = \"Class Category\", y = \"Count\", title = \"Distribution of Stalog Data\") +\n",
    "  theme_minimal()"
   ]
  },
  {
   "cell_type": "markdown",
   "id": "b51228c4-fb0f-4edf-bf34-d85c01976996",
   "metadata": {},
   "source": [
    "**V) f. FIRST FOUR CHARACTERISTICS AFTER PERFORMING PRE-PROCESSING**"
   ]
  },
  {
   "cell_type": "markdown",
   "id": "5d653914-e601-46b4-aa57-3f52bed1dc00",
   "metadata": {},
   "source": [
    "**I. RECHECK-Number of independent and dependent variables**"
   ]
  },
  {
   "cell_type": "code",
   "execution_count": 31,
   "id": "49745788-e831-4361-a5e9-9556c7d1cc3c",
   "metadata": {},
   "outputs": [
    {
     "name": "stdout",
     "output_type": "stream",
     "text": [
      "[1] \"Number of independent variables: 7\"\n",
      "[1] \"Number of dependent variables: 1\"\n"
     ]
    }
   ],
   "source": [
    "# Redsplay the number of Dependent and Independent variables\n",
    "\n",
    "independent_variables <- ncol(stalog_cleaned) - 1  # Number of independent variables in stalog_cleaned\n",
    "dependent_variables <- 1  # Number of dependent variables in stalog_cleaned\n",
    "\n",
    "# Redisplay the results\n",
    "print(paste(\"Number of independent variables:\", independent_variables))\n",
    "print(paste(\"Number of dependent variables:\", dependent_variables))\n"
   ]
  },
  {
   "cell_type": "markdown",
   "id": "89e6b27e-1771-4993-9645-7254183cc376",
   "metadata": {},
   "source": [
    "**2. RECHECK-Number of records**"
   ]
  },
  {
   "cell_type": "code",
   "execution_count": 32,
   "id": "bfa14275-1913-48e9-ab4b-f87cdb58b24b",
   "metadata": {},
   "outputs": [
    {
     "name": "stdout",
     "output_type": "stream",
     "text": [
      "[1] \"Number of records: 53847\"\n",
      "[1] \"Number of columns: 8\"\n"
     ]
    },
    {
     "data": {
      "text/html": [
       "<style>\n",
       ".list-inline {list-style: none; margin:0; padding: 0}\n",
       ".list-inline>li {display: inline-block}\n",
       ".list-inline>li:not(:last-child)::after {content: \"\\00b7\"; padding: 0 .5ex}\n",
       "</style>\n",
       "<ol class=list-inline><li>'Rad_Flow'</li><li>'Fpv_Close'</li><li>'Fpv_Open'</li><li>'High'</li><li>'Bypass'</li><li>'Bpv_Close'</li><li>'Bpv_Open'</li><li>'class'</li></ol>\n"
      ],
      "text/latex": [
       "\\begin{enumerate*}\n",
       "\\item 'Rad\\_Flow'\n",
       "\\item 'Fpv\\_Close'\n",
       "\\item 'Fpv\\_Open'\n",
       "\\item 'High'\n",
       "\\item 'Bypass'\n",
       "\\item 'Bpv\\_Close'\n",
       "\\item 'Bpv\\_Open'\n",
       "\\item 'class'\n",
       "\\end{enumerate*}\n"
      ],
      "text/markdown": [
       "1. 'Rad_Flow'\n",
       "2. 'Fpv_Close'\n",
       "3. 'Fpv_Open'\n",
       "4. 'High'\n",
       "5. 'Bypass'\n",
       "6. 'Bpv_Close'\n",
       "7. 'Bpv_Open'\n",
       "8. 'class'\n",
       "\n",
       "\n"
      ],
      "text/plain": [
       "[1] \"Rad_Flow\"  \"Fpv_Close\" \"Fpv_Open\"  \"High\"      \"Bypass\"    \"Bpv_Close\"\n",
       "[7] \"Bpv_Open\"  \"class\"    "
      ]
     },
     "metadata": {},
     "output_type": "display_data"
    }
   ],
   "source": [
    "# Redisplay the number of Rows, Columns, and Names in stalog_cleaned\n",
    "\n",
    "print(paste(\"Number of records:\", nrow(stalog_cleaned))) # the number of Rows in stalog_cleaned\n",
    "print(paste(\"Number of columns:\", ncol(stalog_cleaned))) # the number of Columns in stalog_cleaned\n",
    "names(stalog_cleaned) # Get all column names in stalog_cleaned\n"
   ]
  },
  {
   "cell_type": "markdown",
   "id": "b620f600-1e79-42ac-8964-9210602a6386",
   "metadata": {},
   "source": [
    "**3. RECHECK-Data types of combination**"
   ]
  },
  {
   "cell_type": "code",
   "execution_count": 33,
   "id": "b657a0f3-c5c1-4aee-af1d-db138ddc6dcc",
   "metadata": {},
   "outputs": [
    {
     "name": "stdout",
     "output_type": "stream",
     "text": [
      "'data.frame':\t53847 obs. of  8 variables:\n",
      " $ Rad_Flow : int  55 56 50 53 55 41 37 46 44 44 ...\n",
      " $ Fpv_Close: int  0 0 -1 9 2 0 0 0 0 -1 ...\n",
      " $ Fpv_Open : int  81 96 89 79 82 84 100 83 79 78 ...\n",
      " $ High     : int  0 0 -7 0 0 3 0 0 0 0 ...\n",
      " $ Bypass   : int  -6 52 50 42 54 38 36 46 42 44 ...\n",
      " $ Bpv_Close: int  11 -4 0 -2 -6 -4 -8 0 -17 0 ...\n",
      " $ Bpv_Open : int  25 40 39 25 26 43 63 37 35 34 ...\n",
      " $ class    : Factor w/ 2 levels \"0\",\"1\": 2 2 2 2 1 2 2 2 2 1 ...\n"
     ]
    }
   ],
   "source": [
    "# Redisplay the structure of stalog_cleaned\n",
    "\n",
    "str(stalog_cleaned)"
   ]
  },
  {
   "cell_type": "code",
   "execution_count": 34,
   "id": "97bdab98-2b52-4bee-ad4d-7aaf71816f0f",
   "metadata": {},
   "outputs": [
    {
     "name": "stdout",
     "output_type": "stream",
     "text": [
      "[1] \"Binary Variables in Stalog_cleaned: \"\n",
      "[1] \"Nominal Variables in Stalog_cleaned: class\"\n",
      "[1] \"Categorical Variables in Stalog_cleaned: \"\n",
      "[1] \"Numerical Variables in Stalog_cleaned: Rad_Flow, Fpv_Close, Fpv_Open, High, Bypass, Bpv_Close, Bpv_Open\"\n"
     ]
    }
   ],
   "source": [
    "# Display datatype combination of all variables in Stalog_cleaned\n",
    "\n",
    "# Get variables type\n",
    "variable_types <- sapply(stalog_cleaned, class)\n",
    "\n",
    "# Variables based on data type combinations\n",
    "Nominal_Variables <- names(variable_types)[variable_types == \"factor\"] # Nominal Variables in Stalog_cleaned\n",
    "Categorical_Variables <- names(variable_types)[variable_types == \"character\"] # Categorical Variables in Stalog_cleaned\n",
    "Binary_Variables <- names(variable_types)[variable_types == \"logical\"] # Binary Variables in Stalog_cleaned\n",
    "Numerical_Variables <- names(variable_types)[variable_types %in% c(\"numeric\", \"integer\")] # Numerical Variables in Stalog_cleaned\n",
    "\n",
    "# Display the results\n",
    "print(paste(\"Binary Variables in Stalog_cleaned:\", paste(Binary_Variables, collapse = \", \")))\n",
    "print(paste(\"Nominal Variables in Stalog_cleaned:\", paste(Nominal_Variables, collapse = \", \")))\n",
    "print(paste(\"Categorical Variables in Stalog_cleaned:\", paste(Categorical_Variables, collapse = \", \")))\n",
    "print(paste(\"Numerical Variables in Stalog_cleaned:\", paste(Numerical_Variables, collapse = \", \")))"
   ]
  },
  {
   "cell_type": "markdown",
   "id": "8dc002d6-9ac6-40f7-a79a-871be4d9a61d",
   "metadata": {},
   "source": [
    "**4. RECHECK-Summary of each variable**"
   ]
  },
  {
   "cell_type": "code",
   "execution_count": 35,
   "id": "e11f1f07-359f-4c14-ac80-4c8c91839f3a",
   "metadata": {},
   "outputs": [
    {
     "data": {
      "text/plain": [
       "    Rad_Flow       Fpv_Close            Fpv_Open           High          \n",
       " Min.   :27.00   Min.   :-4821.000   Min.   : 21.00   Min.   :-3939.000  \n",
       " 1st Qu.:38.00   1st Qu.:    0.000   1st Qu.: 78.00   1st Qu.:    0.000  \n",
       " Median :45.00   Median :    0.000   Median : 82.00   Median :    0.000  \n",
       " Mean   :46.35   Mean   :   -0.919   Mean   : 85.03   Mean   :    0.332  \n",
       " 3rd Qu.:54.00   3rd Qu.:    0.000   3rd Qu.: 88.00   3rd Qu.:    0.000  \n",
       " Max.   :79.00   Max.   : 1963.000   Max.   :149.00   Max.   : 3830.000  \n",
       "     Bypass         Bpv_Close             Bpv_Open      class    \n",
       " Min.   :-188.0   Min.   :-26739.000   Min.   :-26.00   0: 9964  \n",
       " 1st Qu.:  28.0   1st Qu.:    -5.000   1st Qu.: 33.00   1:43883  \n",
       " Median :  42.0   Median :     0.000   Median : 39.00            \n",
       " Mean   :  35.3   Mean   :     1.587   Mean   : 38.67            \n",
       " 3rd Qu.:  46.0   3rd Qu.:     6.000   3rd Qu.: 42.00            \n",
       " Max.   : 436.0   Max.   : 15164.000   Max.   :105.00            "
      ]
     },
     "metadata": {},
     "output_type": "display_data"
    }
   ],
   "source": [
    "# Get all descriptive statistics information in stalog_cleaned\n",
    "\n",
    "summary(stalog_cleaned) "
   ]
  },
  {
   "cell_type": "markdown",
   "id": "bbaa375a-01d5-4779-bbae-88a9191c34ed",
   "metadata": {},
   "source": [
    "**VI. DATA NORMALIZATION**"
   ]
  },
  {
   "cell_type": "code",
   "execution_count": 36,
   "id": "4c2ede03-f79b-49e1-9707-cbe364713c77",
   "metadata": {},
   "outputs": [
    {
     "name": "stdout",
     "output_type": "stream",
     "text": [
      "[1] \"Number normalized: 53847\"\n",
      "[1] \"Proportion normalized: 1\"\n"
     ]
    }
   ],
   "source": [
    "# NORMALIZE ALL VARIABLES EXCEPT TREGET \"CLASS\" \n",
    "\n",
    "stalog_scaled <- subset(stalog_cleaned,  select = -c(class) )\n",
    "\n",
    "# `preProcess` function can scale and center (standardize) the data\n",
    "preprocessor <- preProcess(stalog_cleaned, method = c(\"center\", \"scale\"))\n",
    "stalog_data_scaled <- predict(preprocessor, stalog_cleaned)\n",
    "stalog_data_scaled$class<-stalog_cleaned$class\n",
    "\n",
    "# The results\n",
    "print(paste(\"Number normalized:\", nrow(stalog_data_scaled)))\n",
    "print(paste(\"Proportion normalized:\", 1))"
   ]
  },
  {
   "cell_type": "code",
   "execution_count": 37,
   "id": "3ea7590f-d300-412a-8175-3cf5e23e0fb2",
   "metadata": {},
   "outputs": [
    {
     "name": "stdout",
     "output_type": "stream",
     "text": [
      "'data.frame':\t53847 obs. of  8 variables:\n",
      " $ Rad_Flow : num  1.071 1.195 0.452 0.824 1.071 ...\n",
      " $ Fpv_Close: num  0.01607 0.01607 -0.00142 0.17343 0.05104 ...\n",
      " $ Fpv_Open : num  -0.462 1.257 0.455 -0.691 -0.347 ...\n",
      " $ High     : num  -0.00905 -0.00905 -0.19954 -0.00905 -0.00905 ...\n",
      " $ Bypass   : num  -2.068 0.836 0.736 0.335 0.936 ...\n",
      " $ Bpv_Close: num  0.04184 -0.02483 -0.00705 -0.01594 -0.03372 ...\n",
      " $ Bpv_Open : num  -1.2375 0.1208 0.0302 -1.2375 -1.1469 ...\n",
      " $ class    : Factor w/ 2 levels \"0\",\"1\": 2 2 2 2 1 2 2 2 2 1 ...\n"
     ]
    }
   ],
   "source": [
    "# Summary statistics including the target variable\n",
    "str(stalog_data_scaled)"
   ]
  },
  {
   "cell_type": "code",
   "execution_count": 38,
   "id": "81b3062e-6ed4-48d3-9f04-67a58182ce21",
   "metadata": {},
   "outputs": [],
   "source": [
    "# Set the file name\n",
    "#file_name <- \"Pre_Processed_stalog.csv\"\n",
    "\n",
    "# Write the cleaned data to a CSV file \n",
    "#write.csv(Pre_Processed_stalog, file = file_name, row.names = FALSE)\n",
    "\n",
    "# Confirm message\n",
    "#print(paste(\"Data has been saved to:\", file_name))\n"
   ]
  },
  {
   "cell_type": "code",
   "execution_count": 39,
   "id": "5103c34a-56c1-41b0-b153-96a9a60f7dae",
   "metadata": {},
   "outputs": [
    {
     "name": "stdout",
     "output_type": "stream",
     "text": [
      "'data.frame':\t53847 obs. of  8 variables:\n",
      " $ Rad_Flow : num  1.071 1.195 0.452 0.824 1.071 ...\n",
      " $ Fpv_Close: num  0.01607 0.01607 -0.00142 0.17343 0.05104 ...\n",
      " $ Fpv_Open : num  -0.462 1.257 0.455 -0.691 -0.347 ...\n",
      " $ High     : num  -0.00905 -0.00905 -0.19954 -0.00905 -0.00905 ...\n",
      " $ Bypass   : num  -2.068 0.836 0.736 0.335 0.936 ...\n",
      " $ Bpv_Close: num  0.04184 -0.02483 -0.00705 -0.01594 -0.03372 ...\n",
      " $ Bpv_Open : num  -1.2375 0.1208 0.0302 -1.2375 -1.1469 ...\n",
      " $ class    : Factor w/ 2 levels \"0\",\"1\": 2 2 2 2 1 2 2 2 2 1 ...\n"
     ]
    }
   ],
   "source": [
    "str(stalog_data_scaled)"
   ]
  },
  {
   "cell_type": "markdown",
   "id": "87e532b1-47c9-4715-83a1-cd403724c38e",
   "metadata": {},
   "source": [
    "# **BALANCING AND SPLITTING**"
   ]
  },
  {
   "cell_type": "code",
   "execution_count": 40,
   "id": "ec051062-e084-4e8e-85ba-8df0819e8b0d",
   "metadata": {},
   "outputs": [
    {
     "data": {
      "text/plain": [
       "\n",
       "    0     1 \n",
       " 9964 43883 "
      ]
     },
     "metadata": {},
     "output_type": "display_data"
    }
   ],
   "source": [
    "# CHECK THE NUMBER OF RECORDS IN EACH WPP CLASS \n",
    "Stalog_data_summary <- table(stalog_data_scaled$class)\n",
    "Stalog_data_summary\n"
   ]
  },
  {
   "cell_type": "code",
   "execution_count": 41,
   "id": "380ae4fe-94cc-4572-8e6a-c8f637dd5823",
   "metadata": {},
   "outputs": [],
   "source": [
    "# SPLIT THE DATA INTO TRAINING AND TESTING SETS (70% Training, 30% Testing)\n",
    "\n",
    "set.seed(123)  # for reproducibility\n",
    "training_indices <- createDataPartition(stalog_data_scaled$class, p = 0.7, list = FALSE)\n",
    "training_data <- stalog_data_scaled[training_indices, ]\n",
    "testing_data <- stalog_data_scaled[-training_indices, ]"
   ]
  },
  {
   "cell_type": "code",
   "execution_count": 42,
   "id": "71a39cb8-22b1-4ff1-903e-cadb19382539",
   "metadata": {},
   "outputs": [
    {
     "data": {
      "text/html": [
       "<dl>\n",
       "\t<dt>$data_train</dt>\n",
       "\t\t<dd><style>\n",
       ".list-inline {list-style: none; margin:0; padding: 0}\n",
       ".list-inline>li {display: inline-block}\n",
       ".list-inline>li:not(:last-child)::after {content: \"\\00b7\"; padding: 0 .5ex}\n",
       "</style>\n",
       "<ol class=list-inline><li>37694</li><li>8</li></ol>\n",
       "</dd>\n",
       "\t<dt>$data_test</dt>\n",
       "\t\t<dd><style>\n",
       ".list-inline {list-style: none; margin:0; padding: 0}\n",
       ".list-inline>li {display: inline-block}\n",
       ".list-inline>li:not(:last-child)::after {content: \"\\00b7\"; padding: 0 .5ex}\n",
       "</style>\n",
       "<ol class=list-inline><li>16153</li><li>8</li></ol>\n",
       "</dd>\n",
       "</dl>\n"
      ],
      "text/latex": [
       "\\begin{description}\n",
       "\\item[\\$data\\_train] \\begin{enumerate*}\n",
       "\\item 37694\n",
       "\\item 8\n",
       "\\end{enumerate*}\n",
       "\n",
       "\\item[\\$data\\_test] \\begin{enumerate*}\n",
       "\\item 16153\n",
       "\\item 8\n",
       "\\end{enumerate*}\n",
       "\n",
       "\\end{description}\n"
      ],
      "text/markdown": [
       "$data_train\n",
       ":   1. 37694\n",
       "2. 8\n",
       "\n",
       "\n",
       "\n",
       "$data_test\n",
       ":   1. 16153\n",
       "2. 8\n",
       "\n",
       "\n",
       "\n",
       "\n",
       "\n"
      ],
      "text/plain": [
       "$data_train\n",
       "[1] 37694     8\n",
       "\n",
       "$data_test\n",
       "[1] 16153     8\n"
      ]
     },
     "metadata": {},
     "output_type": "display_data"
    }
   ],
   "source": [
    "#  CHECK NUMBER OF RECORDS IN THE TRAINING AND TEST SETS \n",
    "\n",
    "list(data_train = dim(training_data ), data_test = dim(testing_data))"
   ]
  },
  {
   "cell_type": "code",
   "execution_count": 43,
   "id": "5099bdbb-6a85-45f5-bee7-7bc0b020e453",
   "metadata": {},
   "outputs": [
    {
     "data": {
      "text/plain": [
       "\n",
       "    0     1 \n",
       " 6975 30719 "
      ]
     },
     "metadata": {},
     "output_type": "display_data"
    }
   ],
   "source": [
    "# CHECK NUMBER OF RECORDS IN THE TRAINING SETS\n",
    "training_data_summary <- table(training_data$class)\n",
    "training_data_summary"
   ]
  },
  {
   "cell_type": "code",
   "execution_count": 44,
   "id": "728e9a5a-71a5-4a25-8e1d-6f84e728d498",
   "metadata": {},
   "outputs": [],
   "source": [
    "# Convert 'class' variable again to a factor with two levels\n",
    "training_data$class <- factor(training_data$class, levels = c(0, 1))"
   ]
  },
  {
   "cell_type": "markdown",
   "id": "2ef28d46-8184-4fa3-b4ba-162ce58ba6d4",
   "metadata": {},
   "source": [
    "# **USEING RANDOM FOREST TECHNIQUE**"
   ]
  },
  {
   "cell_type": "markdown",
   "id": "640aa863-a641-4258-887c-d02885b4e66e",
   "metadata": {},
   "source": [
    "## **RANDOM FOREST TECHNIQUE USING - randomForest library**"
   ]
  },
  {
   "cell_type": "code",
   "execution_count": 45,
   "id": "9909b560-9e3f-4b87-848b-8603661fe916",
   "metadata": {},
   "outputs": [
    {
     "data": {
      "text/plain": [
       "\n",
       "Call:\n",
       " randomForest(formula = class ~ ., data = training_data, ntree = 100) \n",
       "               Type of random forest: classification\n",
       "                     Number of trees: 100\n",
       "No. of variables tried at each split: 2\n",
       "\n",
       "        OOB estimate of  error rate: 0.56%\n",
       "Confusion matrix:\n",
       "     0     1 class.error\n",
       "0 6864   111 0.015913978\n",
       "1  101 30618 0.003287867"
      ]
     },
     "metadata": {},
     "output_type": "display_data"
    }
   ],
   "source": [
    "# Train the model\n",
    "rf_model <- randomForest(class ~ ., data = training_data, ntree = 100)\n",
    "rf_model"
   ]
  },
  {
   "cell_type": "code",
   "execution_count": 46,
   "id": "6f5ce31d-2b3d-4058-bbc5-944335ecf98a",
   "metadata": {},
   "outputs": [
    {
     "data": {
      "text/plain": [
       "Confusion Matrix and Statistics\n",
       "\n",
       "          Reference\n",
       "Prediction     0     1\n",
       "         0  2918    47\n",
       "         1    71 13117\n",
       "                                          \n",
       "               Accuracy : 0.9927          \n",
       "                 95% CI : (0.9913, 0.9939)\n",
       "    No Information Rate : 0.815           \n",
       "    P-Value [Acc > NIR] : < 2e-16         \n",
       "                                          \n",
       "                  Kappa : 0.9757          \n",
       "                                          \n",
       " Mcnemar's Test P-Value : 0.03423         \n",
       "                                          \n",
       "            Sensitivity : 0.9762          \n",
       "            Specificity : 0.9964          \n",
       "         Pos Pred Value : 0.9841          \n",
       "         Neg Pred Value : 0.9946          \n",
       "             Prevalence : 0.1850          \n",
       "         Detection Rate : 0.1806          \n",
       "   Detection Prevalence : 0.1836          \n",
       "      Balanced Accuracy : 0.9863          \n",
       "                                          \n",
       "       'Positive' Class : 0               \n",
       "                                          "
      ]
     },
     "metadata": {},
     "output_type": "display_data"
    }
   ],
   "source": [
    "# Evaluate Random Forest\n",
    "rf_predictions <- predict(rf_model, testing_data)\n",
    "rf_results <- confusionMatrix(rf_predictions, testing_data$class)\n",
    "rf_results"
   ]
  },
  {
   "cell_type": "markdown",
   "id": "f5649c5a-133c-4554-99c8-251dce3b4787",
   "metadata": {},
   "source": [
    "## **RANDOM FOREST TECHNIQUE USING -Ranger Library**"
   ]
  },
  {
   "cell_type": "code",
   "execution_count": 47,
   "id": "64e753c4-a3a1-427f-b56b-78008ce38ef9",
   "metadata": {},
   "outputs": [
    {
     "data": {
      "text/plain": [
       "Ranger result\n",
       "\n",
       "Call:\n",
       " ranger(class ~ ., data = training_data, num.trees = 100) \n",
       "\n",
       "Type:                             Classification \n",
       "Number of trees:                  100 \n",
       "Sample size:                      37694 \n",
       "Number of independent variables:  7 \n",
       "Mtry:                             2 \n",
       "Target node size:                 1 \n",
       "Variable importance mode:         none \n",
       "Splitrule:                        gini \n",
       "OOB prediction error:             0.51 % "
      ]
     },
     "metadata": {},
     "output_type": "display_data"
    }
   ],
   "source": [
    "# Train the model with Ranger\n",
    "rf_model_ranger <- ranger(class ~ ., data = training_data, num.trees = 100)\n",
    "rf_model_ranger"
   ]
  },
  {
   "cell_type": "code",
   "execution_count": 48,
   "id": "080cd3a5-4110-442d-ad5d-968432c1a821",
   "metadata": {},
   "outputs": [
    {
     "data": {
      "text/plain": [
       "Confusion Matrix and Statistics\n",
       "\n",
       "          Reference\n",
       "Prediction     0     1\n",
       "         0  2911    45\n",
       "         1    78 13119\n",
       "                                          \n",
       "               Accuracy : 0.9924          \n",
       "                 95% CI : (0.9909, 0.9937)\n",
       "    No Information Rate : 0.815           \n",
       "    P-Value [Acc > NIR] : < 2e-16         \n",
       "                                          \n",
       "                  Kappa : 0.9746          \n",
       "                                          \n",
       " Mcnemar's Test P-Value : 0.00391         \n",
       "                                          \n",
       "            Sensitivity : 0.9739          \n",
       "            Specificity : 0.9966          \n",
       "         Pos Pred Value : 0.9848          \n",
       "         Neg Pred Value : 0.9941          \n",
       "             Prevalence : 0.1850          \n",
       "         Detection Rate : 0.1802          \n",
       "   Detection Prevalence : 0.1830          \n",
       "      Balanced Accuracy : 0.9852          \n",
       "                                          \n",
       "       'Positive' Class : 0               \n",
       "                                          "
      ]
     },
     "metadata": {},
     "output_type": "display_data"
    }
   ],
   "source": [
    "# Predict on the testing set\n",
    "rf_predictions_ranger <- predict(rf_model_ranger, data = testing_data)$predictions\n",
    "rf_results_ranger <- confusionMatrix(rf_predictions_ranger, testing_data$class)\n",
    "rf_results_ranger"
   ]
  },
  {
   "cell_type": "markdown",
   "id": "50416f7c-b53b-47b7-8af5-9edb625c956e",
   "metadata": {},
   "source": [
    "# **SUPPORT VECTOR MACHING (SVM) TECHNIQUES**"
   ]
  },
  {
   "cell_type": "markdown",
   "id": "7d1877de-8088-413a-8bda-1b26c0d749ce",
   "metadata": {},
   "source": [
    "## **USING SVM e1071 LIBRARY**"
   ]
  },
  {
   "cell_type": "code",
   "execution_count": 49,
   "id": "3f9cfc8e-ebdd-4e71-97bf-91b3193f7567",
   "metadata": {},
   "outputs": [
    {
     "data": {
      "text/plain": [
       "\n",
       "Call:\n",
       "svm(formula = class ~ ., data = training_data)\n",
       "\n",
       "\n",
       "Parameters:\n",
       "   SVM-Type:  C-classification \n",
       " SVM-Kernel:  radial \n",
       "       cost:  1 \n",
       "\n",
       "Number of Support Vectors:  2420\n"
      ]
     },
     "metadata": {},
     "output_type": "display_data"
    }
   ],
   "source": [
    "# Train the SVM model\n",
    "svm_model <- svm(class ~ ., data = training_data)\n",
    "svm_model"
   ]
  },
  {
   "cell_type": "code",
   "execution_count": 50,
   "id": "00852311-b405-435e-af2b-c0f8ca06334a",
   "metadata": {},
   "outputs": [
    {
     "name": "stdout",
     "output_type": "stream",
     "text": [
      "Confusion Matrix and Statistics\n",
      "\n",
      "          Reference\n",
      "Prediction     0     1\n",
      "         0  2823    97\n",
      "         1   166 13067\n",
      "                                          \n",
      "               Accuracy : 0.9837          \n",
      "                 95% CI : (0.9816, 0.9856)\n",
      "    No Information Rate : 0.815           \n",
      "    P-Value [Acc > NIR] : < 2.2e-16       \n",
      "                                          \n",
      "                  Kappa : 0.9455          \n",
      "                                          \n",
      " Mcnemar's Test P-Value : 2.752e-05       \n",
      "                                          \n",
      "            Sensitivity : 0.9445          \n",
      "            Specificity : 0.9926          \n",
      "         Pos Pred Value : 0.9668          \n",
      "         Neg Pred Value : 0.9875          \n",
      "             Prevalence : 0.1850          \n",
      "         Detection Rate : 0.1748          \n",
      "   Detection Prevalence : 0.1808          \n",
      "      Balanced Accuracy : 0.9685          \n",
      "                                          \n",
      "       'Positive' Class : 0               \n",
      "                                          \n"
     ]
    }
   ],
   "source": [
    "# Predict on the testing set\n",
    "svm_predictions <- predict(svm_model, newdata = testing_data)\n",
    "\n",
    "# Evaluate the model\n",
    "svm_results <- confusionMatrix(svm_predictions, testing_data$class)\n",
    "print(svm_results)"
   ]
  },
  {
   "cell_type": "markdown",
   "id": "35967c27-4621-45f9-9ea6-ac27f8b5c27c",
   "metadata": {},
   "source": [
    "## **(SVM) USING KERNLAB LIBRARY**"
   ]
  },
  {
   "cell_type": "code",
   "execution_count": 51,
   "id": "edd3b88c-5150-4479-bdb8-fa3b6de35918",
   "metadata": {},
   "outputs": [
    {
     "data": {
      "text/plain": [
       "Support Vector Machine object of class \"ksvm\" \n",
       "\n",
       "SV type: C-svc  (classification) \n",
       " parameter : cost C = 1 \n",
       "\n",
       "Gaussian Radial Basis kernel function. \n",
       " Hyperparameter : sigma =  0.849898110978005 \n",
       "\n",
       "Number of Support Vectors : 1918 \n",
       "\n",
       "Objective Function Value : -1414.568 \n",
       "Training error : 0.010585 "
      ]
     },
     "metadata": {},
     "output_type": "display_data"
    }
   ],
   "source": [
    "# Train the SVM model using kernlab\n",
    "svm_model_kernlab <- ksvm(class ~ ., data = training_data)\n",
    "svm_model_kernlab"
   ]
  },
  {
   "cell_type": "code",
   "execution_count": 52,
   "id": "fdd8bc5d-032b-492a-bdfb-c83384365a43",
   "metadata": {},
   "outputs": [
    {
     "data": {
      "text/plain": [
       "Confusion Matrix and Statistics\n",
       "\n",
       "          Reference\n",
       "Prediction     0     1\n",
       "         0  2864    84\n",
       "         1   125 13080\n",
       "                                          \n",
       "               Accuracy : 0.9871          \n",
       "                 95% CI : (0.9852, 0.9887)\n",
       "    No Information Rate : 0.815           \n",
       "    P-Value [Acc > NIR] : < 2e-16         \n",
       "                                          \n",
       "                  Kappa : 0.9569          \n",
       "                                          \n",
       " Mcnemar's Test P-Value : 0.00566         \n",
       "                                          \n",
       "            Sensitivity : 0.9582          \n",
       "            Specificity : 0.9936          \n",
       "         Pos Pred Value : 0.9715          \n",
       "         Neg Pred Value : 0.9905          \n",
       "             Prevalence : 0.1850          \n",
       "         Detection Rate : 0.1773          \n",
       "   Detection Prevalence : 0.1825          \n",
       "      Balanced Accuracy : 0.9759          \n",
       "                                          \n",
       "       'Positive' Class : 0               \n",
       "                                          "
      ]
     },
     "metadata": {},
     "output_type": "display_data"
    }
   ],
   "source": [
    "# Predict on the testing set\n",
    "svm_predictions_kernlab <- predict(svm_model_kernlab, newdata = testing_data)\n",
    "\n",
    "# Evaluate the model\n",
    "svm_kernlab_results <- confusionMatrix(svm_predictions_kernlab, testing_data$class)\n",
    "svm_kernlab_results"
   ]
  },
  {
   "cell_type": "code",
   "execution_count": null,
   "id": "5036c476-4ed9-46d1-95a6-80935cf3dabf",
   "metadata": {},
   "outputs": [],
   "source": []
  }
 ],
 "metadata": {
  "kernelspec": {
   "display_name": "R",
   "language": "R",
   "name": "ir"
  },
  "language_info": {
   "codemirror_mode": "r",
   "file_extension": ".r",
   "mimetype": "text/x-r-source",
   "name": "R",
   "pygments_lexer": "r",
   "version": "4.3.2"
  }
 },
 "nbformat": 4,
 "nbformat_minor": 5
}
